{
 "cells": [
  {
   "cell_type": "markdown",
   "source": [
    "<img src=\"https://avatars.githubusercontent.com/u/74911464?s=200&v=4\"\n",
    "     alt=\"OpenEO Platform logo\"\n",
    "     style=\"float: left; margin-right: 10px;\" />\n",
    "# OpenEO Platform - User Story 2\n",
    "### Interactive timeseries trajectory analysis from pre-computed ARD data"
   ],
   "metadata": {}
  },
  {
   "cell_type": "markdown",
   "source": [
    "### In this notebook we will perform two timeseries analysis:\n",
    "1. Analysis of a NDVI (Normalized Difference Vegetation Index) timeseries with two on-demand atmospheric correction processes for Sentinel-2 (iCor and smac) and one pre-computed (Sen2Cor).\n",
    "2. Analysis of a NDVI timeseries with two ARD collections (Sentinel-2 and Landsat-8)."
   ],
   "metadata": {}
  },
  {
   "cell_type": "code",
   "execution_count": 57,
   "source": [
    "from eo_utils import *"
   ],
   "outputs": [],
   "metadata": {}
  },
  {
   "cell_type": "markdown",
   "source": [
    "# 1. NDVI timeseries analysis over a forest area with on-demand processing\n",
    "## Step 1 -  Area of Interest selection\n",
    "### Run the next cell, click on the rectangle button and then draw the area over the map like in the following example image\n",
    "<img src=\"https://github.com/openEOPlatform/SRR1_notebooks/raw/main/data/images/selection_bbox_US2.jpg\"\n",
    "     alt=\"rectangle_selection\"\n",
    "     style=\"float: left; margin-right: 10px;\" />"
   ],
   "metadata": {}
  },
  {
   "cell_type": "code",
   "execution_count": 58,
   "source": [
    "center = [46.34, 11.458]\n",
    "zoom = 15\n",
    "\n",
    "eoMap = openeoMap(center,zoom)\n",
    "eoMap.map"
   ],
   "outputs": [
    {
     "output_type": "display_data",
     "data": {
      "application/vnd.jupyter.widget-view+json": {
       "model_id": "6e2b9729e04043778b57895a12c3dd48",
       "version_major": 2,
       "version_minor": 0
      },
      "text/plain": [
       "Map(center=[46.34, 11.458], controls=(ZoomControl(options=['position', 'zoom_in_text', 'zoom_in_title', 'zoom_…"
      ]
     },
     "metadata": {}
    }
   ],
   "metadata": {}
  },
  {
   "cell_type": "markdown",
   "source": [
    "Get the bounding box from the previous map."
   ],
   "metadata": {}
  },
  {
   "cell_type": "code",
   "execution_count": 59,
   "source": [
    "bbox = eoMap.getBbox()\n",
    "print('west',bbox[0],'\\neast',bbox[2],'\\nsouth',bbox[1],'\\nnorth',bbox[3])"
   ],
   "outputs": [
    {
     "output_type": "stream",
     "name": "stdout",
     "text": [
      "west 11.465478 \n",
      "east 11.465778 \n",
      "south 46.343565 \n",
      "north 46.343773\n"
     ]
    }
   ],
   "metadata": {}
  },
  {
   "cell_type": "markdown",
   "source": [
    "<img src=\"https://github.com/openEOPlatform/SRR1_notebooks/raw/main/data/images/Sentinel_2.jpg\"\n",
    "     alt=\"Sentinel-2\"\n",
    "     style=\"float: left; margin-right: 10px; width:100px\" />\n",
    "## Step 2 - openEO graph creation for Sentinel-2\n"
   ],
   "metadata": {}
  },
  {
   "cell_type": "markdown",
   "source": [
    "1. Open the connection with openEO back-end. Please use the openeo-auth tool to configure credentials.\n",
    "https://open-eo.github.io/openeo-python-client/auth.html#config-files-and-openeo-auth-helper-tool"
   ],
   "metadata": {}
  },
  {
   "cell_type": "code",
   "execution_count": 60,
   "source": [
    "backend_url = \"https://openeo.vito.be\"\n",
    "connection = openeo.connect(backend_url).authenticate_basic()"
   ],
   "outputs": [],
   "metadata": {}
  },
  {
   "cell_type": "markdown",
   "source": [
    "2. Define range of interest in time and requested bands from Sentinel-2 L1C data"
   ],
   "metadata": {}
  },
  {
   "cell_type": "code",
   "execution_count": 61,
   "source": [
    "collection      = 'SENTINEL2_L1C_SENTINELHUB'\n",
    "spatial_extent  = {'west':bbox[0],'east':bbox[2],'south':bbox[1],'north':bbox[3],'crs':'EPSG:4326'}\n",
    "temporal_extent = [\"2016-05-01\", \"2020-05-01\"]\n",
    "bands           = [\"B04\",\"B08\",\"CLM\",'B09','B8A','B11','sunAzimuthAngles','sunZenithAngles','viewAzimuthMean','viewZenithMean']\n",
    "\n",
    "l1c_bands = connection.load_collection(collection,spatial_extent=spatial_extent,bands=bands,temporal_extent=temporal_extent)"
   ],
   "outputs": [],
   "metadata": {}
  },
  {
   "cell_type": "markdown",
   "source": [
    "3. Apply atmospheric correction using iCor and smac"
   ],
   "metadata": {}
  },
  {
   "cell_type": "code",
   "execution_count": 62,
   "source": [
    "l2a_icor = l1c_bands.atmospheric_correction(method='iCor')"
   ],
   "outputs": [],
   "metadata": {}
  },
  {
   "cell_type": "code",
   "execution_count": 63,
   "source": [
    "l2a_smac = l1c_bands.atmospheric_correction(method='smac')"
   ],
   "outputs": [],
   "metadata": {}
  },
  {
   "cell_type": "markdown",
   "source": [
    "4. Compute the NDVI taking into account the cloud mask: only where the cloud mask is zero (cloud free) we compute the NDVI."
   ],
   "metadata": {}
  },
  {
   "cell_type": "markdown",
   "source": [
    "Sentinel-1 L1C based NDVI:"
   ],
   "metadata": {}
  },
  {
   "cell_type": "code",
   "execution_count": 64,
   "source": [
    "masked_ndvi_l1c_0 = l1c_bands.reduce_dimension(dimension=\"bands\",reducer = lambda value: if_(neq(array_element(value,2),1),(array_element(value,1)-array_element(value,0))/(array_element(value,1)+array_element(value,0))))\n",
    "masked_ndvi_l1c = masked_ndvi_l1c_0.add_dimension(name=\"bands\", label=\"l1c_NDVI\", type=\"bands\")"
   ],
   "outputs": [],
   "metadata": {}
  },
  {
   "cell_type": "markdown",
   "source": [
    "Sentinel-1 L2A computed with iCor based NDVI:"
   ],
   "metadata": {}
  },
  {
   "cell_type": "code",
   "execution_count": 65,
   "source": [
    "masked_ndvi_icor_0 = l2a_icor.reduce_dimension(dimension=\"bands\",reducer = lambda value: if_(neq(array_element(value,2),1),(array_element(value,1)-array_element(value,0))/(array_element(value,1)+array_element(value,0))))\n",
    "masked_ndvi_icor = masked_ndvi_icor_0.add_dimension(name=\"bands\", label=\"NDVI\", type=\"bands\")"
   ],
   "outputs": [],
   "metadata": {}
  },
  {
   "cell_type": "markdown",
   "source": [
    "Sentinel-1 L2A computed with smac based NDVI:"
   ],
   "metadata": {}
  },
  {
   "cell_type": "code",
   "execution_count": 66,
   "source": [
    "masked_ndvi_smac_0 = l2a_smac.reduce_dimension(dimension=\"bands\",reducer = lambda value: if_(neq(array_element(value,2),1),(array_element(value,1)-array_element(value,0))/(array_element(value,1)+array_element(value,0))))\n",
    "masked_ndvi_smac = masked_ndvi_smac_0.add_dimension(name=\"bands\", label=\"NDVI\", type=\"bands\")"
   ],
   "outputs": [],
   "metadata": {}
  },
  {
   "cell_type": "markdown",
   "source": [
    "5. We merge the results into a single datacube, containing L1C, iCor and smac NDVI values"
   ],
   "metadata": {}
  },
  {
   "cell_type": "code",
   "execution_count": 68,
   "source": [
    "datacube = masked_ndvi_l1c.merge_cubes(masked_ndvi_icor).merge_cubes(masked_ndvi_smac)\n",
    "datacube_netcdf = datacube.save_result(format=\"NETCDF\")"
   ],
   "outputs": [],
   "metadata": {}
  },
  {
   "cell_type": "markdown",
   "source": [
    "8. Now we will create a batch job and start it. More info about batch jobs can be found here:\n",
    "\n",
    "https://openeo.org/documentation/1.0/glossary.html#data-processing-modes\n",
    "\n",
    "https://open-eo.github.io/openeo-python-client/batch_jobs.html"
   ],
   "metadata": {}
  },
  {
   "cell_type": "code",
   "execution_count": 13,
   "source": [
    "job = connection.create_job(datacube_netcdf.graph)\n",
    "job_id = job.job_id\n",
    "if job_id:\n",
    "    print(\"Batch job created with id: \",job_id)\n",
    "    job.start_job()\n",
    "else:\n",
    "    print(\"Error! Job ID is None\")"
   ],
   "outputs": [
    {
     "output_type": "stream",
     "name": "stdout",
     "text": [
      "Batch job created with id:  a461654f-6584-40f6-ae02-434ca48b208b\n"
     ]
    }
   ],
   "metadata": {}
  },
  {
   "cell_type": "markdown",
   "source": [
    "We can get a description of the job and check its status."
   ],
   "metadata": {}
  },
  {
   "cell_type": "code",
   "execution_count": 56,
   "source": [
    "my_job = connection.job(job_id)\n",
    "job_description = my_job.describe_job()\n",
    "print(\"Batch job with id: \",job_id, ' is ',job_description['status'])"
   ],
   "outputs": [
    {
     "output_type": "stream",
     "name": "stdout",
     "text": [
      "Batch job with id:  a461654f-6584-40f6-ae02-434ca48b208b  is  finished\n"
     ]
    }
   ],
   "metadata": {}
  },
  {
   "cell_type": "code",
   "execution_count": 69,
   "source": [
    "%time datacube.download(\"./data/US2/ndvi_timeseries.nc\", format=\"NetCDF\")"
   ],
   "outputs": [
    {
     "output_type": "stream",
     "name": "stdout",
     "text": [
      "CPU times: user 40 ms, sys: 12 ms, total: 52 ms\n",
      "Wall time: 7min 29s\n"
     ]
    }
   ],
   "metadata": {}
  },
  {
   "cell_type": "markdown",
   "source": [
    "7. Once the job status is 'finished', we can download the result and visualize it."
   ],
   "metadata": {}
  },
  {
   "cell_type": "code",
   "execution_count": null,
   "source": [
    "results = my_job.get_results()\n",
    "metadata = results.get_metadata()\n",
    "results.download_file(\"./data/US2/ndvi_timeseries.nc\")\n",
    "xr.open_dataset('./data/US2/ndvi_timeseries.nc')"
   ],
   "outputs": [],
   "metadata": {}
  },
  {
   "cell_type": "markdown",
   "source": [
    "## Step 3 - Visualization\n",
    "\n",
    "Different visualization are possible with the data obtained with openEO, here we will present some."
   ],
   "metadata": {}
  },
  {
   "cell_type": "markdown",
   "source": [
    "1. We can add the timeseries and visualize it directly on the map as a widget."
   ],
   "metadata": {}
  },
  {
   "cell_type": "code",
   "execution_count": 15,
   "source": [
    "addTimeseries(eoMap,\"./data/US2/ndvi_timeseries.nc\",['iCor_NDVI'],1)\n",
    "eoMap.map"
   ],
   "outputs": [
    {
     "output_type": "display_data",
     "data": {
      "application/vnd.jupyter.widget-view+json": {
       "model_id": "",
       "version_major": 2,
       "version_minor": 0
      },
      "text/plain": [
       "Map(bottom=2973106.0, center=[46.34, 11.458], controls=(ZoomControl(options=['position', 'zoom_in_text', 'zoom…"
      ]
     },
     "metadata": {}
    }
   ],
   "metadata": {}
  },
  {
   "cell_type": "markdown",
   "source": [
    "2. We can create an interactive scatter plot of the timeseries, with the standard deviation of the data and the spatial values on a map."
   ],
   "metadata": {}
  },
  {
   "cell_type": "code",
   "execution_count": 17,
   "source": [
    "timeseries     = xr.open_dataset(\"./data/US2/ndvi_timeseries.nc\")\n",
    "area_mean_icor = timeseries.mean(['x','y'], skipna=True).iCor_NDVI\n",
    "area_std_icor  = timeseries.std(dim=['x','y'], skipna=True).iCor_NDVI\n",
    "area_std_icor['NDVI_p_std'] = ({'t'},area_mean_icor + area_std_icor)\n",
    "area_std_icor['NDVI_m_std'] = ({'t'},area_mean_icor - area_std_icor)\n",
    "\n",
    "mean_plot = area_mean_icor.hvplot.scatter(c='orange',dynamic=False,grid=True)\n",
    "\n",
    "std_plot = area_std_icor.hvplot.area(x='t', y='NDVI_m_std', y2='NDVI_p_std', alpha=0.2,dynamic=False)\n",
    "\n",
    "geo_plot = timeseries.fillna(0).hvplot.quadmesh('x', 'y', geo=True, project=True,tiles='OSM',cmap='Greens')\n",
    "bounds = {'iCor_NDVI': (-1, 1)}\n",
    "geo_plot = geo_plot.redim.range(**bounds)"
   ],
   "outputs": [],
   "metadata": {}
  },
  {
   "cell_type": "code",
   "execution_count": 18,
   "source": [
    "mean_plot * std_plot + geo_plot"
   ],
   "outputs": [
    {
     "output_type": "display_data",
     "data": {},
     "metadata": {}
    },
    {
     "output_type": "execute_result",
     "data": {
      "text/html": [
       "<div id='1003'>\n",
       "\n",
       "\n",
       "\n",
       "\n",
       "\n",
       "  <div class=\"bk-root\" id=\"da8a10b3-3fd7-46a2-8088-3e4e2b035ade\" data-root-id=\"1003\"></div>\n",
       "</div>\n",
       "<script type=\"application/javascript\">(function(root) {\n",
       "  function embed_document(root) {\n",
       "    var docs_json = {\"12747e76-8b20-4e57-8591-7cbc190e97cb\":{\"roots\":{\"references\":[{\"attributes\":{\"dimension\":\"lon\",\"mantissas\":[1,2,5]},\"id\":\"1265\",\"type\":\"MercatorTicker\"},{\"attributes\":{},\"id\":\"1034\",\"type\":\"SaveTool\"},{\"attributes\":{\"bottom_units\":\"screen\",\"fill_alpha\":0.5,\"fill_color\":\"lightgrey\",\"left_units\":\"screen\",\"level\":\"overlay\",\"line_alpha\":1.0,\"line_color\":\"black\",\"line_dash\":[4,4],\"line_width\":2,\"right_units\":\"screen\",\"top_units\":\"screen\"},\"id\":\"1255\",\"type\":\"BoxAnnotation\"},{\"attributes\":{\"children\":[{\"id\":\"1648\"}],\"css_classes\":[\"panel-widget-box\"],\"margin\":[5,5,5,5],\"name\":\"WidgetBox03198\"},\"id\":\"1647\",\"type\":\"Column\"},{\"attributes\":{\"margin\":[5,5,5,5],\"name\":\"VSpacer03211\",\"sizing_mode\":\"stretch_height\"},\"id\":\"1651\",\"type\":\"Spacer\"},{\"attributes\":{},\"id\":\"1022\",\"type\":\"LinearScale\"},{\"attributes\":{\"fill_alpha\":{\"value\":0.1},\"fill_color\":{\"field\":\"iCor_NDVI\",\"transform\":{\"id\":\"1292\"}},\"line_alpha\":{\"value\":0},\"line_color\":{\"value\":\"#1f77b4\"},\"xs\":{\"field\":\"xs\"},\"ys\":{\"field\":\"ys\"}},\"id\":\"1297\",\"type\":\"Patches\"},{\"attributes\":{\"end\":304,\"format\":\"0[.]00\",\"js_property_callbacks\":{\"change:value\":[{\"id\":\"1679\"}]},\"margin\":[0,20,20,20],\"min_width\":250,\"show_value\":false,\"start\":0,\"tooltips\":false,\"value\":0,\"value_throttled\":0,\"width\":250},\"id\":\"1650\",\"type\":\"Slider\"},{\"attributes\":{},\"id\":\"1036\",\"type\":\"WheelZoomTool\"},{\"attributes\":{},\"id\":\"1051\",\"type\":\"DatetimeTickFormatter\"},{\"attributes\":{\"children\":[{\"id\":\"1004\"},{\"id\":\"1375\"},{\"id\":\"1644\"},{\"id\":\"1645\"}],\"margin\":[0,0,0,0],\"name\":\"Row03197\"},\"id\":\"1003\",\"type\":\"Row\"},{\"attributes\":{},\"id\":\"1306\",\"type\":\"BasicTickFormatter\"},{\"attributes\":{\"dimension\":\"lon\",\"precision\":\"auto\"},\"id\":\"1266\",\"type\":\"MercatorTickFormatter\"},{\"attributes\":{\"bottom_units\":\"screen\",\"fill_alpha\":0.5,\"fill_color\":\"lightgrey\",\"left_units\":\"screen\",\"level\":\"overlay\",\"line_alpha\":1.0,\"line_color\":\"black\",\"line_dash\":[4,4],\"line_width\":2,\"right_units\":\"screen\",\"top_units\":\"screen\"},\"id\":\"1039\",\"type\":\"BoxAnnotation\"},{\"attributes\":{\"mantissas\":[1,2,5],\"max_interval\":500.0,\"num_minor_ticks\":0},\"id\":\"1077\",\"type\":\"AdaptiveTicker\"},{\"attributes\":{\"args\":{\"plot\":{\"id\":\"1233\"}},\"code\":\"var data = {};\\ndata[\\\"height\\\"] = cb_obj[\\\"inner_height\\\"];\\ndata[\\\"width\\\"] = cb_obj[\\\"inner_width\\\"];\\n\\nfunction unique_events(events) {\\n  // Processes the event queue ignoring duplicate events\\n  // of the same type\\n  var unique = [];\\n  var unique_events = [];\\n  for (var i=0; i<events.length; i++) {\\n    var _tmpevent = events[i];\\n    event = _tmpevent[0];\\n    data = _tmpevent[1];\\n    if (unique_events.indexOf(event)===-1) {\\n      unique.unshift(data);\\n      unique_events.push(event);\\n      }\\n  }\\n  return unique;\\n}\\n\\nfunction process_events(comm_status) {\\n  // Iterates over event queue and sends events via Comm\\n  var events = unique_events(comm_status.event_buffer);\\n  for (var i=0; i<events.length; i++) {\\n    var data = events[i];\\n    var comm = window.PyViz.comms[data[\\\"comm_id\\\"]];\\n    comm.send(data);\\n  }\\n  comm_status.event_buffer = [];\\n}\\n\\nfunction on_msg(msg) {\\n  // Receives acknowledgement from Python, processing event\\n  // and unblocking Comm if event queue empty\\n  var metadata = msg.metadata;\\n  var comm_id = metadata.comm_id\\n  var comm_status = window.PyViz.comm_status[comm_id];\\n  if (comm_status.event_buffer.length) {\\n    process_events(comm_status);\\n    comm_status.blocked = true;\\n    comm_status.time = Date.now()+20;\\n  } else {\\n    comm_status.blocked = false;\\n  }\\n  comm_status.event_buffer = [];\\n  if ((metadata.msg_type == \\\"Ready\\\") && metadata.content) {\\n    console.log(\\\"Python callback returned following output:\\\", metadata.content);\\n  } else if (metadata.msg_type == \\\"Error\\\") {\\n    console.log(\\\"Python failed with the following traceback:\\\", metadata.traceback)\\n  }\\n}\\n\\n// Initialize Comm\\nif ((window.PyViz == undefined) || (window.PyViz.comm_manager == undefined)) { return }\\nvar comm = window.PyViz.comm_manager.get_client_comm(\\\"1003\\\", \\\"e34405b4ad924eb0b58fc2ae9eda2283\\\", on_msg);\\nif (!comm) {\\n  return\\n}\\n\\n// Initialize event queue and timeouts for Comm\\nvar comm_status = window.PyViz.comm_status[\\\"e34405b4ad924eb0b58fc2ae9eda2283\\\"];\\nif (comm_status === undefined) {\\n  comm_status = {event_buffer: [], blocked: false, time: Date.now()}\\n  window.PyViz.comm_status[\\\"e34405b4ad924eb0b58fc2ae9eda2283\\\"] = comm_status\\n}\\n\\n// Add current event to queue and process queue if not blocked\\nvar event_name = cb_obj.event_name;\\nif (event_name === undefined) {\\n  // we are a widget not an event... fake a key.\\n  event_name = Object.keys(data).join(',');\\n}\\ndata['comm_id'] = \\\"e34405b4ad924eb0b58fc2ae9eda2283\\\";\\nvar timeout = comm_status.time + 20000;\\nif ((comm_status.blocked && (Date.now() < timeout))) {\\n  comm_status.event_buffer.unshift([event_name, data]);\\n} else {\\n  comm_status.event_buffer.unshift([event_name, data]);\\n  setTimeout(function() { process_events(comm_status); }, 20);\\n  comm_status.blocked = true;\\n  comm_status.time = Date.now()+20;\\n}\\n\"},\"id\":\"1340\",\"type\":\"CustomJS\"},{\"attributes\":{\"base\":60,\"mantissas\":[1,2,5,10,15,20,30],\"max_interval\":1800000.0,\"min_interval\":1000.0,\"num_minor_ticks\":0},\"id\":\"1078\",\"type\":\"AdaptiveTicker\"},{\"attributes\":{\"margin\":[20,0,0,20],\"name\":\"\",\"style\":{\"white-space\":\"nowrap\"},\"text\":\"t: <b>2016-05-22 00:00:00</b>\",\"width\":250},\"id\":\"1649\",\"type\":\"Div\"},{\"attributes\":{\"base\":24,\"mantissas\":[1,2,4,6,8,12],\"max_interval\":43200000.0,\"min_interval\":3600000.0,\"num_minor_ticks\":0},\"id\":\"1079\",\"type\":\"AdaptiveTicker\"},{\"attributes\":{\"data_source\":{\"id\":\"1293\"},\"glyph\":{\"id\":\"1296\"},\"hover_glyph\":null,\"muted_glyph\":null,\"nonselection_glyph\":{\"id\":\"1297\"},\"selection_glyph\":null,\"view\":{\"id\":\"1299\"}},\"id\":\"1298\",\"type\":\"GlyphRenderer\"},{\"attributes\":{\"days\":[1,4,7,10,13,16,19,22,25,28]},\"id\":\"1081\",\"type\":\"DaysTicker\"},{\"attributes\":{},\"id\":\"1089\",\"type\":\"UnionRenderers\"},{\"attributes\":{\"data\":{\"iCor_NDVI\":{\"__ndarray__\":\"j/pKPwAAwP81uCY/8YZcP67FXj+t4UQ/MT5WP0LMXj9qtUo/Hb9RP+KpUT8AAMD/xeRGP3YVVT+BYUE/T2BWP0GRVD+wujc/yWISP2idLT8seS0/qRQyP2yfMD9fzQ4/d6cuPzn3xz55jzM/NAU0P7iENT+i69E+OLgbP9U59T51Vd4+AADA/1MTDD+RCSs/AWkkPwAAwP9ToC0/AADA/1CLsT4hREk/AADA/9FTTz9delA/E3ZRPwAAwP+v6VQ/mu5dPwAAwP8301Q/Hc1bP5P5JD9TkCQ/sR9CP5OSYD83DVI/AADA/5iaTj8AAMD/Ax1WP/2EXT+Y4Uw/9ipWP44FUz/nxlg/ehFGP9rGLz9WA2g/eTpQP+9bRj+ex1w/fLRSP94rIz+QmlY/AADA/1g1Vz/Yfk8/S4xIP8E3Uz8OHlg/DhpDP4zfNz+mSkw/SnM4PxlQNT/4jzQ/lEZ+Pq8UAD/axRU/ZO38Po9YBT85FxU/qFXPPuu1HD8t3v0+8wMnPwAAwP8AZMY+AADA/33b/T4AAMD/4UO/Psi8FD+gAQo/zzEXPyQxAz8AAMD/11aaPqJL8D6718U+7vJ7PhedFT6Iw/I+AADA/6Itsz68oYg+lhDvPgAAwP9TvsI+HsTTPvuaEj/Yxhk//ooqPwAAwP9otUI/AADA/0FjWT/sAk4/rMddP0JLVT9N2Vw/ngpOPytUTT9aAiA/AADA/4aGuz4AAMD/IctRP9DoTD9crE4/volPP7AKXj8lF2M/FB8hP2vQQT+snj8/KrBJPwAAwP8AAMD/uKpVP9f3ST9LYy8/IcNYPwAAwP/hixQ//UBOP5+nWT9gqVY/IiZbP0PXVj/7bE0/HE5YPxsvNT9o+0k/tM5fPxWgUz+qtFc/Zx5NPwAAwP+Yqvk+xNv6PtCkBz8eIbM+W7/WPoSa4j4ZKTs+xMy2PvFhDT4xq8U+BgnPPtPDqj4AAMD/LKHNPn9Bzz7NR+E+muOfPgAAwP+G/4k++kSKPvW5GD7Ptog8rTpPPFMAlzybxfI8jOcePUCtmz16Vyc+mHqZPn+xrz43Z9A+AADA/7+jzz4E7s8+/wYUPrkV1D4qTdI+DsXMPm/pzD4AAMD/AADA/7N5mT4AAMD/41KrPqL+tT68IHc772eXPgAAwP99i6I+vAeoPoaxoT5Typ0+FxWmPnPPmT4AAMD/Yh2nPphVrD6nHaY+FJ6iPryxYT7Uhak+CACrPlXopz6zjcI+AADA/wAAwP8AAMD/nv+lPpFOsD7NVb0+sSa2PgAAwP82Mrw+ArK2Pqu0vT4UocE+OXm5Pqf7pj709L4+AADA/zpvrj7Ssqw+06W2PiULuj7YQKY++POoPhO8K7sJxLW9KLd3vDt/CL7heoS9RW3jOyuuBLzVr4u8ojsVvD0VMrw7+0u7+pHzO5BAn7zdenS89SFevKzvDL0lX228w/RXvOk/tLyabPc8y+0aPOCwkTov3vc7G8GNPPf3Hb1AXCG7hfLpugaJRbwJvBk8gkFMPA+F2jwAAMD/ekSWPQpzQjx1Vym8x8oOvU4pPbyIoAk9+X69PXd3pjueAHU9QrImPqGBVj4kJnc++VBpPntggj4mSoc+AADA/4H9gj4=\",\"dtype\":\"float32\",\"order\":\"little\",\"shape\":[305]},\"t\":{\"__ndarray__\":\"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\",\"dtype\":\"float64\",\"order\":\"little\",\"shape\":[305]}},\"selected\":{\"id\":\"1057\"},\"selection_policy\":{\"id\":\"1089\"}},\"id\":\"1056\",\"type\":\"ColumnDataSource\"},{\"attributes\":{\"days\":[1,2,3,4,5,6,7,8,9,10,11,12,13,14,15,16,17,18,19,20,21,22,23,24,25,26,27,28,29,30,31]},\"id\":\"1080\",\"type\":\"DaysTicker\"},{\"attributes\":{\"active_drag\":\"auto\",\"active_inspect\":\"auto\",\"active_multi\":null,\"active_scroll\":\"auto\",\"active_tap\":\"auto\",\"tools\":[{\"id\":\"1013\"},{\"id\":\"1014\"},{\"id\":\"1034\"},{\"id\":\"1035\"},{\"id\":\"1036\"},{\"id\":\"1037\"},{\"id\":\"1038\"}]},\"id\":\"1040\",\"type\":\"Toolbar\"},{\"attributes\":{\"high\":1,\"low\":-1,\"nan_color\":\"rgba(0, 0, 0, 0)\",\"palette\":[\"#f7fcf5\",\"#f6fbf4\",\"#f5fbf3\",\"#f5fbf3\",\"#f4fbf2\",\"#f4faf1\",\"#f3faf1\",\"#f3faf0\",\"#f2faef\",\"#f1faef\",\"#f1f9ee\",\"#f0f9ed\",\"#f0f9ed\",\"#eff9ec\",\"#eff8eb\",\"#eef8eb\",\"#edf8ea\",\"#edf8e9\",\"#ecf8e9\",\"#ecf7e8\",\"#ebf7e7\",\"#ebf7e7\",\"#eaf7e6\",\"#eaf6e5\",\"#e9f6e5\",\"#e8f6e4\",\"#e8f6e3\",\"#e7f6e3\",\"#e7f5e2\",\"#e6f5e1\",\"#e6f5e1\",\"#e5f5e0\",\"#e4f4df\",\"#e3f4de\",\"#e3f4dd\",\"#e2f3dc\",\"#e1f3db\",\"#e0f3da\",\"#dff2d9\",\"#def2d8\",\"#ddf1d7\",\"#dcf1d6\",\"#dbf1d5\",\"#daf0d4\",\"#d9f0d3\",\"#d8f0d2\",\"#d7efd1\",\"#d6efd0\",\"#d5eecf\",\"#d4eece\",\"#d3eecd\",\"#d3edcc\",\"#d2edcb\",\"#d1edca\",\"#d0ecc9\",\"#cfecc8\",\"#ceebc7\",\"#cdebc6\",\"#ccebc5\",\"#cbeac4\",\"#caeac3\",\"#c9eac2\",\"#c8e9c1\",\"#c7e9c0\",\"#c6e8bf\",\"#c5e8be\",\"#c4e7bd\",\"#c3e7bc\",\"#c1e6bb\",\"#c0e6b9\",\"#bfe5b8\",\"#bee5b7\",\"#bde4b6\",\"#bbe4b5\",\"#bae3b4\",\"#b9e3b2\",\"#b8e2b1\",\"#b7e2b0\",\"#b6e1af\",\"#b4e1ae\",\"#b3e0ad\",\"#b2e0ab\",\"#b1dfaa\",\"#b0dfa9\",\"#aedea8\",\"#addea7\",\"#acdda6\",\"#abdda5\",\"#aadca3\",\"#a8dca2\",\"#a7dba1\",\"#a6dba0\",\"#a5da9f\",\"#a4da9e\",\"#a2d99c\",\"#a1d99b\",\"#a0d89a\",\"#9fd899\",\"#9dd798\",\"#9cd697\",\"#9ad695\",\"#99d594\",\"#98d493\",\"#96d492\",\"#95d391\",\"#93d290\",\"#92d28e\",\"#90d18d\",\"#8fd08c\",\"#8ed08b\",\"#8ccf8a\",\"#8bce89\",\"#89ce87\",\"#88cd86\",\"#87cc85\",\"#85cc84\",\"#84cb83\",\"#82ca82\",\"#81ca81\",\"#80c97f\",\"#7ec87e\",\"#7dc87d\",\"#7bc77c\",\"#7ac67b\",\"#78c67a\",\"#77c578\",\"#76c477\",\"#74c476\",\"#73c375\",\"#71c274\",\"#70c274\",\"#6ec173\",\"#6cc072\",\"#6bbf71\",\"#69be70\",\"#68be70\",\"#66bd6f\",\"#64bc6e\",\"#63bb6d\",\"#61ba6c\",\"#60ba6c\",\"#5eb96b\",\"#5cb86a\",\"#5bb769\",\"#59b769\",\"#58b668\",\"#56b567\",\"#54b466\",\"#53b365\",\"#51b365\",\"#50b264\",\"#4eb163\",\"#4cb062\",\"#4bb061\",\"#49af61\",\"#48ae60\",\"#46ad5f\",\"#44ac5e\",\"#43ac5e\",\"#41ab5d\",\"#40aa5c\",\"#3fa95b\",\"#3ea85b\",\"#3da75a\",\"#3ca659\",\"#3ba558\",\"#3aa458\",\"#39a357\",\"#38a256\",\"#37a155\",\"#37a055\",\"#369f54\",\"#359e53\",\"#349d52\",\"#339c51\",\"#329b51\",\"#319a50\",\"#30994f\",\"#2f984e\",\"#2e974e\",\"#2d964d\",\"#2c954c\",\"#2b944b\",\"#2a934b\",\"#29924a\",\"#289149\",\"#279048\",\"#278f48\",\"#268e47\",\"#258d46\",\"#248c45\",\"#238b45\",\"#228a44\",\"#218943\",\"#1f8842\",\"#1e8742\",\"#1d8641\",\"#1c8540\",\"#1b843f\",\"#1a833e\",\"#19823e\",\"#18813d\",\"#17803c\",\"#167f3b\",\"#157e3a\",\"#137e3a\",\"#127d39\",\"#117c38\",\"#107b37\",\"#0f7a37\",\"#0e7936\",\"#0d7835\",\"#0c7734\",\"#0b7633\",\"#0a7533\",\"#087432\",\"#077331\",\"#067230\",\"#057130\",\"#04702f\",\"#036f2e\",\"#026f2d\",\"#016e2c\",\"#006d2c\",\"#006b2b\",\"#006a2b\",\"#00692a\",\"#006829\",\"#006629\",\"#006528\",\"#006428\",\"#006227\",\"#006127\",\"#006026\",\"#005f26\",\"#005d25\",\"#005c25\",\"#005b24\",\"#005924\",\"#005823\",\"#005723\",\"#005622\",\"#005421\",\"#005321\",\"#005220\",\"#005020\",\"#004f1f\",\"#004e1f\",\"#004d1e\",\"#004b1e\",\"#004a1d\",\"#00491d\",\"#00471c\",\"#00461c\",\"#00451b\",\"#00441b\"]},\"id\":\"1292\",\"type\":\"LinearColorMapper\"},{\"attributes\":{\"style\":{\"white-space\":\"nowrap\"},\"text\":\"<span style=\\\"color:black;font-family:Arial;font-style:bold;font-weight:bold;font-size:12pt\\\">t: 2016-05-22 00:00:00</span>\",\"width\":450},\"id\":\"1374\",\"type\":\"Div\"},{\"attributes\":{\"zoom_on_axis\":false},\"id\":\"1252\",\"type\":\"WheelZoomTool\"},{\"attributes\":{\"data\":{\"iCor_NDVI\":{\"__ndarray__\":\"KFJSP07BSz9x9UY/rvpJP2/jST/io0k/FZpAP+u8RD/2vC0/kWs0P5/LOT/wID4/EG1SP8MASz8hf00/Q9NdP5liTT9d4FM/WRpXP7esVT+eMV4/koVlP2A7ZT8IEGI/CoRkP4OEVj9WC0w/JxNLPzDoSz98FUw/aN5PP6+SSz+8uzs/eEI5P+vQLz+TjTg/OgM6P7xTOj+m91Y/jzVIP1lzUD/P4FQ/zs1NPyMjUz9IrFc/bLdNP9vRUz9pzFw/XVFkP+smXz8rSGU/yJZiP8wzTD/FmkQ/Gk9HP4ZfTT/xUlE/kuZIP5KQPD8rhzs/FahLP6KkTz81OUg/9FlBP6lCTD8oKEg/Mh9SPwhIUz8FMlI/xexPPyniUD80uU0/VVdOP/5XTj8jZWA/3DBePy1PZT98CmQ/QBZIPwDDRT9LNkM/1uxJP5J8Vz8F/0w/QUlIP4WdST8yu1M/kNJQP6YhTj91SUs/MSxLP8J6TT+0NlU/WCpTP1GaUD8wpE4/U2NUP3HJUD9Akkc/9TNFP0J3Wz/2iWA/oA9cPxa5UD/8o0g/gkJFP7y7Oz+tnjo/OLFUPzCPTT9J7E4/iOZOPxygUD+OSlE/tENPP39zSz9ftUs/zeZRP/TXWD9F0FA/4rJQPzK5Tz90l1I/sBBYP4q/SD/Juj8/P/BTP2xiXT9Xw1I/jXpLP6k0UD9xsEo/fY1JPwhvST9soU4/I+JMPzFEUD/zhUw/6hdMPzScRD89JUg/aGRFPy4ETD8Xf1U/NiRXP1YRTj+WzE8/ix9QP7jfSz8AQEc/pshHP/JtST9pGFA/ip1YP+kQXD/Ji1s/oYBOP9j5TD/KA0w/a+hKP/dfST9Hl0c/s0NJP6jnRz82REo/7LBFP5oWQj/x+EQ/1/lOP1M1Sz9phFA/IQ1SP6RpUD9/EFE/pdpRP0rsST9P9lA/rSlbP/vuVz9zLlM/FdlUP757Yj+AxEw/+/xKP3sLSj/v5Ec/lxdBPy/gQz8FeUo/WZ5KP07BSz9WGkw/xJFKP7eATT9cHFE/jXpRP+N2WD9VgFM/FbRRPxwgUD84Kk4/dWVTP8sQVT8501o//LVbP8/3UT9DQ0M/EvpXP0VgSz+Bwkk/2LpJPxmSRz8WL0Y/ZNJHP7sUSD8BOkg/I2hIP++/Sz/HcVQ/QxdMP8u4Tj/psFE/bKJRPyKYTT9cX1E/aFFMP8A+Sz/sxFY/x4xVP5F0Rj8y9lo/pqldP9yUTz+nZVc/+TNHP1SnST+SuUc/L/5EP1OmRz/8dUk/3/RGP177Tj+QqEQ/y1hDP/keUz/MQUw/hIhRP3vYVT8eOU8/MNhLP2UIVj8PV1I/ZQZRP8kTUz87aVU/FEVRP4l5XD++6F0/oNlXP7+SVj9siEU/+2BHP6NMRT/zPkU/L59MPzlKSz+jrEU/iN1NP+IuTD+6nkA/velNP4wWSj8djUs/3I1KP9XzOT/Bpz8/WHlQP2t/TT83FU0/om1RP912Wj/rWVQ/wXhbP1jNWj/1wlM/4vRMP4KLSD8l+0g/eFFGP+hsRz+f40w/gd5JPxTZRD8TtEY/d79AP/YMRD887k0/nIlLP3IcRz+3+zs/XfE3P7q4RD+i9Uw/T11LP9DgUj+mElM/8PdKP7ELOT+uflA/m1RjPyKtVz/iVFE/yyRDP5dHQz9FnEo/Cy9LPz3zTD/V7kg/QwlCP106RT/UCT8/035MPz03TT+VWU8/o69HPwB2QD+Cyzo/fBpJP7ZuTj9XGk8/lQZbP2frUD+UaD8/ob1EPxtpTT9r4mI/hwZXPyDyUz8AAEw/b8xTPy5EUT9i3k4/hk9MPwUpRj8PDUI/Zh9JP948Sz93NUg/j904Pwg2Oj8sXS4/05E9P15sPD+WHEE/4/hPP0qQVz9MjVo/1bpbP4M4SD/ZS0E/anlUP9a+YT+DC1Y/CYNVP8WQUz/xnlo/e4FRP92bUT/B6FA/buRGP9BNRz9zQkk/JVdSPwAAPz/6iyE/GHohPz35Lz/uoDg/csw4P/WVTD/UIUs/aYFUP0htWj/8VFc/JTgbP0ViKD83ylw/9HJXP/oGVT8xqlM/IM5ZP/ojVj9KFk4/k2NXP1iuVT9AbEk/oDZNP5jFTD9lmlA/tqpHP0bNIj9QdR0/TSY5P+thMT8veDM/muhLP9hYQT9Y9Uk/AAA+P/G0CD9tnvQ+u+IXP4nxaT8zVlE/OFlQP06TUj8WKVg/TbpUP2iATz+EM1U/CgdXP6K0UD9031M/J/dVP91YTz/MQzk/8J0mPwgHIz8JqiU/XgU/P0KmSz8tYUk/DhNEP/+hOz88Hg8/ZfTlPn5QAT91nxw/CtdbP94mXT+sUVg/SvBTP05vUj/V1FQ/K35YP65JWT/cGlQ/AmxXP9euWT+cs1U/SptLP8JlLz+QOiU/SakhP7d/ID8Eg0I/xyhOP+YxRT9cu0M/1JYjP/Y+/T7x/gg/UL8gPzNlRD8l0lg/WRtiPyQCYj9ohFQ/QxhWP8C+Uz8qE1g/k1BYP3x8VT+9wFo/A5RZP6wHVD+X5T8/X3w4PzhyOj99FCk/7cE1PwMNSD+4QUQ/qrE9P8sXQz/pIzk/svUgP5GTJD8XK0M/zstiP8GiYj8wAmM/QSJfPwL+Vj97wFU/5+ZWP6FvVz9m2Fg/QBBZP5YZWD9BcFc/XTVDP18UNz+wHz4/rlU5PzdDLj/K+DQ/gSBFP4+vQj8LRDY/qp5BP8N0TT8NHVM/Zd08P7jWQT8PI1g/LSZhP/SYYT+ve10/J7xVP1rdWj84eFo/wvBWP6qXWT8lj10/ZDJPP/cJUD8pDE8/DAlPP+RHRD9u2Do/SAQ+P4IrPT/pY0M/IysyP3YKSD9stkw/RjBRPywCRj/mcjk/EeUrP6ejXD+R4V4/tkBaPxXqWT9zulg/\",\"dtype\":\"float32\",\"order\":\"little\",\"shape\":[546]},\"x\":{\"__ndarray__\":\"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\",\"dtype\":\"float64\",\"order\":\"little\",\"shape\":[546]},\"xs\":[[1270245.2426748658,1270245.6828957675,1270260.1357163298,1270259.6954717762],[1270259.6954717762,1270260.1357163298,1270274.5885358406,1270274.1482676351],[1270274.1482676351,1270274.5885358406,1270289.0413532485,1270288.6010613912],[1270288.6010613912,1270289.0413532485,1270303.4941685537,1270303.053853045],[1270303.053853045,1270303.4941685537,1270317.9469817556,1270317.5066425954],[1270317.5066425954,1270317.9469817556,1270332.3997928544,1270331.9594300424],[1270331.9594300424,1270332.3997928544,1270346.85260185,1270346.412215386],[1270346.412215386,1270346.85260185,1270361.305408742,1270360.8649986268],[1270360.8649986268,1270361.305408742,1270375.7582135308,1270375.317779764],[1270375.317779764,1270375.7582135308,1270390.2110162154,1270389.7705587973],[1270389.7705587973,1270390.2110162154,1270404.6638167966,1270404.2233357271],[1270404.2233357271,1270404.6638167966,1270419.116615274,1270418.6761105526],[1270418.6761105526,1270419.116615274,1270433.5694116473,1270433.1288832745],[1270433.1288832745,1270433.5694116473,1270448.0222059165,1270447.5816538918],[1270447.5816538918,1270448.0222059165,1270462.4749980816,1270462.034422405],[1270462.034422405,1270462.4749980816,1270476.9277881423,1270476.487188815],[1270476.487188815,1270476.9277881423,1270491.3805760983,1270490.9399531195],[1270490.9399531195,1270491.3805760983,1270505.83336195,1270505.3927153198],[1270505.3927153198,1270505.83336195,1270520.2861456973,1270519.8454754157],[1270519.8454754157,1270520.2861456973,1270534.7389273397,1270534.2982334062],[1270534.2982334062,1270534.7389273397,1270549.191706877,1270548.750989292],[1270548.750989292,1270549.191706877,1270563.6444843095,1270563.2037430732],[1270563.2037430732,1270563.6444843095,1270578.0972596367,1270577.656494749],[1270577.656494749,1270578.0972596367,1270592.5500328587,1270592.1092443196],[1270592.1092443196,1270592.5500328587,1270607.0028039757,1270606.5619917852],[1270606.5619917852,1270607.0028039757,1270621.4555740398,1270621.0147381984],[1270245.6828957675,1270246.1231177212,1270260.5759619349,1270260.1357163298],[1270260.1357163298,1270260.5759619349,1270275.0288050976,1270274.5885358406],[1270274.5885358406,1270275.0288050976,1270289.4816461573,1270289.0413532485],[1270289.0413532485,1270289.4816461573,1270303.934485114,1270303.4941685537],[1270303.4941685537,1270303.934485114,1270318.3873219676,1270317.9469817556],[1270317.9469817556,1270318.3873219676,1270332.8401567182,1270332.3997928544],[1270332.3997928544,1270332.8401567182,1270347.2929893653,1270346.85260185],[1270346.85260185,1270347.2929893653,1270361.745819909,1270361.305408742],[1270361.305408742,1270361.745819909,1270376.1986483494,1270375.7582135308],[1270375.7582135308,1270376.1986483494,1270390.6514746856,1270390.2110162154],[1270390.2110162154,1270390.6514746856,1270405.1042989183,1270404.6638167966],[1270404.6638167966,1270405.1042989183,1270419.5571210473,1270419.116615274],[1270419.116615274,1270419.5571210473,1270434.0099410722,1270433.5694116473],[1270433.5694116473,1270434.0099410722,1270448.462758993,1270448.0222059165],[1270448.0222059165,1270448.462758993,1270462.9155748095,1270462.4749980816],[1270462.4749980816,1270462.9155748095,1270477.368388522,1270476.9277881423],[1270476.9277881423,1270477.368388522,1270491.8212001296,1270491.3805760983],[1270491.3805760983,1270491.8212001296,1270506.2740096329,1270505.83336195],[1270505.83336195,1270506.2740096329,1270520.7268170314,1270520.2861456973],[1270520.2861456973,1270520.7268170314,1270535.179622325,1270534.7389273397],[1270534.7389273397,1270535.179622325,1270549.632425514,1270549.191706877],[1270549.191706877,1270549.632425514,1270564.0852265982,1270563.6444843095],[1270563.6444843095,1270564.0852265982,1270578.5380255769,1270578.0972596367],[1270578.0972596367,1270578.5380255769,1270592.9908224505,1270592.5500328587],[1270592.5500328587,1270592.9908224505,1270607.4436172186,1270607.0028039757],[1270607.0028039757,1270607.4436172186,1270621.896410934,1270621.4555740398],[1270246.1231177212,1270246.5633417773,1270261.0162096429,1270260.5759619349],[1270260.5759619349,1270261.0162096429,1270275.4690764574,1270275.0288050976],[1270275.0288050976,1270275.4690764574,1270289.9219411686,1270289.4816461573],[1270289.4816461573,1270289.9219411686,1270304.3748037773,1270303.934485114],[1270303.934485114,1270304.3748037773,1270318.8276642829,1270318.3873219676],[1270318.3873219676,1270318.8276642829,1270333.2805226853,1270332.8401567182],[1270332.8401567182,1270333.2805226853,1270347.733378984,1270347.2929893653],[1270347.2929893653,1270347.733378984,1270362.1862331794,1270361.745819909],[1270361.745819909,1270362.1862331794,1270376.6390852714,1270376.1986483494],[1270376.1986483494,1270376.6390852714,1270391.0919352598,1270390.6514746856],[1270390.6514746856,1270391.0919352598,1270405.544783144,1270405.1042989183],[1270405.1042989183,1270405.544783144,1270419.997628925,1270419.5571210473],[1270419.5571210473,1270419.997628925,1270434.4504726012,1270434.0099410722],[1270434.0099410722,1270434.4504726012,1270448.9033141737,1270448.462758993],[1270448.462758993,1270448.9033141737,1270463.3561536418,1270462.9155748095],[1270462.9155748095,1270463.3561536418,1270477.8089910059,1270477.368388522],[1270477.368388522,1270477.8089910059,1270492.2618262654,1270491.8212001296],[1270491.8212001296,1270492.2618262654,1270506.7146594203,1270506.2740096329],[1270506.2740096329,1270506.7146594203,1270521.1674904702,1270520.7268170314],[1270520.7268170314,1270521.1674904702,1270535.6203194158,1270535.179622325],[1270535.179622325,1270535.6203194158,1270550.0731462562,1270549.632425514],[1270549.632425514,1270550.0731462562,1270564.5259709917,1270564.0852265982],[1270564.0852265982,1270564.5259709917,1270578.9787936222,1270578.5380255769],[1270578.5380255769,1270578.9787936222,1270593.4316141475,1270592.9908224505],[1270592.9908224505,1270593.4316141475,1270607.884432567,1270607.4436172186],[1270607.4436172186,1270607.884432567,1270622.3372499337,1270621.896410934],[1270246.5633417773,1270247.0035679357,1270261.4564594536,1270261.0162096429],[1270261.0162096429,1270261.4564594536,1270275.9093499198,1270275.4690764574],[1270275.4690764574,1270275.9093499198,1270290.3622382833,1270289.9219411686],[1270289.9219411686,1270290.3622382833,1270304.8151245438,1270304.3748037773],[1270304.3748037773,1270304.8151245438,1270319.268008701,1270318.8276642829],[1270318.8276642829,1270319.268008701,1270333.7208907553,1270333.2805226853],[1270333.2805226853,1270333.7208907553,1270348.1737707062,1270347.733378984],[1270347.733378984,1270348.1737707062,1270362.6266485534,1270362.1862331794],[1270362.1862331794,1270362.6266485534,1270377.0795242973,1270376.6390852714],[1270376.6390852714,1270377.0795242973,1270391.5323979375,1270391.0919352598],[1270391.0919352598,1270391.5323979375,1270405.9852694736,1270405.544783144],[1270405.544783144,1270405.9852694736,1270420.4381389061,1270419.997628925],[1270419.997628925,1270420.4381389061,1270434.8910062346,1270434.4504726012],[1270434.4504726012,1270434.8910062346,1270449.3438714587,1270448.9033141737],[1270448.9033141737,1270449.3438714587,1270463.7967345787,1270463.3561536418],[1270463.3561536418,1270463.7967345787,1270478.2495955944,1270477.8089910059],[1270477.8089910059,1270478.2495955944,1270492.7024545055,1270492.2618262654],[1270492.2618262654,1270492.7024545055,1270507.155311312,1270506.7146594203],[1270506.7146594203,1270507.155311312,1270521.6081660143,1270521.1674904702],[1270521.1674904702,1270521.6081660143,1270536.0610186113,1270535.6203194158],[1270535.6203194158,1270536.0610186113,1270550.5138691035,1270550.0731462562],[1270550.0731462562,1270550.5138691035,1270564.966717491,1270564.5259709917],[1270564.5259709917,1270564.966717491,1270579.4195637729,1270578.9787936222],[1270578.9787936222,1270579.4195637729,1270593.8724079495,1270593.4316141475],[1270593.4316141475,1270593.8724079495,1270608.3252500207,1270607.884432567],[1270607.884432567,1270608.3252500207,1270622.7780910393,1270622.3372499337],[1270247.0035679357,1270247.4437961972,1270261.896711367,1270261.4564594536],[1270261.4564594536,1270261.896711367,1270276.3496254855,1270275.9093499198],[1270275.9093499198,1270276.3496254855,1270290.8025375009,1270290.3622382833],[1270290.3622382833,1270290.8025375009,1270305.2554474133,1270304.8151245438],[1270304.8151245438,1270305.2554474133,1270319.7083552226,1270319.268008701],[1270319.268008701,1270319.7083552226,1270334.161260929,1270333.7208907553],[1270333.7208907553,1270334.161260929,1270348.6141645317,1270348.1737707062],[1270348.1737707062,1270348.6141645317,1270363.067066031,1270362.6266485534],[1270362.6266485534,1270363.067066031,1270377.5199654268,1270377.0795242973],[1270377.0795242973,1270377.5199654268,1270391.9728627189,1270391.5323979375],[1270391.5323979375,1270391.9728627189,1270406.425757907,1270405.9852694736],[1270405.9852694736,1270406.425757907,1270420.8786509915,1270420.4381389061],[1270420.4381389061,1270420.8786509915,1270435.3315419718,1270434.8910062346],[1270434.8910062346,1270435.3315419718,1270449.784430848,1270449.3438714587],[1270449.3438714587,1270449.784430848,1270464.2373176198,1270463.7967345787],[1270463.7967345787,1270464.2373176198,1270478.6902022874,1270478.2495955944],[1270478.2495955944,1270478.6902022874,1270493.1430848506,1270492.7024545055],[1270492.7024545055,1270493.1430848506,1270507.595965309,1270507.155311312],[1270507.155311312,1270507.595965309,1270522.0488436627,1270521.6081660143],[1270521.6081660143,1270522.0488436627,1270536.5017199116,1270536.0610186113],[1270536.0610186113,1270536.5017199116,1270550.9545940557,1270550.5138691035],[1270550.5138691035,1270550.9545940557,1270565.4074660945,1270564.966717491],[1270564.966717491,1270565.4074660945,1270579.8603360285,1270579.4195637729],[1270579.4195637729,1270579.8603360285,1270594.313203857,1270593.8724079495],[1270593.8724079495,1270594.313203857,1270608.76606958,1270608.3252500207],[1270608.3252500207,1270608.76606958,1270623.2189342508,1270622.7780910393],[1270247.4437961972,1270247.8840265612,1270262.3369653833,1270261.896711367],[1270261.896711367,1270262.3369653833,1270276.789903154,1270276.3496254855],[1270276.3496254855,1270276.789903154,1270291.2428388214,1270290.8025375009],[1270290.8025375009,1270291.2428388214,1270305.6957723857,1270305.2554474133],[1270305.2554474133,1270305.6957723857,1270320.1487038475,1270319.7083552226],[1270319.7083552226,1270320.1487038475,1270334.601633206,1270334.161260929],[1270334.161260929,1270334.601633206,1270349.0545604608,1270348.6141645317],[1270348.6141645317,1270349.0545604608,1270363.5074856123,1270363.067066031],[1270363.067066031,1270363.5074856123,1270377.9604086601,1270377.5199654268],[1270377.5199654268,1270377.9604086601,1270392.413329604,1270391.9728627189],[1270391.9728627189,1270392.413329604,1270406.8662484444,1270406.425757907],[1270406.425757907,1270406.8662484444,1270421.3191651807,1270420.8786509915],[1270420.8786509915,1270421.3191651807,1270435.772079813,1270435.3315419718],[1270435.3315419718,1270435.772079813,1270450.2249923414,1270449.784430848],[1270449.784430848,1270450.2249923414,1270464.677902765,1270464.2373176198],[1270464.2373176198,1270464.677902765,1270479.1308110848,1270478.6902022874],[1270478.6902022874,1270479.1308110848,1270493.5837173,1270493.1430848506],[1270493.1430848506,1270493.5837173,1270508.0366214104,1270507.595965309],[1270507.595965309,1270508.0366214104,1270522.489523416,1270522.0488436627],[1270522.0488436627,1270522.489523416,1270536.9424233169,1270536.5017199116],[1270536.5017199116,1270536.9424233169,1270551.395321113,1270550.9545940557],[1270550.9545940557,1270551.395321113,1270565.8482168037,1270565.4074660945],[1270565.4074660945,1270565.8482168037,1270580.3011103894,1270579.8603360285],[1270579.8603360285,1270580.3011103894,1270594.75400187,1270594.313203857],[1270594.313203857,1270594.75400187,1270609.2068912452,1270608.76606958],[1270608.76606958,1270609.2068912452,1270623.6597795677,1270623.2189342508],[1270247.8840265612,1270248.3242590278,1270262.7772215023,1270262.3369653833],[1270262.3369653833,1270262.7772215023,1270277.230182925,1270276.789903154],[1270276.789903154,1270277.230182925,1270291.6831422448,1270291.2428388214],[1270291.2428388214,1270291.6831422448,1270306.136099462,1270305.6957723857],[1270305.6957723857,1270306.136099462,1270320.5890545757,1270320.1487038475],[1270320.1487038475,1270320.5890545757,1270335.0420075862,1270334.601633206],[1270334.601633206,1270335.0420075862,1270349.4949584934,1270349.0545604608],[1270349.0545604608,1270349.4949584934,1270363.947907297,1270363.5074856123],[1270363.5074856123,1270363.947907297,1270378.4008539969,1270377.9604086601],[1270377.9604086601,1270378.4008539969,1270392.8537985932,1270392.413329604],[1270392.413329604,1270392.8537985932,1270407.3067410858,1270406.8662484444],[1270406.8662484444,1270407.3067410858,1270421.7596814742,1270421.3191651807],[1270421.3191651807,1270421.7596814742,1270436.2126197587,1270435.772079813],[1270435.772079813,1270436.2126197587,1270450.665555939,1270450.2249923414],[1270450.2249923414,1270450.665555939,1270465.1184900152,1270464.677902765],[1270464.677902765,1270465.1184900152,1270479.571421987,1270479.1308110848],[1270479.1308110848,1270479.571421987,1270494.024351854,1270493.5837173],[1270493.5837173,1270494.024351854,1270508.4772796165,1270508.0366214104],[1270508.0366214104,1270508.4772796165,1270522.9302052741,1270522.489523416],[1270522.489523416,1270522.9302052741,1270537.3831288272,1270536.9424233169],[1270536.9424233169,1270537.3831288272,1270551.8360502752,1270551.395321113],[1270551.395321113,1270551.8360502752,1270566.2889696183,1270565.8482168037],[1270565.8482168037,1270566.2889696183,1270580.7418868558,1270580.3011103894],[1270580.3011103894,1270580.7418868558,1270595.1948019883,1270594.75400187],[1270594.75400187,1270595.1948019883,1270609.6477150158,1270609.2068912452],[1270609.2068912452,1270609.6477150158,1270624.1006269902,1270623.6597795677],[1270248.3242590278,1270248.7644935972,1270263.217479724,1270262.7772215023],[1270262.7772215023,1270263.217479724,1270277.6704647993,1270277.230182925],[1270277.230182925,1270277.6704647993,1270292.1234477716,1270291.6831422448],[1270291.6831422448,1270292.1234477716,1270306.5764286409,1270306.136099462],[1270306.136099462,1270306.5764286409,1270321.029407407,1270320.5890545757],[1270320.5890545757,1270321.029407407,1270335.4823840698,1270335.0420075862],[1270335.0420075862,1270335.4823840698,1270349.9353586293,1270349.4949584934],[1270349.4949584934,1270349.9353586293,1270364.3883310852,1270363.947907297],[1270363.947907297,1270364.3883310852,1270378.8413014375,1270378.4008539969],[1270378.4008539969,1270378.8413014375,1270393.294269686,1270392.8537985932],[1270392.8537985932,1270393.294269686,1270407.7472358309,1270407.3067410858],[1270407.3067410858,1270407.7472358309,1270422.2001998718,1270421.7596814742],[1270421.7596814742,1270422.2001998718,1270436.6531618086,1270436.2126197587],[1270436.2126197587,1270436.6531618086,1270451.1061216411,1270450.665555939],[1270450.665555939,1270451.1061216411,1270465.5590793693,1270465.1184900152],[1270465.1184900152,1270465.5590793693,1270480.0120349932,1270479.571421987],[1270479.571421987,1270480.0120349932,1270494.4649885127,1270494.024351854],[1270494.024351854,1270494.4649885127,1270508.9179399274,1270508.4772796165],[1270508.4772796165,1270508.9179399274,1270523.3708892372,1270522.9302052741],[1270522.9302052741,1270523.3708892372,1270537.8238364423,1270537.3831288272],[1270537.3831288272,1270537.8238364423,1270552.2767815427,1270551.8360502752],[1270551.8360502752,1270552.2767815427,1270566.7297245378,1270566.2889696183],[1270566.2889696183,1270566.7297245378,1270581.1826654277,1270580.7418868558],[1270580.7418868558,1270581.1826654277,1270595.635604212,1270595.1948019883],[1270595.1948019883,1270595.635604212,1270610.0885408917,1270609.6477150158],[1270609.6477150158,1270610.0885408917,1270624.541476518,1270624.1006269902],[1270248.7644935972,1270249.2047302693,1270263.6577400486,1270263.217479724],[1270263.217479724,1270263.6577400486,1270278.1107487765,1270277.6704647993],[1270277.6704647993,1270278.1107487765,1270292.5637554012,1270292.1234477716],[1270292.1234477716,1270292.5637554012,1270307.016759923,1270306.5764286409],[1270306.5764286409,1270307.016759923,1270321.4697623416,1270321.029407407],[1270321.029407407,1270321.4697623416,1270335.9227626568,1270335.4823840698],[1270335.4823840698,1270335.9227626568,1270350.3757608687,1270349.9353586293],[1270349.9353586293,1270350.3757608687,1270364.8287569773,1270364.3883310852],[1270364.3883310852,1270364.8287569773,1270379.281750982,1270378.8413014375],[1270378.8413014375,1270379.281750982,1270393.7347428827,1270393.294269686],[1270393.294269686,1270393.7347428827,1270408.1877326798,1270407.7472358309],[1270407.7472358309,1270408.1877326798,1270422.6407203733,1270422.2001998718],[1270422.2001998718,1270422.6407203733,1270437.0937059624,1270436.6531618086],[1270436.6531618086,1270437.0937059624,1270451.5466894472,1270451.1061216411],[1270451.1061216411,1270451.5466894472,1270465.9996708278,1270465.5590793693],[1270465.5590793693,1270465.9996708278,1270480.4526501042,1270480.0120349932],[1270480.0120349932,1270480.4526501042,1270494.9056272758,1270494.4649885127],[1270494.4649885127,1270494.9056272758,1270509.3586023427,1270508.9179399274],[1270508.9179399274,1270509.3586023427,1270523.811575305,1270523.3708892372],[1270523.3708892372,1270523.811575305,1270538.2645461624,1270537.8238364423],[1270537.8238364423,1270538.2645461624,1270552.717514915,1270552.2767815427],[1270552.2767815427,1270552.717514915,1270567.1704815624,1270566.7297245378],[1270566.7297245378,1270567.1704815624,1270581.6234461046,1270581.1826654277],[1270581.1826654277,1270581.6234461046,1270596.0764085413,1270595.635604212],[1270595.635604212,1270596.0764085413,1270610.5293688728,1270610.0885408917],[1270610.0885408917,1270610.5293688728,1270624.9823281518,1270624.541476518],[1270249.2047302693,1270249.6449690443,1270264.0980024762,1270263.6577400486],[1270263.6577400486,1270264.0980024762,1270278.5510348566,1270278.1107487765],[1270278.1107487765,1270278.5510348566,1270293.004065134,1270292.5637554012],[1270292.5637554012,1270293.004065134,1270307.4570933082,1270307.016759923],[1270307.016759923,1270307.4570933082,1270321.9101193794,1270321.4697623416],[1270321.4697623416,1270321.9101193794,1270336.3631433472,1270335.9227626568],[1270335.9227626568,1270336.3631433472,1270350.8161652116,1270350.3757608687],[1270350.3757608687,1270350.8161652116,1270365.2691849726,1270364.8287569773],[1270364.8287569773,1270365.2691849726,1270379.72220263,1270379.281750982],[1270379.281750982,1270379.72220263,1270394.1752181833,1270393.7347428827],[1270393.7347428827,1270394.1752181833,1270408.628231633,1270408.1877326798],[1270408.1877326798,1270408.628231633,1270423.081242979,1270422.6407203733],[1270422.6407203733,1270423.081242979,1270437.5342522205,1270437.0937059624],[1270437.0937059624,1270437.5342522205,1270451.987259358,1270451.5466894472],[1270451.5466894472,1270451.987259358,1270466.440264391,1270465.9996708278],[1270465.9996708278,1270466.440264391,1270480.8932673198,1270480.4526501042],[1270480.4526501042,1270480.8932673198,1270495.346268144,1270494.9056272758],[1270494.9056272758,1270495.346268144,1270509.7992668631,1270509.3586023427],[1270509.3586023427,1270509.7992668631,1270524.252263478,1270523.811575305],[1270523.811575305,1270524.252263478,1270538.7052579878,1270538.2645461624],[1270538.2645461624,1270538.7052579878,1270553.1582503924,1270552.717514915],[1270552.717514915,1270553.1582503924,1270567.6112406922,1270567.1704815624],[1270567.1704815624,1270567.6112406922,1270582.064228887,1270581.6234461046],[1270581.6234461046,1270582.064228887,1270596.5172149763,1270596.0764085413],[1270596.0764085413,1270596.5172149763,1270610.9701989598,1270610.5293688728],[1270610.5293688728,1270610.9701989598,1270625.423181891,1270624.9823281518],[1270249.6449690443,1270250.085209922,1270264.5382670066,1270264.0980024762],[1270264.0980024762,1270264.5382670066,1270278.9913230399,1270278.5510348566],[1270278.5510348566,1270278.9913230399,1270293.4443769697,1270293.004065134],[1270293.004065134,1270293.4443769697,1270307.8974287966,1270307.4570933082],[1270307.4570933082,1270307.8974287966,1270322.3504785206,1270321.9101193794],[1270321.9101193794,1270322.3504785206,1270336.8035261412,1270336.3631433472],[1270336.3631433472,1270336.8035261412,1270351.2565716582,1270350.8161652116],[1270350.8161652116,1270351.2565716582,1270365.7096150718,1270365.2691849726],[1270365.2691849726,1270365.7096150718,1270380.1626563817,1270379.72220263],[1270379.72220263,1270380.1626563817,1270394.6156955878,1270394.1752181833],[1270394.1752181833,1270394.6156955878,1270409.0687326903,1270408.628231633],[1270408.628231633,1270409.0687326903,1270423.5217676887,1270423.081242979],[1270423.081242979,1270423.5217676887,1270437.974800583,1270437.5342522205],[1270437.5342522205,1270437.974800583,1270452.427831373,1270451.987259358],[1270451.987259358,1270452.427831373,1270466.8808600586,1270466.440264391],[1270466.440264391,1270466.8808600586,1270481.3338866397,1270480.8932673198],[1270480.8932673198,1270481.3338866397,1270495.7869111164,1270495.346268144],[1270495.346268144,1270495.7869111164,1270510.2399334884,1270509.7992668631],[1270509.7992668631,1270510.2399334884,1270524.6929537558,1270524.252263478],[1270524.252263478,1270524.6929537558,1270539.145971918,1270538.7052579878],[1270538.7052579878,1270539.145971918,1270553.5989879754,1270553.1582503924],[1270553.1582503924,1270553.5989879754,1270568.0520019275,1270567.6112406922],[1270567.6112406922,1270568.0520019275,1270582.5050137746,1270582.064228887],[1270582.064228887,1270582.5050137746,1270596.958023516,1270596.5172149763],[1270596.5172149763,1270596.958023516,1270611.4110311524,1270610.9701989598],[1270610.9701989598,1270611.4110311524,1270625.8640377356,1270625.423181891],[1270250.085209922,1270250.525452902,1270264.9785336396,1270264.5382670066],[1270264.5382670066,1270264.9785336396,1270279.4316133256,1270278.9913230399],[1270278.9913230399,1270279.4316133256,1270293.8846909087,1270293.4443769697],[1270293.4443769697,1270293.8846909087,1270308.3377663884,1270307.8974287966],[1270307.8974287966,1270308.3377663884,1270322.7908397652,1270322.3504785206],[1270322.3504785206,1270322.7908397652,1270337.2439110386,1270336.8035261412],[1270336.8035261412,1270337.2439110386,1270351.6969802084,1270351.2565716582],[1270351.2565716582,1270351.6969802084,1270366.1500472748,1270365.7096150718],[1270365.7096150718,1270366.1500472748,1270380.6031122373,1270380.1626563817],[1270380.1626563817,1270380.6031122373,1270395.0561750962,1270394.6156955878],[1270394.6156955878,1270395.0561750962,1270409.5092358515,1270409.0687326903],[1270409.0687326903,1270409.5092358515,1270423.9622945026,1270423.5217676887],[1270423.5217676887,1270423.9622945026,1270438.4153510495,1270437.974800583],[1270437.974800583,1270438.4153510495,1270452.868405492,1270452.427831373],[1270452.427831373,1270452.868405492,1270467.3214578305,1270466.8808600586],[1270466.8808600586,1270467.3214578305,1270481.7745080646,1270481.3338866397],[1270481.3338866397,1270481.7745080646,1270496.2275561937,1270495.7869111164],[1270495.7869111164,1270496.2275561937,1270510.6806022185,1270510.2399334884],[1270510.2399334884,1270510.6806022185,1270525.1336461382,1270524.6929537558],[1270524.6929537558,1270525.1336461382,1270539.5866879532,1270539.145971918],[1270539.145971918,1270539.5866879532,1270554.0397276632,1270553.5989879754],[1270553.5989879754,1270554.0397276632,1270568.4927652678,1270568.0520019275],[1270568.0520019275,1270568.4927652678,1270582.9458007675,1270582.5050137746],[1270582.5050137746,1270582.9458007675,1270597.3988341615,1270596.958023516],[1270596.958023516,1270597.3988341615,1270611.8518654504,1270611.4110311524],[1270611.4110311524,1270611.8518654504,1270626.3048956865,1270625.8640377356],[1270250.525452902,1270250.9656979854,1270265.4188023757,1270264.9785336396],[1270264.9785336396,1270265.4188023757,1270279.8719057147,1270279.4316133256],[1270279.4316133256,1270279.8719057147,1270294.3250069506,1270293.8846909087],[1270293.8846909087,1270294.3250069506,1270308.7781060832,1270308.3377663884],[1270308.3377663884,1270308.7781060832,1270323.231203113,1270322.7908397652],[1270322.7908397652,1270323.231203113,1270337.6842980392,1270337.2439110386],[1270337.2439110386,1270337.6842980392,1270352.1373908622,1270351.6969802084],[1270351.6969802084,1270352.1373908622,1270366.5904815812,1270366.1500472748],[1270366.1500472748,1270366.5904815812,1270381.0435701967,1270380.6031122373],[1270380.6031122373,1270381.0435701967,1270395.4966567087,1270395.0561750962],[1270395.0561750962,1270395.4966567087,1270409.9497411165,1270409.5092358515],[1270409.5092358515,1270409.9497411165,1270424.4028234205,1270423.9622945026],[1270423.9622945026,1270424.4028234205,1270438.8559036201,1270438.4153510495],[1270438.4153510495,1270438.8559036201,1270453.3089817157,1270452.868405492],[1270452.868405492,1270453.3089817157,1270467.7620577067,1270467.3214578305],[1270467.3214578305,1270467.7620577067,1270482.2151315936,1270481.7745080646],[1270481.7745080646,1270482.2151315936,1270496.6682033758,1270496.2275561937],[1270496.2275561937,1270496.6682033758,1270511.121273053,1270510.6806022185],[1270510.6806022185,1270511.121273053,1270525.5743406257,1270525.1336461382],[1270525.1336461382,1270525.5743406257,1270540.0274060932,1270539.5866879532],[1270539.5866879532,1270540.0274060932,1270554.480469456,1270554.0397276632],[1270554.0397276632,1270554.480469456,1270568.9335307134,1270568.4927652678],[1270568.4927652678,1270568.9335307134,1270583.386589866,1270582.9458007675],[1270582.9458007675,1270583.386589866,1270597.8396469126,1270597.3988341615],[1270597.3988341615,1270597.8396469126,1270612.2927018541,1270611.8518654504],[1270611.8518654504,1270612.2927018541,1270626.745755743,1270626.3048956865],[1270250.9656979854,1270251.4059451711,1270265.8590732145,1270265.4188023757],[1270265.4188023757,1270265.8590732145,1270280.3122002068,1270279.8719057147],[1270279.8719057147,1270280.3122002068,1270294.7653250957,1270294.3250069506],[1270294.3250069506,1270294.7653250957,1270309.2184478813,1270308.7781060832],[1270308.7781060832,1270309.2184478813,1270323.6715685641,1270323.231203113],[1270323.231203113,1270323.6715685641,1270338.1246871434,1270337.6842980392],[1270337.6842980392,1270338.1246871434,1270352.5778036192,1270352.1373908622],[1270352.1373908622,1270352.5778036192,1270367.0309179914,1270366.5904815812],[1270366.5904815812,1270367.0309179914,1270381.4840302602,1270381.0435701967],[1270381.0435701967,1270381.4840302602,1270395.937140425,1270395.4966567087],[1270395.4966567087,1270395.937140425,1270410.3902484856,1270409.9497411165],[1270409.9497411165,1270410.3902484856,1270424.8433544424,1270424.4028234205],[1270424.4028234205,1270424.8433544424,1270439.296458295,1270438.8559036201],[1270438.8559036201,1270439.296458295,1270453.7495600437,1270453.3089817157],[1270453.3089817157,1270453.7495600437,1270468.2026596875,1270467.7620577067],[1270467.7620577067,1270468.2026596875,1270482.6557572272,1270482.2151315936],[1270482.2151315936,1270482.6557572272,1270497.1088526621,1270496.6682033758],[1270496.6682033758,1270497.1088526621,1270511.5619459925,1270511.121273053],[1270511.121273053,1270511.5619459925,1270526.015037218,1270525.5743406257],[1270525.5743406257,1270526.015037218,1270540.4681263384,1270540.0274060932],[1270540.0274060932,1270540.4681263384,1270554.921213354,1270554.480469456],[1270554.480469456,1270554.921213354,1270569.3742982645,1270568.9335307134],[1270568.9335307134,1270569.3742982645,1270583.8273810695,1270583.386589866],[1270583.386589866,1270583.8273810695,1270598.2804617693,1270597.8396469126],[1270597.8396469126,1270598.2804617693,1270612.7335403634,1270612.2927018541],[1270612.2927018541,1270612.7335403634,1270627.1866179046,1270626.745755743],[1270251.4059451711,1270251.8461944596,1270266.2993461564,1270265.8590732145],[1270265.8590732145,1270266.2993461564,1270280.7524968018,1270280.3122002068],[1270280.3122002068,1270280.7524968018,1270295.205645344,1270294.7653250957],[1270294.7653250957,1270295.205645344,1270309.6587917828,1270309.2184478813],[1270309.2184478813,1270309.6587917828,1270324.1119361187,1270323.6715685641],[1270323.6715685641,1270324.1119361187,1270338.5650783512,1270338.1246871434],[1270338.1246871434,1270338.5650783512,1270353.01821848,1270352.5778036192],[1270352.5778036192,1270353.01821848,1270367.4713565055,1270367.0309179914],[1270367.0309179914,1270367.4713565055,1270381.9244924271,1270381.4840302602],[1270381.4840302602,1270381.9244924271,1270396.377626245,1270395.937140425],[1270395.937140425,1270396.377626245,1270410.8307579588,1270410.3902484856],[1270410.3902484856,1270410.8307579588,1270425.2838875684,1270424.8433544424],[1270424.8433544424,1270425.2838875684,1270439.7370150741,1270439.296458295],[1270439.296458295,1270439.7370150741,1270454.1901404758,1270453.7495600437],[1270453.7495600437,1270454.1901404758,1270468.643263773,1270468.2026596875],[1270468.2026596875,1270468.643263773,1270483.0963849656,1270482.6557572272],[1270482.6557572272,1270483.0963849656,1270497.5495040533,1270497.1088526621],[1270497.1088526621,1270497.5495040533,1270512.0026210365,1270511.5619459925],[1270511.5619459925,1270512.0026210365,1270526.455735915,1270526.015037218],[1270526.015037218,1270526.455735915,1270540.9088486887,1270540.4681263384],[1270540.4681263384,1270540.9088486887,1270555.361959357,1270554.921213354],[1270554.921213354,1270555.361959357,1270569.8150679206,1270569.3742982645],[1270569.3742982645,1270569.8150679206,1270584.2681743787,1270583.8273810695],[1270583.8273810695,1270584.2681743787,1270598.7212787312,1270598.2804617693],[1270598.2804617693,1270598.7212787312,1270613.174380978,1270612.7335403634],[1270612.7335403634,1270613.174380978,1270627.627482172,1270627.1866179046],[1270251.8461944596,1270252.286445851,1270266.7396212013,1270266.2993461564],[1270266.2993461564,1270266.7396212013,1270281.1927954997,1270280.7524968018],[1270280.7524968018,1270281.1927954997,1270295.6459676952,1270295.205645344],[1270295.205645344,1270295.6459676952,1270310.0991377877,1270309.6587917828],[1270309.6587917828,1270310.0991377877,1270324.5523057766,1270324.1119361187],[1270324.1119361187,1270324.5523057766,1270339.0054716622,1270338.5650783512],[1270338.5650783512,1270339.0054716622,1270353.4586354443,1270353.01821848],[1270353.01821848,1270353.4586354443,1270367.911797123,1270367.4713565055],[1270367.4713565055,1270367.911797123,1270382.364956698,1270381.9244924271],[1270381.9244924271,1270382.364956698,1270396.8181141687,1270396.377626245],[1270396.377626245,1270396.8181141687,1270411.271269536,1270410.8307579588],[1270410.8307579588,1270411.271269536,1270425.724422799,1270425.2838875684],[1270425.2838875684,1270425.724422799,1270440.177573958,1270439.7370150741],[1270439.7370150741,1270440.177573958,1270454.6307230124,1270454.1901404758],[1270454.1901404758,1270454.6307230124,1270469.0838699625,1270468.643263773],[1270468.643263773,1270469.0838699625,1270483.5370148085,1270483.0963849656],[1270483.0963849656,1270483.5370148085,1270497.9901575495,1270497.5495040533],[1270497.5495040533,1270497.9901575495,1270512.4432981857,1270512.0026210365],[1270512.0026210365,1270512.4432981857,1270526.8964367174,1270526.455735915],[1270526.455735915,1270526.8964367174,1270541.349573144,1270540.9088486887],[1270540.9088486887,1270541.349573144,1270555.8027074654,1270555.361959357],[1270555.361959357,1270555.8027074654,1270570.2558396817,1270569.8150679206],[1270569.8150679206,1270570.2558396817,1270584.7089697928,1270584.2681743787],[1270584.2681743787,1270584.7089697928,1270599.1620977987,1270598.7212787312],[1270598.7212787312,1270599.1620977987,1270613.6152236988,1270613.174380978],[1270613.174380978,1270613.6152236988,1270628.068348546,1270627.627482172],[1270252.286445851,1270252.7266993453,1270267.179898349,1270266.7396212013],[1270266.7396212013,1270267.179898349,1270281.6330963008,1270281.1927954997],[1270281.1927954997,1270281.6330963008,1270296.0862921497,1270295.6459676952],[1270295.6459676952,1270296.0862921497,1270310.5394858955,1270310.0991377877],[1270310.0991377877,1270310.5394858955,1270324.9926775377,1270324.5523057766],[1270324.5523057766,1270324.9926775377,1270339.4458670767,1270339.0054716622],[1270339.0054716622,1270339.4458670767,1270353.8990545124,1270353.4586354443],[1270353.4586354443,1270353.8990545124,1270368.3522398442,1270367.911797123],[1270367.911797123,1270368.3522398442,1270382.8054230725,1270382.364956698],[1270382.364956698,1270382.8054230725,1270397.2586041968,1270396.8181141687],[1270396.8181141687,1270397.2586041968,1270411.7117832173,1270411.271269536],[1270411.271269536,1270411.7117832173,1270426.1649601338,1270425.724422799],[1270425.724422799,1270426.1649601338,1270440.6181349456,1270440.177573958],[1270440.177573958,1270440.6181349456,1270455.0713076536,1270454.6307230124],[1270454.6307230124,1270455.0713076536,1270469.524478257,1270469.0838699625],[1270469.0838699625,1270469.524478257,1270483.977646756,1270483.5370148085],[1270483.5370148085,1270483.977646756,1270498.4308131505,1270497.9901575495],[1270497.9901575495,1270498.4308131505,1270512.8839774402,1270512.4432981857],[1270512.4432981857,1270512.8839774402,1270527.3371396246,1270526.8964367174],[1270526.8964367174,1270527.3371396246,1270541.7902997043,1270541.349573144],[1270541.349573144,1270541.7902997043,1270556.2434576792,1270555.8027074654],[1270555.8027074654,1270556.2434576792,1270570.6966135488,1270570.2558396817],[1270570.2558396817,1270570.6966135488,1270585.149767313,1270584.7089697928],[1270584.7089697928,1270585.149767313,1270599.6029189718,1270599.1620977987],[1270599.1620977987,1270599.6029189718,1270614.0560685247,1270613.6152236988],[1270613.6152236988,1270614.0560685247,1270628.5092170252,1270628.068348546],[1270252.7266993453,1270253.1669549425,1270267.6201775996,1270267.179898349],[1270267.179898349,1270267.6201775996,1270282.073399205,1270281.6330963008],[1270281.6330963008,1270282.073399205,1270296.5266187075,1270296.0862921497],[1270296.0862921497,1270296.5266187075,1270310.9798361068,1270310.5394858955],[1270310.5394858955,1270310.9798361068,1270325.4330514024,1270324.9926775377],[1270324.9926775377,1270325.4330514024,1270339.8862645952,1270339.4458670767],[1270339.4458670767,1270339.8862645952,1270354.3394756839,1270353.8990545124],[1270353.8990545124,1270354.3394756839,1270368.7926846694,1270368.3522398442],[1270368.3522398442,1270368.7926846694,1270383.245891551,1270382.8054230725],[1270382.8054230725,1270383.245891551,1270397.6990963286,1270397.2586041968],[1270397.2586041968,1270397.6990963286,1270412.1522990025,1270411.7117832173],[1270411.7117832173,1270412.1522990025,1270426.6054995724,1270426.1649601338],[1270426.1649601338,1270426.6054995724,1270441.0586980376,1270440.6181349456],[1270440.6181349456,1270441.0586980376,1270455.5118943988,1270455.0713076536],[1270455.0713076536,1270455.5118943988,1270469.9650886557,1270469.524478257],[1270469.524478257,1270469.9650886557,1270484.4182808083,1270483.977646756],[1270483.977646756,1270484.4182808083,1270498.871470856,1270498.4308131505],[1270498.4308131505,1270498.871470856,1270513.324658799,1270512.8839774402],[1270512.8839774402,1270513.324658799,1270527.777844637,1270527.3371396246],[1270527.3371396246,1270527.777844637,1270542.2310283696,1270541.7902997043],[1270541.7902997043,1270542.2310283696,1270556.6842099978,1270556.2434576792],[1270556.2434576792,1270556.6842099978,1270571.1373895206,1270570.6966135488],[1270570.6966135488,1270571.1373895206,1270585.5905669383,1270585.149767313],[1270585.149767313,1270585.5905669383,1270600.0437422502,1270599.6029189718],[1270599.6029189718,1270600.0437422502,1270614.4969154564,1270614.0560685247],[1270614.0560685247,1270614.4969154564,1270628.95008761,1270628.5092170252],[1270253.1669549425,1270253.6072126424,1270268.0604589528,1270267.6201775996],[1270267.6201775996,1270268.0604589528,1270282.5137042121,1270282.073399205],[1270282.073399205,1270282.5137042121,1270296.966947368,1270296.5266187075],[1270296.5266187075,1270296.966947368,1270311.420188421,1270310.9798361068],[1270310.9798361068,1270311.420188421,1270325.8734273706,1270325.4330514024],[1270325.4330514024,1270325.8734273706,1270340.3266642166,1270339.8862645952],[1270339.8862645952,1270340.3266642166,1270354.7798989592,1270354.3394756839],[1270354.3394756839,1270354.7798989592,1270369.2331315982,1270368.7926846694],[1270368.7926846694,1270369.2331315982,1270383.6863621334,1270383.245891551],[1270383.245891551,1270383.6863621334,1270398.1395905646,1270397.6990963286],[1270397.6990963286,1270398.1395905646,1270412.5928168918,1270412.1522990025],[1270412.1522990025,1270412.5928168918,1270427.0460411152,1270426.6054995724],[1270426.6054995724,1270427.0460411152,1270441.4992632342,1270441.0586980376],[1270441.0586980376,1270441.4992632342,1270455.952483249,1270455.5118943988],[1270455.5118943988,1270455.952483249,1270470.4057011593,1270469.9650886557],[1270469.9650886557,1270470.4057011593,1270484.8589169648,1270484.4182808083],[1270484.4182808083,1270484.8589169648,1270499.312130666,1270498.871470856],[1270498.871470856,1270499.312130666,1270513.7653422626,1270513.324658799],[1270513.324658799,1270513.7653422626,1270528.218551754,1270527.777844637],[1270527.777844637,1270528.218551754,1270542.6717591402,1270542.2310283696],[1270542.2310283696,1270542.6717591402,1270557.1249644216,1270556.6842099978],[1270556.6842099978,1270557.1249644216,1270571.5781675978,1270571.1373895206],[1270571.1373895206,1270571.5781675978,1270586.0313686687,1270585.5905669383],[1270585.5905669383,1270586.0313686687,1270600.484567634,1270600.0437422502],[1270600.0437422502,1270600.484567634,1270614.9377644937,1270614.4969154564],[1270614.4969154564,1270614.9377644937,1270629.3909603008,1270628.95008761],[1270253.6072126424,1270254.0474724453,1270268.5007424094,1270268.0604589528],[1270268.0604589528,1270268.5007424094,1270282.9540113225,1270282.5137042121],[1270282.5137042121,1270282.9540113225,1270297.4072781322,1270296.966947368],[1270296.966947368,1270297.4072781322,1270311.8605428385,1270311.420188421],[1270311.420188421,1270311.8605428385,1270326.3138054418,1270325.8734273706],[1270325.8734273706,1270326.3138054418,1270340.7670659418,1270340.3266642166],[1270340.3266642166,1270340.7670659418,1270355.220324338,1270354.7798989592],[1270354.7798989592,1270355.220324338,1270369.6735806307,1270369.2331315982],[1270369.2331315982,1270369.6735806307,1270384.1268348196,1270383.6863621334],[1270383.6863621334,1270384.1268348196,1270398.5800869043,1270398.1395905646],[1270398.1395905646,1270398.5800869043,1270413.0333368853,1270412.5928168918],[1270412.5928168918,1270413.0333368853,1270427.486584762,1270427.0460411152],[1270427.0460411152,1270427.486584762,1270441.9398305349,1270441.4992632342],[1270441.4992632342,1270441.9398305349,1270456.3930742033,1270455.952483249],[1270455.952483249,1270456.3930742033,1270470.8463157672,1270470.4057011593],[1270470.4057011593,1270470.8463157672,1270485.2995552265,1270484.8589169648],[1270484.8589169648,1270485.2995552265,1270499.7527925812,1270499.312130666],[1270499.312130666,1270499.7527925812,1270514.206027831,1270513.7653422626],[1270513.7653422626,1270514.206027831,1270528.6592609761,1270528.218551754],[1270528.218551754,1270528.6592609761,1270543.112492016,1270542.6717591402],[1270542.6717591402,1270543.112492016,1270557.565720951,1270557.1249644216],[1270557.1249644216,1270557.565720951,1270572.0189477806,1270571.5781675978],[1270571.5781675978,1270572.0189477806,1270586.4721725048,1270586.0313686687],[1270586.0313686687,1270586.4721725048,1270600.9253951237,1270600.484567634],[1270600.484567634,1270600.9253951237,1270615.378615637,1270614.9377644937],[1270614.9377644937,1270615.378615637,1270629.8318350974,1270629.3909603008],[1270254.0474724453,1270254.4877332998,1270268.9410269177,1270268.5007424094],[1270268.5007424094,1270268.9410269177,1270283.394319484,1270282.9540113225],[1270282.9540113225,1270283.394319484,1270297.8476099474,1270297.4072781322],[1270297.4072781322,1270297.8476099474,1270312.3008983084,1270311.8605428385],[1270311.8605428385,1270312.3008983084,1270326.7541845655,1270326.3138054418],[1270326.3138054418,1270326.7541845655,1270341.2074687188,1270340.7670659418],[1270340.7670659418,1270341.2074687188,1270355.660750769,1270355.220324338],[1270355.220324338,1270355.660750769,1270370.114030715,1270369.6735806307],[1270369.6735806307,1270370.114030715,1270384.5673085577,1270384.1268348196],[1270384.1268348196,1270384.5673085577,1270399.0205842962,1270398.5800869043],[1270398.5800869043,1270399.0205842962,1270413.4738579309,1270413.0333368853],[1270413.0333368853,1270413.4738579309,1270427.9271294614,1270427.486584762],[1270427.486584762,1270427.9271294614,1270442.3803988874,1270441.9398305349],[1270441.9398305349,1270442.3803988874,1270456.8336662096,1270456.3930742033],[1270456.3930742033,1270456.8336662096,1270471.2869314272,1270470.8463157672],[1270470.8463157672,1270471.2869314272,1270485.7401945402,1270485.2995552265],[1270485.2995552265,1270485.7401945402,1270500.1934555487,1270499.7527925812],[1270499.7527925812,1270500.1934555487,1270514.6467144522,1270514.206027831],[1270514.206027831,1270514.6467144522,1270529.0999712506,1270528.6592609761],[1270528.6592609761,1270529.0999712506,1270543.5532259443,1270543.112492016],[1270543.112492016,1270543.5532259443,1270558.006478533,1270557.565720951],[1270557.565720951,1270558.006478533,1270572.4597290158,1270572.0189477806],[1270572.0189477806,1270572.4597290158,1270586.9129773933,1270586.4721725048],[1270586.4721725048,1270586.9129773933,1270601.366223666,1270600.9253951237],[1270600.9253951237,1270601.366223666,1270615.819467833,1270615.378615637],[1270615.378615637,1270615.819467833,1270630.272710947,1270629.8318350974]],\"y\":{\"__ndarray__\":\"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\",\"dtype\":\"float64\",\"order\":\"little\",\"shape\":[546]},\"ys\":[[5835250.333067864,5835264.832312932,5835264.390654314,5835249.891411355],[5835249.891411355,5835264.390654314,5835263.948983835,5835249.449742977],[5835249.449742977,5835263.948983835,5835263.507289626,5835249.00805087],[5835249.00805087,5835263.507289626,5835263.065571688,5835248.566335041],[5835248.566335041,5835263.065571688,5835262.623830023,5835248.124595483],[5835248.124595483,5835262.623830023,5835262.18206463,5835247.682832193],[5835247.682832193,5835262.18206463,5835261.740275511,5835247.24104518],[5835247.24104518,5835261.740275511,5835261.298462663,5835246.799234437],[5835246.799234437,5835261.298462663,5835260.856626085,5835246.357399964],[5835246.357399964,5835260.856626085,5835260.414765783,5835245.915541768],[5835245.915541768,5835260.414765783,5835259.972881753,5835245.473659845],[5835245.473659845,5835259.972881753,5835259.530973995,5835245.031754194],[5835245.031754194,5835259.530973995,5835259.089042509,5835244.589824809],[5835244.589824809,5835259.089042509,5835258.647087295,5835244.147871703],[5835244.147871703,5835258.647087295,5835258.205108355,5835243.7058948735],[5835243.7058948735,5835258.205108355,5835257.763105687,5835243.263894312],[5835243.263894312,5835257.763105687,5835257.32107929,5835242.82187002],[5835242.82187002,5835257.32107929,5835256.879029167,5835242.379822004],[5835242.379822004,5835256.879029167,5835256.436955314,5835241.937750258],[5835241.937750258,5835256.436955314,5835255.994857734,5835241.495654782],[5835241.495654782,5835255.994857734,5835255.552736427,5835241.053535582],[5835241.053535582,5835255.552736427,5835255.110591393,5835240.611392653],[5835240.611392653,5835255.110591393,5835254.668422631,5835240.169226003],[5835240.169226003,5835254.668422631,5835254.226230141,5835239.727035617],[5835239.727035617,5835254.226230141,5835253.784013923,5835239.284821507],[5835239.284821507,5835253.784013923,5835253.341785848,5835238.84259554],[5835264.832312932,5835279.331569789,5835278.889909066,5835264.390654314],[5835264.390654314,5835278.889909066,5835278.44823648,5835263.948983835],[5835263.948983835,5835278.44823648,5835278.006540167,5835263.507289626],[5835263.507289626,5835278.006540167,5835277.564820124,5835263.065571688],[5835263.065571688,5835277.564820124,5835277.123076353,5835262.623830023],[5835262.623830023,5835277.123076353,5835276.681308854,5835262.18206463],[5835262.18206463,5835276.681308854,5835276.239517629,5835261.740275511],[5835261.740275511,5835276.239517629,5835275.797702678,5835261.298462663],[5835261.298462663,5835275.797702678,5835275.355863996,5835260.856626085],[5835260.856626085,5835275.355863996,5835274.914001586,5835260.414765783],[5835260.414765783,5835274.914001586,5835274.47211545,5835259.972881753],[5835259.972881753,5835274.47211545,5835274.030205586,5835259.530973995],[5835259.530973995,5835274.030205586,5835273.588271995,5835259.089042509],[5835259.089042509,5835273.588271995,5835273.146314674,5835258.647087295],[5835258.647087295,5835273.146314674,5835272.704333626,5835258.205108355],[5835258.205108355,5835272.704333626,5835272.26232885,5835257.763105687],[5835257.763105687,5835272.26232885,5835271.820300346,5835257.32107929],[5835257.32107929,5835271.820300346,5835271.378248116,5835256.879029167],[5835256.879029167,5835271.378248116,5835270.936172159,5835256.436955314],[5835256.436955314,5835270.936172159,5835270.494072473,5835255.994857734],[5835255.994857734,5835270.494072473,5835270.05194906,5835255.552736427],[5835255.552736427,5835270.05194906,5835269.609801918,5835255.110591393],[5835255.110591393,5835269.609801918,5835269.167631049,5835254.668422631],[5835254.668422631,5835269.167631049,5835268.72543645,5835254.226230141],[5835254.226230141,5835268.72543645,5835268.283218125,5835253.784013923],[5835253.784013923,5835268.283218125,5835267.840987941,5835253.341785848],[5835279.331569789,5835293.83085022,5835293.389187393,5835278.889909066],[5835278.889909066,5835293.389187393,5835292.947512701,5835278.44823648],[5835278.44823648,5835292.947512701,5835292.505814281,5835278.006540167],[5835278.006540167,5835292.505814281,5835292.064092133,5835277.564820124],[5835277.564820124,5835292.064092133,5835291.622346258,5835277.123076353],[5835277.123076353,5835291.622346258,5835291.180576655,5835276.681308854],[5835276.681308854,5835291.180576655,5835290.738783324,5835276.239517629],[5835276.239517629,5835290.738783324,5835290.296966266,5835275.797702678],[5835275.797702678,5835290.296966266,5835289.855125479,5835275.355863996],[5835275.355863996,5835289.855125479,5835289.413260965,5835274.914001586],[5835274.914001586,5835289.413260965,5835288.971372722,5835274.47211545],[5835274.47211545,5835288.971372722,5835288.5294607505,5835274.030205586],[5835274.030205586,5835288.5294607505,5835288.087525053,5835273.588271995],[5835273.588271995,5835288.087525053,5835287.645565627,5835273.146314674],[5835273.146314674,5835287.645565627,5835287.203582473,5835272.704333626],[5835272.704333626,5835287.203582473,5835286.761575592,5835272.26232885],[5835272.26232885,5835286.761575592,5835286.31954498,5835271.820300346],[5835271.820300346,5835286.31954498,5835285.877490641,5835271.378248116],[5835271.378248116,5835285.877490641,5835285.435412576,5835270.936172159],[5835270.936172159,5835285.435412576,5835284.993310785,5835270.494072473],[5835270.494072473,5835284.993310785,5835284.551185263,5835270.05194906],[5835270.05194906,5835284.551185263,5835284.109036016,5835269.609801918],[5835269.609801918,5835284.109036016,5835283.666863041,5835269.167631049],[5835269.167631049,5835283.666863041,5835283.224666335,5835268.72543645],[5835268.72543645,5835283.224666335,5835282.782445901,5835268.283218125],[5835268.283218125,5835282.782445901,5835282.340213606,5835267.840987941],[5835293.83085022,5835308.330154224,5835307.888489293,5835293.389187393],[5835293.389187393,5835307.888489293,5835307.4468124965,5835292.947512701],[5835292.947512701,5835307.4468124965,5835307.005111972,5835292.505814281],[5835292.505814281,5835307.005111972,5835306.563387718,5835292.064092133],[5835292.064092133,5835306.563387718,5835306.121639738,5835291.622346258],[5835291.622346258,5835306.121639738,5835305.67986803,5835291.180576655],[5835291.180576655,5835305.67986803,5835305.238072594,5835290.738783324],[5835290.738783324,5835305.238072594,5835304.79625343,5835290.296966266],[5835290.296966266,5835304.79625343,5835304.354410537,5835289.855125479],[5835289.855125479,5835304.354410537,5835303.912543916,5835289.413260965],[5835289.413260965,5835303.912543916,5835303.470653567,5835288.971372722],[5835288.971372722,5835303.470653567,5835303.02873949,5835288.5294607505],[5835288.5294607505,5835303.02873949,5835302.586801686,5835288.087525053],[5835288.087525053,5835302.586801686,5835302.144840154,5835287.645565627],[5835287.645565627,5835302.144840154,5835301.702854894,5835287.203582473],[5835287.203582473,5835301.702854894,5835301.260845907,5835286.761575592],[5835286.761575592,5835301.260845907,5835300.818813189,5835286.31954498],[5835286.31954498,5835300.818813189,5835300.376756743,5835285.877490641],[5835285.877490641,5835300.376756743,5835299.934676571,5835285.435412576],[5835285.435412576,5835299.934676571,5835299.492572672,5835284.993310785],[5835284.993310785,5835299.492572672,5835299.050445043,5835284.551185263],[5835284.551185263,5835299.050445043,5835298.608293688,5835284.109036016],[5835284.109036016,5835298.608293688,5835298.166118605,5835283.666863041],[5835283.666863041,5835298.166118605,5835297.723919793,5835283.224666335],[5835283.224666335,5835297.723919793,5835297.281697253,5835282.782445901],[5835282.782445901,5835297.281697253,5835296.83946285,5835282.340213606],[5835308.330154224,5835322.829481805,5835322.387814768,5835307.888489293],[5835307.888489293,5835322.387814768,5835321.946135867,5835307.4468124965],[5835307.4468124965,5835321.946135867,5835321.504433239,5835307.005111972],[5835307.005111972,5835321.504433239,5835321.062706879,5835306.563387718],[5835306.563387718,5835321.062706879,5835320.6209567925,5835306.121639738],[5835306.121639738,5835320.6209567925,5835320.179182979,5835305.67986803],[5835305.67986803,5835320.179182979,5835319.737385438,5835305.238072594],[5835305.238072594,5835319.737385438,5835319.295564169,5835304.79625343],[5835304.79625343,5835319.295564169,5835318.853719171,5835304.354410537],[5835304.354410537,5835318.853719171,5835318.411850443,5835303.912543916],[5835303.912543916,5835318.411850443,5835317.969957989,5835303.470653567],[5835303.470653567,5835317.969957989,5835317.528041806,5835303.02873949],[5835303.02873949,5835317.528041806,5835317.086101896,5835302.586801686],[5835302.586801686,5835317.086101896,5835316.644138256,5835302.144840154],[5835302.144840154,5835316.644138256,5835316.202150889,5835301.702854894],[5835301.702854894,5835316.202150889,5835315.760139795,5835301.260845907],[5835301.260845907,5835315.760139795,5835315.318104971,5835300.818813189],[5835300.818813189,5835315.318104971,5835314.876046419,5835300.376756743],[5835300.376756743,5835314.876046419,5835314.433964143,5835299.934676571],[5835299.934676571,5835314.433964143,5835313.991858135,5835299.492572672],[5835299.492572672,5835313.991858135,5835313.549728397,5835299.050445043],[5835299.050445043,5835313.549728397,5835313.107574934,5835298.608293688],[5835298.608293688,5835313.107574934,5835312.665397745,5835298.166118605],[5835298.166118605,5835312.665397745,5835312.223196827,5835297.723919793],[5835297.723919793,5835312.223196827,5835311.780972179,5835297.281697253],[5835297.281697253,5835311.780972179,5835311.338735672,5835296.83946285],[5835322.829481805,5835337.328832958,5835336.887163818,5835322.387814768],[5835322.387814768,5835336.887163818,5835336.445482813,5835321.946135867],[5835321.946135867,5835336.445482813,5835336.003778078,5835321.504433239],[5835321.504433239,5835336.003778078,5835335.562049613,5835321.062706879],[5835321.062706879,5835335.562049613,5835335.120297423,5835320.6209567925],[5835320.6209567925,5835335.120297423,5835334.678521503,5835320.179182979],[5835320.179182979,5835334.678521503,5835334.2367218565,5835319.737385438],[5835319.737385438,5835334.2367218565,5835333.794898482,5835319.295564169],[5835319.295564169,5835333.794898482,5835333.353051378,5835318.853719171],[5835318.853719171,5835333.353051378,5835332.9111805465,5835318.411850443],[5835318.411850443,5835332.9111805465,5835332.4692859845,5835317.969957989],[5835317.969957989,5835332.4692859845,5835332.027367696,5835317.528041806],[5835317.528041806,5835332.027367696,5835331.5854256805,5835317.086101896],[5835317.086101896,5835331.5854256805,5835331.143459935,5835316.644138256],[5835316.644138256,5835331.143459935,5835330.701470459,5835316.202150889],[5835316.202150889,5835330.701470459,5835330.2594572585,5835315.760139795],[5835315.760139795,5835330.2594572585,5835329.81742033,5835315.318104971],[5835315.318104971,5835329.81742033,5835329.375359671,5835314.876046419],[5835314.876046419,5835329.375359671,5835328.933275286,5835314.433964143],[5835314.433964143,5835328.933275286,5835328.491167171,5835313.991858135],[5835313.991858135,5835328.491167171,5835328.0490353275,5835313.549728397],[5835313.549728397,5835328.0490353275,5835327.606879757,5835313.107574934],[5835313.107574934,5835327.606879757,5835327.16470046,5835312.665397745],[5835312.665397745,5835327.16470046,5835326.722497434,5835312.223196827],[5835312.223196827,5835326.722497434,5835326.280270679,5835311.780972179],[5835311.780972179,5835326.280270679,5835325.838032061,5835311.338735672],[5835337.328832958,5835351.828207689,5835351.3865364455,5835336.887163818],[5835336.887163818,5835351.3865364455,5835350.944853335,5835336.445482813],[5835336.445482813,5835350.944853335,5835350.503146494,5835336.003778078],[5835336.003778078,5835350.503146494,5835350.061415926,5835335.562049613],[5835335.562049613,5835350.061415926,5835349.619661629,5835335.120297423],[5835335.120297423,5835349.619661629,5835349.177883605,5835334.678521503],[5835334.678521503,5835349.177883605,5835348.736081852,5835334.2367218565],[5835334.2367218565,5835348.736081852,5835348.2942563705,5835333.794898482],[5835333.794898482,5835348.2942563705,5835347.852407161,5835333.353051378],[5835333.353051378,5835347.852407161,5835347.410534224,5835332.9111805465],[5835332.9111805465,5835347.410534224,5835346.968637557,5835332.4692859845],[5835332.4692859845,5835346.968637557,5835346.526717162,5835332.027367696],[5835332.027367696,5835346.526717162,5835346.08477304,5835331.5854256805],[5835331.5854256805,5835346.08477304,5835345.64280519,5835331.143459935],[5835331.143459935,5835345.64280519,5835345.200813608,5835330.701470459],[5835330.701470459,5835345.200813608,5835344.758798299,5835330.2594572585],[5835330.2594572585,5835344.758798299,5835344.316759263,5835329.81742033],[5835329.81742033,5835344.316759263,5835343.874696499,5835329.375359671],[5835329.375359671,5835343.874696499,5835343.432610005,5835328.933275286],[5835328.933275286,5835343.432610005,5835342.990499783,5835328.491167171],[5835328.491167171,5835342.990499783,5835342.548365834,5835328.0490353275],[5835328.0490353275,5835342.548365834,5835342.106208157,5835327.606879757],[5835327.606879757,5835342.106208157,5835341.66402675,5835327.16470046],[5835327.16470046,5835341.66402675,5835341.221821618,5835326.722497434],[5835326.722497434,5835341.221821618,5835340.779592756,5835326.280270679],[5835326.280270679,5835340.779592756,5835340.33735203,5835325.838032061],[5835351.828207689,5835366.327605998,5835365.885932647,5835351.3865364455],[5835351.3865364455,5835365.885932647,5835365.444247431,5835350.944853335],[5835350.944853335,5835365.444247431,5835365.002538487,5835350.503146494],[5835350.503146494,5835365.002538487,5835364.560805814,5835350.061415926],[5835350.061415926,5835364.560805814,5835364.119049411,5835349.619661629],[5835349.619661629,5835364.119049411,5835363.677269282,5835349.177883605],[5835349.177883605,5835363.677269282,5835363.23546542,5835348.736081852],[5835348.736081852,5835363.23546542,5835362.7936378345,5835348.2942563705],[5835348.2942563705,5835362.7936378345,5835362.351786521,5835347.852407161],[5835347.852407161,5835362.351786521,5835361.909911477,5835347.410534224],[5835347.410534224,5835361.909911477,5835361.468012704,5835346.968637557],[5835346.968637557,5835361.468012704,5835361.026090203,5835346.526717162],[5835346.526717162,5835361.026090203,5835360.584143975,5835346.08477304],[5835346.08477304,5835360.584143975,5835360.142174018,5835345.64280519],[5835345.64280519,5835360.142174018,5835359.70018033,5835345.200813608],[5835345.200813608,5835359.70018033,5835359.258162916,5835344.758798299],[5835344.758798299,5835359.258162916,5835358.816121773,5835344.316759263],[5835344.316759263,5835358.816121773,5835358.374056901,5835343.874696499],[5835343.874696499,5835358.374056901,5835357.9319683,5835343.432610005],[5835343.432610005,5835357.9319683,5835357.489855972,5835342.990499783],[5835342.990499783,5835357.489855972,5835357.047719916,5835342.548365834],[5835342.548365834,5835357.047719916,5835356.605560131,5835342.106208157],[5835342.106208157,5835356.605560131,5835356.163376618,5835341.66402675],[5835341.66402675,5835356.163376618,5835355.72116938,5835341.221821618],[5835341.221821618,5835355.72116938,5835355.278938409,5835340.779592756],[5835340.779592756,5835355.278938409,5835354.836695574,5835340.33735203],[5835366.327605998,5835380.82702788,5835380.385352423,5835365.885932647],[5835365.885932647,5835380.385352423,5835379.943665102,5835365.444247431],[5835365.444247431,5835379.943665102,5835379.5019540535,5835365.002538487],[5835365.002538487,5835379.5019540535,5835379.060219275,5835364.560805814],[5835364.560805814,5835379.060219275,5835378.618460769,5835364.119049411],[5835364.119049411,5835378.618460769,5835378.176678533,5835363.677269282],[5835363.677269282,5835378.176678533,5835377.734872567,5835363.23546542],[5835363.23546542,5835377.734872567,5835377.293042874,5835362.7936378345],[5835362.7936378345,5835377.293042874,5835376.851189456,5835362.351786521],[5835362.351786521,5835376.851189456,5835376.409312305,5835361.909911477],[5835361.909911477,5835376.409312305,5835375.967411427,5835361.468012704],[5835361.468012704,5835375.967411427,5835375.525486819,5835361.026090203],[5835361.026090203,5835375.525486819,5835375.083538484,5835360.584143975],[5835360.584143975,5835375.083538484,5835374.641566419,5835360.142174018],[5835360.142174018,5835374.641566419,5835374.199570627,5835359.70018033],[5835359.70018033,5835374.199570627,5835373.757551106,5835359.258162916],[5835359.258162916,5835373.757551106,5835373.315507856,5835358.816121773],[5835358.816121773,5835373.315507856,5835372.8734408785,5835358.374056901],[5835358.374056901,5835372.8734408785,5835372.431350172,5835357.9319683],[5835357.9319683,5835372.431350172,5835371.989235736,5835357.489855972],[5835357.489855972,5835371.989235736,5835371.547097573,5835357.047719916],[5835357.047719916,5835371.547097573,5835371.10493568,5835356.605560131],[5835356.605560131,5835371.10493568,5835370.66275006,5835356.163376618],[5835356.163376618,5835370.66275006,5835370.220540712,5835355.72116938],[5835355.72116938,5835370.220540712,5835369.7783076335,5835355.278938409],[5835355.278938409,5835369.7783076335,5835369.336062694,5835354.836695574],[5835380.82702788,5835395.32647334,5835394.884795779,5835380.385352423],[5835380.385352423,5835394.884795779,5835394.443106351,5835379.943665102],[5835379.943665102,5835394.443106351,5835394.001393195,5835379.5019540535],[5835379.5019540535,5835394.001393195,5835393.559656313,5835379.060219275],[5835379.060219275,5835393.559656313,5835393.117895701,5835378.618460769],[5835378.618460769,5835393.117895701,5835392.676111361,5835378.176678533],[5835378.176678533,5835392.676111361,5835392.234303288,5835377.734872567],[5835377.734872567,5835392.234303288,5835391.792471491,5835377.293042874],[5835377.293042874,5835391.792471491,5835391.350615967,5835376.851189456],[5835376.851189456,5835391.350615967,5835390.9087367095,5835376.409312305],[5835376.409312305,5835390.9087367095,5835390.466833726,5835375.967411427],[5835375.967411427,5835390.466833726,5835390.024907012,5835375.525486819],[5835375.525486819,5835390.024907012,5835389.582956569,5835375.083538484],[5835375.083538484,5835389.582956569,5835389.140982399,5835374.641566419],[5835374.641566419,5835389.140982399,5835388.6989845,5835374.199570627],[5835374.199570627,5835388.6989845,5835388.256962871,5835373.757551106],[5835373.757551106,5835388.256962871,5835387.814917514,5835373.315507856],[5835373.315507856,5835387.814917514,5835387.3728484325,5835372.8734408785],[5835372.8734408785,5835387.3728484325,5835386.930755618,5835372.431350172],[5835372.431350172,5835386.930755618,5835386.488639075,5835371.989235736],[5835371.989235736,5835386.488639075,5835386.046498804,5835371.547097573],[5835371.547097573,5835386.046498804,5835385.604334804,5835371.10493568],[5835371.10493568,5835385.604334804,5835385.162147079,5835370.66275006],[5835370.66275006,5835385.162147079,5835384.719935622,5835370.220540712],[5835370.220540712,5835384.719935622,5835384.277700435,5835369.7783076335],[5835369.7783076335,5835384.277700435,5835383.835453389,5835369.336062694],[5835395.32647334,5835409.825942375,5835409.384262708,5835394.884795779],[5835394.884795779,5835409.384262708,5835408.942571176,5835394.443106351],[5835394.443106351,5835408.942571176,5835408.500855917,5835394.001393195],[5835394.001393195,5835408.500855917,5835408.059116928,5835393.559656313],[5835393.559656313,5835408.059116928,5835407.61735421,5835393.117895701],[5835393.117895701,5835407.61735421,5835407.175567764,5835392.676111361],[5835392.676111361,5835407.175567764,5835406.733757589,5835392.234303288],[5835392.234303288,5835406.733757589,5835406.291923684,5835391.792471491],[5835391.792471491,5835406.291923684,5835405.850066053,5835391.350615967],[5835391.350615967,5835405.850066053,5835405.40818469,5835390.9087367095],[5835390.9087367095,5835405.40818469,5835404.966279599,5835390.466833726],[5835390.466833726,5835404.966279599,5835404.52435078,5835390.024907012],[5835390.024907012,5835404.52435078,5835404.082398231,5835389.582956569],[5835389.582956569,5835404.082398231,5835403.640421954,5835389.140982399],[5835389.140982399,5835403.640421954,5835403.1984219495,5835388.6989845],[5835388.6989845,5835403.1984219495,5835402.756398214,5835388.256962871],[5835388.256962871,5835402.756398214,5835402.31435075,5835387.814917514],[5835387.814917514,5835402.31435075,5835401.87227956,5835387.3728484325],[5835387.3728484325,5835401.87227956,5835401.430184638,5835386.930755618],[5835386.930755618,5835401.430184638,5835400.988065988,5835386.488639075],[5835386.488639075,5835400.988065988,5835400.545923611,5835386.046498804],[5835386.046498804,5835400.545923611,5835400.103757505,5835385.604334804],[5835385.604334804,5835400.103757505,5835399.661567671,5835385.162147079],[5835385.162147079,5835399.661567671,5835399.219354108,5835384.719935622],[5835384.719935622,5835399.219354108,5835398.777116815,5835384.277700435],[5835384.277700435,5835398.777116815,5835398.334867658,5835383.835453389],[5835409.825942375,5835424.325434983,5835423.883753212,5835409.384262708],[5835409.384262708,5835423.883753212,5835423.4420595765,5835408.942571176],[5835408.942571176,5835423.4420595765,5835423.000342211,5835408.500855917],[5835408.500855917,5835423.000342211,5835422.558601117,5835408.059116928],[5835408.059116928,5835422.558601117,5835422.1168362945,5835407.61735421],[5835407.61735421,5835422.1168362945,5835421.675047742,5835407.175567764],[5835407.175567764,5835421.675047742,5835421.233235463,5835406.733757589],[5835406.733757589,5835421.233235463,5835420.791399453,5835406.291923684],[5835406.291923684,5835420.791399453,5835420.349539714,5835405.850066053],[5835405.850066053,5835420.349539714,5835419.907656246,5835405.40818469],[5835405.40818469,5835419.907656246,5835419.46574905,5835404.966279599],[5835404.966279599,5835419.46574905,5835419.023818125,5835404.52435078],[5835404.52435078,5835419.023818125,5835418.58186347,5835404.082398231],[5835404.082398231,5835418.58186347,5835418.139885087,5835403.640421954],[5835403.640421954,5835418.139885087,5835417.6978829745,5835403.1984219495],[5835403.1984219495,5835417.6978829745,5835417.255857133,5835402.756398214],[5835402.756398214,5835417.255857133,5835416.813807564,5835402.31435075],[5835402.31435075,5835416.813807564,5835416.371734266,5835401.87227956],[5835401.87227956,5835416.371734266,5835415.9296372365,5835401.430184638],[5835401.430184638,5835415.9296372365,5835415.48751648,5835400.988065988],[5835400.988065988,5835415.48751648,5835415.045371994,5835400.545923611],[5835400.545923611,5835415.045371994,5835414.603203781,5835400.103757505],[5835400.103757505,5835414.603203781,5835414.161011839,5835399.661567671],[5835399.661567671,5835414.161011839,5835413.7187961675,5835399.219354108],[5835399.219354108,5835413.7187961675,5835413.2765567675,5835398.777116815],[5835398.777116815,5835413.2765567675,5835412.834305505,5835398.334867658],[5835424.325434983,5835438.824951172,5835438.383267295,5835423.883753212],[5835423.883753212,5835438.383267295,5835437.941571552,5835423.4420595765],[5835423.4420595765,5835437.941571552,5835437.499852083,5835423.000342211],[5835423.000342211,5835437.499852083,5835437.058108885,5835422.558601117],[5835422.558601117,5835437.058108885,5835436.616341957,5835422.1168362945],[5835422.1168362945,5835436.616341957,5835436.174551299,5835421.675047742],[5835421.675047742,5835436.174551299,5835435.732736912,5835421.233235463],[5835421.233235463,5835435.732736912,5835435.290898797,5835420.791399453],[5835420.791399453,5835435.290898797,5835434.8490369525,5835420.349539714],[5835420.349539714,5835434.8490369525,5835434.407151379,5835419.907656246],[5835419.907656246,5835434.407151379,5835433.965242077,5835419.46574905],[5835419.46574905,5835433.965242077,5835433.5233090455,5835419.023818125],[5835419.023818125,5835433.5233090455,5835433.081352286,5835418.58186347],[5835418.58186347,5835433.081352286,5835432.639371796,5835418.139885087],[5835418.139885087,5835432.639371796,5835432.197367575,5835417.6978829745],[5835417.6978829745,5835432.197367575,5835431.755339628,5835417.255857133],[5835417.255857133,5835431.755339628,5835431.313287953,5835416.813807564],[5835416.813807564,5835431.313287953,5835430.871212548,5835416.371734266],[5835416.371734266,5835430.871212548,5835430.429113411,5835415.9296372365],[5835415.9296372365,5835430.429113411,5835429.986990548,5835415.48751648],[5835415.48751648,5835429.986990548,5835429.544843956,5835415.045371994],[5835415.045371994,5835429.544843956,5835429.102673633,5835414.603203781],[5835414.603203781,5835429.102673633,5835428.660479585,5835414.161011839],[5835414.161011839,5835428.660479585,5835428.218261806,5835413.7187961675],[5835413.7187961675,5835428.218261806,5835427.776020298,5835413.2765567675],[5835413.2765567675,5835427.776020298,5835427.333766924,5835412.834305505],[5835438.824951172,5835453.3244909365,5835452.882804953,5835438.383267295],[5835438.383267295,5835452.882804953,5835452.441107105,5835437.941571552],[5835437.941571552,5835452.441107105,5835451.999385532,5835437.499852083],[5835437.499852083,5835451.999385532,5835451.5576402275,5835437.058108885],[5835437.058108885,5835451.5576402275,5835451.115871193,5835436.616341957],[5835436.616341957,5835451.115871193,5835450.67407843,5835436.174551299],[5835436.174551299,5835450.67407843,5835450.232261937,5835435.732736912],[5835435.732736912,5835450.232261937,5835449.790421717,5835435.290898797],[5835435.290898797,5835449.790421717,5835449.348557765,5835434.8490369525],[5835434.8490369525,5835449.348557765,5835448.906670086,5835434.407151379],[5835434.407151379,5835448.906670086,5835448.464758679,5835433.965242077],[5835433.965242077,5835448.464758679,5835448.022823541,5835433.5233090455],[5835433.5233090455,5835448.022823541,5835447.580864674,5835433.081352286],[5835433.081352286,5835447.580864674,5835447.138882078,5835432.639371796],[5835432.639371796,5835447.138882078,5835446.696875753,5835432.197367575],[5835432.197367575,5835446.696875753,5835446.254845699,5835431.755339628],[5835431.755339628,5835446.254845699,5835445.812791915,5835431.313287953],[5835431.313287953,5835445.812791915,5835445.370714402,5835430.871212548],[5835430.871212548,5835445.370714402,5835444.928613161,5835430.429113411],[5835430.429113411,5835444.928613161,5835444.486488191,5835429.986990548],[5835429.986990548,5835444.486488191,5835444.044339493,5835429.544843956],[5835429.544843956,5835444.044339493,5835443.602167062,5835429.102673633],[5835429.102673633,5835443.602167062,5835443.159970906,5835428.660479585],[5835428.660479585,5835443.159970906,5835442.71775102,5835428.218261806],[5835428.218261806,5835442.71775102,5835442.275507404,5835427.776020298],[5835427.776020298,5835442.275507404,5835441.833251921,5835427.333766924],[5835453.3244909365,5835467.824054275,5835467.382366186,5835452.882804953],[5835452.882804953,5835467.382366186,5835466.940666234,5835452.441107105],[5835452.441107105,5835466.940666234,5835466.498942555,5835451.999385532],[5835451.999385532,5835466.498942555,5835466.057195146,5835451.5576402275],[5835451.5576402275,5835466.057195146,5835465.615424005,5835451.115871193],[5835451.115871193,5835465.615424005,5835465.173629137,5835450.67407843],[5835450.67407843,5835465.173629137,5835464.73181054,5835450.232261937],[5835450.232261937,5835464.73181054,5835464.289968213,5835449.790421717],[5835449.790421717,5835464.289968213,5835463.848102156,5835449.348557765],[5835449.348557765,5835463.848102156,5835463.406212372,5835448.906670086],[5835448.906670086,5835463.406212372,5835462.964298857,5835448.464758679],[5835448.464758679,5835462.964298857,5835462.522361614,5835448.022823541],[5835448.022823541,5835462.522361614,5835462.08040064,5835447.580864674],[5835447.580864674,5835462.08040064,5835461.638415938,5835447.138882078],[5835447.138882078,5835461.638415938,5835461.196407506,5835446.696875753],[5835446.696875753,5835461.196407506,5835460.754375345,5835446.254845699],[5835446.254845699,5835460.754375345,5835460.312319455,5835445.812791915],[5835445.812791915,5835460.312319455,5835459.870239835,5835445.370714402],[5835445.370714402,5835459.870239835,5835459.428136487,5835444.928613161],[5835444.928613161,5835459.428136487,5835458.98600941,5835444.486488191],[5835444.486488191,5835458.98600941,5835458.543858603,5835444.044339493],[5835444.044339493,5835458.543858603,5835458.101684067,5835443.602167062],[5835443.602167062,5835458.101684067,5835457.659485802,5835443.159970906],[5835443.159970906,5835457.659485802,5835457.217263808,5835442.71775102],[5835442.71775102,5835457.217263808,5835456.775018085,5835442.275507404],[5835442.275507404,5835456.775018085,5835456.332760498,5835441.833251921],[5835467.824054275,5835482.32364119,5835481.881950997,5835467.382366186],[5835467.382366186,5835481.881950997,5835481.440248938,5835466.940666234],[5835466.940666234,5835481.440248938,5835480.998523155,5835466.498942555],[5835466.498942555,5835480.998523155,5835480.556773641,5835466.057195146],[5835466.057195146,5835480.556773641,5835480.115000395,5835465.615424005],[5835465.615424005,5835480.115000395,5835479.673203422,5835465.173629137],[5835465.173629137,5835479.673203422,5835479.23138272,5835464.73181054],[5835464.73181054,5835479.23138272,5835478.789538287,5835464.289968213],[5835464.289968213,5835478.789538287,5835478.347670125,5835463.848102156],[5835463.848102156,5835478.347670125,5835477.905778233,5835463.406212372],[5835463.406212372,5835477.905778233,5835477.463862612,5835462.964298857],[5835462.964298857,5835477.463862612,5835477.021923263,5835462.522361614],[5835462.522361614,5835477.021923263,5835476.579960182,5835462.08040064],[5835462.08040064,5835476.579960182,5835476.137973374,5835461.638415938],[5835461.638415938,5835476.137973374,5835475.695962834,5835461.196407506],[5835461.196407506,5835475.695962834,5835475.253928566,5835460.754375345],[5835460.754375345,5835475.253928566,5835474.811870571,5835460.312319455],[5835460.312319455,5835474.811870571,5835474.369788844,5835459.870239835],[5835459.870239835,5835474.369788844,5835473.927683389,5835459.428136487],[5835459.428136487,5835473.927683389,5835473.485554203,5835458.98600941],[5835458.98600941,5835473.485554203,5835473.04340129,5835458.543858603],[5835458.543858603,5835473.04340129,5835472.601224648,5835458.101684067],[5835458.101684067,5835472.601224648,5835472.159024274,5835457.659485802],[5835457.659485802,5835472.159024274,5835471.716800174,5835457.217263808],[5835457.217263808,5835471.716800174,5835471.274552342,5835456.775018085],[5835456.775018085,5835471.274552342,5835470.832292648,5835456.332760498],[5835482.32364119,5835496.8232516805,5835496.381559386,5835481.881950997],[5835481.881950997,5835496.381559386,5835495.939855225,5835481.440248938],[5835481.440248938,5835495.939855225,5835495.498127335,5835480.998523155],[5835480.998523155,5835495.498127335,5835495.056375714,5835480.556773641],[5835480.556773641,5835495.056375714,5835494.614600364,5835480.115000395],[5835480.115000395,5835494.614600364,5835494.172801284,5835479.673203422],[5835479.673203422,5835494.172801284,5835493.730978476,5835479.23138272],[5835479.23138272,5835493.730978476,5835493.2891319385,5835478.789538287],[5835478.789538287,5835493.2891319385,5835492.847261669,5835478.347670125],[5835478.347670125,5835492.847261669,5835492.405367671,5835477.905778233],[5835477.905778233,5835492.405367671,5835491.963449944,5835477.463862612],[5835477.463862612,5835491.963449944,5835491.521508487,5835477.021923263],[5835477.021923263,5835491.521508487,5835491.079543302,5835476.579960182],[5835476.579960182,5835491.079543302,5835490.637554385,5835476.137973374],[5835476.137973374,5835490.637554385,5835490.19554174,5835475.695962834],[5835475.695962834,5835490.19554174,5835489.753505367,5835475.253928566],[5835475.253928566,5835489.753505367,5835489.311445263,5835474.811870571],[5835474.811870571,5835489.311445263,5835488.86936143,5835474.369788844],[5835474.369788844,5835488.86936143,5835488.427253868,5835473.927683389],[5835473.927683389,5835488.427253868,5835487.9851225745,5835473.485554203],[5835473.485554203,5835487.9851225745,5835487.542967556,5835473.04340129],[5835473.04340129,5835487.542967556,5835487.100788807,5835472.601224648],[5835472.601224648,5835487.100788807,5835486.658586326,5835472.159024274],[5835472.159024274,5835486.658586326,5835486.216360117,5835471.716800174],[5835471.716800174,5835486.216360117,5835485.7741101775,5835471.274552342],[5835471.274552342,5835485.7741101775,5835485.331848374,5835470.832292648],[5835496.8232516805,5835511.322885754,5835510.881191352,5835496.381559386],[5835496.381559386,5835510.881191352,5835510.439485085,5835495.939855225],[5835495.939855225,5835510.439485085,5835509.997755089,5835495.498127335],[5835495.498127335,5835509.997755089,5835509.556001363,5835495.056375714],[5835495.056375714,5835509.556001363,5835509.114223909,5835494.614600364],[5835494.614600364,5835509.114223909,5835508.672422723,5835494.172801284],[5835494.172801284,5835508.672422723,5835508.230597809,5835493.730978476],[5835493.730978476,5835508.230597809,5835507.788749164,5835493.2891319385],[5835493.2891319385,5835507.788749164,5835507.346876788,5835492.847261669],[5835492.847261669,5835507.346876788,5835506.904980685,5835492.405367671],[5835492.405367671,5835506.904980685,5835506.463060851,5835491.963449944],[5835491.963449944,5835506.463060851,5835506.02111729,5835491.521508487],[5835491.521508487,5835506.02111729,5835505.579149998,5835491.079543302],[5835491.079543302,5835505.579149998,5835505.137158975,5835490.637554385],[5835490.637554385,5835505.137158975,5835504.695144224,5835490.19554174],[5835490.19554174,5835504.695144224,5835504.253105743,5835489.753505367],[5835489.753505367,5835504.253105743,5835503.811043533,5835489.311445263],[5835489.311445263,5835503.811043533,5835503.368957594,5835488.86936143],[5835488.86936143,5835503.368957594,5835502.926847923,5835488.427253868],[5835488.427253868,5835502.926847923,5835502.484714523,5835487.9851225745],[5835487.9851225745,5835502.484714523,5835502.042557398,5835487.542967556],[5835487.542967556,5835502.042557398,5835501.600376541,5835487.100788807],[5835487.100788807,5835501.600376541,5835501.158171952,5835486.658586326],[5835486.658586326,5835501.158171952,5835500.715943636,5835486.216360117],[5835486.216360117,5835500.715943636,5835500.273691591,5835485.7741101775],[5835485.7741101775,5835500.273691591,5835499.831427677,5835485.331848374],[5835511.322885754,5835525.822543403,5835525.380846892,5835510.881191352],[5835510.881191352,5835525.380846892,5835524.939138519,5835510.439485085],[5835510.439485085,5835524.939138519,5835524.4974064175,5835509.997755089],[5835509.997755089,5835524.4974064175,5835524.055650586,5835509.556001363],[5835509.556001363,5835524.055650586,5835523.613871027,5835509.114223909],[5835509.114223909,5835523.613871027,5835523.172067736,5835508.672422723],[5835508.672422723,5835523.172067736,5835522.730240716,5835508.230597809],[5835508.230597809,5835522.730240716,5835522.288389964,5835507.788749164],[5835507.788749164,5835522.288389964,5835521.846515484,5835507.346876788],[5835507.346876788,5835521.846515484,5835521.404617276,5835506.904980685],[5835506.904980685,5835521.404617276,5835520.962695336,5835506.463060851],[5835506.463060851,5835520.962695336,5835520.520749668,5835506.02111729],[5835506.02111729,5835520.520749668,5835520.07878027,5835505.579149998],[5835505.579149998,5835520.07878027,5835519.636787143,5835505.137158975],[5835505.137158975,5835519.636787143,5835519.194770284,5835504.695144224],[5835504.695144224,5835519.194770284,5835518.752729695,5835504.253105743],[5835504.253105743,5835518.752729695,5835518.310665378,5835503.811043533],[5835503.811043533,5835518.310665378,5835517.868577332,5835503.368957594],[5835503.368957594,5835517.868577332,5835517.426465554,5835502.926847923],[5835502.926847923,5835517.426465554,5835516.984330049,5835502.484714523],[5835502.484714523,5835516.984330049,5835516.542170815,5835502.042557398],[5835502.042557398,5835516.542170815,5835516.09998785,5835501.600376541],[5835501.600376541,5835516.09998785,5835515.657781154,5835501.158171952],[5835501.158171952,5835515.657781154,5835515.21555073,5835500.715943636],[5835500.715943636,5835515.21555073,5835514.773296577,5835500.273691591],[5835500.273691591,5835514.773296577,5835514.33103056,5835499.831427677],[5835525.822543403,5835540.322224623,5835539.880526009,5835525.380846892],[5835525.380846892,5835539.880526009,5835539.438815532,5835524.939138519],[5835524.939138519,5835539.438815532,5835538.997081326,5835524.4974064175],[5835524.4974064175,5835538.997081326,5835538.555323389,5835524.055650586],[5835524.055650586,5835538.555323389,5835538.113541722,5835523.613871027],[5835523.613871027,5835538.113541722,5835537.671736327,5835523.172067736],[5835523.172067736,5835537.671736327,5835537.229907202,5835522.730240716],[5835522.730240716,5835537.229907202,5835536.788054345,5835522.288389964],[5835522.288389964,5835536.788054345,5835536.3461777605,5835521.846515484],[5835521.846515484,5835536.3461777605,5835535.904277444,5835521.404617276],[5835521.404617276,5835535.904277444,5835535.462353399,5835520.962695336],[5835520.962695336,5835535.462353399,5835535.020405624,5835520.520749668],[5835520.520749668,5835535.020405624,5835534.578434119,5835520.07878027],[5835520.07878027,5835534.578434119,5835534.136438885,5835519.636787143],[5835519.636787143,5835534.136438885,5835533.69441992,5835519.194770284],[5835519.194770284,5835533.69441992,5835533.252377227,5835518.752729695],[5835518.752729695,5835533.252377227,5835532.8103108015,5835518.310665378],[5835518.310665378,5835532.8103108015,5835532.368220647,5835517.868577332],[5835517.868577332,5835532.368220647,5835531.926106763,5835517.426465554],[5835517.426465554,5835531.926106763,5835531.48396915,5835516.984330049],[5835516.984330049,5835531.48396915,5835531.041807808,5835516.542170815],[5835516.542170815,5835531.041807808,5835530.599622736,5835516.09998785],[5835516.09998785,5835530.599622736,5835530.157413933,5835515.657781154],[5835515.657781154,5835530.157413933,5835529.715181401,5835515.21555073],[5835515.21555073,5835529.715181401,5835529.272925141,5835514.773296577],[5835514.773296577,5835529.272925141,5835528.830657016,5835514.33103056],[5835540.322224623,5835554.821917633,5835554.38021692,5835539.880526009],[5835539.880526009,5835554.38021692,5835553.938504336,5835539.438815532],[5835539.438815532,5835553.938504336,5835553.496768028,5835538.997081326],[5835538.997081326,5835553.496768028,5835553.055007986,5835538.555323389],[5835538.555323389,5835553.055007986,5835552.613224208,5835538.113541722],[5835538.113541722,5835552.613224208,5835552.171416706,5835537.671736327],[5835537.671736327,5835552.171416706,5835551.729585474,5835537.229907202],[5835537.229907202,5835551.729585474,5835551.287730513,5835536.788054345],[5835536.788054345,5835551.287730513,5835550.845851824,5835536.3461777605],[5835536.3461777605,5835550.845851824,5835550.403949402,5835535.904277444],[5835535.904277444,5835550.403949402,5835549.962023249,5835535.462353399],[5835535.462353399,5835549.962023249,5835549.520073369,5835535.020405624],[5835535.020405624,5835549.520073369,5835549.078099756,5835534.578434119],[5835534.578434119,5835549.078099756,5835548.636102415,5835534.136438885],[5835534.136438885,5835548.636102415,5835548.194081344,5835533.69441992],[5835533.69441992,5835548.194081344,5835547.752036544,5835533.252377227],[5835533.252377227,5835547.752036544,5835547.309968011,5835532.8103108015],[5835532.8103108015,5835547.309968011,5835546.86787575,5835532.368220647],[5835532.368220647,5835546.86787575,5835546.425759758,5835531.926106763],[5835531.926106763,5835546.425759758,5835545.983620036,5835531.48396915],[5835531.48396915,5835545.983620036,5835545.5414565895,5835531.041807808],[5835531.041807808,5835545.5414565895,5835545.099269412,5835530.599622736],[5835530.599622736,5835545.099269412,5835544.657058498,5835530.157413933],[5835530.157413933,5835544.657058498,5835544.214823863,5835529.715181401],[5835529.715181401,5835544.214823863,5835543.772565496,5835529.272925141],[5835529.272925141,5835543.772565496,5835543.3302952545,5835528.830657016]]},\"selected\":{\"id\":\"1294\"},\"selection_policy\":{\"id\":\"1307\"}},\"id\":\"1293\",\"type\":\"ColumnDataSource\"},{\"attributes\":{},\"id\":\"1254\",\"type\":\"ResetTool\"},{\"attributes\":{\"children\":[{\"id\":\"1646\"},{\"id\":\"1647\"},{\"id\":\"1651\"}],\"margin\":[0,0,0,0],\"name\":\"Column03212\"},\"id\":\"1645\",\"type\":\"Column\"},{\"attributes\":{\"children\":[{\"id\":\"1649\"},{\"id\":\"1650\"}],\"margin\":[0,0,0,0],\"min_width\":290,\"name\":\"Column03207\",\"width\":290},\"id\":\"1648\",\"type\":\"Column\"},{\"attributes\":{\"margin\":[5,5,5,5],\"name\":\"HSpacer03214\",\"sizing_mode\":\"stretch_width\"},\"id\":\"1644\",\"type\":\"Spacer\"},{\"attributes\":{},\"id\":\"1031\",\"type\":\"BasicTicker\"},{\"attributes\":{\"active_drag\":\"auto\",\"active_inspect\":\"auto\",\"active_multi\":null,\"active_scroll\":\"auto\",\"active_tap\":\"auto\",\"tools\":[{\"id\":\"1230\"},{\"id\":\"1251\"},{\"id\":\"1252\"},{\"id\":\"1253\"},{\"id\":\"1254\"}]},\"id\":\"1256\",\"type\":\"Toolbar\"},{\"attributes\":{\"axis\":{\"id\":\"1026\"},\"ticker\":{\"id\":\"1027\"}},\"id\":\"1029\",\"type\":\"Grid\"},{\"attributes\":{\"axis\":{\"id\":\"1030\"},\"dimension\":1,\"ticker\":{\"id\":\"1031\"}},\"id\":\"1033\",\"type\":\"Grid\"},{\"attributes\":{\"code\":\"\\n        var projections = Bokeh.require(\\\"core/util/projections\\\");\\n        var x = special_vars.data_x\\n        var y = special_vars.data_y\\n        if (projections.wgs84_mercator.invert == null) {\\n          var coords = projections.wgs84_mercator.inverse([x, y])\\n        } else {\\n          var coords = projections.wgs84_mercator.invert(x, y)\\n        }\\n        return \\\"\\\" + (coords[0]).toFixed(4)\\n    \"},\"id\":\"1303\",\"type\":\"CustomJSHover\"},{\"attributes\":{\"callback\":null,\"formatters\":{\"@{x}\":\"datetime\"},\"renderers\":[{\"id\":\"1070\"}],\"tags\":[\"hv_created\"],\"tooltips\":[[\"t\",\"@{t}\"],[\"NDVI_m_std\",\"@{NDVI_m_std}\"],[\"NDVI_p_std\",\"@{NDVI_p_std}\"]]},\"id\":\"1014\",\"type\":\"HoverTool\"},{\"attributes\":{},\"id\":\"1035\",\"type\":\"PanTool\"},{\"attributes\":{\"axis_label\":\"y\",\"bounds\":\"auto\",\"formatter\":{\"id\":\"1268\"},\"major_label_orientation\":\"horizontal\",\"ticker\":{\"id\":\"1267\"}},\"id\":\"1246\",\"type\":\"LinearAxis\"},{\"attributes\":{\"children\":[{\"id\":\"1374\"},{\"id\":\"1373\"}]},\"id\":\"1375\",\"type\":\"Column\"},{\"attributes\":{\"months\":[0,4,8]},\"id\":\"1086\",\"type\":\"MonthsTicker\"},{\"attributes\":{\"axis\":{\"id\":\"1246\"},\"dimension\":1,\"grid_line_color\":null,\"ticker\":null},\"id\":\"1249\",\"type\":\"Grid\"},{\"attributes\":{},\"id\":\"1088\",\"type\":\"YearsTicker\"},{\"attributes\":{\"data\":{\"x\":{\"__ndarray__\":\"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\",\"dtype\":\"float64\",\"order\":\"little\",\"shape\":[566]},\"y\":{\"__ndarray__\":\"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\",\"dtype\":\"float64\",\"order\":\"little\",\"shape\":[566]}},\"selected\":{\"id\":\"1065\"},\"selection_policy\":{\"id\":\"1091\"}},\"id\":\"1064\",\"type\":\"ColumnDataSource\"},{\"attributes\":{\"num_minor_ticks\":5,\"tickers\":[{\"id\":\"1077\"},{\"id\":\"1078\"},{\"id\":\"1079\"},{\"id\":\"1080\"},{\"id\":\"1081\"},{\"id\":\"1082\"},{\"id\":\"1083\"},{\"id\":\"1084\"},{\"id\":\"1085\"},{\"id\":\"1086\"},{\"id\":\"1087\"},{\"id\":\"1088\"}]},\"id\":\"1027\",\"type\":\"DatetimeTicker\"},{\"attributes\":{\"source\":{\"id\":\"1293\"}},\"id\":\"1299\",\"type\":\"CDSView\"},{\"attributes\":{\"bar_line_color\":\"black\",\"color_mapper\":{\"id\":\"1292\"},\"formatter\":{\"id\":\"1306\"},\"label_standoff\":8,\"location\":[0,0],\"major_tick_line_color\":\"black\",\"ticker\":{\"id\":\"1300\"}},\"id\":\"1301\",\"type\":\"ColorBar\"},{\"attributes\":{\"margin\":[5,5,5,5],\"name\":\"HSpacer03213\",\"sizing_mode\":\"stretch_width\"},\"id\":\"1004\",\"type\":\"Spacer\"},{\"attributes\":{\"match_aspect\":true,\"overlay\":{\"id\":\"1255\"}},\"id\":\"1253\",\"type\":\"BoxZoomTool\"},{\"attributes\":{\"fill_alpha\":{\"value\":0.1},\"fill_color\":{\"value\":\"orange\"},\"line_alpha\":{\"value\":0.1},\"line_color\":{\"value\":\"orange\"},\"size\":{\"units\":\"screen\",\"value\":5.477225575051661},\"x\":{\"field\":\"t\"},\"y\":{\"field\":\"iCor_NDVI\"}},\"id\":\"1060\",\"type\":\"Scatter\"},{\"attributes\":{},\"id\":\"1294\",\"type\":\"Selection\"},{\"attributes\":{\"overlay\":{\"id\":\"1039\"}},\"id\":\"1037\",\"type\":\"BoxZoomTool\"},{\"attributes\":{\"toolbar\":{\"id\":\"1371\"},\"toolbar_location\":\"above\"},\"id\":\"1372\",\"type\":\"ToolbarBox\"},{\"attributes\":{},\"id\":\"1038\",\"type\":\"ResetTool\"},{\"attributes\":{\"end\":5835586.419848643,\"min_interval\":5,\"reset_end\":5835586.419848643,\"reset_start\":5835207.244664529,\"start\":5835207.244664529,\"tags\":[[[\"y\",\"y\",null]]]},\"id\":\"1227\",\"type\":\"Range1d\"},{\"attributes\":{\"children\":[[{\"id\":\"1017\"},0,0],[{\"id\":\"1233\"},0,1]]},\"id\":\"1370\",\"type\":\"GridBox\"},{\"attributes\":{},\"id\":\"1307\",\"type\":\"UnionRenderers\"},{\"attributes\":{\"fill_alpha\":0.2,\"fill_color\":\"#30a2da\",\"line_alpha\":0.2,\"x\":{\"field\":\"x\"},\"y\":{\"field\":\"y\"}},\"id\":\"1069\",\"type\":\"Patch\"},{\"attributes\":{\"fill_color\":{\"field\":\"iCor_NDVI\",\"transform\":{\"id\":\"1292\"}},\"line_alpha\":{\"value\":0},\"line_color\":{\"value\":\"#1f77b4\"},\"xs\":{\"field\":\"xs\"},\"ys\":{\"field\":\"ys\"}},\"id\":\"1296\",\"type\":\"Patches\"},{\"attributes\":{\"attribution\":\"&copy; <a href=\\\"https://www.openstreetmap.org/copyright\\\">OpenStreetMap</a> contributors\",\"url\":\"http://c.tile.openstreetmap.org/{Z}/{X}/{Y}.png\"},\"id\":\"1285\",\"type\":\"WMTSTileSource\"},{\"attributes\":{\"end\":1.0319725409150124,\"reset_end\":1.0319725409150124,\"reset_start\":-0.24630907028913498,\"start\":-0.24630907028913498,\"tags\":[[[\"iCor_NDVI\",\"iCor_NDVI\",null]]]},\"id\":\"1012\",\"type\":\"Range1d\"},{\"attributes\":{},\"id\":\"1065\",\"type\":\"Selection\"},{\"attributes\":{},\"id\":\"1240\",\"type\":\"LinearScale\"},{\"attributes\":{\"client_comm_id\":\"25911b50f56f409fa9fd76e53a9087cf\",\"comm_id\":\"caeaccae99f742f689c29c63db7ce12d\",\"plot_id\":\"1003\"},\"id\":\"1734\",\"type\":\"panel.models.comm_manager.CommManager\"},{\"attributes\":{\"source\":{\"id\":\"1056\"}},\"id\":\"1063\",\"type\":\"CDSView\"},{\"attributes\":{},\"id\":\"1091\",\"type\":\"UnionRenderers\"},{\"attributes\":{},\"id\":\"1053\",\"type\":\"BasicTickFormatter\"},{\"attributes\":{\"axis_label\":\"t\",\"bounds\":\"auto\",\"formatter\":{\"id\":\"1051\"},\"major_label_orientation\":\"horizontal\",\"ticker\":{\"id\":\"1027\"}},\"id\":\"1026\",\"type\":\"DatetimeAxis\"},{\"attributes\":{\"fill_alpha\":0.2,\"fill_color\":\"#30a2da\",\"line_alpha\":0.2,\"x\":{\"field\":\"x\"},\"y\":{\"field\":\"y\"}},\"id\":\"1067\",\"type\":\"Patch\"},{\"attributes\":{\"dimension\":\"lat\",\"precision\":\"auto\"},\"id\":\"1268\",\"type\":\"MercatorTickFormatter\"},{\"attributes\":{\"callback\":null,\"formatters\":{\"@{t}\":\"datetime\"},\"renderers\":[{\"id\":\"1062\"}],\"tags\":[\"hv_created\"],\"tooltips\":[[\"t\",\"@{t}{%F %T}\"],[\"iCor_NDVI\",\"@{iCor_NDVI}\"]]},\"id\":\"1013\",\"type\":\"HoverTool\"},{\"attributes\":{\"code\":\"\\n        var projections = Bokeh.require(\\\"core/util/projections\\\");\\n        var x = special_vars.data_x\\n        var y = special_vars.data_y\\n        if (projections.wgs84_mercator.invert == null) {\\n          var coords = projections.wgs84_mercator.inverse([x, y])\\n        } else {\\n          var coords = projections.wgs84_mercator.invert(x, y)\\n        }\\n        return \\\"\\\" + (coords[1]).toFixed(4)\\n    \"},\"id\":\"1304\",\"type\":\"CustomJSHover\"},{\"attributes\":{\"text\":\"\",\"text_color\":{\"value\":\"black\"},\"text_font_size\":{\"value\":\"12pt\"}},\"id\":\"1234\",\"type\":\"Title\"},{\"attributes\":{\"args\":{\"bidirectional\":false,\"properties\":{},\"source\":{\"id\":\"1650\"},\"target\":{\"id\":\"1649\"}},\"code\":\"try { \\n    var labels = ['t: <b>2016-05-22 00:00:00</b>', 't: <b>2016-06-18 00:00:00</b>', 't: <b>2016-06-21 00:00:00</b>', 't: <b>2016-06-28 00:00:00</b>', 't: <b>2016-07-01 00:00:00</b>', 't: <b>2016-07-11 00:00:00</b>', 't: <b>2016-07-18 00:00:00</b>', 't: <b>2016-08-07 00:00:00</b>', 't: <b>2016-08-17 00:00:00</b>', 't: <b>2016-08-27 00:00:00</b>', 't: <b>2016-09-06 00:00:00</b>', 't: <b>2016-09-09 00:00:00</b>', 't: <b>2016-09-19 00:00:00</b>', 't: <b>2016-09-26 00:00:00</b>', 't: <b>2016-09-29 00:00:00</b>', 't: <b>2016-10-06 00:00:00</b>', 't: <b>2016-10-16 00:00:00</b>', 't: <b>2016-10-29 00:00:00</b>', 't: <b>2016-11-15 00:00:00</b>', 't: <b>2016-11-28 00:00:00</b>', 't: <b>2016-12-05 00:00:00</b>', 't: <b>2016-12-08 00:00:00</b>', 't: <b>2016-12-15 00:00:00</b>', 't: <b>2016-12-25 00:00:00</b>', 't: <b>2016-12-28 00:00:00</b>', 't: <b>2017-01-04 00:00:00</b>', 't: <b>2017-01-07 00:00:00</b>', 't: <b>2017-01-24 00:00:00</b>', 't: <b>2017-01-27 00:00:00</b>', 't: <b>2017-02-13 00:00:00</b>', 't: <b>2017-02-16 00:00:00</b>', 't: <b>2017-02-23 00:00:00</b>', 't: <b>2017-02-26 00:00:00</b>', 't: <b>2017-03-05 00:00:00</b>', 't: <b>2017-03-08 00:00:00</b>', 't: <b>2017-03-25 00:00:00</b>', 't: <b>2017-03-28 00:00:00</b>', 't: <b>2017-04-07 00:00:00</b>', 't: <b>2017-04-14 00:00:00</b>', 't: <b>2017-04-17 00:00:00</b>', 't: <b>2017-05-14 00:00:00</b>', 't: <b>2017-05-17 00:00:00</b>', 't: <b>2017-05-24 00:00:00</b>', 't: <b>2017-05-27 00:00:00</b>', 't: <b>2017-06-03 00:00:00</b>', 't: <b>2017-06-13 00:00:00</b>', 't: <b>2017-06-16 00:00:00</b>', 't: <b>2017-06-23 00:00:00</b>', 't: <b>2017-06-26 00:00:00</b>', 't: <b>2017-07-01 00:00:00</b>', 't: <b>2017-07-03 00:00:00</b>', 't: <b>2017-07-06 00:00:00</b>', 't: <b>2017-07-08 00:00:00</b>', 't: <b>2017-07-11 00:00:00</b>', 't: <b>2017-07-13 00:00:00</b>', 't: <b>2017-07-16 00:00:00</b>', 't: <b>2017-07-18 00:00:00</b>', 't: <b>2017-07-21 00:00:00</b>', 't: <b>2017-07-23 00:00:00</b>', 't: <b>2017-07-28 00:00:00</b>', 't: <b>2017-07-31 00:00:00</b>', 't: <b>2017-08-02 00:00:00</b>', 't: <b>2017-08-05 00:00:00</b>', 't: <b>2017-08-07 00:00:00</b>', 't: <b>2017-08-12 00:00:00</b>', 't: <b>2017-08-15 00:00:00</b>', 't: <b>2017-08-17 00:00:00</b>', 't: <b>2017-08-20 00:00:00</b>', 't: <b>2017-08-22 00:00:00</b>', 't: <b>2017-08-25 00:00:00</b>', 't: <b>2017-08-27 00:00:00</b>', 't: <b>2017-08-30 00:00:00</b>', 't: <b>2017-09-04 00:00:00</b>', 't: <b>2017-09-06 00:00:00</b>', 't: <b>2017-09-21 00:00:00</b>', 't: <b>2017-09-26 00:00:00</b>', 't: <b>2017-10-06 00:00:00</b>', 't: <b>2017-10-09 00:00:00</b>', 't: <b>2017-10-11 00:00:00</b>', 't: <b>2017-10-14 00:00:00</b>', 't: <b>2017-10-16 00:00:00</b>', 't: <b>2017-10-19 00:00:00</b>', 't: <b>2017-10-21 00:00:00</b>', 't: <b>2017-10-24 00:00:00</b>', 't: <b>2017-10-26 00:00:00</b>', 't: <b>2017-10-31 00:00:00</b>', 't: <b>2017-11-03 00:00:00</b>', 't: <b>2017-11-08 00:00:00</b>', 't: <b>2017-11-15 00:00:00</b>', 't: <b>2017-11-18 00:00:00</b>', 't: <b>2017-11-20 00:00:00</b>', 't: <b>2017-12-03 00:00:00</b>', 't: <b>2017-12-05 00:00:00</b>', 't: <b>2017-12-13 00:00:00</b>', 't: <b>2017-12-20 00:00:00</b>', 't: <b>2017-12-23 00:00:00</b>', 't: <b>2017-12-25 00:00:00</b>', 't: <b>2017-12-28 00:00:00</b>', 't: <b>2018-01-02 00:00:00</b>', 't: <b>2018-01-09 00:00:00</b>', 't: <b>2018-01-12 00:00:00</b>', 't: <b>2018-01-19 00:00:00</b>', 't: <b>2018-01-22 00:00:00</b>', 't: <b>2018-01-24 00:00:00</b>', 't: <b>2018-01-27 00:00:00</b>', 't: <b>2018-01-29 00:00:00</b>', 't: <b>2018-02-11 00:00:00</b>', 't: <b>2018-02-16 00:00:00</b>', 't: <b>2018-02-18 00:00:00</b>', 't: <b>2018-02-26 00:00:00</b>', 't: <b>2018-02-28 00:00:00</b>', 't: <b>2018-03-08 00:00:00</b>', 't: <b>2018-03-20 00:00:00</b>', 't: <b>2018-03-23 00:00:00</b>', 't: <b>2018-03-25 00:00:00</b>', 't: <b>2018-03-28 00:00:00</b>', 't: <b>2018-03-30 00:00:00</b>', 't: <b>2018-04-02 00:00:00</b>', 't: <b>2018-04-07 00:00:00</b>', 't: <b>2018-04-14 00:00:00</b>', 't: <b>2018-04-17 00:00:00</b>', 't: <b>2018-04-19 00:00:00</b>', 't: <b>2018-04-22 00:00:00</b>', 't: <b>2018-04-24 00:00:00</b>', 't: <b>2018-05-17 00:00:00</b>', 't: <b>2018-06-01 00:00:00</b>', 't: <b>2018-06-06 00:00:00</b>', 't: <b>2018-06-16 00:00:00</b>', 't: <b>2018-06-18 00:00:00</b>', 't: <b>2018-06-21 00:00:00</b>', 't: <b>2018-06-23 00:00:00</b>', 't: <b>2018-06-26 00:00:00</b>', 't: <b>2018-07-01 00:00:00</b>', 't: <b>2018-07-03 00:00:00</b>', 't: <b>2018-07-08 00:00:00</b>', 't: <b>2018-07-11 00:00:00</b>', 't: <b>2018-07-13 00:00:00</b>', 't: <b>2018-07-16 00:00:00</b>', 't: <b>2018-07-18 00:00:00</b>', 't: <b>2018-07-23 00:00:00</b>', 't: <b>2018-07-28 00:00:00</b>', 't: <b>2018-07-31 00:00:00</b>', 't: <b>2018-08-05 00:00:00</b>', 't: <b>2018-08-07 00:00:00</b>', 't: <b>2018-08-12 00:00:00</b>', 't: <b>2018-08-15 00:00:00</b>', 't: <b>2018-08-17 00:00:00</b>', 't: <b>2018-08-20 00:00:00</b>', 't: <b>2018-08-22 00:00:00</b>', 't: <b>2018-08-25 00:00:00</b>', 't: <b>2018-08-27 00:00:00</b>', 't: <b>2018-09-04 00:00:00</b>', 't: <b>2018-09-06 00:00:00</b>', 't: <b>2018-09-09 00:00:00</b>', 't: <b>2018-09-11 00:00:00</b>', 't: <b>2018-09-14 00:00:00</b>', 't: <b>2018-09-16 00:00:00</b>', 't: <b>2018-09-19 00:00:00</b>', 't: <b>2018-09-21 00:00:00</b>', 't: <b>2018-09-24 00:00:00</b>', 't: <b>2018-09-26 00:00:00</b>', 't: <b>2018-09-29 00:00:00</b>', 't: <b>2018-10-04 00:00:00</b>', 't: <b>2018-10-09 00:00:00</b>', 't: <b>2018-10-11 00:00:00</b>', 't: <b>2018-10-14 00:00:00</b>', 't: <b>2018-10-19 00:00:00</b>', 't: <b>2018-10-21 00:00:00</b>', 't: <b>2018-10-24 00:00:00</b>', 't: <b>2018-10-31 00:00:00</b>', 't: <b>2018-11-08 00:00:00</b>', 't: <b>2018-11-15 00:00:00</b>', 't: <b>2018-11-18 00:00:00</b>', 't: <b>2018-11-28 00:00:00</b>', 't: <b>2018-12-03 00:00:00</b>', 't: <b>2018-12-05 00:00:00</b>', 't: <b>2018-12-08 00:00:00</b>', 't: <b>2018-12-10 00:00:00</b>', 't: <b>2018-12-13 00:00:00</b>', 't: <b>2018-12-15 00:00:00</b>', 't: <b>2018-12-18 00:00:00</b>', 't: <b>2018-12-25 00:00:00</b>', 't: <b>2018-12-30 00:00:00</b>', 't: <b>2019-01-02 00:00:00</b>', 't: <b>2019-01-04 00:00:00</b>', 't: <b>2019-01-07 00:00:00</b>', 't: <b>2019-01-09 00:00:00</b>', 't: <b>2019-01-14 00:00:00</b>', 't: <b>2019-01-22 00:00:00</b>', 't: <b>2019-01-24 00:00:00</b>', 't: <b>2019-01-29 00:00:00</b>', 't: <b>2019-02-06 00:00:00</b>', 't: <b>2019-02-08 00:00:00</b>', 't: <b>2019-02-13 00:00:00</b>', 't: <b>2019-02-16 00:00:00</b>', 't: <b>2019-02-18 00:00:00</b>', 't: <b>2019-02-21 00:00:00</b>', 't: <b>2019-02-23 00:00:00</b>', 't: <b>2019-02-28 00:00:00</b>', 't: <b>2019-03-03 00:00:00</b>', 't: <b>2019-03-05 00:00:00</b>', 't: <b>2019-03-08 00:00:00</b>', 't: <b>2019-03-10 00:00:00</b>', 't: <b>2019-03-15 00:00:00</b>', 't: <b>2019-03-20 00:00:00</b>', 't: <b>2019-03-23 00:00:00</b>', 't: <b>2019-03-25 00:00:00</b>', 't: <b>2019-03-28 00:00:00</b>', 't: <b>2019-03-30 00:00:00</b>', 't: <b>2019-04-07 00:00:00</b>', 't: <b>2019-04-12 00:00:00</b>', 't: <b>2019-04-17 00:00:00</b>', 't: <b>2019-04-19 00:00:00</b>', 't: <b>2019-04-22 00:00:00</b>', 't: <b>2019-04-27 00:00:00</b>', 't: <b>2019-04-29 00:00:00</b>', 't: <b>2019-05-02 00:00:00</b>', 't: <b>2019-05-09 00:00:00</b>', 't: <b>2019-05-14 00:00:00</b>', 't: <b>2019-05-24 00:00:00</b>', 't: <b>2019-06-01 00:00:00</b>', 't: <b>2019-06-03 00:00:00</b>', 't: <b>2019-06-13 00:00:00</b>', 't: <b>2019-06-16 00:00:00</b>', 't: <b>2019-06-18 00:00:00</b>', 't: <b>2019-06-23 00:00:00</b>', 't: <b>2019-06-26 00:00:00</b>', 't: <b>2019-06-28 00:00:00</b>', 't: <b>2019-07-01 00:00:00</b>', 't: <b>2019-07-13 00:00:00</b>', 't: <b>2019-07-16 00:00:00</b>', 't: <b>2019-07-21 00:00:00</b>', 't: <b>2019-07-23 00:00:00</b>', 't: <b>2019-07-26 00:00:00</b>', 't: <b>2019-08-02 00:00:00</b>', 't: <b>2019-08-05 00:00:00</b>', 't: <b>2019-08-10 00:00:00</b>', 't: <b>2019-08-15 00:00:00</b>', 't: <b>2019-08-20 00:00:00</b>', 't: <b>2019-08-22 00:00:00</b>', 't: <b>2019-08-27 00:00:00</b>', 't: <b>2019-08-30 00:00:00</b>', 't: <b>2019-09-01 00:00:00</b>', 't: <b>2019-09-04 00:00:00</b>', 't: <b>2019-09-09 00:00:00</b>', 't: <b>2019-09-14 00:00:00</b>', 't: <b>2019-09-16 00:00:00</b>', 't: <b>2019-09-19 00:00:00</b>', 't: <b>2019-09-21 00:00:00</b>', 't: <b>2019-09-29 00:00:00</b>', 't: <b>2019-10-01 00:00:00</b>', 't: <b>2019-10-04 00:00:00</b>', 't: <b>2019-10-11 00:00:00</b>', 't: <b>2019-10-14 00:00:00</b>', 't: <b>2019-10-16 00:00:00</b>', 't: <b>2019-10-26 00:00:00</b>', 't: <b>2019-11-10 00:00:00</b>', 't: <b>2019-11-18 00:00:00</b>', 't: <b>2019-11-20 00:00:00</b>', 't: <b>2019-11-28 00:00:00</b>', 't: <b>2019-11-30 00:00:00</b>', 't: <b>2019-12-03 00:00:00</b>', 't: <b>2019-12-05 00:00:00</b>', 't: <b>2019-12-08 00:00:00</b>', 't: <b>2019-12-10 00:00:00</b>', 't: <b>2019-12-15 00:00:00</b>', 't: <b>2019-12-25 00:00:00</b>', 't: <b>2019-12-28 00:00:00</b>', 't: <b>2019-12-30 00:00:00</b>', 't: <b>2020-01-02 00:00:00</b>', 't: <b>2020-01-07 00:00:00</b>', 't: <b>2020-01-09 00:00:00</b>', 't: <b>2020-01-12 00:00:00</b>', 't: <b>2020-01-14 00:00:00</b>', 't: <b>2020-01-17 00:00:00</b>', 't: <b>2020-01-19 00:00:00</b>', 't: <b>2020-01-22 00:00:00</b>', 't: <b>2020-01-24 00:00:00</b>', 't: <b>2020-01-27 00:00:00</b>', 't: <b>2020-01-29 00:00:00</b>', 't: <b>2020-02-03 00:00:00</b>', 't: <b>2020-02-06 00:00:00</b>', 't: <b>2020-02-08 00:00:00</b>', 't: <b>2020-02-11 00:00:00</b>', 't: <b>2020-02-13 00:00:00</b>', 't: <b>2020-02-18 00:00:00</b>', 't: <b>2020-02-21 00:00:00</b>', 't: <b>2020-02-23 00:00:00</b>', 't: <b>2020-02-28 00:00:00</b>', 't: <b>2020-03-04 00:00:00</b>', 't: <b>2020-03-07 00:00:00</b>', 't: <b>2020-03-12 00:00:00</b>', 't: <b>2020-03-17 00:00:00</b>', 't: <b>2020-03-19 00:00:00</b>', 't: <b>2020-03-24 00:00:00</b>', 't: <b>2020-04-01 00:00:00</b>', 't: <b>2020-04-03 00:00:00</b>', 't: <b>2020-04-06 00:00:00</b>', 't: <b>2020-04-08 00:00:00</b>', 't: <b>2020-04-11 00:00:00</b>', 't: <b>2020-04-16 00:00:00</b>', 't: <b>2020-04-18 00:00:00</b>', 't: <b>2020-04-23 00:00:00</b>', 't: <b>2020-04-26 00:00:00</b>', 't: <b>2020-05-01 00:00:00</b>']\\n    target.text = labels[source.value]\\n     } catch(err) { console.log(err) }\",\"tags\":[139832271752688]},\"id\":\"1679\",\"type\":\"CustomJS\"},{\"attributes\":{\"days\":[1,15]},\"id\":\"1083\",\"type\":\"DaysTicker\"},{\"attributes\":{\"axis_label\":\"x\",\"bounds\":\"auto\",\"formatter\":{\"id\":\"1266\"},\"major_label_orientation\":\"horizontal\",\"ticker\":{\"id\":\"1265\"}},\"id\":\"1242\",\"type\":\"LinearAxis\"},{\"attributes\":{\"dimension\":\"lat\",\"mantissas\":[1,2,5]},\"id\":\"1267\",\"type\":\"MercatorTicker\"},{\"attributes\":{\"callback\":null,\"formatters\":{\"x\":{\"id\":\"1303\"},\"y\":{\"id\":\"1304\"}},\"renderers\":[{\"id\":\"1298\"}],\"tags\":[\"hv_created\"],\"tooltips\":[[\"x\",\"@{x}\"],[\"y\",\"@{y}\"],[\"iCor_NDVI\",\"@{iCor_NDVI}\"]]},\"id\":\"1230\",\"type\":\"HoverTool\"},{\"attributes\":{\"tile_source\":{\"id\":\"1285\"}},\"id\":\"1288\",\"type\":\"TileRenderer\"},{\"attributes\":{},\"id\":\"1300\",\"type\":\"BasicTicker\"},{\"attributes\":{},\"id\":\"1238\",\"type\":\"LinearScale\"},{\"attributes\":{},\"id\":\"1024\",\"type\":\"LinearScale\"},{\"attributes\":{\"below\":[{\"id\":\"1242\"}],\"center\":[{\"id\":\"1245\"},{\"id\":\"1249\"}],\"frame_height\":300,\"frame_width\":376,\"js_property_callbacks\":{\"change:inner_height\":[{\"id\":\"1340\"}],\"change:inner_width\":[{\"id\":\"1340\"}]},\"left\":[{\"id\":\"1246\"}],\"margin\":null,\"match_aspect\":true,\"min_border_bottom\":10,\"min_border_left\":10,\"min_border_right\":10,\"min_border_top\":10,\"plot_height\":null,\"plot_width\":null,\"renderers\":[{\"id\":\"1288\"},{\"id\":\"1298\"}],\"right\":[{\"id\":\"1301\"}],\"sizing_mode\":\"fixed\",\"title\":{\"id\":\"1234\"},\"toolbar\":{\"id\":\"1256\"},\"toolbar_location\":null,\"x_range\":{\"id\":\"1226\"},\"x_scale\":{\"id\":\"1238\"},\"y_range\":{\"id\":\"1227\"},\"y_scale\":{\"id\":\"1240\"}},\"id\":\"1233\",\"subtype\":\"Figure\",\"type\":\"Plot\"},{\"attributes\":{},\"id\":\"1057\",\"type\":\"Selection\"},{\"attributes\":{},\"id\":\"1251\",\"type\":\"PanTool\"},{\"attributes\":{\"end\":1593623314285.714,\"reset_end\":1593623314285.714,\"reset_start\":1458543085714.286,\"start\":1458543085714.286,\"tags\":[[[\"t\",\"t\",null]]]},\"id\":\"1011\",\"type\":\"Range1d\"},{\"attributes\":{\"data_source\":{\"id\":\"1064\"},\"glyph\":{\"id\":\"1067\"},\"hover_glyph\":null,\"muted_glyph\":{\"id\":\"1069\"},\"nonselection_glyph\":{\"id\":\"1068\"},\"selection_glyph\":null,\"view\":{\"id\":\"1071\"}},\"id\":\"1070\",\"type\":\"GlyphRenderer\"},{\"attributes\":{\"toolbars\":[{\"id\":\"1040\"},{\"id\":\"1256\"}],\"tools\":[{\"id\":\"1013\"},{\"id\":\"1014\"},{\"id\":\"1034\"},{\"id\":\"1035\"},{\"id\":\"1036\"},{\"id\":\"1037\"},{\"id\":\"1038\"},{\"id\":\"1230\"},{\"id\":\"1251\"},{\"id\":\"1252\"},{\"id\":\"1253\"},{\"id\":\"1254\"}]},\"id\":\"1371\",\"type\":\"ProxyToolbar\"},{\"attributes\":{\"data_source\":{\"id\":\"1056\"},\"glyph\":{\"id\":\"1059\"},\"hover_glyph\":null,\"muted_glyph\":{\"id\":\"1061\"},\"nonselection_glyph\":{\"id\":\"1060\"},\"selection_glyph\":null,\"view\":{\"id\":\"1063\"}},\"id\":\"1062\",\"type\":\"GlyphRenderer\"},{\"attributes\":{\"fill_color\":{\"value\":\"orange\"},\"line_color\":{\"value\":\"orange\"},\"size\":{\"units\":\"screen\",\"value\":5.477225575051661},\"x\":{\"field\":\"t\"},\"y\":{\"field\":\"iCor_NDVI\"}},\"id\":\"1059\",\"type\":\"Scatter\"},{\"attributes\":{\"children\":[{\"id\":\"1372\"},{\"id\":\"1370\"}]},\"id\":\"1373\",\"type\":\"Column\"},{\"attributes\":{\"below\":[{\"id\":\"1026\"}],\"center\":[{\"id\":\"1029\"},{\"id\":\"1033\"}],\"left\":[{\"id\":\"1030\"}],\"margin\":null,\"min_border_bottom\":10,\"min_border_left\":10,\"min_border_right\":10,\"min_border_top\":10,\"plot_height\":300,\"plot_width\":700,\"renderers\":[{\"id\":\"1062\"},{\"id\":\"1070\"}],\"sizing_mode\":\"fixed\",\"title\":{\"id\":\"1018\"},\"toolbar\":{\"id\":\"1040\"},\"toolbar_location\":null,\"x_range\":{\"id\":\"1011\"},\"x_scale\":{\"id\":\"1022\"},\"y_range\":{\"id\":\"1012\"},\"y_scale\":{\"id\":\"1024\"}},\"id\":\"1017\",\"subtype\":\"Figure\",\"type\":\"Plot\"},{\"attributes\":{\"axis_label\":\"iCor_NDVI\",\"bounds\":\"auto\",\"formatter\":{\"id\":\"1053\"},\"major_label_orientation\":\"horizontal\",\"ticker\":{\"id\":\"1031\"}},\"id\":\"1030\",\"type\":\"LinearAxis\"},{\"attributes\":{\"end\":1270668.2718448336,\"min_interval\":5,\"reset_end\":1270668.2718448336,\"reset_start\":1270207.243540979,\"start\":1270207.243540979,\"tags\":[[[\"x\",\"x\",null]]]},\"id\":\"1226\",\"type\":\"Range1d\"},{\"attributes\":{\"text\":\"\",\"text_color\":{\"value\":\"black\"},\"text_font_size\":{\"value\":\"12pt\"}},\"id\":\"1018\",\"type\":\"Title\"},{\"attributes\":{\"fill_alpha\":0.2,\"fill_color\":\"#30a2da\",\"line_alpha\":0.2,\"x\":{\"field\":\"x\"},\"y\":{\"field\":\"y\"}},\"id\":\"1068\",\"type\":\"Patch\"},{\"attributes\":{\"margin\":[5,5,5,5],\"name\":\"VSpacer03210\",\"sizing_mode\":\"stretch_height\"},\"id\":\"1646\",\"type\":\"Spacer\"},{\"attributes\":{\"months\":[0,2,4,6,8,10]},\"id\":\"1085\",\"type\":\"MonthsTicker\"},{\"attributes\":{\"axis\":{\"id\":\"1242\"},\"grid_line_color\":null,\"ticker\":null},\"id\":\"1245\",\"type\":\"Grid\"},{\"attributes\":{\"fill_alpha\":{\"value\":0.2},\"fill_color\":{\"value\":\"orange\"},\"line_alpha\":{\"value\":0.2},\"line_color\":{\"value\":\"orange\"},\"size\":{\"units\":\"screen\",\"value\":5.477225575051661},\"x\":{\"field\":\"t\"},\"y\":{\"field\":\"iCor_NDVI\"}},\"id\":\"1061\",\"type\":\"Scatter\"},{\"attributes\":{\"days\":[1,8,15,22]},\"id\":\"1082\",\"type\":\"DaysTicker\"},{\"attributes\":{\"months\":[0,6]},\"id\":\"1087\",\"type\":\"MonthsTicker\"},{\"attributes\":{\"months\":[0,1,2,3,4,5,6,7,8,9,10,11]},\"id\":\"1084\",\"type\":\"MonthsTicker\"},{\"attributes\":{\"source\":{\"id\":\"1064\"}},\"id\":\"1071\",\"type\":\"CDSView\"}],\"root_ids\":[\"1003\",\"1734\"]},\"title\":\"Bokeh Application\",\"version\":\"2.2.3\"}};\n",
       "    var render_items = [{\"docid\":\"12747e76-8b20-4e57-8591-7cbc190e97cb\",\"root_ids\":[\"1003\"],\"roots\":{\"1003\":\"da8a10b3-3fd7-46a2-8088-3e4e2b035ade\"}}];\n",
       "    root.Bokeh.embed.embed_items_notebook(docs_json, render_items);\n",
       "  }\n",
       "  if (root.Bokeh !== undefined && root.Bokeh.Panel !== undefined) {\n",
       "    embed_document(root);\n",
       "  } else {\n",
       "    var attempts = 0;\n",
       "    var timer = setInterval(function(root) {\n",
       "      if (root.Bokeh !== undefined && root.Bokeh.Panel !== undefined) {\n",
       "        clearInterval(timer);\n",
       "        embed_document(root);\n",
       "      } else if (document.readyState == \"complete\") {\n",
       "        attempts++;\n",
       "        if (attempts > 100) {\n",
       "          clearInterval(timer);\n",
       "          console.log(\"Bokeh: ERROR: Unable to run BokehJS code because BokehJS library is missing\");\n",
       "        }\n",
       "      }\n",
       "    }, 10, root)\n",
       "  }\n",
       "})(window);</script>"
      ],
      "text/plain": [
       ":Layout\n",
       "   .Overlay.I    :Overlay\n",
       "      .Scatter.I :Scatter   [t]   (iCor_NDVI)\n",
       "      .Area.I    :Area   [t]   (NDVI_m_std,NDVI_p_std)\n",
       "   .DynamicMap.I :DynamicMap   [t]\n",
       "      :Overlay\n",
       "         .Tiles.I    :Tiles   [x,y]\n",
       "         .QuadMesh.I :QuadMesh   [x,y]   (iCor_NDVI)"
      ],
      "application/vnd.holoviews_exec.v0+json": ""
     },
     "metadata": {
      "application/vnd.holoviews_exec.v0+json": {
       "id": "1003"
      }
     },
     "execution_count": 18
    }
   ],
   "metadata": {}
  },
  {
   "cell_type": "markdown",
   "source": [
    "3. We can plot a comparison of different pre-processing algorithms."
   ],
   "metadata": {}
  },
  {
   "cell_type": "code",
   "execution_count": 19,
   "source": [
    "timeseries = xr.open_dataset(\"./data/US2/ndvi_timeseries.nc\")\n",
    "area_mean = timeseries.mean(['x','y'])\n",
    "area_mean.hvplot.scatter(legend='top_right',dynamic=False,width=800,height=300)"
   ],
   "outputs": [
    {
     "output_type": "display_data",
     "data": {},
     "metadata": {}
    },
    {
     "output_type": "execute_result",
     "data": {
      "text/html": [
       "<div id='2508'>\n",
       "\n",
       "\n",
       "\n",
       "\n",
       "\n",
       "  <div class=\"bk-root\" id=\"e559b632-4d53-4cdc-9ab8-0720ec348668\" data-root-id=\"2508\"></div>\n",
       "</div>\n",
       "<script type=\"application/javascript\">(function(root) {\n",
       "  function embed_document(root) {\n",
       "    var docs_json = {\"71a42b64-7385-4d8f-9328-34d7edcc2f9b\":{\"roots\":{\"references\":[{\"attributes\":{\"active_drag\":\"auto\",\"active_inspect\":\"auto\",\"active_multi\":null,\"active_scroll\":\"auto\",\"active_tap\":\"auto\",\"tools\":[{\"id\":\"2514\"},{\"id\":\"2536\"},{\"id\":\"2537\"},{\"id\":\"2538\"},{\"id\":\"2539\"},{\"id\":\"2540\"}]},\"id\":\"2542\",\"type\":\"Toolbar\"},{\"attributes\":{\"axis_label\":\"\",\"bounds\":\"auto\",\"formatter\":{\"id\":\"2554\"},\"major_label_orientation\":\"horizontal\",\"ticker\":{\"id\":\"2533\"}},\"id\":\"2532\",\"type\":\"LinearAxis\"},{\"attributes\":{\"bottom_units\":\"screen\",\"fill_alpha\":0.5,\"fill_color\":\"lightgrey\",\"left_units\":\"screen\",\"level\":\"overlay\",\"line_alpha\":1.0,\"line_color\":\"black\",\"line_dash\":[4,4],\"line_width\":2,\"right_units\":\"screen\",\"top_units\":\"screen\"},\"id\":\"2541\",\"type\":\"BoxAnnotation\"},{\"attributes\":{\"fill_alpha\":{\"value\":0.1},\"fill_color\":{\"value\":\"#fc4f30\"},\"line_alpha\":{\"value\":0.1},\"line_color\":{\"value\":\"#fc4f30\"},\"size\":{\"units\":\"screen\",\"value\":5.477225575051661},\"x\":{\"field\":\"t\"},\"y\":{\"field\":\"value\"}},\"id\":\"2589\",\"type\":\"Scatter\"},{\"attributes\":{\"children\":[{\"id\":\"2509\"},{\"id\":\"2519\"},{\"id\":\"2865\"}],\"margin\":[0,0,0,0],\"name\":\"Row16202\",\"tags\":[\"embedded\"]},\"id\":\"2508\",\"type\":\"Row\"},{\"attributes\":{\"data_source\":{\"id\":\"2616\"},\"glyph\":{\"id\":\"2619\"},\"hover_glyph\":null,\"muted_glyph\":{\"id\":\"2621\"},\"nonselection_glyph\":{\"id\":\"2620\"},\"selection_glyph\":null,\"view\":{\"id\":\"2623\"}},\"id\":\"2622\",\"type\":\"GlyphRenderer\"},{\"attributes\":{\"source\":{\"id\":\"2616\"}},\"id\":\"2623\",\"type\":\"CDSView\"},{\"attributes\":{\"fill_alpha\":{\"value\":0.2},\"fill_color\":{\"value\":\"#e5ae38\"},\"line_alpha\":{\"value\":0.2},\"line_color\":{\"value\":\"#e5ae38\"},\"size\":{\"units\":\"screen\",\"value\":5.477225575051661},\"x\":{\"field\":\"t\"},\"y\":{\"field\":\"value\"}},\"id\":\"2621\",\"type\":\"Scatter\"},{\"attributes\":{\"label\":{\"value\":\"smac_NDVI\"},\"renderers\":[{\"id\":\"2622\"}]},\"id\":\"2648\",\"type\":\"LegendItem\"},{\"attributes\":{\"mantissas\":[1,2,5],\"max_interval\":500.0,\"num_minor_ticks\":0},\"id\":\"2568\",\"type\":\"AdaptiveTicker\"},{\"attributes\":{},\"id\":\"2617\",\"type\":\"Selection\"},{\"attributes\":{\"callback\":null,\"formatters\":{\"@{t}\":\"datetime\"},\"renderers\":[{\"id\":\"2561\"},{\"id\":\"2591\"},{\"id\":\"2622\"}],\"tags\":[\"hv_created\"],\"tooltips\":[[\"Variable\",\"@{Variable}\"],[\"t\",\"@{t}{%F %T}\"],[\"value\",\"@{value}\"]]},\"id\":\"2514\",\"type\":\"HoverTool\"},{\"attributes\":{\"base\":60,\"mantissas\":[1,2,5,10,15,20,30],\"max_interval\":1800000.0,\"min_interval\":1000.0,\"num_minor_ticks\":0},\"id\":\"2569\",\"type\":\"AdaptiveTicker\"},{\"attributes\":{\"base\":24,\"mantissas\":[1,2,4,6,8,12],\"max_interval\":43200000.0,\"min_interval\":3600000.0,\"num_minor_ticks\":0},\"id\":\"2570\",\"type\":\"AdaptiveTicker\"},{\"attributes\":{},\"id\":\"2533\",\"type\":\"BasicTicker\"},{\"attributes\":{\"days\":[1,2,3,4,5,6,7,8,9,10,11,12,13,14,15,16,17,18,19,20,21,22,23,24,25,26,27,28,29,30,31]},\"id\":\"2571\",\"type\":\"DaysTicker\"},{\"attributes\":{\"source\":{\"id\":\"2585\"}},\"id\":\"2592\",\"type\":\"CDSView\"},{\"attributes\":{\"months\":[0,1,2,3,4,5,6,7,8,9,10,11]},\"id\":\"2575\",\"type\":\"MonthsTicker\"},{\"attributes\":{\"months\":[0,2,4,6,8,10]},\"id\":\"2576\",\"type\":\"MonthsTicker\"},{\"attributes\":{\"days\":[1,15]},\"id\":\"2574\",\"type\":\"DaysTicker\"},{\"attributes\":{\"months\":[0,6]},\"id\":\"2578\",\"type\":\"MonthsTicker\"},{\"attributes\":{\"days\":[1,4,7,10,13,16,19,22,25,28]},\"id\":\"2572\",\"type\":\"DaysTicker\"},{\"attributes\":{},\"id\":\"2586\",\"type\":\"Selection\"},{\"attributes\":{\"fill_color\":{\"value\":\"#fc4f30\"},\"line_color\":{\"value\":\"#fc4f30\"},\"size\":{\"units\":\"screen\",\"value\":5.477225575051661},\"x\":{\"field\":\"t\"},\"y\":{\"field\":\"value\"}},\"id\":\"2588\",\"type\":\"Scatter\"},{\"attributes\":{\"days\":[1,8,15,22]},\"id\":\"2573\",\"type\":\"DaysTicker\"},{\"attributes\":{\"text\":\"\",\"text_color\":{\"value\":\"black\"},\"text_font_size\":{\"value\":\"12pt\"}},\"id\":\"2520\",\"type\":\"Title\"},{\"attributes\":{\"data\":{\"Variable\":[\"iCor_NDVI\",\"iCor_NDVI\",\"iCor_NDVI\",\"iCor_NDVI\",\"iCor_NDVI\",\"iCor_NDVI\",\"iCor_NDVI\",\"iCor_NDVI\",\"iCor_NDVI\",\"iCor_NDVI\",\"iCor_NDVI\",\"iCor_NDVI\",\"iCor_NDVI\",\"iCor_NDVI\",\"iCor_NDVI\",\"iCor_NDVI\",\"iCor_NDVI\",\"iCor_NDVI\",\"iCor_NDVI\",\"iCor_NDVI\",\"iCor_NDVI\",\"iCor_NDVI\",\"iCor_NDVI\",\"iCor_NDVI\",\"iCor_NDVI\",\"iCor_NDVI\",\"iCor_NDVI\",\"iCor_NDVI\",\"iCor_NDVI\",\"iCor_NDVI\",\"iCor_NDVI\",\"iCor_NDVI\",\"iCor_NDVI\",\"iCor_NDVI\",\"iCor_NDVI\",\"iCor_NDVI\",\"iCor_NDVI\",\"iCor_NDVI\",\"iCor_NDVI\",\"iCor_NDVI\",\"iCor_NDVI\",\"iCor_NDVI\",\"iCor_NDVI\",\"iCor_NDVI\",\"iCor_NDVI\",\"iCor_NDVI\",\"iCor_NDVI\",\"iCor_NDVI\",\"iCor_NDVI\",\"iCor_NDVI\",\"iCor_NDVI\",\"iCor_NDVI\",\"iCor_NDVI\",\"iCor_NDVI\",\"iCor_NDVI\",\"iCor_NDVI\",\"iCor_NDVI\",\"iCor_NDVI\",\"iCor_NDVI\",\"iCor_NDVI\",\"iCor_NDVI\",\"iCor_NDVI\",\"iCor_NDVI\",\"iCor_NDVI\",\"iCor_NDVI\",\"iCor_NDVI\",\"iCor_NDVI\",\"iCor_NDVI\",\"iCor_NDVI\",\"iCor_NDVI\",\"iCor_NDVI\",\"iCor_NDVI\",\"iCor_NDVI\",\"iCor_NDVI\",\"iCor_NDVI\",\"iCor_NDVI\",\"iCor_NDVI\",\"iCor_NDVI\",\"iCor_NDVI\",\"iCor_NDVI\",\"iCor_NDVI\",\"iCor_NDVI\",\"iCor_NDVI\",\"iCor_NDVI\",\"iCor_NDVI\",\"iCor_NDVI\",\"iCor_NDVI\",\"iCor_NDVI\",\"iCor_NDVI\",\"iCor_NDVI\",\"iCor_NDVI\",\"iCor_NDVI\",\"iCor_NDVI\",\"iCor_NDVI\",\"iCor_NDVI\",\"iCor_NDVI\",\"iCor_NDVI\",\"iCor_NDVI\",\"iCor_NDVI\",\"iCor_NDVI\",\"iCor_NDVI\",\"iCor_NDVI\",\"iCor_NDVI\",\"iCor_NDVI\",\"iCor_NDVI\",\"iCor_NDVI\",\"iCor_NDVI\",\"iCor_NDVI\",\"iCor_NDVI\",\"iCor_NDVI\",\"iCor_NDVI\",\"iCor_NDVI\",\"iCor_NDVI\",\"iCor_NDVI\",\"iCor_NDVI\",\"iCor_NDVI\",\"iCor_NDVI\",\"iCor_NDVI\",\"iCor_NDVI\",\"iCor_NDVI\",\"iCor_NDVI\",\"iCor_NDVI\",\"iCor_NDVI\",\"iCor_NDVI\",\"iCor_NDVI\",\"iCor_NDVI\",\"iCor_NDVI\",\"iCor_NDVI\",\"iCor_NDVI\",\"iCor_NDVI\",\"iCor_NDVI\",\"iCor_NDVI\",\"iCor_NDVI\",\"iCor_NDVI\",\"iCor_NDVI\",\"iCor_NDVI\",\"iCor_NDVI\",\"iCor_NDVI\",\"iCor_NDVI\",\"iCor_NDVI\",\"iCor_NDVI\",\"iCor_NDVI\",\"iCor_NDVI\",\"iCor_NDVI\",\"iCor_NDVI\",\"iCor_NDVI\",\"iCor_NDVI\",\"iCor_NDVI\",\"iCor_NDVI\",\"iCor_NDVI\",\"iCor_NDVI\",\"iCor_NDVI\",\"iCor_NDVI\",\"iCor_NDVI\",\"iCor_NDVI\",\"iCor_NDVI\",\"iCor_NDVI\",\"iCor_NDVI\",\"iCor_NDVI\",\"iCor_NDVI\",\"iCor_NDVI\",\"iCor_NDVI\",\"iCor_NDVI\",\"iCor_NDVI\",\"iCor_NDVI\",\"iCor_NDVI\",\"iCor_NDVI\",\"iCor_NDVI\",\"iCor_NDVI\",\"iCor_NDVI\",\"iCor_NDVI\",\"iCor_NDVI\",\"iCor_NDVI\",\"iCor_NDVI\",\"iCor_NDVI\",\"iCor_NDVI\",\"iCor_NDVI\",\"iCor_NDVI\",\"iCor_NDVI\",\"iCor_NDVI\",\"iCor_NDVI\",\"iCor_NDVI\",\"iCor_NDVI\",\"iCor_NDVI\",\"iCor_NDVI\",\"iCor_NDVI\",\"iCor_NDVI\",\"iCor_NDVI\",\"iCor_NDVI\",\"iCor_NDVI\",\"iCor_NDVI\",\"iCor_NDVI\",\"iCor_NDVI\",\"iCor_NDVI\",\"iCor_NDVI\",\"iCor_NDVI\",\"iCor_NDVI\",\"iCor_NDVI\",\"iCor_NDVI\",\"iCor_NDVI\",\"iCor_NDVI\",\"iCor_NDVI\",\"iCor_NDVI\",\"iCor_NDVI\",\"iCor_NDVI\",\"iCor_NDVI\",\"iCor_NDVI\",\"iCor_NDVI\",\"iCor_NDVI\",\"iCor_NDVI\",\"iCor_NDVI\",\"iCor_NDVI\",\"iCor_NDVI\",\"iCor_NDVI\",\"iCor_NDVI\",\"iCor_NDVI\",\"iCor_NDVI\",\"iCor_NDVI\",\"iCor_NDVI\",\"iCor_NDVI\",\"iCor_NDVI\",\"iCor_NDVI\",\"iCor_NDVI\",\"iCor_NDVI\",\"iCor_NDVI\",\"iCor_NDVI\",\"iCor_NDVI\",\"iCor_NDVI\",\"iCor_NDVI\",\"iCor_NDVI\",\"iCor_NDVI\",\"iCor_NDVI\",\"iCor_NDVI\",\"iCor_NDVI\",\"iCor_NDVI\",\"iCor_NDVI\",\"iCor_NDVI\",\"iCor_NDVI\",\"iCor_NDVI\",\"iCor_NDVI\",\"iCor_NDVI\",\"iCor_NDVI\",\"iCor_NDVI\",\"iCor_NDVI\",\"iCor_NDVI\",\"iCor_NDVI\",\"iCor_NDVI\",\"iCor_NDVI\",\"iCor_NDVI\",\"iCor_NDVI\",\"iCor_NDVI\",\"iCor_NDVI\",\"iCor_NDVI\",\"iCor_NDVI\",\"iCor_NDVI\",\"iCor_NDVI\",\"iCor_NDVI\",\"iCor_NDVI\",\"iCor_NDVI\",\"iCor_NDVI\",\"iCor_NDVI\",\"iCor_NDVI\",\"iCor_NDVI\",\"iCor_NDVI\",\"iCor_NDVI\",\"iCor_NDVI\",\"iCor_NDVI\",\"iCor_NDVI\",\"iCor_NDVI\",\"iCor_NDVI\",\"iCor_NDVI\",\"iCor_NDVI\",\"iCor_NDVI\",\"iCor_NDVI\",\"iCor_NDVI\",\"iCor_NDVI\",\"iCor_NDVI\",\"iCor_NDVI\",\"iCor_NDVI\",\"iCor_NDVI\",\"iCor_NDVI\",\"iCor_NDVI\",\"iCor_NDVI\",\"iCor_NDVI\",\"iCor_NDVI\",\"iCor_NDVI\",\"iCor_NDVI\",\"iCor_NDVI\",\"iCor_NDVI\",\"iCor_NDVI\",\"iCor_NDVI\",\"iCor_NDVI\",\"iCor_NDVI\",\"iCor_NDVI\",\"iCor_NDVI\",\"iCor_NDVI\",\"iCor_NDVI\",\"iCor_NDVI\",\"iCor_NDVI\",\"iCor_NDVI\",\"iCor_NDVI\",\"iCor_NDVI\",\"iCor_NDVI\",\"iCor_NDVI\",\"iCor_NDVI\"],\"t\":{\"__ndarray__\":\"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\",\"dtype\":\"float64\",\"order\":\"little\",\"shape\":[305]},\"value\":{\"__ndarray__\":\"j/pKPwAAwP81uCY/8YZcP67FXj+t4UQ/MT5WP0LMXj9qtUo/Hb9RP+KpUT8AAMD/xeRGP3YVVT+BYUE/T2BWP0GRVD+wujc/yWISP2idLT8seS0/qRQyP2yfMD9fzQ4/d6cuPzn3xz55jzM/NAU0P7iENT+i69E+OLgbP9U59T51Vd4+AADA/1MTDD+RCSs/AWkkPwAAwP9ToC0/AADA/1CLsT4hREk/AADA/9FTTz9delA/E3ZRPwAAwP+v6VQ/mu5dPwAAwP8301Q/Hc1bP5P5JD9TkCQ/sR9CP5OSYD83DVI/AADA/5iaTj8AAMD/Ax1WP/2EXT+Y4Uw/9ipWP44FUz/nxlg/ehFGP9rGLz9WA2g/eTpQP+9bRj+ex1w/fLRSP94rIz+QmlY/AADA/1g1Vz/Yfk8/S4xIP8E3Uz8OHlg/DhpDP4zfNz+mSkw/SnM4PxlQNT/4jzQ/lEZ+Pq8UAD/axRU/ZO38Po9YBT85FxU/qFXPPuu1HD8t3v0+8wMnPwAAwP8AZMY+AADA/33b/T4AAMD/4UO/Psi8FD+gAQo/zzEXPyQxAz8AAMD/11aaPqJL8D6718U+7vJ7PhedFT6Iw/I+AADA/6Itsz68oYg+lhDvPgAAwP9TvsI+HsTTPvuaEj/Yxhk//ooqPwAAwP9otUI/AADA/0FjWT/sAk4/rMddP0JLVT9N2Vw/ngpOPytUTT9aAiA/AADA/4aGuz4AAMD/IctRP9DoTD9crE4/volPP7AKXj8lF2M/FB8hP2vQQT+snj8/KrBJPwAAwP8AAMD/uKpVP9f3ST9LYy8/IcNYPwAAwP/hixQ//UBOP5+nWT9gqVY/IiZbP0PXVj/7bE0/HE5YPxsvNT9o+0k/tM5fPxWgUz+qtFc/Zx5NPwAAwP+Yqvk+xNv6PtCkBz8eIbM+W7/WPoSa4j4ZKTs+xMy2PvFhDT4xq8U+BgnPPtPDqj4AAMD/LKHNPn9Bzz7NR+E+muOfPgAAwP+G/4k++kSKPvW5GD7Ptog8rTpPPFMAlzybxfI8jOcePUCtmz16Vyc+mHqZPn+xrz43Z9A+AADA/7+jzz4E7s8+/wYUPrkV1D4qTdI+DsXMPm/pzD4AAMD/AADA/7N5mT4AAMD/41KrPqL+tT68IHc772eXPgAAwP99i6I+vAeoPoaxoT5Typ0+FxWmPnPPmT4AAMD/Yh2nPphVrD6nHaY+FJ6iPryxYT7Uhak+CACrPlXopz6zjcI+AADA/wAAwP8AAMD/nv+lPpFOsD7NVb0+sSa2PgAAwP82Mrw+ArK2Pqu0vT4UocE+OXm5Pqf7pj709L4+AADA/zpvrj7Ssqw+06W2PiULuj7YQKY++POoPhO8K7sJxLW9KLd3vDt/CL7heoS9RW3jOyuuBLzVr4u8ojsVvD0VMrw7+0u7+pHzO5BAn7zdenS89SFevKzvDL0lX228w/RXvOk/tLyabPc8y+0aPOCwkTov3vc7G8GNPPf3Hb1AXCG7hfLpugaJRbwJvBk8gkFMPA+F2jwAAMD/ekSWPQpzQjx1Vym8x8oOvU4pPbyIoAk9+X69PXd3pjueAHU9QrImPqGBVj4kJnc++VBpPntggj4mSoc+AADA/4H9gj4=\",\"dtype\":\"float32\",\"order\":\"little\",\"shape\":[305]}},\"selected\":{\"id\":\"2556\"},\"selection_policy\":{\"id\":\"2580\"}},\"id\":\"2555\",\"type\":\"ColumnDataSource\"},{\"attributes\":{},\"id\":\"2579\",\"type\":\"YearsTicker\"},{\"attributes\":{\"axis_label\":\"t\",\"bounds\":\"auto\",\"formatter\":{\"id\":\"2552\"},\"major_label_orientation\":\"horizontal\",\"ticker\":{\"id\":\"2529\"}},\"id\":\"2528\",\"type\":\"DatetimeAxis\"},{\"attributes\":{\"months\":[0,4,8]},\"id\":\"2577\",\"type\":\"MonthsTicker\"},{\"attributes\":{\"num_minor_ticks\":5,\"tickers\":[{\"id\":\"2568\"},{\"id\":\"2569\"},{\"id\":\"2570\"},{\"id\":\"2571\"},{\"id\":\"2572\"},{\"id\":\"2573\"},{\"id\":\"2574\"},{\"id\":\"2575\"},{\"id\":\"2576\"},{\"id\":\"2577\"},{\"id\":\"2578\"},{\"id\":\"2579\"}]},\"id\":\"2529\",\"type\":\"DatetimeTicker\"},{\"attributes\":{\"data\":{\"Variable\":[\"l1c_NDVI\",\"l1c_NDVI\",\"l1c_NDVI\",\"l1c_NDVI\",\"l1c_NDVI\",\"l1c_NDVI\",\"l1c_NDVI\",\"l1c_NDVI\",\"l1c_NDVI\",\"l1c_NDVI\",\"l1c_NDVI\",\"l1c_NDVI\",\"l1c_NDVI\",\"l1c_NDVI\",\"l1c_NDVI\",\"l1c_NDVI\",\"l1c_NDVI\",\"l1c_NDVI\",\"l1c_NDVI\",\"l1c_NDVI\",\"l1c_NDVI\",\"l1c_NDVI\",\"l1c_NDVI\",\"l1c_NDVI\",\"l1c_NDVI\",\"l1c_NDVI\",\"l1c_NDVI\",\"l1c_NDVI\",\"l1c_NDVI\",\"l1c_NDVI\",\"l1c_NDVI\",\"l1c_NDVI\",\"l1c_NDVI\",\"l1c_NDVI\",\"l1c_NDVI\",\"l1c_NDVI\",\"l1c_NDVI\",\"l1c_NDVI\",\"l1c_NDVI\",\"l1c_NDVI\",\"l1c_NDVI\",\"l1c_NDVI\",\"l1c_NDVI\",\"l1c_NDVI\",\"l1c_NDVI\",\"l1c_NDVI\",\"l1c_NDVI\",\"l1c_NDVI\",\"l1c_NDVI\",\"l1c_NDVI\",\"l1c_NDVI\",\"l1c_NDVI\",\"l1c_NDVI\",\"l1c_NDVI\",\"l1c_NDVI\",\"l1c_NDVI\",\"l1c_NDVI\",\"l1c_NDVI\",\"l1c_NDVI\",\"l1c_NDVI\",\"l1c_NDVI\",\"l1c_NDVI\",\"l1c_NDVI\",\"l1c_NDVI\",\"l1c_NDVI\",\"l1c_NDVI\",\"l1c_NDVI\",\"l1c_NDVI\",\"l1c_NDVI\",\"l1c_NDVI\",\"l1c_NDVI\",\"l1c_NDVI\",\"l1c_NDVI\",\"l1c_NDVI\",\"l1c_NDVI\",\"l1c_NDVI\",\"l1c_NDVI\",\"l1c_NDVI\",\"l1c_NDVI\",\"l1c_NDVI\",\"l1c_NDVI\",\"l1c_NDVI\",\"l1c_NDVI\",\"l1c_NDVI\",\"l1c_NDVI\",\"l1c_NDVI\",\"l1c_NDVI\",\"l1c_NDVI\",\"l1c_NDVI\",\"l1c_NDVI\",\"l1c_NDVI\",\"l1c_NDVI\",\"l1c_NDVI\",\"l1c_NDVI\",\"l1c_NDVI\",\"l1c_NDVI\",\"l1c_NDVI\",\"l1c_NDVI\",\"l1c_NDVI\",\"l1c_NDVI\",\"l1c_NDVI\",\"l1c_NDVI\",\"l1c_NDVI\",\"l1c_NDVI\",\"l1c_NDVI\",\"l1c_NDVI\",\"l1c_NDVI\",\"l1c_NDVI\",\"l1c_NDVI\",\"l1c_NDVI\",\"l1c_NDVI\",\"l1c_NDVI\",\"l1c_NDVI\",\"l1c_NDVI\",\"l1c_NDVI\",\"l1c_NDVI\",\"l1c_NDVI\",\"l1c_NDVI\",\"l1c_NDVI\",\"l1c_NDVI\",\"l1c_NDVI\",\"l1c_NDVI\",\"l1c_NDVI\",\"l1c_NDVI\",\"l1c_NDVI\",\"l1c_NDVI\",\"l1c_NDVI\",\"l1c_NDVI\",\"l1c_NDVI\",\"l1c_NDVI\",\"l1c_NDVI\",\"l1c_NDVI\",\"l1c_NDVI\",\"l1c_NDVI\",\"l1c_NDVI\",\"l1c_NDVI\",\"l1c_NDVI\",\"l1c_NDVI\",\"l1c_NDVI\",\"l1c_NDVI\",\"l1c_NDVI\",\"l1c_NDVI\",\"l1c_NDVI\",\"l1c_NDVI\",\"l1c_NDVI\",\"l1c_NDVI\",\"l1c_NDVI\",\"l1c_NDVI\",\"l1c_NDVI\",\"l1c_NDVI\",\"l1c_NDVI\",\"l1c_NDVI\",\"l1c_NDVI\",\"l1c_NDVI\",\"l1c_NDVI\",\"l1c_NDVI\",\"l1c_NDVI\",\"l1c_NDVI\",\"l1c_NDVI\",\"l1c_NDVI\",\"l1c_NDVI\",\"l1c_NDVI\",\"l1c_NDVI\",\"l1c_NDVI\",\"l1c_NDVI\",\"l1c_NDVI\",\"l1c_NDVI\",\"l1c_NDVI\",\"l1c_NDVI\",\"l1c_NDVI\",\"l1c_NDVI\",\"l1c_NDVI\",\"l1c_NDVI\",\"l1c_NDVI\",\"l1c_NDVI\",\"l1c_NDVI\",\"l1c_NDVI\",\"l1c_NDVI\",\"l1c_NDVI\",\"l1c_NDVI\",\"l1c_NDVI\",\"l1c_NDVI\",\"l1c_NDVI\",\"l1c_NDVI\",\"l1c_NDVI\",\"l1c_NDVI\",\"l1c_NDVI\",\"l1c_NDVI\",\"l1c_NDVI\",\"l1c_NDVI\",\"l1c_NDVI\",\"l1c_NDVI\",\"l1c_NDVI\",\"l1c_NDVI\",\"l1c_NDVI\",\"l1c_NDVI\",\"l1c_NDVI\",\"l1c_NDVI\",\"l1c_NDVI\",\"l1c_NDVI\",\"l1c_NDVI\",\"l1c_NDVI\",\"l1c_NDVI\",\"l1c_NDVI\",\"l1c_NDVI\",\"l1c_NDVI\",\"l1c_NDVI\",\"l1c_NDVI\",\"l1c_NDVI\",\"l1c_NDVI\",\"l1c_NDVI\",\"l1c_NDVI\",\"l1c_NDVI\",\"l1c_NDVI\",\"l1c_NDVI\",\"l1c_NDVI\",\"l1c_NDVI\",\"l1c_NDVI\",\"l1c_NDVI\",\"l1c_NDVI\",\"l1c_NDVI\",\"l1c_NDVI\",\"l1c_NDVI\",\"l1c_NDVI\",\"l1c_NDVI\",\"l1c_NDVI\",\"l1c_NDVI\",\"l1c_NDVI\",\"l1c_NDVI\",\"l1c_NDVI\",\"l1c_NDVI\",\"l1c_NDVI\",\"l1c_NDVI\",\"l1c_NDVI\",\"l1c_NDVI\",\"l1c_NDVI\",\"l1c_NDVI\",\"l1c_NDVI\",\"l1c_NDVI\",\"l1c_NDVI\",\"l1c_NDVI\",\"l1c_NDVI\",\"l1c_NDVI\",\"l1c_NDVI\",\"l1c_NDVI\",\"l1c_NDVI\",\"l1c_NDVI\",\"l1c_NDVI\",\"l1c_NDVI\",\"l1c_NDVI\",\"l1c_NDVI\",\"l1c_NDVI\",\"l1c_NDVI\",\"l1c_NDVI\",\"l1c_NDVI\",\"l1c_NDVI\",\"l1c_NDVI\",\"l1c_NDVI\",\"l1c_NDVI\",\"l1c_NDVI\",\"l1c_NDVI\",\"l1c_NDVI\",\"l1c_NDVI\",\"l1c_NDVI\",\"l1c_NDVI\",\"l1c_NDVI\",\"l1c_NDVI\",\"l1c_NDVI\",\"l1c_NDVI\",\"l1c_NDVI\",\"l1c_NDVI\",\"l1c_NDVI\",\"l1c_NDVI\",\"l1c_NDVI\",\"l1c_NDVI\",\"l1c_NDVI\",\"l1c_NDVI\",\"l1c_NDVI\",\"l1c_NDVI\",\"l1c_NDVI\",\"l1c_NDVI\",\"l1c_NDVI\",\"l1c_NDVI\",\"l1c_NDVI\",\"l1c_NDVI\",\"l1c_NDVI\",\"l1c_NDVI\",\"l1c_NDVI\",\"l1c_NDVI\",\"l1c_NDVI\",\"l1c_NDVI\",\"l1c_NDVI\",\"l1c_NDVI\",\"l1c_NDVI\",\"l1c_NDVI\",\"l1c_NDVI\",\"l1c_NDVI\",\"l1c_NDVI\",\"l1c_NDVI\",\"l1c_NDVI\",\"l1c_NDVI\",\"l1c_NDVI\",\"l1c_NDVI\",\"l1c_NDVI\",\"l1c_NDVI\"],\"t\":{\"__ndarray__\":\"AABALlxNdUIAAIDpDFZ1QgAAwBoEV3VCAAAA40RZdUIAAEAUPFp1QgAAwA10XXVCAAAA1rRfdUIAAADJJGZ1QgAAgMJcaXVCAAAAvJRsdUIAAIC1zG91QgAAwObDcHVCAABA4PtzdUIAAICoPHZ1QgAAwNkzd3VCAAAAonR5dUIAAICbrHx1QgAAQMbbgHVCAAAAiFSGdUIAAMCyg4p1QgAAAHvEjHVCAABArLuNdUIAAIB0/I91QgAAAG40k3VCAABAnyuUdUIAAIBnbJZ1QgAAwJhjl3VCAACAWtycdUIAAMCL0511QgAAgE1Mo3VCAADAfkOkdUIAAABHhKZ1QgAAQHh7p3VCAACAQLypdUIAAMBxs6p1QgAAgDMssHVCAADAZCOxdUIAAEBeW7R1QgAAgCactnVCAADAV5O3dUIAAAATRMB1QgAAQEQ7wXVCAACADHzDdUIAAMA9c8R1QgAAAAa0xnVCAACA/+vJdUIAAMAw48p1QgAAAPkjzXVCAABAKhvOdUIAAAAnt891QgAAgPJb0HVCAADAI1PRdUIAAEDv99F1QgAAgCDv0nVCAAAA7JPTdUIAAEAdi9R1QgAAwOgv1XVCAAAAGifWdUIAAIDly9Z1QgAAQOJn2HVCAACAE1/ZdUIAAADfA9p1QgAAQBD72nVCAADA25/bdUIAAIDYO911QgAAwAkz3nVCAABA1dfedUIAAIAGz991QgAAANJz4HVCAABAA2vhdUIAAMDOD+J1QgAAAAAH43VCAADA/KLkdUIAAEDIR+V1QgAAgL4b6nVCAABAu7frdUIAAMC07+51QgAAAObm73VCAACAsYvwdUIAAMDigvF1QgAAQK4n8nVCAACA3x7zdUIAAACrw/N1QgAAQNy69HVCAADAp1/1dUIAAICk+/Z1QgAAwNXy93VCAACA0o75dUIAAMCaz/t1QgAAAMzG/HVCAACAl2v9dUIAAEDCmgF2QgAAwI0/AnZCAADAu9IEdkIAAACEEwd2QgAAQLUKCHZCAADAgK8IdkIAAACypgl2QgAAwK5CC3ZCAAAAd4MNdkIAAECoeg52QgAAgHC7EHZCAADAobIRdkIAAEBtVxJ2QgAAgJ5OE3ZCAAAAavMTdkIAAMCUIhh2QgAAgJG+GXZCAAAAXWMadkIAAACL9hx2QgAAgFabHXZCAACAhC4gdkIAAIBJCyR2QgAAwHoCJXZCAABARqcldkIAAIB3niZ2QgAAAENDJ3ZCAABAdDoodkIAAABx1il2QgAAQDkXLHZCAACAag4tdkIAAAA2sy12QgAAQGeqLnZCAADAMk8vdkIAAABXtjZ2QgAAQE2KO3ZCAAAASiY9dkIAAIBDXkB2QgAAAA8DQXZCAABAQPpBdkIAAMALn0J2QgAAAD2WQ3ZCAADAOTJFdkIAAEAF10V2QgAAAAJzR3ZCAABAM2pIdkIAAMD+Dkl2QgAAADAGSnZCAACA+6pKdkIAAED4Rkx2QgAAAPXiTXZCAABAJtpOdkIAAAAjdlB2QgAAgO4aUXZCAABA67ZSdkIAAIAcrlN2QgAAAOhSVHZCAABAGUpVdkIAAMDk7lV2QgAAABbmVnZCAACA4YpXdkIAAIAPHlp2QgAAANvCWnZCAABADLpbdkIAAMDXXlx2QgAAAAlWXXZCAACA1PpddkIAAMAF8l52QgAAQNGWX3ZCAACAAo5gdkIAAADOMmF2QgAAQP8pYnZCAAAA/MVjdkIAAMD4YWV2QgAAQMQGZnZCAACA9f1mdkIAAEDymWh2QgAAwL0+aXZCAAAA7zVqdkIAAEC3dmx2QgAAQOUJb3ZCAACArUpxdkIAAMDeQXJ2QgAAQNh5dXZCAAAA1RV3dkIAAICgund2QgAAwNGxeHZCAABAnVZ5dkIAAIDOTXp2QgAAAJryenZCAABAy+l7dkIAAICTKn52QgAAQJDGf3ZCAACAwb2AdkIAAACNYoF2QgAAQL5ZgnZCAADAif6CdkIAAICGmoR2QgAAgLQth3ZCAAAAgNKHdkIAAMB8bol2QgAAwKoBjHZCAABAdqaMdkIAAABzQo52QgAAQKQ5j3ZCAADAb96PdkIAAACh1ZB2QgAAgGx6kXZCAABAaRaTdkIAAICaDZR2QgAAAGaylHZCAABAl6mVdkIAAMBiTpZ2QgAAgF/ql3ZCAABAXIaZdkIAAICNfZp2QgAAAFkim3ZCAABAihmcdkIAAMBVvpx2QgAAwINRn3ZCAACAgO2gdkIAAEB9iaJ2QgAAwEguo3ZCAAAAeiWkdkIAAMB2waV2QgAAQEJmpnZCAACAc12ndkIAAMA7nql2QgAAgDg6q3ZCAAAAMnKudkIAAABgBbF2QgAAgCuqsXZCAAAAJeK0dkIAAEBW2bV2QgAAwCF+tnZCAACAHhq4dkIAAMBPEbl2QgAAQBu2uXZCAACATK26dkIAAIARir52QgAAwEKBv3ZCAACAPx3BdkIAAAALwsF2QgAAQDy5wnZCAACABPrEdkIAAMA18cV2QgAAgDKNx3ZCAABALynJdkIAAAAsxcp2QgAAgPdpy3ZCAABA9AXNdkIAAIAl/c12QgAAAPGhznZCAABAIpnPdkIAAAAfNdF2QgAAwBvR0nZCAABA53XTdkIAAIAYbdR2QgAAAOQR1XZCAAAAEqXXdkIAAIDdSdh2QgAAwA5B2XZCAAAA14HbdkIAAEAIedx2QgAAwNMd3XZCAABAzVXgdkIAAIDDKeV2QgAAgPG853ZCAAAAvWHodkIAAADr9Op2QgAAgLaZ63ZCAADA55DsdkIAAECzNe12QgAAgOQs7nZCAAAAsNHudkIAAMCsbfB2QgAAQKal83ZCAACA15z0dkIAAACjQfV2QgAAQNQ49nZCAAAA0dT3dkIAAICcefh2QgAAwM1w+XZCAABAmRX6dkIAAIDKDPt2QgAAAJax+3ZCAABAx6j8dkIAAMCSTf12QgAAAMRE/nZCAACAj+n+dkIAAECMhQB3QgAAgL18AXdCAAAAiSECd0IAAEC6GAN3QgAAwIW9A3dCAACAglkFd0IAAMCzUAZ3QgAAQH/1BndCAAAAfJEId0IAAMB4LQp3QgAAAKokC3dCAADApsAMd0IAAICjXA53QgAAAG8BD3dCAADAa50Qd0IAAMCZMBN3QgAAQGXVE3dCAACAlswUd0IAAABicRV3QgAAQJNoFndCAAAAkAQYd0IAAIBbqRh3QgAAQFhFGndCAACAiTwbd0IAAECG2Bx3Qg==\",\"dtype\":\"float64\",\"order\":\"little\",\"shape\":[305]},\"value\":{\"__ndarray__\":\"QV4bPwAAwP+nkgA/geI2P/GvLz+jSBw/Vp44P8ItNz/EESc/KGMwP4WcKz8AAMD/F7EmP16oLD8vZhY/vL0tP7/FKD+qfwo/j/DfPh6B7T6MMuk+HMTkPmu26T4Yib8+msbiPqp8dz69Hug+x0jtPgon7D4IEqE+tSXXPmoZtT779rM+AADA/+lE3D4zWNw+FFH5PgAAwP/9wgQ/AADA/4ApWj57kRg/AADA//R/LD/9PC0/ktIzPwAAwP+GfSs/GJ06PwAAwP+R+Tg/ZKs4P9vtAj/3xQ0/iUkoP66IOj/V2DE/AADA/37GHj8AAMD/F30uP4/KLz+QPCU/cIs2P4xeND+fDDE/IkglP+8zFD/3sy8/v/4hP01qIT/5ACw/ds0sP56N5T5TXTE/AADA/5GILj9iYyg/SVcUP6lQJz9G6SY/5E8KP8W8Az9L6iA/Z44IP8zyDT87fQU/A6kvPq8Yxz4sZ90+NrjBPgLSwT6KcdU+IzA7PkwD3D51GLM+Z4fiPgAAwP9ZsZI+AADA/9S4uD4AAMD/WDeaPnGd2T7JW70+qbHfPjOeyD4AAMD/pfyCPpkxwD6k9Jo+DGVSPulKAj4/98c+AADA/2/Pjz4vrBg+ZyvEPgAAwP9doqE+QwU2Pqug5j5Y8Nk+5tP3PgAAwP+mSSI/AADA/0LqMz/4mDI/u/IsPxUsNj8zsC8//X0rP04/JT/LkQk/AADA/568pT4AAMD/OwcuPyd4LD9ATiw/+U8tP7y7Kj9k0yw/+IwAP2PGqD7omSQ/IbsDPwAAwP8AAMD/chAzP1NgJj9bK/M+kPovPwAAwP8l3eU+iHwhP0t4LD/EUyY/rMkxP4v6Lz8vuCE/CUEsP7ts0T4s6xw/69wfP1K0JD/c0yE/SrwePwAAwP+bU7k+f3HPPtIq1D75+JI+vcKmPq2trj54qic+RcqVPiIFnj1aLKA+1gWmPh8Ngz4AAMD/r3OqPrqgqD45WbQ+s7w5PgAAwP92GnM+BJR4Ple/ED7r5Ik8PUFHPNZviTysNOI82ZwOPf00hj0VTBY+1QGGPm8ymD4MxbY+AADA/zXqtD743rY+h3EJPlEPuT6PhrQ+tCC0Pr2WtD4AAMD/AADA/2SThz4AAMD/UPGMPjy5oz6+Mwq7Nz2FPgAAwP+o1JE+lJaUPsXIjT68QHw+1cOSPum8cD4AAMD/ihyTPhtljz4Pmok+FwuHPpAQDj56fJM+GpaKPhy6iT7LZJg+AADA/wAAwP8AAMD/gfyQPoVcjj6wSJo+Fu2aPgAAwP+Egpg+kqGdPlrCoT5IiY8+2nWaPpMpkT44l6A+AADA//+Rij6tO4o+hZ6VPqmwiz69gI4+GwOFPqkQGrvTUbq9EIppvEeNCr4vdny9C0ooPEWblbvQnFm85NOuu+iM0ruwAKs6xgE+PGoFdbzlXTK8ef0bvIYT+bwR2jS8SNMsvEGroLy9/wU90kY5PL3pbzp9fQ88MguUPGkyjr0AfEK7wo+iu3Y+cLyDPH4702/IO3zzoTwAAMD/aZB+PTwxGDz6u1O8+6wgvU4HjLy7taw8vbBuPYj1TDrSuEQ9sCIGPtogLT7wcDw+9tY+Pl7FRT5HwV0+AADA/0ZpZT4=\",\"dtype\":\"float32\",\"order\":\"little\",\"shape\":[305]}},\"selected\":{\"id\":\"2586\"},\"selection_policy\":{\"id\":\"2612\"}},\"id\":\"2585\",\"type\":\"ColumnDataSource\"},{\"attributes\":{\"margin\":[5,5,5,5],\"name\":\"HSpacer16206\",\"sizing_mode\":\"stretch_width\"},\"id\":\"2509\",\"type\":\"Spacer\"},{\"attributes\":{},\"id\":\"2537\",\"type\":\"PanTool\"},{\"attributes\":{},\"id\":\"2524\",\"type\":\"LinearScale\"},{\"attributes\":{\"label\":{\"value\":\"l1c_NDVI\"},\"renderers\":[{\"id\":\"2591\"}]},\"id\":\"2615\",\"type\":\"LegendItem\"},{\"attributes\":{\"data_source\":{\"id\":\"2585\"},\"glyph\":{\"id\":\"2588\"},\"hover_glyph\":null,\"muted_glyph\":{\"id\":\"2590\"},\"nonselection_glyph\":{\"id\":\"2589\"},\"selection_glyph\":null,\"view\":{\"id\":\"2592\"}},\"id\":\"2591\",\"type\":\"GlyphRenderer\"},{\"attributes\":{\"end\":1592956800000.0,\"reset_end\":1592956800000.0,\"reset_start\":1459209600000.0,\"start\":1459209600000.0,\"tags\":[[[\"t\",\"t\",null]]]},\"id\":\"2512\",\"type\":\"Range1d\"},{\"attributes\":{\"fill_alpha\":{\"value\":0.2},\"fill_color\":{\"value\":\"#fc4f30\"},\"line_alpha\":{\"value\":0.2},\"line_color\":{\"value\":\"#fc4f30\"},\"size\":{\"units\":\"screen\",\"value\":5.477225575051661},\"x\":{\"field\":\"t\"},\"y\":{\"field\":\"value\"}},\"id\":\"2590\",\"type\":\"Scatter\"},{\"attributes\":{},\"id\":\"2536\",\"type\":\"SaveTool\"},{\"attributes\":{},\"id\":\"2580\",\"type\":\"UnionRenderers\"},{\"attributes\":{},\"id\":\"2552\",\"type\":\"DatetimeTickFormatter\"},{\"attributes\":{\"margin\":[5,5,5,5],\"name\":\"HSpacer16207\",\"sizing_mode\":\"stretch_width\"},\"id\":\"2865\",\"type\":\"Spacer\"},{\"attributes\":{},\"id\":\"2554\",\"type\":\"BasicTickFormatter\"},{\"attributes\":{\"axis\":{\"id\":\"2528\"},\"grid_line_color\":null,\"ticker\":null},\"id\":\"2531\",\"type\":\"Grid\"},{\"attributes\":{\"data_source\":{\"id\":\"2555\"},\"glyph\":{\"id\":\"2558\"},\"hover_glyph\":null,\"muted_glyph\":{\"id\":\"2560\"},\"nonselection_glyph\":{\"id\":\"2559\"},\"selection_glyph\":null,\"view\":{\"id\":\"2562\"}},\"id\":\"2561\",\"type\":\"GlyphRenderer\"},{\"attributes\":{\"click_policy\":\"mute\",\"items\":[{\"id\":\"2584\"},{\"id\":\"2615\"},{\"id\":\"2648\"}],\"title\":\"Variable\"},\"id\":\"2583\",\"type\":\"Legend\"},{\"attributes\":{\"overlay\":{\"id\":\"2541\"}},\"id\":\"2539\",\"type\":\"BoxZoomTool\"},{\"attributes\":{\"fill_color\":{\"value\":\"#30a2da\"},\"line_color\":{\"value\":\"#30a2da\"},\"size\":{\"units\":\"screen\",\"value\":5.477225575051661},\"x\":{\"field\":\"t\"},\"y\":{\"field\":\"value\"}},\"id\":\"2558\",\"type\":\"Scatter\"},{\"attributes\":{\"label\":{\"value\":\"iCor_NDVI\"},\"renderers\":[{\"id\":\"2561\"}]},\"id\":\"2584\",\"type\":\"LegendItem\"},{\"attributes\":{\"fill_alpha\":{\"value\":0.1},\"fill_color\":{\"value\":\"#e5ae38\"},\"line_alpha\":{\"value\":0.1},\"line_color\":{\"value\":\"#e5ae38\"},\"size\":{\"units\":\"screen\",\"value\":5.477225575051661},\"x\":{\"field\":\"t\"},\"y\":{\"field\":\"value\"}},\"id\":\"2620\",\"type\":\"Scatter\"},{\"attributes\":{},\"id\":\"2540\",\"type\":\"ResetTool\"},{\"attributes\":{},\"id\":\"2645\",\"type\":\"UnionRenderers\"},{\"attributes\":{\"below\":[{\"id\":\"2528\"}],\"center\":[{\"id\":\"2531\"},{\"id\":\"2535\"},{\"id\":\"2583\"}],\"left\":[{\"id\":\"2532\"}],\"margin\":[5,5,5,5],\"min_border_bottom\":10,\"min_border_left\":10,\"min_border_right\":10,\"min_border_top\":10,\"plot_height\":300,\"plot_width\":800,\"renderers\":[{\"id\":\"2561\"},{\"id\":\"2591\"},{\"id\":\"2622\"}],\"sizing_mode\":\"fixed\",\"title\":{\"id\":\"2520\"},\"toolbar\":{\"id\":\"2542\"},\"x_range\":{\"id\":\"2512\"},\"x_scale\":{\"id\":\"2524\"},\"y_range\":{\"id\":\"2513\"},\"y_scale\":{\"id\":\"2526\"}},\"id\":\"2519\",\"subtype\":\"Figure\",\"type\":\"Plot\"},{\"attributes\":{\"fill_color\":{\"value\":\"#e5ae38\"},\"line_color\":{\"value\":\"#e5ae38\"},\"size\":{\"units\":\"screen\",\"value\":5.477225575051661},\"x\":{\"field\":\"t\"},\"y\":{\"field\":\"value\"}},\"id\":\"2619\",\"type\":\"Scatter\"},{\"attributes\":{\"data\":{\"Variable\":[\"smac_NDVI\",\"smac_NDVI\",\"smac_NDVI\",\"smac_NDVI\",\"smac_NDVI\",\"smac_NDVI\",\"smac_NDVI\",\"smac_NDVI\",\"smac_NDVI\",\"smac_NDVI\",\"smac_NDVI\",\"smac_NDVI\",\"smac_NDVI\",\"smac_NDVI\",\"smac_NDVI\",\"smac_NDVI\",\"smac_NDVI\",\"smac_NDVI\",\"smac_NDVI\",\"smac_NDVI\",\"smac_NDVI\",\"smac_NDVI\",\"smac_NDVI\",\"smac_NDVI\",\"smac_NDVI\",\"smac_NDVI\",\"smac_NDVI\",\"smac_NDVI\",\"smac_NDVI\",\"smac_NDVI\",\"smac_NDVI\",\"smac_NDVI\",\"smac_NDVI\",\"smac_NDVI\",\"smac_NDVI\",\"smac_NDVI\",\"smac_NDVI\",\"smac_NDVI\",\"smac_NDVI\",\"smac_NDVI\",\"smac_NDVI\",\"smac_NDVI\",\"smac_NDVI\",\"smac_NDVI\",\"smac_NDVI\",\"smac_NDVI\",\"smac_NDVI\",\"smac_NDVI\",\"smac_NDVI\",\"smac_NDVI\",\"smac_NDVI\",\"smac_NDVI\",\"smac_NDVI\",\"smac_NDVI\",\"smac_NDVI\",\"smac_NDVI\",\"smac_NDVI\",\"smac_NDVI\",\"smac_NDVI\",\"smac_NDVI\",\"smac_NDVI\",\"smac_NDVI\",\"smac_NDVI\",\"smac_NDVI\",\"smac_NDVI\",\"smac_NDVI\",\"smac_NDVI\",\"smac_NDVI\",\"smac_NDVI\",\"smac_NDVI\",\"smac_NDVI\",\"smac_NDVI\",\"smac_NDVI\",\"smac_NDVI\",\"smac_NDVI\",\"smac_NDVI\",\"smac_NDVI\",\"smac_NDVI\",\"smac_NDVI\",\"smac_NDVI\",\"smac_NDVI\",\"smac_NDVI\",\"smac_NDVI\",\"smac_NDVI\",\"smac_NDVI\",\"smac_NDVI\",\"smac_NDVI\",\"smac_NDVI\",\"smac_NDVI\",\"smac_NDVI\",\"smac_NDVI\",\"smac_NDVI\",\"smac_NDVI\",\"smac_NDVI\",\"smac_NDVI\",\"smac_NDVI\",\"smac_NDVI\",\"smac_NDVI\",\"smac_NDVI\",\"smac_NDVI\",\"smac_NDVI\",\"smac_NDVI\",\"smac_NDVI\",\"smac_NDVI\",\"smac_NDVI\",\"smac_NDVI\",\"smac_NDVI\",\"smac_NDVI\",\"smac_NDVI\",\"smac_NDVI\",\"smac_NDVI\",\"smac_NDVI\",\"smac_NDVI\",\"smac_NDVI\",\"smac_NDVI\",\"smac_NDVI\",\"smac_NDVI\",\"smac_NDVI\",\"smac_NDVI\",\"smac_NDVI\",\"smac_NDVI\",\"smac_NDVI\",\"smac_NDVI\",\"smac_NDVI\",\"smac_NDVI\",\"smac_NDVI\",\"smac_NDVI\",\"smac_NDVI\",\"smac_NDVI\",\"smac_NDVI\",\"smac_NDVI\",\"smac_NDVI\",\"smac_NDVI\",\"smac_NDVI\",\"smac_NDVI\",\"smac_NDVI\",\"smac_NDVI\",\"smac_NDVI\",\"smac_NDVI\",\"smac_NDVI\",\"smac_NDVI\",\"smac_NDVI\",\"smac_NDVI\",\"smac_NDVI\",\"smac_NDVI\",\"smac_NDVI\",\"smac_NDVI\",\"smac_NDVI\",\"smac_NDVI\",\"smac_NDVI\",\"smac_NDVI\",\"smac_NDVI\",\"smac_NDVI\",\"smac_NDVI\",\"smac_NDVI\",\"smac_NDVI\",\"smac_NDVI\",\"smac_NDVI\",\"smac_NDVI\",\"smac_NDVI\",\"smac_NDVI\",\"smac_NDVI\",\"smac_NDVI\",\"smac_NDVI\",\"smac_NDVI\",\"smac_NDVI\",\"smac_NDVI\",\"smac_NDVI\",\"smac_NDVI\",\"smac_NDVI\",\"smac_NDVI\",\"smac_NDVI\",\"smac_NDVI\",\"smac_NDVI\",\"smac_NDVI\",\"smac_NDVI\",\"smac_NDVI\",\"smac_NDVI\",\"smac_NDVI\",\"smac_NDVI\",\"smac_NDVI\",\"smac_NDVI\",\"smac_NDVI\",\"smac_NDVI\",\"smac_NDVI\",\"smac_NDVI\",\"smac_NDVI\",\"smac_NDVI\",\"smac_NDVI\",\"smac_NDVI\",\"smac_NDVI\",\"smac_NDVI\",\"smac_NDVI\",\"smac_NDVI\",\"smac_NDVI\",\"smac_NDVI\",\"smac_NDVI\",\"smac_NDVI\",\"smac_NDVI\",\"smac_NDVI\",\"smac_NDVI\",\"smac_NDVI\",\"smac_NDVI\",\"smac_NDVI\",\"smac_NDVI\",\"smac_NDVI\",\"smac_NDVI\",\"smac_NDVI\",\"smac_NDVI\",\"smac_NDVI\",\"smac_NDVI\",\"smac_NDVI\",\"smac_NDVI\",\"smac_NDVI\",\"smac_NDVI\",\"smac_NDVI\",\"smac_NDVI\",\"smac_NDVI\",\"smac_NDVI\",\"smac_NDVI\",\"smac_NDVI\",\"smac_NDVI\",\"smac_NDVI\",\"smac_NDVI\",\"smac_NDVI\",\"smac_NDVI\",\"smac_NDVI\",\"smac_NDVI\",\"smac_NDVI\",\"smac_NDVI\",\"smac_NDVI\",\"smac_NDVI\",\"smac_NDVI\",\"smac_NDVI\",\"smac_NDVI\",\"smac_NDVI\",\"smac_NDVI\",\"smac_NDVI\",\"smac_NDVI\",\"smac_NDVI\",\"smac_NDVI\",\"smac_NDVI\",\"smac_NDVI\",\"smac_NDVI\",\"smac_NDVI\",\"smac_NDVI\",\"smac_NDVI\",\"smac_NDVI\",\"smac_NDVI\",\"smac_NDVI\",\"smac_NDVI\",\"smac_NDVI\",\"smac_NDVI\",\"smac_NDVI\",\"smac_NDVI\",\"smac_NDVI\",\"smac_NDVI\",\"smac_NDVI\",\"smac_NDVI\",\"smac_NDVI\",\"smac_NDVI\",\"smac_NDVI\",\"smac_NDVI\",\"smac_NDVI\",\"smac_NDVI\",\"smac_NDVI\",\"smac_NDVI\",\"smac_NDVI\",\"smac_NDVI\",\"smac_NDVI\",\"smac_NDVI\",\"smac_NDVI\",\"smac_NDVI\",\"smac_NDVI\",\"smac_NDVI\",\"smac_NDVI\",\"smac_NDVI\",\"smac_NDVI\",\"smac_NDVI\",\"smac_NDVI\",\"smac_NDVI\",\"smac_NDVI\",\"smac_NDVI\",\"smac_NDVI\",\"smac_NDVI\",\"smac_NDVI\",\"smac_NDVI\",\"smac_NDVI\",\"smac_NDVI\",\"smac_NDVI\",\"smac_NDVI\",\"smac_NDVI\",\"smac_NDVI\",\"smac_NDVI\",\"smac_NDVI\",\"smac_NDVI\",\"smac_NDVI\",\"smac_NDVI\",\"smac_NDVI\",\"smac_NDVI\",\"smac_NDVI\",\"smac_NDVI\",\"smac_NDVI\",\"smac_NDVI\",\"smac_NDVI\"],\"t\":{\"__ndarray__\":\"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\",\"dtype\":\"float64\",\"order\":\"little\",\"shape\":[305]},\"value\":{\"__ndarray__\":\"ngNSPwAAwP9BbSg/hJ1jP3POZT8US0o/NrJfP4lXZz9LM1A/HeVbP0uqXT8AAMD/0SVPPx0qYD9m8Uc/GAxhPwgsXz+SXTs/jDIXP9bMNT+pBzs/bi40P93ANz+KfxY/cog3P/831T5B7DU/zWY4PzfALj9GudY+w6AiP6DV+T6FNuA+AADA/0GXET9wIzc/4wUuPwAAwP+PcDM/AADA/4iYwD7hQFM/AADA/0YyWD/0blY/VuJYPwAAwP8gRls/P5tnPwAAwP9EzVw/RmRkP+0zKj/kuyY/91lJPyfqaT+foVk/AADA/2/cVz8AAMD/Ow5fPzFIZT/j2FQ/KUBfP2CkXD/n+GE/s5lMP4+sNT8Dp2w/ClFYP60eTT/6k2Y/3KdaP/8uLD8DJGI/AADA/xJOYj9S61k/UNZOP7AgXz9pfFk/DUpKP2SFPT8aYFQ/r79BPz+PPT9x0DY/kdeBPmW9BD8MkRw/IwcCP3r4CT9lIhs/8p3qPnjDJD/shAM/0mozPwAAwP/198g+AADA/1gvAz8AAMD/qmLAPghJHT81fxE/Op4eP6VKBz8AAMD/wCOZPn7W9T44zsg++mN4PjRnDD6AtPk+AADA/8WSsT7Sdpc+izz3PgAAwP/SUMY+vUb8PoHhFz+1+yU/G9kuPwAAwP8aIkg/AADA/zhXYj9fWVY/IJVlPzq2XT+KX2c/O+VVP1c3VD/arCI/AADA//Mzuj4AAMD/DC1YP+OPUz/MN1Y/795YPxfUZz93wWs/ZTQpPxu31z76pEY/InxcPwAAwP8AAMD/PKFgP6suVD8fRz4/a4djPwAAwP/z0hc/7VNWP8uMZT/90mA/Yy1nP3JAYj87tVY/XcllP55uUD+Ez1E/wM9iP+cNXT+/Cl4/ECpWPwAAwP+JjAI/9Fj/Pmo3Cz/p2bA+MSbZPg1q5z7sti0+OXm1PquOCj58FcU+2g3OPrKkqj4AAMD/wA/LPqPLzj5ntOA+dIGmPgAAwP/v+oQ+pZqFPvh6Cj6ex/e4KcNou8r7/TphUmU8lfLCPNQWej3UcBw+u1GXPvsOrj6f1NA+AADA/47/0D4AxNA+MHEIPvN11T6xYdI+k/7NPh1Xzj4AAMD/AADA/6Galj4AAMD/dhSpPjXxtT6Jexq87CiVPgAAwP+1CKI+Vy+nPkJqoT5v458+eOGkPpmAnT4AAMD/xRGkPhAIqT4RAaQ+miKcPr6NbT4IGqk+H4qkPgiioj4N2Lw+AADA/wAAwP8AAMD/A8GiPu1DqT4WS7g+bVe0PgAAwP8Ncbc+GDm3Pk5qvj7ojb8+ak64PntVpj7WnL4+AADA/6D5rD44eK0+XfC2Pg/Ztj6PzqU+4BGpPhXmn7xeota90aUHvUC6GL6yIKi995osvCws17yAihK9pOfYvEW68Ly9Kaq8TjkkvBbdFr2MtQe9yQABvfwAVb0rSwO9IKT/vKtjJL2XRVg8fbEIvMKfk7y8mB+8XgRKOpO9Tb24N5u8qyKXvPRU5LxPAOm7JFr6urf5RzwAAMD/6ix5PWm4X7smL9O8JjhXvUdm4ryMrp08QJKyPfFNI7wv5T89dY0fPpSWUT7vmW8+avdiPhaRfD4Xx4U+AADA/7ZrgT4=\",\"dtype\":\"float32\",\"order\":\"little\",\"shape\":[305]}},\"selected\":{\"id\":\"2617\"},\"selection_policy\":{\"id\":\"2645\"}},\"id\":\"2616\",\"type\":\"ColumnDataSource\"},{\"attributes\":{},\"id\":\"2556\",\"type\":\"Selection\"},{\"attributes\":{},\"id\":\"2538\",\"type\":\"WheelZoomTool\"},{\"attributes\":{\"source\":{\"id\":\"2555\"}},\"id\":\"2562\",\"type\":\"CDSView\"},{\"attributes\":{\"axis\":{\"id\":\"2532\"},\"dimension\":1,\"grid_line_color\":null,\"ticker\":null},\"id\":\"2535\",\"type\":\"Grid\"},{\"attributes\":{\"fill_alpha\":{\"value\":0.1},\"fill_color\":{\"value\":\"#30a2da\"},\"line_alpha\":{\"value\":0.1},\"line_color\":{\"value\":\"#30a2da\"},\"size\":{\"units\":\"screen\",\"value\":5.477225575051661},\"x\":{\"field\":\"t\"},\"y\":{\"field\":\"value\"}},\"id\":\"2559\",\"type\":\"Scatter\"},{\"attributes\":{\"fill_alpha\":{\"value\":0.2},\"fill_color\":{\"value\":\"#30a2da\"},\"line_alpha\":{\"value\":0.2},\"line_color\":{\"value\":\"#30a2da\"},\"size\":{\"units\":\"screen\",\"value\":5.477225575051661},\"x\":{\"field\":\"t\"},\"y\":{\"field\":\"value\"}},\"id\":\"2560\",\"type\":\"Scatter\"},{\"attributes\":{},\"id\":\"2526\",\"type\":\"LinearScale\"},{\"attributes\":{\"end\":1.0317805349826812,\"reset_end\":1.0317805349826812,\"reset_start\":-0.2565051257610321,\"start\":-0.2565051257610321,\"tags\":[[[\"value\",\"value\",null]]]},\"id\":\"2513\",\"type\":\"Range1d\"},{\"attributes\":{},\"id\":\"2612\",\"type\":\"UnionRenderers\"}],\"root_ids\":[\"2508\"]},\"title\":\"Bokeh Application\",\"version\":\"2.2.3\"}};\n",
       "    var render_items = [{\"docid\":\"71a42b64-7385-4d8f-9328-34d7edcc2f9b\",\"root_ids\":[\"2508\"],\"roots\":{\"2508\":\"e559b632-4d53-4cdc-9ab8-0720ec348668\"}}];\n",
       "    root.Bokeh.embed.embed_items_notebook(docs_json, render_items);\n",
       "  }\n",
       "  if (root.Bokeh !== undefined && root.Bokeh.Panel !== undefined) {\n",
       "    embed_document(root);\n",
       "  } else {\n",
       "    var attempts = 0;\n",
       "    var timer = setInterval(function(root) {\n",
       "      if (root.Bokeh !== undefined && root.Bokeh.Panel !== undefined) {\n",
       "        clearInterval(timer);\n",
       "        embed_document(root);\n",
       "      } else if (document.readyState == \"complete\") {\n",
       "        attempts++;\n",
       "        if (attempts > 100) {\n",
       "          clearInterval(timer);\n",
       "          console.log(\"Bokeh: ERROR: Unable to run BokehJS code because BokehJS library is missing\");\n",
       "        }\n",
       "      }\n",
       "    }, 10, root)\n",
       "  }\n",
       "})(window);</script>"
      ],
      "text/plain": [
       ":NdOverlay   [Variable]\n",
       "   :Scatter   [t]   (value)"
      ],
      "application/vnd.holoviews_exec.v0+json": ""
     },
     "metadata": {
      "application/vnd.holoviews_exec.v0+json": {
       "id": "2508"
      }
     },
     "execution_count": 19
    }
   ],
   "metadata": {}
  },
  {
   "cell_type": "markdown",
   "source": [
    "4. Additionally, we can load also a pre-computed L2A from Sentinelhub, processed using Sen2Cor."
   ],
   "metadata": {}
  },
  {
   "cell_type": "code",
   "execution_count": null,
   "source": [
    "connection = openeo.connect(\"https://openeo.vito.be\").authenticate_basic()\n",
    "collection      = 'SENTINEL2_L2A_SENTINELHUB'\n",
    "spatial_extent  = {'west':bbox[0],'east':bbox[2],'south':bbox[1],'north':bbox[3],'crs':'EPSG:4326'}\n",
    "temporal_extent = [\"2016-05-01\", \"2020-05-01\"]\n",
    "bands           = [\"B04\",\"B08\",\"CLM\"]\n",
    "\n",
    "l2a_bands = connection.load_collection(collection,spatial_extent=spatial_extent,bands=bands,temporal_extent=temporal_extent)\n",
    "masked_ndvi_s2cor_0 = l2a_bands.reduce_dimension(dimension=\"bands\",reducer = lambda value: if_(neq(array_element(value,2),1),(array_element(value,1)-array_element(value,0))/(array_element(value,1)+array_element(value,0))))\n",
    "masked_ndvi_s2coricor = masked_ndvi_s2cor_0.add_dimension(name=\"bands\", label=\"S2Cor_NDVI\", type=\"bands\")\n",
    "s2core_cube = masked_ndvi_s2coricor.save_result(format=\"NETCDF\")"
   ],
   "outputs": [],
   "metadata": {}
  },
  {
   "cell_type": "code",
   "execution_count": null,
   "source": [
    "job = connection.create_job(s2core_cube.graph)\n",
    "job_id = job.job_id\n",
    "if job_id:\n",
    "    print(\"Batch job created with id: \",job_id)\n",
    "    _ = job.start_job()\n",
    "else:\n",
    "    print(\"Error! Job ID is None\")"
   ],
   "outputs": [],
   "metadata": {}
  },
  {
   "cell_type": "code",
   "execution_count": null,
   "source": [
    "my_job = connection.job(job_id)\n",
    "my_job.describe_job()"
   ],
   "outputs": [],
   "metadata": {}
  },
  {
   "cell_type": "code",
   "execution_count": null,
   "source": [
    "results = my_job.get_results()\n",
    "results.download_file(\"./data/US2/ndvi_sen2cor_timeseries.nc\")"
   ],
   "outputs": [],
   "metadata": {}
  },
  {
   "cell_type": "markdown",
   "source": [
    "5. Now we can compare all the NDVI timeseries together"
   ],
   "metadata": {}
  },
  {
   "cell_type": "code",
   "execution_count": 20,
   "source": [
    "timeseries = xr.open_dataset(\"./data/US2/ndvi_timeseries.nc\")\n",
    "area_mean = timeseries.mean(['x','y'])\n",
    "timeseries_sen2cor = xr.open_dataset(\"./data/US2/ndvi_sen2cor_timeseries.nc\")\n",
    "area_mean_sen2cor = timeseries_sen2cor.mean(['x','y'])\n",
    "area_mean_sen2cor = area_mean_sen2cor.interp_like(area_mean)\n",
    "area_mean['Sen2Cor_NDVI'] = area_mean_sen2cor.S2Cor_NDVI\n",
    "area_mean.hvplot.scatter(legend='top_right',dynamic=False,width=800,height=300)"
   ],
   "outputs": [
    {
     "output_type": "display_data",
     "data": {},
     "metadata": {}
    },
    {
     "output_type": "execute_result",
     "data": {
      "text/html": [
       "<div id='2987'>\n",
       "\n",
       "\n",
       "\n",
       "\n",
       "\n",
       "  <div class=\"bk-root\" id=\"4b122eb7-aee3-4ac3-982f-f3ffabf7eda6\" data-root-id=\"2987\"></div>\n",
       "</div>\n",
       "<script type=\"application/javascript\">(function(root) {\n",
       "  function embed_document(root) {\n",
       "    var docs_json = {\"bae8bf84-d7b4-4a00-a06e-a5215dd3c453\":{\"roots\":{\"references\":[{\"attributes\":{\"fill_alpha\":{\"value\":0.2},\"fill_color\":{\"value\":\"#30a2da\"},\"line_alpha\":{\"value\":0.2},\"line_color\":{\"value\":\"#30a2da\"},\"size\":{\"units\":\"screen\",\"value\":5.477225575051661},\"x\":{\"field\":\"t\"},\"y\":{\"field\":\"value\"}},\"id\":\"3040\",\"type\":\"Scatter\"},{\"attributes\":{\"end\":1592956800000.0,\"reset_end\":1592956800000.0,\"reset_start\":1459209600000.0,\"start\":1459209600000.0,\"tags\":[[[\"t\",\"t\",null]]]},\"id\":\"2991\",\"type\":\"Range1d\"},{\"attributes\":{},\"id\":\"3006\",\"type\":\"LinearScale\"},{\"attributes\":{\"callback\":null,\"formatters\":{\"@{t}\":\"datetime\"},\"renderers\":[{\"id\":\"3041\"},{\"id\":\"3071\"},{\"id\":\"3102\"},{\"id\":\"3135\"}],\"tags\":[\"hv_created\"],\"tooltips\":[[\"Variable\",\"@{Variable}\"],[\"t\",\"@{t}{%F %T}\"],[\"value\",\"@{value}\"]]},\"id\":\"2993\",\"type\":\"HoverTool\"},{\"attributes\":{},\"id\":\"3160\",\"type\":\"UnionRenderers\"},{\"attributes\":{\"axis_label\":\"\",\"bounds\":\"auto\",\"formatter\":{\"id\":\"3034\"},\"major_label_orientation\":\"horizontal\",\"ticker\":{\"id\":\"3013\"}},\"id\":\"3012\",\"type\":\"LinearAxis\"},{\"attributes\":{},\"id\":\"3032\",\"type\":\"DatetimeTickFormatter\"},{\"attributes\":{\"source\":{\"id\":\"3035\"}},\"id\":\"3042\",\"type\":\"CDSView\"},{\"attributes\":{\"fill_alpha\":{\"value\":0.1},\"fill_color\":{\"value\":\"#30a2da\"},\"line_alpha\":{\"value\":0.1},\"line_color\":{\"value\":\"#30a2da\"},\"size\":{\"units\":\"screen\",\"value\":5.477225575051661},\"x\":{\"field\":\"t\"},\"y\":{\"field\":\"value\"}},\"id\":\"3039\",\"type\":\"Scatter\"},{\"attributes\":{\"axis\":{\"id\":\"3012\"},\"dimension\":1,\"grid_line_color\":null,\"ticker\":null},\"id\":\"3015\",\"type\":\"Grid\"},{\"attributes\":{\"below\":[{\"id\":\"3008\"}],\"center\":[{\"id\":\"3011\"},{\"id\":\"3015\"},{\"id\":\"3063\"}],\"left\":[{\"id\":\"3012\"}],\"margin\":[5,5,5,5],\"min_border_bottom\":10,\"min_border_left\":10,\"min_border_right\":10,\"min_border_top\":10,\"plot_height\":300,\"plot_width\":800,\"renderers\":[{\"id\":\"3041\"},{\"id\":\"3071\"},{\"id\":\"3102\"},{\"id\":\"3135\"}],\"sizing_mode\":\"fixed\",\"title\":{\"id\":\"3000\"},\"toolbar\":{\"id\":\"3022\"},\"x_range\":{\"id\":\"2991\"},\"x_scale\":{\"id\":\"3004\"},\"y_range\":{\"id\":\"2992\"},\"y_scale\":{\"id\":\"3006\"}},\"id\":\"2999\",\"subtype\":\"Figure\",\"type\":\"Plot\"},{\"attributes\":{},\"id\":\"3013\",\"type\":\"BasicTicker\"},{\"attributes\":{\"days\":[1,2,3,4,5,6,7,8,9,10,11,12,13,14,15,16,17,18,19,20,21,22,23,24,25,26,27,28,29,30,31]},\"id\":\"3051\",\"type\":\"DaysTicker\"},{\"attributes\":{},\"id\":\"3036\",\"type\":\"Selection\"},{\"attributes\":{\"fill_color\":{\"value\":\"#30a2da\"},\"line_color\":{\"value\":\"#30a2da\"},\"size\":{\"units\":\"screen\",\"value\":5.477225575051661},\"x\":{\"field\":\"t\"},\"y\":{\"field\":\"value\"}},\"id\":\"3038\",\"type\":\"Scatter\"},{\"attributes\":{},\"id\":\"3092\",\"type\":\"UnionRenderers\"},{\"attributes\":{\"fill_color\":{\"value\":\"#6d904f\"},\"line_color\":{\"value\":\"#6d904f\"},\"size\":{\"units\":\"screen\",\"value\":5.477225575051661},\"x\":{\"field\":\"t\"},\"y\":{\"field\":\"value\"}},\"id\":\"3132\",\"type\":\"Scatter\"},{\"attributes\":{\"data_source\":{\"id\":\"3129\"},\"glyph\":{\"id\":\"3132\"},\"hover_glyph\":null,\"muted_glyph\":{\"id\":\"3134\"},\"nonselection_glyph\":{\"id\":\"3133\"},\"selection_glyph\":null,\"view\":{\"id\":\"3136\"}},\"id\":\"3135\",\"type\":\"GlyphRenderer\"},{\"attributes\":{},\"id\":\"3004\",\"type\":\"LinearScale\"},{\"attributes\":{},\"id\":\"3059\",\"type\":\"YearsTicker\"},{\"attributes\":{\"fill_alpha\":{\"value\":0.2},\"fill_color\":{\"value\":\"#6d904f\"},\"line_alpha\":{\"value\":0.2},\"line_color\":{\"value\":\"#6d904f\"},\"size\":{\"units\":\"screen\",\"value\":5.477225575051661},\"x\":{\"field\":\"t\"},\"y\":{\"field\":\"value\"}},\"id\":\"3134\",\"type\":\"Scatter\"},{\"attributes\":{\"axis_label\":\"t\",\"bounds\":\"auto\",\"formatter\":{\"id\":\"3032\"},\"major_label_orientation\":\"horizontal\",\"ticker\":{\"id\":\"3009\"}},\"id\":\"3008\",\"type\":\"DatetimeAxis\"},{\"attributes\":{\"data\":{\"Variable\":[\"iCor_NDVI\",\"iCor_NDVI\",\"iCor_NDVI\",\"iCor_NDVI\",\"iCor_NDVI\",\"iCor_NDVI\",\"iCor_NDVI\",\"iCor_NDVI\",\"iCor_NDVI\",\"iCor_NDVI\",\"iCor_NDVI\",\"iCor_NDVI\",\"iCor_NDVI\",\"iCor_NDVI\",\"iCor_NDVI\",\"iCor_NDVI\",\"iCor_NDVI\",\"iCor_NDVI\",\"iCor_NDVI\",\"iCor_NDVI\",\"iCor_NDVI\",\"iCor_NDVI\",\"iCor_NDVI\",\"iCor_NDVI\",\"iCor_NDVI\",\"iCor_NDVI\",\"iCor_NDVI\",\"iCor_NDVI\",\"iCor_NDVI\",\"iCor_NDVI\",\"iCor_NDVI\",\"iCor_NDVI\",\"iCor_NDVI\",\"iCor_NDVI\",\"iCor_NDVI\",\"iCor_NDVI\",\"iCor_NDVI\",\"iCor_NDVI\",\"iCor_NDVI\",\"iCor_NDVI\",\"iCor_NDVI\",\"iCor_NDVI\",\"iCor_NDVI\",\"iCor_NDVI\",\"iCor_NDVI\",\"iCor_NDVI\",\"iCor_NDVI\",\"iCor_NDVI\",\"iCor_NDVI\",\"iCor_NDVI\",\"iCor_NDVI\",\"iCor_NDVI\",\"iCor_NDVI\",\"iCor_NDVI\",\"iCor_NDVI\",\"iCor_NDVI\",\"iCor_NDVI\",\"iCor_NDVI\",\"iCor_NDVI\",\"iCor_NDVI\",\"iCor_NDVI\",\"iCor_NDVI\",\"iCor_NDVI\",\"iCor_NDVI\",\"iCor_NDVI\",\"iCor_NDVI\",\"iCor_NDVI\",\"iCor_NDVI\",\"iCor_NDVI\",\"iCor_NDVI\",\"iCor_NDVI\",\"iCor_NDVI\",\"iCor_NDVI\",\"iCor_NDVI\",\"iCor_NDVI\",\"iCor_NDVI\",\"iCor_NDVI\",\"iCor_NDVI\",\"iCor_NDVI\",\"iCor_NDVI\",\"iCor_NDVI\",\"iCor_NDVI\",\"iCor_NDVI\",\"iCor_NDVI\",\"iCor_NDVI\",\"iCor_NDVI\",\"iCor_NDVI\",\"iCor_NDVI\",\"iCor_NDVI\",\"iCor_NDVI\",\"iCor_NDVI\",\"iCor_NDVI\",\"iCor_NDVI\",\"iCor_NDVI\",\"iCor_NDVI\",\"iCor_NDVI\",\"iCor_NDVI\",\"iCor_NDVI\",\"iCor_NDVI\",\"iCor_NDVI\",\"iCor_NDVI\",\"iCor_NDVI\",\"iCor_NDVI\",\"iCor_NDVI\",\"iCor_NDVI\",\"iCor_NDVI\",\"iCor_NDVI\",\"iCor_NDVI\",\"iCor_NDVI\",\"iCor_NDVI\",\"iCor_NDVI\",\"iCor_NDVI\",\"iCor_NDVI\",\"iCor_NDVI\",\"iCor_NDVI\",\"iCor_NDVI\",\"iCor_NDVI\",\"iCor_NDVI\",\"iCor_NDVI\",\"iCor_NDVI\",\"iCor_NDVI\",\"iCor_NDVI\",\"iCor_NDVI\",\"iCor_NDVI\",\"iCor_NDVI\",\"iCor_NDVI\",\"iCor_NDVI\",\"iCor_NDVI\",\"iCor_NDVI\",\"iCor_NDVI\",\"iCor_NDVI\",\"iCor_NDVI\",\"iCor_NDVI\",\"iCor_NDVI\",\"iCor_NDVI\",\"iCor_NDVI\",\"iCor_NDVI\",\"iCor_NDVI\",\"iCor_NDVI\",\"iCor_NDVI\",\"iCor_NDVI\",\"iCor_NDVI\",\"iCor_NDVI\",\"iCor_NDVI\",\"iCor_NDVI\",\"iCor_NDVI\",\"iCor_NDVI\",\"iCor_NDVI\",\"iCor_NDVI\",\"iCor_NDVI\",\"iCor_NDVI\",\"iCor_NDVI\",\"iCor_NDVI\",\"iCor_NDVI\",\"iCor_NDVI\",\"iCor_NDVI\",\"iCor_NDVI\",\"iCor_NDVI\",\"iCor_NDVI\",\"iCor_NDVI\",\"iCor_NDVI\",\"iCor_NDVI\",\"iCor_NDVI\",\"iCor_NDVI\",\"iCor_NDVI\",\"iCor_NDVI\",\"iCor_NDVI\",\"iCor_NDVI\",\"iCor_NDVI\",\"iCor_NDVI\",\"iCor_NDVI\",\"iCor_NDVI\",\"iCor_NDVI\",\"iCor_NDVI\",\"iCor_NDVI\",\"iCor_NDVI\",\"iCor_NDVI\",\"iCor_NDVI\",\"iCor_NDVI\",\"iCor_NDVI\",\"iCor_NDVI\",\"iCor_NDVI\",\"iCor_NDVI\",\"iCor_NDVI\",\"iCor_NDVI\",\"iCor_NDVI\",\"iCor_NDVI\",\"iCor_NDVI\",\"iCor_NDVI\",\"iCor_NDVI\",\"iCor_NDVI\",\"iCor_NDVI\",\"iCor_NDVI\",\"iCor_NDVI\",\"iCor_NDVI\",\"iCor_NDVI\",\"iCor_NDVI\",\"iCor_NDVI\",\"iCor_NDVI\",\"iCor_NDVI\",\"iCor_NDVI\",\"iCor_NDVI\",\"iCor_NDVI\",\"iCor_NDVI\",\"iCor_NDVI\",\"iCor_NDVI\",\"iCor_NDVI\",\"iCor_NDVI\",\"iCor_NDVI\",\"iCor_NDVI\",\"iCor_NDVI\",\"iCor_NDVI\",\"iCor_NDVI\",\"iCor_NDVI\",\"iCor_NDVI\",\"iCor_NDVI\",\"iCor_NDVI\",\"iCor_NDVI\",\"iCor_NDVI\",\"iCor_NDVI\",\"iCor_NDVI\",\"iCor_NDVI\",\"iCor_NDVI\",\"iCor_NDVI\",\"iCor_NDVI\",\"iCor_NDVI\",\"iCor_NDVI\",\"iCor_NDVI\",\"iCor_NDVI\",\"iCor_NDVI\",\"iCor_NDVI\",\"iCor_NDVI\",\"iCor_NDVI\",\"iCor_NDVI\",\"iCor_NDVI\",\"iCor_NDVI\",\"iCor_NDVI\",\"iCor_NDVI\",\"iCor_NDVI\",\"iCor_NDVI\",\"iCor_NDVI\",\"iCor_NDVI\",\"iCor_NDVI\",\"iCor_NDVI\",\"iCor_NDVI\",\"iCor_NDVI\",\"iCor_NDVI\",\"iCor_NDVI\",\"iCor_NDVI\",\"iCor_NDVI\",\"iCor_NDVI\",\"iCor_NDVI\",\"iCor_NDVI\",\"iCor_NDVI\",\"iCor_NDVI\",\"iCor_NDVI\",\"iCor_NDVI\",\"iCor_NDVI\",\"iCor_NDVI\",\"iCor_NDVI\",\"iCor_NDVI\",\"iCor_NDVI\",\"iCor_NDVI\",\"iCor_NDVI\",\"iCor_NDVI\",\"iCor_NDVI\",\"iCor_NDVI\",\"iCor_NDVI\",\"iCor_NDVI\",\"iCor_NDVI\",\"iCor_NDVI\",\"iCor_NDVI\",\"iCor_NDVI\",\"iCor_NDVI\",\"iCor_NDVI\",\"iCor_NDVI\",\"iCor_NDVI\",\"iCor_NDVI\",\"iCor_NDVI\",\"iCor_NDVI\",\"iCor_NDVI\",\"iCor_NDVI\",\"iCor_NDVI\",\"iCor_NDVI\",\"iCor_NDVI\",\"iCor_NDVI\",\"iCor_NDVI\",\"iCor_NDVI\",\"iCor_NDVI\",\"iCor_NDVI\",\"iCor_NDVI\",\"iCor_NDVI\",\"iCor_NDVI\",\"iCor_NDVI\",\"iCor_NDVI\",\"iCor_NDVI\",\"iCor_NDVI\",\"iCor_NDVI\",\"iCor_NDVI\",\"iCor_NDVI\",\"iCor_NDVI\",\"iCor_NDVI\",\"iCor_NDVI\",\"iCor_NDVI\",\"iCor_NDVI\"],\"t\":{\"__ndarray__\":\"AABALlxNdUIAAIDpDFZ1QgAAwBoEV3VCAAAA40RZdUIAAEAUPFp1QgAAwA10XXVCAAAA1rRfdUIAAADJJGZ1QgAAgMJcaXVCAAAAvJRsdUIAAIC1zG91QgAAwObDcHVCAABA4PtzdUIAAICoPHZ1QgAAwNkzd3VCAAAAonR5dUIAAICbrHx1QgAAQMbbgHVCAAAAiFSGdUIAAMCyg4p1QgAAAHvEjHVCAABArLuNdUIAAIB0/I91QgAAAG40k3VCAABAnyuUdUIAAIBnbJZ1QgAAwJhjl3VCAACAWtycdUIAAMCL0511QgAAgE1Mo3VCAADAfkOkdUIAAABHhKZ1QgAAQHh7p3VCAACAQLypdUIAAMBxs6p1QgAAgDMssHVCAADAZCOxdUIAAEBeW7R1QgAAgCactnVCAADAV5O3dUIAAAATRMB1QgAAQEQ7wXVCAACADHzDdUIAAMA9c8R1QgAAAAa0xnVCAACA/+vJdUIAAMAw48p1QgAAAPkjzXVCAABAKhvOdUIAAAAnt891QgAAgPJb0HVCAADAI1PRdUIAAEDv99F1QgAAgCDv0nVCAAAA7JPTdUIAAEAdi9R1QgAAwOgv1XVCAAAAGifWdUIAAIDly9Z1QgAAQOJn2HVCAACAE1/ZdUIAAADfA9p1QgAAQBD72nVCAADA25/bdUIAAIDYO911QgAAwAkz3nVCAABA1dfedUIAAIAGz991QgAAANJz4HVCAABAA2vhdUIAAMDOD+J1QgAAAAAH43VCAADA/KLkdUIAAEDIR+V1QgAAgL4b6nVCAABAu7frdUIAAMC07+51QgAAAObm73VCAACAsYvwdUIAAMDigvF1QgAAQK4n8nVCAACA3x7zdUIAAACrw/N1QgAAQNy69HVCAADAp1/1dUIAAICk+/Z1QgAAwNXy93VCAACA0o75dUIAAMCaz/t1QgAAAMzG/HVCAACAl2v9dUIAAEDCmgF2QgAAwI0/AnZCAADAu9IEdkIAAACEEwd2QgAAQLUKCHZCAADAgK8IdkIAAACypgl2QgAAwK5CC3ZCAAAAd4MNdkIAAECoeg52QgAAgHC7EHZCAADAobIRdkIAAEBtVxJ2QgAAgJ5OE3ZCAAAAavMTdkIAAMCUIhh2QgAAgJG+GXZCAAAAXWMadkIAAACL9hx2QgAAgFabHXZCAACAhC4gdkIAAIBJCyR2QgAAwHoCJXZCAABARqcldkIAAIB3niZ2QgAAAENDJ3ZCAABAdDoodkIAAABx1il2QgAAQDkXLHZCAACAag4tdkIAAAA2sy12QgAAQGeqLnZCAADAMk8vdkIAAABXtjZ2QgAAQE2KO3ZCAAAASiY9dkIAAIBDXkB2QgAAAA8DQXZCAABAQPpBdkIAAMALn0J2QgAAAD2WQ3ZCAADAOTJFdkIAAEAF10V2QgAAAAJzR3ZCAABAM2pIdkIAAMD+Dkl2QgAAADAGSnZCAACA+6pKdkIAAED4Rkx2QgAAAPXiTXZCAABAJtpOdkIAAAAjdlB2QgAAgO4aUXZCAABA67ZSdkIAAIAcrlN2QgAAAOhSVHZCAABAGUpVdkIAAMDk7lV2QgAAABbmVnZCAACA4YpXdkIAAIAPHlp2QgAAANvCWnZCAABADLpbdkIAAMDXXlx2QgAAAAlWXXZCAACA1PpddkIAAMAF8l52QgAAQNGWX3ZCAACAAo5gdkIAAADOMmF2QgAAQP8pYnZCAAAA/MVjdkIAAMD4YWV2QgAAQMQGZnZCAACA9f1mdkIAAEDymWh2QgAAwL0+aXZCAAAA7zVqdkIAAEC3dmx2QgAAQOUJb3ZCAACArUpxdkIAAMDeQXJ2QgAAQNh5dXZCAAAA1RV3dkIAAICgund2QgAAwNGxeHZCAABAnVZ5dkIAAIDOTXp2QgAAAJryenZCAABAy+l7dkIAAICTKn52QgAAQJDGf3ZCAACAwb2AdkIAAACNYoF2QgAAQL5ZgnZCAADAif6CdkIAAICGmoR2QgAAgLQth3ZCAAAAgNKHdkIAAMB8bol2QgAAwKoBjHZCAABAdqaMdkIAAABzQo52QgAAQKQ5j3ZCAADAb96PdkIAAACh1ZB2QgAAgGx6kXZCAABAaRaTdkIAAICaDZR2QgAAAGaylHZCAABAl6mVdkIAAMBiTpZ2QgAAgF/ql3ZCAABAXIaZdkIAAICNfZp2QgAAAFkim3ZCAABAihmcdkIAAMBVvpx2QgAAwINRn3ZCAACAgO2gdkIAAEB9iaJ2QgAAwEguo3ZCAAAAeiWkdkIAAMB2waV2QgAAQEJmpnZCAACAc12ndkIAAMA7nql2QgAAgDg6q3ZCAAAAMnKudkIAAABgBbF2QgAAgCuqsXZCAAAAJeK0dkIAAEBW2bV2QgAAwCF+tnZCAACAHhq4dkIAAMBPEbl2QgAAQBu2uXZCAACATK26dkIAAIARir52QgAAwEKBv3ZCAACAPx3BdkIAAAALwsF2QgAAQDy5wnZCAACABPrEdkIAAMA18cV2QgAAgDKNx3ZCAABALynJdkIAAAAsxcp2QgAAgPdpy3ZCAABA9AXNdkIAAIAl/c12QgAAAPGhznZCAABAIpnPdkIAAAAfNdF2QgAAwBvR0nZCAABA53XTdkIAAIAYbdR2QgAAAOQR1XZCAAAAEqXXdkIAAIDdSdh2QgAAwA5B2XZCAAAA14HbdkIAAEAIedx2QgAAwNMd3XZCAABAzVXgdkIAAIDDKeV2QgAAgPG853ZCAAAAvWHodkIAAADr9Op2QgAAgLaZ63ZCAADA55DsdkIAAECzNe12QgAAgOQs7nZCAAAAsNHudkIAAMCsbfB2QgAAQKal83ZCAACA15z0dkIAAACjQfV2QgAAQNQ49nZCAAAA0dT3dkIAAICcefh2QgAAwM1w+XZCAABAmRX6dkIAAIDKDPt2QgAAAJax+3ZCAABAx6j8dkIAAMCSTf12QgAAAMRE/nZCAACAj+n+dkIAAECMhQB3QgAAgL18AXdCAAAAiSECd0IAAEC6GAN3QgAAwIW9A3dCAACAglkFd0IAAMCzUAZ3QgAAQH/1BndCAAAAfJEId0IAAMB4LQp3QgAAAKokC3dCAADApsAMd0IAAICjXA53QgAAAG8BD3dCAADAa50Qd0IAAMCZMBN3QgAAQGXVE3dCAACAlswUd0IAAABicRV3QgAAQJNoFndCAAAAkAQYd0IAAIBbqRh3QgAAQFhFGndCAACAiTwbd0IAAECG2Bx3Qg==\",\"dtype\":\"float64\",\"order\":\"little\",\"shape\":[305]},\"value\":{\"__ndarray__\":\"j/pKPwAAwP81uCY/8YZcP67FXj+t4UQ/MT5WP0LMXj9qtUo/Hb9RP+KpUT8AAMD/xeRGP3YVVT+BYUE/T2BWP0GRVD+wujc/yWISP2idLT8seS0/qRQyP2yfMD9fzQ4/d6cuPzn3xz55jzM/NAU0P7iENT+i69E+OLgbP9U59T51Vd4+AADA/1MTDD+RCSs/AWkkPwAAwP9ToC0/AADA/1CLsT4hREk/AADA/9FTTz9delA/E3ZRPwAAwP+v6VQ/mu5dPwAAwP8301Q/Hc1bP5P5JD9TkCQ/sR9CP5OSYD83DVI/AADA/5iaTj8AAMD/Ax1WP/2EXT+Y4Uw/9ipWP44FUz/nxlg/ehFGP9rGLz9WA2g/eTpQP+9bRj+ex1w/fLRSP94rIz+QmlY/AADA/1g1Vz/Yfk8/S4xIP8E3Uz8OHlg/DhpDP4zfNz+mSkw/SnM4PxlQNT/4jzQ/lEZ+Pq8UAD/axRU/ZO38Po9YBT85FxU/qFXPPuu1HD8t3v0+8wMnPwAAwP8AZMY+AADA/33b/T4AAMD/4UO/Psi8FD+gAQo/zzEXPyQxAz8AAMD/11aaPqJL8D6718U+7vJ7PhedFT6Iw/I+AADA/6Itsz68oYg+lhDvPgAAwP9TvsI+HsTTPvuaEj/Yxhk//ooqPwAAwP9otUI/AADA/0FjWT/sAk4/rMddP0JLVT9N2Vw/ngpOPytUTT9aAiA/AADA/4aGuz4AAMD/IctRP9DoTD9crE4/volPP7AKXj8lF2M/FB8hP2vQQT+snj8/KrBJPwAAwP8AAMD/uKpVP9f3ST9LYy8/IcNYPwAAwP/hixQ//UBOP5+nWT9gqVY/IiZbP0PXVj/7bE0/HE5YPxsvNT9o+0k/tM5fPxWgUz+qtFc/Zx5NPwAAwP+Yqvk+xNv6PtCkBz8eIbM+W7/WPoSa4j4ZKTs+xMy2PvFhDT4xq8U+BgnPPtPDqj4AAMD/LKHNPn9Bzz7NR+E+muOfPgAAwP+G/4k++kSKPvW5GD7Ptog8rTpPPFMAlzybxfI8jOcePUCtmz16Vyc+mHqZPn+xrz43Z9A+AADA/7+jzz4E7s8+/wYUPrkV1D4qTdI+DsXMPm/pzD4AAMD/AADA/7N5mT4AAMD/41KrPqL+tT68IHc772eXPgAAwP99i6I+vAeoPoaxoT5Typ0+FxWmPnPPmT4AAMD/Yh2nPphVrD6nHaY+FJ6iPryxYT7Uhak+CACrPlXopz6zjcI+AADA/wAAwP8AAMD/nv+lPpFOsD7NVb0+sSa2PgAAwP82Mrw+ArK2Pqu0vT4UocE+OXm5Pqf7pj709L4+AADA/zpvrj7Ssqw+06W2PiULuj7YQKY++POoPhO8K7sJxLW9KLd3vDt/CL7heoS9RW3jOyuuBLzVr4u8ojsVvD0VMrw7+0u7+pHzO5BAn7zdenS89SFevKzvDL0lX228w/RXvOk/tLyabPc8y+0aPOCwkTov3vc7G8GNPPf3Hb1AXCG7hfLpugaJRbwJvBk8gkFMPA+F2jwAAMD/ekSWPQpzQjx1Vym8x8oOvU4pPbyIoAk9+X69PXd3pjueAHU9QrImPqGBVj4kJnc++VBpPntggj4mSoc+AADA/4H9gj4=\",\"dtype\":\"float32\",\"order\":\"little\",\"shape\":[305]}},\"selected\":{\"id\":\"3036\"},\"selection_policy\":{\"id\":\"3060\"}},\"id\":\"3035\",\"type\":\"ColumnDataSource\"},{\"attributes\":{\"months\":[0,2,4,6,8,10]},\"id\":\"3056\",\"type\":\"MonthsTicker\"},{\"attributes\":{\"end\":1.0480626463890075,\"reset_end\":1.0480626463890075,\"reset_start\":-0.2579853177070618,\"start\":-0.2579853177070618,\"tags\":[[[\"value\",\"value\",null]]]},\"id\":\"2992\",\"type\":\"Range1d\"},{\"attributes\":{},\"id\":\"3097\",\"type\":\"Selection\"},{\"attributes\":{\"label\":{\"value\":\"iCor_NDVI\"},\"renderers\":[{\"id\":\"3041\"}]},\"id\":\"3064\",\"type\":\"LegendItem\"},{\"attributes\":{\"label\":{\"value\":\"l1c_NDVI\"},\"renderers\":[{\"id\":\"3071\"}]},\"id\":\"3095\",\"type\":\"LegendItem\"},{\"attributes\":{\"label\":{\"value\":\"Sen2Cor_NDVI\"},\"renderers\":[{\"id\":\"3135\"}]},\"id\":\"3163\",\"type\":\"LegendItem\"},{\"attributes\":{},\"id\":\"3016\",\"type\":\"SaveTool\"},{\"attributes\":{\"source\":{\"id\":\"3065\"}},\"id\":\"3072\",\"type\":\"CDSView\"},{\"attributes\":{\"fill_color\":{\"value\":\"#e5ae38\"},\"line_color\":{\"value\":\"#e5ae38\"},\"size\":{\"units\":\"screen\",\"value\":5.477225575051661},\"x\":{\"field\":\"t\"},\"y\":{\"field\":\"value\"}},\"id\":\"3099\",\"type\":\"Scatter\"},{\"attributes\":{\"text\":\"\",\"text_color\":{\"value\":\"black\"},\"text_font_size\":{\"value\":\"12pt\"}},\"id\":\"3000\",\"type\":\"Title\"},{\"attributes\":{},\"id\":\"3020\",\"type\":\"ResetTool\"},{\"attributes\":{\"bottom_units\":\"screen\",\"fill_alpha\":0.5,\"fill_color\":\"lightgrey\",\"left_units\":\"screen\",\"level\":\"overlay\",\"line_alpha\":1.0,\"line_color\":\"black\",\"line_dash\":[4,4],\"line_width\":2,\"right_units\":\"screen\",\"top_units\":\"screen\"},\"id\":\"3021\",\"type\":\"BoxAnnotation\"},{\"attributes\":{\"fill_alpha\":{\"value\":0.1},\"fill_color\":{\"value\":\"#fc4f30\"},\"line_alpha\":{\"value\":0.1},\"line_color\":{\"value\":\"#fc4f30\"},\"size\":{\"units\":\"screen\",\"value\":5.477225575051661},\"x\":{\"field\":\"t\"},\"y\":{\"field\":\"value\"}},\"id\":\"3069\",\"type\":\"Scatter\"},{\"attributes\":{\"fill_alpha\":{\"value\":0.1},\"fill_color\":{\"value\":\"#e5ae38\"},\"line_alpha\":{\"value\":0.1},\"line_color\":{\"value\":\"#e5ae38\"},\"size\":{\"units\":\"screen\",\"value\":5.477225575051661},\"x\":{\"field\":\"t\"},\"y\":{\"field\":\"value\"}},\"id\":\"3100\",\"type\":\"Scatter\"},{\"attributes\":{\"months\":[0,1,2,3,4,5,6,7,8,9,10,11]},\"id\":\"3055\",\"type\":\"MonthsTicker\"},{\"attributes\":{\"num_minor_ticks\":5,\"tickers\":[{\"id\":\"3048\"},{\"id\":\"3049\"},{\"id\":\"3050\"},{\"id\":\"3051\"},{\"id\":\"3052\"},{\"id\":\"3053\"},{\"id\":\"3054\"},{\"id\":\"3055\"},{\"id\":\"3056\"},{\"id\":\"3057\"},{\"id\":\"3058\"},{\"id\":\"3059\"}]},\"id\":\"3009\",\"type\":\"DatetimeTicker\"},{\"attributes\":{},\"id\":\"3017\",\"type\":\"PanTool\"},{\"attributes\":{\"days\":[1,8,15,22]},\"id\":\"3053\",\"type\":\"DaysTicker\"},{\"attributes\":{},\"id\":\"3066\",\"type\":\"Selection\"},{\"attributes\":{\"source\":{\"id\":\"3096\"}},\"id\":\"3103\",\"type\":\"CDSView\"},{\"attributes\":{\"overlay\":{\"id\":\"3021\"}},\"id\":\"3019\",\"type\":\"BoxZoomTool\"},{\"attributes\":{\"days\":[1,4,7,10,13,16,19,22,25,28]},\"id\":\"3052\",\"type\":\"DaysTicker\"},{\"attributes\":{\"data_source\":{\"id\":\"3035\"},\"glyph\":{\"id\":\"3038\"},\"hover_glyph\":null,\"muted_glyph\":{\"id\":\"3040\"},\"nonselection_glyph\":{\"id\":\"3039\"},\"selection_glyph\":null,\"view\":{\"id\":\"3042\"}},\"id\":\"3041\",\"type\":\"GlyphRenderer\"},{\"attributes\":{\"data\":{\"Variable\":[\"Sen2Cor_NDVI\",\"Sen2Cor_NDVI\",\"Sen2Cor_NDVI\",\"Sen2Cor_NDVI\",\"Sen2Cor_NDVI\",\"Sen2Cor_NDVI\",\"Sen2Cor_NDVI\",\"Sen2Cor_NDVI\",\"Sen2Cor_NDVI\",\"Sen2Cor_NDVI\",\"Sen2Cor_NDVI\",\"Sen2Cor_NDVI\",\"Sen2Cor_NDVI\",\"Sen2Cor_NDVI\",\"Sen2Cor_NDVI\",\"Sen2Cor_NDVI\",\"Sen2Cor_NDVI\",\"Sen2Cor_NDVI\",\"Sen2Cor_NDVI\",\"Sen2Cor_NDVI\",\"Sen2Cor_NDVI\",\"Sen2Cor_NDVI\",\"Sen2Cor_NDVI\",\"Sen2Cor_NDVI\",\"Sen2Cor_NDVI\",\"Sen2Cor_NDVI\",\"Sen2Cor_NDVI\",\"Sen2Cor_NDVI\",\"Sen2Cor_NDVI\",\"Sen2Cor_NDVI\",\"Sen2Cor_NDVI\",\"Sen2Cor_NDVI\",\"Sen2Cor_NDVI\",\"Sen2Cor_NDVI\",\"Sen2Cor_NDVI\",\"Sen2Cor_NDVI\",\"Sen2Cor_NDVI\",\"Sen2Cor_NDVI\",\"Sen2Cor_NDVI\",\"Sen2Cor_NDVI\",\"Sen2Cor_NDVI\",\"Sen2Cor_NDVI\",\"Sen2Cor_NDVI\",\"Sen2Cor_NDVI\",\"Sen2Cor_NDVI\",\"Sen2Cor_NDVI\",\"Sen2Cor_NDVI\",\"Sen2Cor_NDVI\",\"Sen2Cor_NDVI\",\"Sen2Cor_NDVI\",\"Sen2Cor_NDVI\",\"Sen2Cor_NDVI\",\"Sen2Cor_NDVI\",\"Sen2Cor_NDVI\",\"Sen2Cor_NDVI\",\"Sen2Cor_NDVI\",\"Sen2Cor_NDVI\",\"Sen2Cor_NDVI\",\"Sen2Cor_NDVI\",\"Sen2Cor_NDVI\",\"Sen2Cor_NDVI\",\"Sen2Cor_NDVI\",\"Sen2Cor_NDVI\",\"Sen2Cor_NDVI\",\"Sen2Cor_NDVI\",\"Sen2Cor_NDVI\",\"Sen2Cor_NDVI\",\"Sen2Cor_NDVI\",\"Sen2Cor_NDVI\",\"Sen2Cor_NDVI\",\"Sen2Cor_NDVI\",\"Sen2Cor_NDVI\",\"Sen2Cor_NDVI\",\"Sen2Cor_NDVI\",\"Sen2Cor_NDVI\",\"Sen2Cor_NDVI\",\"Sen2Cor_NDVI\",\"Sen2Cor_NDVI\",\"Sen2Cor_NDVI\",\"Sen2Cor_NDVI\",\"Sen2Cor_NDVI\",\"Sen2Cor_NDVI\",\"Sen2Cor_NDVI\",\"Sen2Cor_NDVI\",\"Sen2Cor_NDVI\",\"Sen2Cor_NDVI\",\"Sen2Cor_NDVI\",\"Sen2Cor_NDVI\",\"Sen2Cor_NDVI\",\"Sen2Cor_NDVI\",\"Sen2Cor_NDVI\",\"Sen2Cor_NDVI\",\"Sen2Cor_NDVI\",\"Sen2Cor_NDVI\",\"Sen2Cor_NDVI\",\"Sen2Cor_NDVI\",\"Sen2Cor_NDVI\",\"Sen2Cor_NDVI\",\"Sen2Cor_NDVI\",\"Sen2Cor_NDVI\",\"Sen2Cor_NDVI\",\"Sen2Cor_NDVI\",\"Sen2Cor_NDVI\",\"Sen2Cor_NDVI\",\"Sen2Cor_NDVI\",\"Sen2Cor_NDVI\",\"Sen2Cor_NDVI\",\"Sen2Cor_NDVI\",\"Sen2Cor_NDVI\",\"Sen2Cor_NDVI\",\"Sen2Cor_NDVI\",\"Sen2Cor_NDVI\",\"Sen2Cor_NDVI\",\"Sen2Cor_NDVI\",\"Sen2Cor_NDVI\",\"Sen2Cor_NDVI\",\"Sen2Cor_NDVI\",\"Sen2Cor_NDVI\",\"Sen2Cor_NDVI\",\"Sen2Cor_NDVI\",\"Sen2Cor_NDVI\",\"Sen2Cor_NDVI\",\"Sen2Cor_NDVI\",\"Sen2Cor_NDVI\",\"Sen2Cor_NDVI\",\"Sen2Cor_NDVI\",\"Sen2Cor_NDVI\",\"Sen2Cor_NDVI\",\"Sen2Cor_NDVI\",\"Sen2Cor_NDVI\",\"Sen2Cor_NDVI\",\"Sen2Cor_NDVI\",\"Sen2Cor_NDVI\",\"Sen2Cor_NDVI\",\"Sen2Cor_NDVI\",\"Sen2Cor_NDVI\",\"Sen2Cor_NDVI\",\"Sen2Cor_NDVI\",\"Sen2Cor_NDVI\",\"Sen2Cor_NDVI\",\"Sen2Cor_NDVI\",\"Sen2Cor_NDVI\",\"Sen2Cor_NDVI\",\"Sen2Cor_NDVI\",\"Sen2Cor_NDVI\",\"Sen2Cor_NDVI\",\"Sen2Cor_NDVI\",\"Sen2Cor_NDVI\",\"Sen2Cor_NDVI\",\"Sen2Cor_NDVI\",\"Sen2Cor_NDVI\",\"Sen2Cor_NDVI\",\"Sen2Cor_NDVI\",\"Sen2Cor_NDVI\",\"Sen2Cor_NDVI\",\"Sen2Cor_NDVI\",\"Sen2Cor_NDVI\",\"Sen2Cor_NDVI\",\"Sen2Cor_NDVI\",\"Sen2Cor_NDVI\",\"Sen2Cor_NDVI\",\"Sen2Cor_NDVI\",\"Sen2Cor_NDVI\",\"Sen2Cor_NDVI\",\"Sen2Cor_NDVI\",\"Sen2Cor_NDVI\",\"Sen2Cor_NDVI\",\"Sen2Cor_NDVI\",\"Sen2Cor_NDVI\",\"Sen2Cor_NDVI\",\"Sen2Cor_NDVI\",\"Sen2Cor_NDVI\",\"Sen2Cor_NDVI\",\"Sen2Cor_NDVI\",\"Sen2Cor_NDVI\",\"Sen2Cor_NDVI\",\"Sen2Cor_NDVI\",\"Sen2Cor_NDVI\",\"Sen2Cor_NDVI\",\"Sen2Cor_NDVI\",\"Sen2Cor_NDVI\",\"Sen2Cor_NDVI\",\"Sen2Cor_NDVI\",\"Sen2Cor_NDVI\",\"Sen2Cor_NDVI\",\"Sen2Cor_NDVI\",\"Sen2Cor_NDVI\",\"Sen2Cor_NDVI\",\"Sen2Cor_NDVI\",\"Sen2Cor_NDVI\",\"Sen2Cor_NDVI\",\"Sen2Cor_NDVI\",\"Sen2Cor_NDVI\",\"Sen2Cor_NDVI\",\"Sen2Cor_NDVI\",\"Sen2Cor_NDVI\",\"Sen2Cor_NDVI\",\"Sen2Cor_NDVI\",\"Sen2Cor_NDVI\",\"Sen2Cor_NDVI\",\"Sen2Cor_NDVI\",\"Sen2Cor_NDVI\",\"Sen2Cor_NDVI\",\"Sen2Cor_NDVI\",\"Sen2Cor_NDVI\",\"Sen2Cor_NDVI\",\"Sen2Cor_NDVI\",\"Sen2Cor_NDVI\",\"Sen2Cor_NDVI\",\"Sen2Cor_NDVI\",\"Sen2Cor_NDVI\",\"Sen2Cor_NDVI\",\"Sen2Cor_NDVI\",\"Sen2Cor_NDVI\",\"Sen2Cor_NDVI\",\"Sen2Cor_NDVI\",\"Sen2Cor_NDVI\",\"Sen2Cor_NDVI\",\"Sen2Cor_NDVI\",\"Sen2Cor_NDVI\",\"Sen2Cor_NDVI\",\"Sen2Cor_NDVI\",\"Sen2Cor_NDVI\",\"Sen2Cor_NDVI\",\"Sen2Cor_NDVI\",\"Sen2Cor_NDVI\",\"Sen2Cor_NDVI\",\"Sen2Cor_NDVI\",\"Sen2Cor_NDVI\",\"Sen2Cor_NDVI\",\"Sen2Cor_NDVI\",\"Sen2Cor_NDVI\",\"Sen2Cor_NDVI\",\"Sen2Cor_NDVI\",\"Sen2Cor_NDVI\",\"Sen2Cor_NDVI\",\"Sen2Cor_NDVI\",\"Sen2Cor_NDVI\",\"Sen2Cor_NDVI\",\"Sen2Cor_NDVI\",\"Sen2Cor_NDVI\",\"Sen2Cor_NDVI\",\"Sen2Cor_NDVI\",\"Sen2Cor_NDVI\",\"Sen2Cor_NDVI\",\"Sen2Cor_NDVI\",\"Sen2Cor_NDVI\",\"Sen2Cor_NDVI\",\"Sen2Cor_NDVI\",\"Sen2Cor_NDVI\",\"Sen2Cor_NDVI\",\"Sen2Cor_NDVI\",\"Sen2Cor_NDVI\",\"Sen2Cor_NDVI\",\"Sen2Cor_NDVI\",\"Sen2Cor_NDVI\",\"Sen2Cor_NDVI\",\"Sen2Cor_NDVI\",\"Sen2Cor_NDVI\",\"Sen2Cor_NDVI\",\"Sen2Cor_NDVI\",\"Sen2Cor_NDVI\",\"Sen2Cor_NDVI\",\"Sen2Cor_NDVI\",\"Sen2Cor_NDVI\",\"Sen2Cor_NDVI\",\"Sen2Cor_NDVI\",\"Sen2Cor_NDVI\",\"Sen2Cor_NDVI\",\"Sen2Cor_NDVI\",\"Sen2Cor_NDVI\",\"Sen2Cor_NDVI\",\"Sen2Cor_NDVI\",\"Sen2Cor_NDVI\",\"Sen2Cor_NDVI\",\"Sen2Cor_NDVI\",\"Sen2Cor_NDVI\",\"Sen2Cor_NDVI\",\"Sen2Cor_NDVI\",\"Sen2Cor_NDVI\",\"Sen2Cor_NDVI\",\"Sen2Cor_NDVI\",\"Sen2Cor_NDVI\",\"Sen2Cor_NDVI\",\"Sen2Cor_NDVI\",\"Sen2Cor_NDVI\",\"Sen2Cor_NDVI\",\"Sen2Cor_NDVI\",\"Sen2Cor_NDVI\",\"Sen2Cor_NDVI\",\"Sen2Cor_NDVI\",\"Sen2Cor_NDVI\",\"Sen2Cor_NDVI\",\"Sen2Cor_NDVI\",\"Sen2Cor_NDVI\",\"Sen2Cor_NDVI\",\"Sen2Cor_NDVI\",\"Sen2Cor_NDVI\",\"Sen2Cor_NDVI\",\"Sen2Cor_NDVI\",\"Sen2Cor_NDVI\",\"Sen2Cor_NDVI\",\"Sen2Cor_NDVI\",\"Sen2Cor_NDVI\",\"Sen2Cor_NDVI\"],\"t\":{\"__ndarray__\":\"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\",\"dtype\":\"float64\",\"order\":\"little\",\"shape\":[305]},\"value\":{\"__ndarray__\":\"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\",\"dtype\":\"float64\",\"order\":\"little\",\"shape\":[305]}},\"selected\":{\"id\":\"3130\"},\"selection_policy\":{\"id\":\"3160\"}},\"id\":\"3129\",\"type\":\"ColumnDataSource\"},{\"attributes\":{\"data_source\":{\"id\":\"3096\"},\"glyph\":{\"id\":\"3099\"},\"hover_glyph\":null,\"muted_glyph\":{\"id\":\"3101\"},\"nonselection_glyph\":{\"id\":\"3100\"},\"selection_glyph\":null,\"view\":{\"id\":\"3103\"}},\"id\":\"3102\",\"type\":\"GlyphRenderer\"},{\"attributes\":{\"data\":{\"Variable\":[\"l1c_NDVI\",\"l1c_NDVI\",\"l1c_NDVI\",\"l1c_NDVI\",\"l1c_NDVI\",\"l1c_NDVI\",\"l1c_NDVI\",\"l1c_NDVI\",\"l1c_NDVI\",\"l1c_NDVI\",\"l1c_NDVI\",\"l1c_NDVI\",\"l1c_NDVI\",\"l1c_NDVI\",\"l1c_NDVI\",\"l1c_NDVI\",\"l1c_NDVI\",\"l1c_NDVI\",\"l1c_NDVI\",\"l1c_NDVI\",\"l1c_NDVI\",\"l1c_NDVI\",\"l1c_NDVI\",\"l1c_NDVI\",\"l1c_NDVI\",\"l1c_NDVI\",\"l1c_NDVI\",\"l1c_NDVI\",\"l1c_NDVI\",\"l1c_NDVI\",\"l1c_NDVI\",\"l1c_NDVI\",\"l1c_NDVI\",\"l1c_NDVI\",\"l1c_NDVI\",\"l1c_NDVI\",\"l1c_NDVI\",\"l1c_NDVI\",\"l1c_NDVI\",\"l1c_NDVI\",\"l1c_NDVI\",\"l1c_NDVI\",\"l1c_NDVI\",\"l1c_NDVI\",\"l1c_NDVI\",\"l1c_NDVI\",\"l1c_NDVI\",\"l1c_NDVI\",\"l1c_NDVI\",\"l1c_NDVI\",\"l1c_NDVI\",\"l1c_NDVI\",\"l1c_NDVI\",\"l1c_NDVI\",\"l1c_NDVI\",\"l1c_NDVI\",\"l1c_NDVI\",\"l1c_NDVI\",\"l1c_NDVI\",\"l1c_NDVI\",\"l1c_NDVI\",\"l1c_NDVI\",\"l1c_NDVI\",\"l1c_NDVI\",\"l1c_NDVI\",\"l1c_NDVI\",\"l1c_NDVI\",\"l1c_NDVI\",\"l1c_NDVI\",\"l1c_NDVI\",\"l1c_NDVI\",\"l1c_NDVI\",\"l1c_NDVI\",\"l1c_NDVI\",\"l1c_NDVI\",\"l1c_NDVI\",\"l1c_NDVI\",\"l1c_NDVI\",\"l1c_NDVI\",\"l1c_NDVI\",\"l1c_NDVI\",\"l1c_NDVI\",\"l1c_NDVI\",\"l1c_NDVI\",\"l1c_NDVI\",\"l1c_NDVI\",\"l1c_NDVI\",\"l1c_NDVI\",\"l1c_NDVI\",\"l1c_NDVI\",\"l1c_NDVI\",\"l1c_NDVI\",\"l1c_NDVI\",\"l1c_NDVI\",\"l1c_NDVI\",\"l1c_NDVI\",\"l1c_NDVI\",\"l1c_NDVI\",\"l1c_NDVI\",\"l1c_NDVI\",\"l1c_NDVI\",\"l1c_NDVI\",\"l1c_NDVI\",\"l1c_NDVI\",\"l1c_NDVI\",\"l1c_NDVI\",\"l1c_NDVI\",\"l1c_NDVI\",\"l1c_NDVI\",\"l1c_NDVI\",\"l1c_NDVI\",\"l1c_NDVI\",\"l1c_NDVI\",\"l1c_NDVI\",\"l1c_NDVI\",\"l1c_NDVI\",\"l1c_NDVI\",\"l1c_NDVI\",\"l1c_NDVI\",\"l1c_NDVI\",\"l1c_NDVI\",\"l1c_NDVI\",\"l1c_NDVI\",\"l1c_NDVI\",\"l1c_NDVI\",\"l1c_NDVI\",\"l1c_NDVI\",\"l1c_NDVI\",\"l1c_NDVI\",\"l1c_NDVI\",\"l1c_NDVI\",\"l1c_NDVI\",\"l1c_NDVI\",\"l1c_NDVI\",\"l1c_NDVI\",\"l1c_NDVI\",\"l1c_NDVI\",\"l1c_NDVI\",\"l1c_NDVI\",\"l1c_NDVI\",\"l1c_NDVI\",\"l1c_NDVI\",\"l1c_NDVI\",\"l1c_NDVI\",\"l1c_NDVI\",\"l1c_NDVI\",\"l1c_NDVI\",\"l1c_NDVI\",\"l1c_NDVI\",\"l1c_NDVI\",\"l1c_NDVI\",\"l1c_NDVI\",\"l1c_NDVI\",\"l1c_NDVI\",\"l1c_NDVI\",\"l1c_NDVI\",\"l1c_NDVI\",\"l1c_NDVI\",\"l1c_NDVI\",\"l1c_NDVI\",\"l1c_NDVI\",\"l1c_NDVI\",\"l1c_NDVI\",\"l1c_NDVI\",\"l1c_NDVI\",\"l1c_NDVI\",\"l1c_NDVI\",\"l1c_NDVI\",\"l1c_NDVI\",\"l1c_NDVI\",\"l1c_NDVI\",\"l1c_NDVI\",\"l1c_NDVI\",\"l1c_NDVI\",\"l1c_NDVI\",\"l1c_NDVI\",\"l1c_NDVI\",\"l1c_NDVI\",\"l1c_NDVI\",\"l1c_NDVI\",\"l1c_NDVI\",\"l1c_NDVI\",\"l1c_NDVI\",\"l1c_NDVI\",\"l1c_NDVI\",\"l1c_NDVI\",\"l1c_NDVI\",\"l1c_NDVI\",\"l1c_NDVI\",\"l1c_NDVI\",\"l1c_NDVI\",\"l1c_NDVI\",\"l1c_NDVI\",\"l1c_NDVI\",\"l1c_NDVI\",\"l1c_NDVI\",\"l1c_NDVI\",\"l1c_NDVI\",\"l1c_NDVI\",\"l1c_NDVI\",\"l1c_NDVI\",\"l1c_NDVI\",\"l1c_NDVI\",\"l1c_NDVI\",\"l1c_NDVI\",\"l1c_NDVI\",\"l1c_NDVI\",\"l1c_NDVI\",\"l1c_NDVI\",\"l1c_NDVI\",\"l1c_NDVI\",\"l1c_NDVI\",\"l1c_NDVI\",\"l1c_NDVI\",\"l1c_NDVI\",\"l1c_NDVI\",\"l1c_NDVI\",\"l1c_NDVI\",\"l1c_NDVI\",\"l1c_NDVI\",\"l1c_NDVI\",\"l1c_NDVI\",\"l1c_NDVI\",\"l1c_NDVI\",\"l1c_NDVI\",\"l1c_NDVI\",\"l1c_NDVI\",\"l1c_NDVI\",\"l1c_NDVI\",\"l1c_NDVI\",\"l1c_NDVI\",\"l1c_NDVI\",\"l1c_NDVI\",\"l1c_NDVI\",\"l1c_NDVI\",\"l1c_NDVI\",\"l1c_NDVI\",\"l1c_NDVI\",\"l1c_NDVI\",\"l1c_NDVI\",\"l1c_NDVI\",\"l1c_NDVI\",\"l1c_NDVI\",\"l1c_NDVI\",\"l1c_NDVI\",\"l1c_NDVI\",\"l1c_NDVI\",\"l1c_NDVI\",\"l1c_NDVI\",\"l1c_NDVI\",\"l1c_NDVI\",\"l1c_NDVI\",\"l1c_NDVI\",\"l1c_NDVI\",\"l1c_NDVI\",\"l1c_NDVI\",\"l1c_NDVI\",\"l1c_NDVI\",\"l1c_NDVI\",\"l1c_NDVI\",\"l1c_NDVI\",\"l1c_NDVI\",\"l1c_NDVI\",\"l1c_NDVI\",\"l1c_NDVI\",\"l1c_NDVI\",\"l1c_NDVI\",\"l1c_NDVI\",\"l1c_NDVI\",\"l1c_NDVI\",\"l1c_NDVI\",\"l1c_NDVI\",\"l1c_NDVI\",\"l1c_NDVI\",\"l1c_NDVI\",\"l1c_NDVI\",\"l1c_NDVI\",\"l1c_NDVI\",\"l1c_NDVI\",\"l1c_NDVI\",\"l1c_NDVI\",\"l1c_NDVI\",\"l1c_NDVI\",\"l1c_NDVI\",\"l1c_NDVI\",\"l1c_NDVI\",\"l1c_NDVI\",\"l1c_NDVI\",\"l1c_NDVI\",\"l1c_NDVI\",\"l1c_NDVI\",\"l1c_NDVI\",\"l1c_NDVI\",\"l1c_NDVI\",\"l1c_NDVI\",\"l1c_NDVI\",\"l1c_NDVI\",\"l1c_NDVI\",\"l1c_NDVI\",\"l1c_NDVI\",\"l1c_NDVI\",\"l1c_NDVI\",\"l1c_NDVI\",\"l1c_NDVI\",\"l1c_NDVI\"],\"t\":{\"__ndarray__\":\"AABALlxNdUIAAIDpDFZ1QgAAwBoEV3VCAAAA40RZdUIAAEAUPFp1QgAAwA10XXVCAAAA1rRfdUIAAADJJGZ1QgAAgMJcaXVCAAAAvJRsdUIAAIC1zG91QgAAwObDcHVCAABA4PtzdUIAAICoPHZ1QgAAwNkzd3VCAAAAonR5dUIAAICbrHx1QgAAQMbbgHVCAAAAiFSGdUIAAMCyg4p1QgAAAHvEjHVCAABArLuNdUIAAIB0/I91QgAAAG40k3VCAABAnyuUdUIAAIBnbJZ1QgAAwJhjl3VCAACAWtycdUIAAMCL0511QgAAgE1Mo3VCAADAfkOkdUIAAABHhKZ1QgAAQHh7p3VCAACAQLypdUIAAMBxs6p1QgAAgDMssHVCAADAZCOxdUIAAEBeW7R1QgAAgCactnVCAADAV5O3dUIAAAATRMB1QgAAQEQ7wXVCAACADHzDdUIAAMA9c8R1QgAAAAa0xnVCAACA/+vJdUIAAMAw48p1QgAAAPkjzXVCAABAKhvOdUIAAAAnt891QgAAgPJb0HVCAADAI1PRdUIAAEDv99F1QgAAgCDv0nVCAAAA7JPTdUIAAEAdi9R1QgAAwOgv1XVCAAAAGifWdUIAAIDly9Z1QgAAQOJn2HVCAACAE1/ZdUIAAADfA9p1QgAAQBD72nVCAADA25/bdUIAAIDYO911QgAAwAkz3nVCAABA1dfedUIAAIAGz991QgAAANJz4HVCAABAA2vhdUIAAMDOD+J1QgAAAAAH43VCAADA/KLkdUIAAEDIR+V1QgAAgL4b6nVCAABAu7frdUIAAMC07+51QgAAAObm73VCAACAsYvwdUIAAMDigvF1QgAAQK4n8nVCAACA3x7zdUIAAACrw/N1QgAAQNy69HVCAADAp1/1dUIAAICk+/Z1QgAAwNXy93VCAACA0o75dUIAAMCaz/t1QgAAAMzG/HVCAACAl2v9dUIAAEDCmgF2QgAAwI0/AnZCAADAu9IEdkIAAACEEwd2QgAAQLUKCHZCAADAgK8IdkIAAACypgl2QgAAwK5CC3ZCAAAAd4MNdkIAAECoeg52QgAAgHC7EHZCAADAobIRdkIAAEBtVxJ2QgAAgJ5OE3ZCAAAAavMTdkIAAMCUIhh2QgAAgJG+GXZCAAAAXWMadkIAAACL9hx2QgAAgFabHXZCAACAhC4gdkIAAIBJCyR2QgAAwHoCJXZCAABARqcldkIAAIB3niZ2QgAAAENDJ3ZCAABAdDoodkIAAABx1il2QgAAQDkXLHZCAACAag4tdkIAAAA2sy12QgAAQGeqLnZCAADAMk8vdkIAAABXtjZ2QgAAQE2KO3ZCAAAASiY9dkIAAIBDXkB2QgAAAA8DQXZCAABAQPpBdkIAAMALn0J2QgAAAD2WQ3ZCAADAOTJFdkIAAEAF10V2QgAAAAJzR3ZCAABAM2pIdkIAAMD+Dkl2QgAAADAGSnZCAACA+6pKdkIAAED4Rkx2QgAAAPXiTXZCAABAJtpOdkIAAAAjdlB2QgAAgO4aUXZCAABA67ZSdkIAAIAcrlN2QgAAAOhSVHZCAABAGUpVdkIAAMDk7lV2QgAAABbmVnZCAACA4YpXdkIAAIAPHlp2QgAAANvCWnZCAABADLpbdkIAAMDXXlx2QgAAAAlWXXZCAACA1PpddkIAAMAF8l52QgAAQNGWX3ZCAACAAo5gdkIAAADOMmF2QgAAQP8pYnZCAAAA/MVjdkIAAMD4YWV2QgAAQMQGZnZCAACA9f1mdkIAAEDymWh2QgAAwL0+aXZCAAAA7zVqdkIAAEC3dmx2QgAAQOUJb3ZCAACArUpxdkIAAMDeQXJ2QgAAQNh5dXZCAAAA1RV3dkIAAICgund2QgAAwNGxeHZCAABAnVZ5dkIAAIDOTXp2QgAAAJryenZCAABAy+l7dkIAAICTKn52QgAAQJDGf3ZCAACAwb2AdkIAAACNYoF2QgAAQL5ZgnZCAADAif6CdkIAAICGmoR2QgAAgLQth3ZCAAAAgNKHdkIAAMB8bol2QgAAwKoBjHZCAABAdqaMdkIAAABzQo52QgAAQKQ5j3ZCAADAb96PdkIAAACh1ZB2QgAAgGx6kXZCAABAaRaTdkIAAICaDZR2QgAAAGaylHZCAABAl6mVdkIAAMBiTpZ2QgAAgF/ql3ZCAABAXIaZdkIAAICNfZp2QgAAAFkim3ZCAABAihmcdkIAAMBVvpx2QgAAwINRn3ZCAACAgO2gdkIAAEB9iaJ2QgAAwEguo3ZCAAAAeiWkdkIAAMB2waV2QgAAQEJmpnZCAACAc12ndkIAAMA7nql2QgAAgDg6q3ZCAAAAMnKudkIAAABgBbF2QgAAgCuqsXZCAAAAJeK0dkIAAEBW2bV2QgAAwCF+tnZCAACAHhq4dkIAAMBPEbl2QgAAQBu2uXZCAACATK26dkIAAIARir52QgAAwEKBv3ZCAACAPx3BdkIAAAALwsF2QgAAQDy5wnZCAACABPrEdkIAAMA18cV2QgAAgDKNx3ZCAABALynJdkIAAAAsxcp2QgAAgPdpy3ZCAABA9AXNdkIAAIAl/c12QgAAAPGhznZCAABAIpnPdkIAAAAfNdF2QgAAwBvR0nZCAABA53XTdkIAAIAYbdR2QgAAAOQR1XZCAAAAEqXXdkIAAIDdSdh2QgAAwA5B2XZCAAAA14HbdkIAAEAIedx2QgAAwNMd3XZCAABAzVXgdkIAAIDDKeV2QgAAgPG853ZCAAAAvWHodkIAAADr9Op2QgAAgLaZ63ZCAADA55DsdkIAAECzNe12QgAAgOQs7nZCAAAAsNHudkIAAMCsbfB2QgAAQKal83ZCAACA15z0dkIAAACjQfV2QgAAQNQ49nZCAAAA0dT3dkIAAICcefh2QgAAwM1w+XZCAABAmRX6dkIAAIDKDPt2QgAAAJax+3ZCAABAx6j8dkIAAMCSTf12QgAAAMRE/nZCAACAj+n+dkIAAECMhQB3QgAAgL18AXdCAAAAiSECd0IAAEC6GAN3QgAAwIW9A3dCAACAglkFd0IAAMCzUAZ3QgAAQH/1BndCAAAAfJEId0IAAMB4LQp3QgAAAKokC3dCAADApsAMd0IAAICjXA53QgAAAG8BD3dCAADAa50Qd0IAAMCZMBN3QgAAQGXVE3dCAACAlswUd0IAAABicRV3QgAAQJNoFndCAAAAkAQYd0IAAIBbqRh3QgAAQFhFGndCAACAiTwbd0IAAECG2Bx3Qg==\",\"dtype\":\"float64\",\"order\":\"little\",\"shape\":[305]},\"value\":{\"__ndarray__\":\"QV4bPwAAwP+nkgA/geI2P/GvLz+jSBw/Vp44P8ItNz/EESc/KGMwP4WcKz8AAMD/F7EmP16oLD8vZhY/vL0tP7/FKD+qfwo/j/DfPh6B7T6MMuk+HMTkPmu26T4Yib8+msbiPqp8dz69Hug+x0jtPgon7D4IEqE+tSXXPmoZtT779rM+AADA/+lE3D4zWNw+FFH5PgAAwP/9wgQ/AADA/4ApWj57kRg/AADA//R/LD/9PC0/ktIzPwAAwP+GfSs/GJ06PwAAwP+R+Tg/ZKs4P9vtAj/3xQ0/iUkoP66IOj/V2DE/AADA/37GHj8AAMD/F30uP4/KLz+QPCU/cIs2P4xeND+fDDE/IkglP+8zFD/3sy8/v/4hP01qIT/5ACw/ds0sP56N5T5TXTE/AADA/5GILj9iYyg/SVcUP6lQJz9G6SY/5E8KP8W8Az9L6iA/Z44IP8zyDT87fQU/A6kvPq8Yxz4sZ90+NrjBPgLSwT6KcdU+IzA7PkwD3D51GLM+Z4fiPgAAwP9ZsZI+AADA/9S4uD4AAMD/WDeaPnGd2T7JW70+qbHfPjOeyD4AAMD/pfyCPpkxwD6k9Jo+DGVSPulKAj4/98c+AADA/2/Pjz4vrBg+ZyvEPgAAwP9doqE+QwU2Pqug5j5Y8Nk+5tP3PgAAwP+mSSI/AADA/0LqMz/4mDI/u/IsPxUsNj8zsC8//X0rP04/JT/LkQk/AADA/568pT4AAMD/OwcuPyd4LD9ATiw/+U8tP7y7Kj9k0yw/+IwAP2PGqD7omSQ/IbsDPwAAwP8AAMD/chAzP1NgJj9bK/M+kPovPwAAwP8l3eU+iHwhP0t4LD/EUyY/rMkxP4v6Lz8vuCE/CUEsP7ts0T4s6xw/69wfP1K0JD/c0yE/SrwePwAAwP+bU7k+f3HPPtIq1D75+JI+vcKmPq2trj54qic+RcqVPiIFnj1aLKA+1gWmPh8Ngz4AAMD/r3OqPrqgqD45WbQ+s7w5PgAAwP92GnM+BJR4Ple/ED7r5Ik8PUFHPNZviTysNOI82ZwOPf00hj0VTBY+1QGGPm8ymD4MxbY+AADA/zXqtD743rY+h3EJPlEPuT6PhrQ+tCC0Pr2WtD4AAMD/AADA/2SThz4AAMD/UPGMPjy5oz6+Mwq7Nz2FPgAAwP+o1JE+lJaUPsXIjT68QHw+1cOSPum8cD4AAMD/ihyTPhtljz4Pmok+FwuHPpAQDj56fJM+GpaKPhy6iT7LZJg+AADA/wAAwP8AAMD/gfyQPoVcjj6wSJo+Fu2aPgAAwP+Egpg+kqGdPlrCoT5IiY8+2nWaPpMpkT44l6A+AADA//+Rij6tO4o+hZ6VPqmwiz69gI4+GwOFPqkQGrvTUbq9EIppvEeNCr4vdny9C0ooPEWblbvQnFm85NOuu+iM0ruwAKs6xgE+PGoFdbzlXTK8ef0bvIYT+bwR2jS8SNMsvEGroLy9/wU90kY5PL3pbzp9fQ88MguUPGkyjr0AfEK7wo+iu3Y+cLyDPH4702/IO3zzoTwAAMD/aZB+PTwxGDz6u1O8+6wgvU4HjLy7taw8vbBuPYj1TDrSuEQ9sCIGPtogLT7wcDw+9tY+Pl7FRT5HwV0+AADA/0ZpZT4=\",\"dtype\":\"float32\",\"order\":\"little\",\"shape\":[305]}},\"selected\":{\"id\":\"3066\"},\"selection_policy\":{\"id\":\"3092\"}},\"id\":\"3065\",\"type\":\"ColumnDataSource\"},{\"attributes\":{\"fill_alpha\":{\"value\":0.2},\"fill_color\":{\"value\":\"#e5ae38\"},\"line_alpha\":{\"value\":0.2},\"line_color\":{\"value\":\"#e5ae38\"},\"size\":{\"units\":\"screen\",\"value\":5.477225575051661},\"x\":{\"field\":\"t\"},\"y\":{\"field\":\"value\"}},\"id\":\"3101\",\"type\":\"Scatter\"},{\"attributes\":{},\"id\":\"3018\",\"type\":\"WheelZoomTool\"},{\"attributes\":{\"mantissas\":[1,2,5],\"max_interval\":500.0,\"num_minor_ticks\":0},\"id\":\"3048\",\"type\":\"AdaptiveTicker\"},{\"attributes\":{\"active_drag\":\"auto\",\"active_inspect\":\"auto\",\"active_multi\":null,\"active_scroll\":\"auto\",\"active_tap\":\"auto\",\"tools\":[{\"id\":\"2993\"},{\"id\":\"3016\"},{\"id\":\"3017\"},{\"id\":\"3018\"},{\"id\":\"3019\"},{\"id\":\"3020\"}]},\"id\":\"3022\",\"type\":\"Toolbar\"},{\"attributes\":{},\"id\":\"3130\",\"type\":\"Selection\"},{\"attributes\":{\"label\":{\"value\":\"smac_NDVI\"},\"renderers\":[{\"id\":\"3102\"}]},\"id\":\"3128\",\"type\":\"LegendItem\"},{\"attributes\":{\"base\":60,\"mantissas\":[1,2,5,10,15,20,30],\"max_interval\":1800000.0,\"min_interval\":1000.0,\"num_minor_ticks\":0},\"id\":\"3049\",\"type\":\"AdaptiveTicker\"},{\"attributes\":{\"children\":[{\"id\":\"2988\"},{\"id\":\"2999\"},{\"id\":\"3398\"}],\"margin\":[0,0,0,0],\"name\":\"Row16832\",\"tags\":[\"embedded\"]},\"id\":\"2987\",\"type\":\"Row\"},{\"attributes\":{},\"id\":\"3125\",\"type\":\"UnionRenderers\"},{\"attributes\":{\"months\":[0,4,8]},\"id\":\"3057\",\"type\":\"MonthsTicker\"},{\"attributes\":{\"months\":[0,6]},\"id\":\"3058\",\"type\":\"MonthsTicker\"},{\"attributes\":{\"fill_color\":{\"value\":\"#fc4f30\"},\"line_color\":{\"value\":\"#fc4f30\"},\"size\":{\"units\":\"screen\",\"value\":5.477225575051661},\"x\":{\"field\":\"t\"},\"y\":{\"field\":\"value\"}},\"id\":\"3068\",\"type\":\"Scatter\"},{\"attributes\":{\"margin\":[5,5,5,5],\"name\":\"HSpacer16836\",\"sizing_mode\":\"stretch_width\"},\"id\":\"2988\",\"type\":\"Spacer\"},{\"attributes\":{\"fill_alpha\":{\"value\":0.2},\"fill_color\":{\"value\":\"#fc4f30\"},\"line_alpha\":{\"value\":0.2},\"line_color\":{\"value\":\"#fc4f30\"},\"size\":{\"units\":\"screen\",\"value\":5.477225575051661},\"x\":{\"field\":\"t\"},\"y\":{\"field\":\"value\"}},\"id\":\"3070\",\"type\":\"Scatter\"},{\"attributes\":{\"margin\":[5,5,5,5],\"name\":\"HSpacer16837\",\"sizing_mode\":\"stretch_width\"},\"id\":\"3398\",\"type\":\"Spacer\"},{\"attributes\":{},\"id\":\"3060\",\"type\":\"UnionRenderers\"},{\"attributes\":{\"data\":{\"Variable\":[\"smac_NDVI\",\"smac_NDVI\",\"smac_NDVI\",\"smac_NDVI\",\"smac_NDVI\",\"smac_NDVI\",\"smac_NDVI\",\"smac_NDVI\",\"smac_NDVI\",\"smac_NDVI\",\"smac_NDVI\",\"smac_NDVI\",\"smac_NDVI\",\"smac_NDVI\",\"smac_NDVI\",\"smac_NDVI\",\"smac_NDVI\",\"smac_NDVI\",\"smac_NDVI\",\"smac_NDVI\",\"smac_NDVI\",\"smac_NDVI\",\"smac_NDVI\",\"smac_NDVI\",\"smac_NDVI\",\"smac_NDVI\",\"smac_NDVI\",\"smac_NDVI\",\"smac_NDVI\",\"smac_NDVI\",\"smac_NDVI\",\"smac_NDVI\",\"smac_NDVI\",\"smac_NDVI\",\"smac_NDVI\",\"smac_NDVI\",\"smac_NDVI\",\"smac_NDVI\",\"smac_NDVI\",\"smac_NDVI\",\"smac_NDVI\",\"smac_NDVI\",\"smac_NDVI\",\"smac_NDVI\",\"smac_NDVI\",\"smac_NDVI\",\"smac_NDVI\",\"smac_NDVI\",\"smac_NDVI\",\"smac_NDVI\",\"smac_NDVI\",\"smac_NDVI\",\"smac_NDVI\",\"smac_NDVI\",\"smac_NDVI\",\"smac_NDVI\",\"smac_NDVI\",\"smac_NDVI\",\"smac_NDVI\",\"smac_NDVI\",\"smac_NDVI\",\"smac_NDVI\",\"smac_NDVI\",\"smac_NDVI\",\"smac_NDVI\",\"smac_NDVI\",\"smac_NDVI\",\"smac_NDVI\",\"smac_NDVI\",\"smac_NDVI\",\"smac_NDVI\",\"smac_NDVI\",\"smac_NDVI\",\"smac_NDVI\",\"smac_NDVI\",\"smac_NDVI\",\"smac_NDVI\",\"smac_NDVI\",\"smac_NDVI\",\"smac_NDVI\",\"smac_NDVI\",\"smac_NDVI\",\"smac_NDVI\",\"smac_NDVI\",\"smac_NDVI\",\"smac_NDVI\",\"smac_NDVI\",\"smac_NDVI\",\"smac_NDVI\",\"smac_NDVI\",\"smac_NDVI\",\"smac_NDVI\",\"smac_NDVI\",\"smac_NDVI\",\"smac_NDVI\",\"smac_NDVI\",\"smac_NDVI\",\"smac_NDVI\",\"smac_NDVI\",\"smac_NDVI\",\"smac_NDVI\",\"smac_NDVI\",\"smac_NDVI\",\"smac_NDVI\",\"smac_NDVI\",\"smac_NDVI\",\"smac_NDVI\",\"smac_NDVI\",\"smac_NDVI\",\"smac_NDVI\",\"smac_NDVI\",\"smac_NDVI\",\"smac_NDVI\",\"smac_NDVI\",\"smac_NDVI\",\"smac_NDVI\",\"smac_NDVI\",\"smac_NDVI\",\"smac_NDVI\",\"smac_NDVI\",\"smac_NDVI\",\"smac_NDVI\",\"smac_NDVI\",\"smac_NDVI\",\"smac_NDVI\",\"smac_NDVI\",\"smac_NDVI\",\"smac_NDVI\",\"smac_NDVI\",\"smac_NDVI\",\"smac_NDVI\",\"smac_NDVI\",\"smac_NDVI\",\"smac_NDVI\",\"smac_NDVI\",\"smac_NDVI\",\"smac_NDVI\",\"smac_NDVI\",\"smac_NDVI\",\"smac_NDVI\",\"smac_NDVI\",\"smac_NDVI\",\"smac_NDVI\",\"smac_NDVI\",\"smac_NDVI\",\"smac_NDVI\",\"smac_NDVI\",\"smac_NDVI\",\"smac_NDVI\",\"smac_NDVI\",\"smac_NDVI\",\"smac_NDVI\",\"smac_NDVI\",\"smac_NDVI\",\"smac_NDVI\",\"smac_NDVI\",\"smac_NDVI\",\"smac_NDVI\",\"smac_NDVI\",\"smac_NDVI\",\"smac_NDVI\",\"smac_NDVI\",\"smac_NDVI\",\"smac_NDVI\",\"smac_NDVI\",\"smac_NDVI\",\"smac_NDVI\",\"smac_NDVI\",\"smac_NDVI\",\"smac_NDVI\",\"smac_NDVI\",\"smac_NDVI\",\"smac_NDVI\",\"smac_NDVI\",\"smac_NDVI\",\"smac_NDVI\",\"smac_NDVI\",\"smac_NDVI\",\"smac_NDVI\",\"smac_NDVI\",\"smac_NDVI\",\"smac_NDVI\",\"smac_NDVI\",\"smac_NDVI\",\"smac_NDVI\",\"smac_NDVI\",\"smac_NDVI\",\"smac_NDVI\",\"smac_NDVI\",\"smac_NDVI\",\"smac_NDVI\",\"smac_NDVI\",\"smac_NDVI\",\"smac_NDVI\",\"smac_NDVI\",\"smac_NDVI\",\"smac_NDVI\",\"smac_NDVI\",\"smac_NDVI\",\"smac_NDVI\",\"smac_NDVI\",\"smac_NDVI\",\"smac_NDVI\",\"smac_NDVI\",\"smac_NDVI\",\"smac_NDVI\",\"smac_NDVI\",\"smac_NDVI\",\"smac_NDVI\",\"smac_NDVI\",\"smac_NDVI\",\"smac_NDVI\",\"smac_NDVI\",\"smac_NDVI\",\"smac_NDVI\",\"smac_NDVI\",\"smac_NDVI\",\"smac_NDVI\",\"smac_NDVI\",\"smac_NDVI\",\"smac_NDVI\",\"smac_NDVI\",\"smac_NDVI\",\"smac_NDVI\",\"smac_NDVI\",\"smac_NDVI\",\"smac_NDVI\",\"smac_NDVI\",\"smac_NDVI\",\"smac_NDVI\",\"smac_NDVI\",\"smac_NDVI\",\"smac_NDVI\",\"smac_NDVI\",\"smac_NDVI\",\"smac_NDVI\",\"smac_NDVI\",\"smac_NDVI\",\"smac_NDVI\",\"smac_NDVI\",\"smac_NDVI\",\"smac_NDVI\",\"smac_NDVI\",\"smac_NDVI\",\"smac_NDVI\",\"smac_NDVI\",\"smac_NDVI\",\"smac_NDVI\",\"smac_NDVI\",\"smac_NDVI\",\"smac_NDVI\",\"smac_NDVI\",\"smac_NDVI\",\"smac_NDVI\",\"smac_NDVI\",\"smac_NDVI\",\"smac_NDVI\",\"smac_NDVI\",\"smac_NDVI\",\"smac_NDVI\",\"smac_NDVI\",\"smac_NDVI\",\"smac_NDVI\",\"smac_NDVI\",\"smac_NDVI\",\"smac_NDVI\",\"smac_NDVI\",\"smac_NDVI\",\"smac_NDVI\",\"smac_NDVI\",\"smac_NDVI\",\"smac_NDVI\",\"smac_NDVI\",\"smac_NDVI\",\"smac_NDVI\",\"smac_NDVI\",\"smac_NDVI\",\"smac_NDVI\",\"smac_NDVI\",\"smac_NDVI\",\"smac_NDVI\",\"smac_NDVI\",\"smac_NDVI\",\"smac_NDVI\",\"smac_NDVI\",\"smac_NDVI\",\"smac_NDVI\",\"smac_NDVI\",\"smac_NDVI\",\"smac_NDVI\",\"smac_NDVI\",\"smac_NDVI\",\"smac_NDVI\",\"smac_NDVI\",\"smac_NDVI\",\"smac_NDVI\",\"smac_NDVI\",\"smac_NDVI\",\"smac_NDVI\",\"smac_NDVI\",\"smac_NDVI\",\"smac_NDVI\",\"smac_NDVI\",\"smac_NDVI\",\"smac_NDVI\"],\"t\":{\"__ndarray__\":\"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\",\"dtype\":\"float64\",\"order\":\"little\",\"shape\":[305]},\"value\":{\"__ndarray__\":\"ngNSPwAAwP9BbSg/hJ1jP3POZT8US0o/NrJfP4lXZz9LM1A/HeVbP0uqXT8AAMD/0SVPPx0qYD9m8Uc/GAxhPwgsXz+SXTs/jDIXP9bMNT+pBzs/bi40P93ANz+KfxY/cog3P/831T5B7DU/zWY4PzfALj9GudY+w6AiP6DV+T6FNuA+AADA/0GXET9wIzc/4wUuPwAAwP+PcDM/AADA/4iYwD7hQFM/AADA/0YyWD/0blY/VuJYPwAAwP8gRls/P5tnPwAAwP9EzVw/RmRkP+0zKj/kuyY/91lJPyfqaT+foVk/AADA/2/cVz8AAMD/Ow5fPzFIZT/j2FQ/KUBfP2CkXD/n+GE/s5lMP4+sNT8Dp2w/ClFYP60eTT/6k2Y/3KdaP/8uLD8DJGI/AADA/xJOYj9S61k/UNZOP7AgXz9pfFk/DUpKP2SFPT8aYFQ/r79BPz+PPT9x0DY/kdeBPmW9BD8MkRw/IwcCP3r4CT9lIhs/8p3qPnjDJD/shAM/0mozPwAAwP/198g+AADA/1gvAz8AAMD/qmLAPghJHT81fxE/Op4eP6VKBz8AAMD/wCOZPn7W9T44zsg++mN4PjRnDD6AtPk+AADA/8WSsT7Sdpc+izz3PgAAwP/SUMY+vUb8PoHhFz+1+yU/G9kuPwAAwP8aIkg/AADA/zhXYj9fWVY/IJVlPzq2XT+KX2c/O+VVP1c3VD/arCI/AADA//Mzuj4AAMD/DC1YP+OPUz/MN1Y/795YPxfUZz93wWs/ZTQpPxu31z76pEY/InxcPwAAwP8AAMD/PKFgP6suVD8fRz4/a4djPwAAwP/z0hc/7VNWP8uMZT/90mA/Yy1nP3JAYj87tVY/XcllP55uUD+Ez1E/wM9iP+cNXT+/Cl4/ECpWPwAAwP+JjAI/9Fj/Pmo3Cz/p2bA+MSbZPg1q5z7sti0+OXm1PquOCj58FcU+2g3OPrKkqj4AAMD/wA/LPqPLzj5ntOA+dIGmPgAAwP/v+oQ+pZqFPvh6Cj6ex/e4KcNou8r7/TphUmU8lfLCPNQWej3UcBw+u1GXPvsOrj6f1NA+AADA/47/0D4AxNA+MHEIPvN11T6xYdI+k/7NPh1Xzj4AAMD/AADA/6Galj4AAMD/dhSpPjXxtT6Jexq87CiVPgAAwP+1CKI+Vy+nPkJqoT5v458+eOGkPpmAnT4AAMD/xRGkPhAIqT4RAaQ+miKcPr6NbT4IGqk+H4qkPgiioj4N2Lw+AADA/wAAwP8AAMD/A8GiPu1DqT4WS7g+bVe0PgAAwP8Ncbc+GDm3Pk5qvj7ojb8+ak64PntVpj7WnL4+AADA/6D5rD44eK0+XfC2Pg/Ztj6PzqU+4BGpPhXmn7xeota90aUHvUC6GL6yIKi995osvCws17yAihK9pOfYvEW68Ly9Kaq8TjkkvBbdFr2MtQe9yQABvfwAVb0rSwO9IKT/vKtjJL2XRVg8fbEIvMKfk7y8mB+8XgRKOpO9Tb24N5u8qyKXvPRU5LxPAOm7JFr6urf5RzwAAMD/6ix5PWm4X7smL9O8JjhXvUdm4ryMrp08QJKyPfFNI7wv5T89dY0fPpSWUT7vmW8+avdiPhaRfD4Xx4U+AADA/7ZrgT4=\",\"dtype\":\"float32\",\"order\":\"little\",\"shape\":[305]}},\"selected\":{\"id\":\"3097\"},\"selection_policy\":{\"id\":\"3125\"}},\"id\":\"3096\",\"type\":\"ColumnDataSource\"},{\"attributes\":{\"click_policy\":\"mute\",\"items\":[{\"id\":\"3064\"},{\"id\":\"3095\"},{\"id\":\"3128\"},{\"id\":\"3163\"}],\"title\":\"Variable\"},\"id\":\"3063\",\"type\":\"Legend\"},{\"attributes\":{\"axis\":{\"id\":\"3008\"},\"grid_line_color\":null,\"ticker\":null},\"id\":\"3011\",\"type\":\"Grid\"},{\"attributes\":{\"base\":24,\"mantissas\":[1,2,4,6,8,12],\"max_interval\":43200000.0,\"min_interval\":3600000.0,\"num_minor_ticks\":0},\"id\":\"3050\",\"type\":\"AdaptiveTicker\"},{\"attributes\":{\"data_source\":{\"id\":\"3065\"},\"glyph\":{\"id\":\"3068\"},\"hover_glyph\":null,\"muted_glyph\":{\"id\":\"3070\"},\"nonselection_glyph\":{\"id\":\"3069\"},\"selection_glyph\":null,\"view\":{\"id\":\"3072\"}},\"id\":\"3071\",\"type\":\"GlyphRenderer\"},{\"attributes\":{\"source\":{\"id\":\"3129\"}},\"id\":\"3136\",\"type\":\"CDSView\"},{\"attributes\":{\"days\":[1,15]},\"id\":\"3054\",\"type\":\"DaysTicker\"},{\"attributes\":{},\"id\":\"3034\",\"type\":\"BasicTickFormatter\"},{\"attributes\":{\"fill_alpha\":{\"value\":0.1},\"fill_color\":{\"value\":\"#6d904f\"},\"line_alpha\":{\"value\":0.1},\"line_color\":{\"value\":\"#6d904f\"},\"size\":{\"units\":\"screen\",\"value\":5.477225575051661},\"x\":{\"field\":\"t\"},\"y\":{\"field\":\"value\"}},\"id\":\"3133\",\"type\":\"Scatter\"}],\"root_ids\":[\"2987\"]},\"title\":\"Bokeh Application\",\"version\":\"2.2.3\"}};\n",
       "    var render_items = [{\"docid\":\"bae8bf84-d7b4-4a00-a06e-a5215dd3c453\",\"root_ids\":[\"2987\"],\"roots\":{\"2987\":\"4b122eb7-aee3-4ac3-982f-f3ffabf7eda6\"}}];\n",
       "    root.Bokeh.embed.embed_items_notebook(docs_json, render_items);\n",
       "  }\n",
       "  if (root.Bokeh !== undefined && root.Bokeh.Panel !== undefined) {\n",
       "    embed_document(root);\n",
       "  } else {\n",
       "    var attempts = 0;\n",
       "    var timer = setInterval(function(root) {\n",
       "      if (root.Bokeh !== undefined && root.Bokeh.Panel !== undefined) {\n",
       "        clearInterval(timer);\n",
       "        embed_document(root);\n",
       "      } else if (document.readyState == \"complete\") {\n",
       "        attempts++;\n",
       "        if (attempts > 100) {\n",
       "          clearInterval(timer);\n",
       "          console.log(\"Bokeh: ERROR: Unable to run BokehJS code because BokehJS library is missing\");\n",
       "        }\n",
       "      }\n",
       "    }, 10, root)\n",
       "  }\n",
       "})(window);</script>"
      ],
      "text/plain": [
       ":NdOverlay   [Variable]\n",
       "   :Scatter   [t]   (value)"
      ],
      "application/vnd.holoviews_exec.v0+json": ""
     },
     "metadata": {
      "application/vnd.holoviews_exec.v0+json": {
       "id": "2987"
      }
     },
     "execution_count": 20
    }
   ],
   "metadata": {}
  },
  {
   "cell_type": "markdown",
   "source": [
    "# 2. Timeseries analysis of ARD from multiple sensors (Sentinel-2 and Landsat 8)\n"
   ],
   "metadata": {}
  },
  {
   "cell_type": "markdown",
   "source": [
    "We will use the coregistered collections boa_sentinel_2 and boa_landsat_8.\n",
    "This sample area defined by the following coordinates has some special characteristics:\n",
    "1. Is composed by 3x3 Sentinel-2 pixels in Equi7 projection, with a pixel size of 10m x 10m\n",
    "2. Is covered by 1 Landsat-8 pixel in Equi7 projection, with a pixel size of 30m x 30m\n",
    "\n",
    "Given that the data coming from the two satellites is aligned on the same grid, we can perform a multi sensor pixel-wise analysis.\n",
    "<img src=\"https://github.com/openEOPlatform/SRR1_notebooks/raw/main/data/images/S2_L8_comparison_location.jpg\"\n",
    "     alt=\"rectangle_selection_US2\"\n",
    "     style=\"float: left; margin-right: 10px;\" />"
   ],
   "metadata": {}
  },
  {
   "cell_type": "code",
   "execution_count": 52,
   "source": [
    "west  = 10.92691 \n",
    "east  = 10.92717\n",
    "south = 45.846871 \n",
    "north = 45.847058\n",
    "bbox = [west,south,east,north]\n",
    "print('Area Of Interest:','\\nwest',bbox[0],'\\neast',bbox[2],'\\nsouth',bbox[1],'\\nnorth',bbox[3])"
   ],
   "outputs": [
    {
     "output_type": "stream",
     "name": "stdout",
     "text": [
      "Area Of Interest: \n",
      "west 10.92691 \n",
      "east 10.92717 \n",
      "south 45.846871 \n",
      "north 45.847058\n"
     ]
    }
   ],
   "metadata": {}
  },
  {
   "cell_type": "markdown",
   "source": [
    "We firstly define the openEO graph to get a timeseries over the AOI and compute the NDVI using Sentinel-2 ARD."
   ],
   "metadata": {}
  },
  {
   "cell_type": "code",
   "execution_count": 53,
   "source": [
    "eodc_conn = openeo.connect(\"https://openeo.eodc.eu/v1.0\").authenticate_basic()"
   ],
   "outputs": [],
   "metadata": {}
  },
  {
   "cell_type": "code",
   "execution_count": 54,
   "source": [
    "collection      = 'boa_sentinel_2'\n",
    "spatial_extent  = {'west':bbox[0],'east':bbox[2],'south':bbox[1],'north':bbox[3]}\n",
    "temporal_extent = [\"2016-06-01\", \"2017-06-01\"]\n",
    "bands           = [\"B04\",\"B08\"]\n",
    "\n",
    "s2_l2a_eodc = eodc_conn.load_collection(collection,spatial_extent=spatial_extent,bands=bands,temporal_extent=temporal_extent)\n",
    "\n",
    "ndvi = s2_l2a_eodc.reduce_dimension(dimension=\"bands\",reducer = lambda value: (array_element(value,1)-array_element(value,0))/(array_element(value,1)+array_element(value,0)))\n",
    "\n",
    "l2a_force = ndvi.save_result(format=\"netCDF\")"
   ],
   "outputs": [],
   "metadata": {}
  },
  {
   "cell_type": "code",
   "execution_count": 28,
   "source": [
    "l2a_force.to_graphviz()"
   ],
   "outputs": [
    {
     "output_type": "execute_result",
     "data": {
      "image/svg+xml": "<?xml version=\"1.0\" encoding=\"UTF-8\" standalone=\"no\"?>\n<!DOCTYPE svg PUBLIC \"-//W3C//DTD SVG 1.1//EN\"\n \"http://www.w3.org/Graphics/SVG/1.1/DTD/svg11.dtd\">\n<!-- Generated by graphviz version 2.43.0 (0)\n -->\n<!-- Title: %3 Pages: 1 -->\n<svg width=\"666pt\" height=\"494pt\"\n viewBox=\"0.00 0.00 666.00 494.00\" xmlns=\"http://www.w3.org/2000/svg\" xmlns:xlink=\"http://www.w3.org/1999/xlink\">\n<g id=\"graph0\" class=\"graph\" transform=\"scale(1 1) rotate(0) translate(4 490)\">\n<title>%3</title>\n<polygon fill=\"white\" stroke=\"transparent\" points=\"-4,4 -4,-490 662,-490 662,4 -4,4\"/>\n<!-- loadcollection1 -->\n<g id=\"node1\" class=\"node\">\n<title>loadcollection1</title>\n<polygon fill=\"#eeeeee\" stroke=\"transparent\" points=\"27,-464 27,-482 631,-482 631,-464 27,-464\"/>\n<polygon fill=\"none\" stroke=\"black\" points=\"27,-464 27,-482 631,-482 631,-464 27,-464\"/>\n<text text-anchor=\"start\" x=\"293.5\" y=\"-470.2\" font-family=\"sans\" font-size=\"11.00\">load_collection</text>\n<polygon fill=\"none\" stroke=\"black\" points=\"27,-446 27,-464 111,-464 111,-446 27,-446\"/>\n<text text-anchor=\"start\" x=\"78\" y=\"-452.2\" font-family=\"sans\" font-size=\"11.00\">bands</text>\n<polygon fill=\"none\" stroke=\"black\" points=\"111,-446 111,-464 631,-464 631,-446 111,-446\"/>\n<text text-anchor=\"start\" x=\"114\" y=\"-452.2\" font-family=\"monospace\" font-size=\"11.00\">[&#39;band_4&#39;, &#39;band_8&#39;]</text>\n<polygon fill=\"none\" stroke=\"black\" points=\"27,-428 27,-446 111,-446 111,-428 27,-428\"/>\n<text text-anchor=\"start\" x=\"99\" y=\"-434.2\" font-family=\"sans\" font-size=\"11.00\">id</text>\n<polygon fill=\"none\" stroke=\"black\" points=\"111,-428 111,-446 631,-446 631,-428 111,-428\"/>\n<text text-anchor=\"start\" x=\"114\" y=\"-434.2\" font-family=\"monospace\" font-size=\"11.00\">&#39;boa_sentinel_2&#39;</text>\n<polygon fill=\"none\" stroke=\"black\" points=\"27,-410 27,-428 111,-428 111,-410 27,-410\"/>\n<text text-anchor=\"start\" x=\"41\" y=\"-416.2\" font-family=\"sans\" font-size=\"11.00\">spatial_extent</text>\n<polygon fill=\"none\" stroke=\"black\" points=\"111,-410 111,-428 631,-428 631,-410 111,-410\"/>\n<text text-anchor=\"start\" x=\"114\" y=\"-416.2\" font-family=\"monospace\" font-size=\"11.00\">{&#39;east&#39;: 10.92717, &#39;north&#39;: 45.847058, &#39;south&#39;: 45.846871, &#39;west&#39;: 10.92691}</text>\n<polygon fill=\"none\" stroke=\"black\" points=\"27,-392 27,-410 111,-410 111,-392 27,-392\"/>\n<text text-anchor=\"start\" x=\"30\" y=\"-398.2\" font-family=\"sans\" font-size=\"11.00\">temporal_extent</text>\n<polygon fill=\"none\" stroke=\"black\" points=\"111,-392 111,-410 631,-410 631,-392 111,-392\"/>\n<text text-anchor=\"start\" x=\"114\" y=\"-398.2\" font-family=\"monospace\" font-size=\"11.00\">[&#39;2016&#45;06&#45;01&#39;, &#39;2017&#45;06&#45;01&#39;]</text>\n</g>\n<!-- reducedimension1 -->\n<g id=\"node2\" class=\"node\">\n<title>reducedimension1</title>\n<polygon fill=\"#eeeeee\" stroke=\"transparent\" points=\"8,-330 8,-348 650,-348 650,-330 8,-330\"/>\n<polygon fill=\"none\" stroke=\"black\" points=\"8,-330 8,-348 650,-348 650,-330 8,-330\"/>\n<text text-anchor=\"start\" x=\"285\" y=\"-336.2\" font-family=\"sans\" font-size=\"11.00\">reduce_dimension</text>\n<polygon fill=\"none\" stroke=\"black\" points=\"8,-312 8,-330 63,-330 63,-312 8,-312\"/>\n<text text-anchor=\"start\" x=\"38\" y=\"-318.2\" font-family=\"sans\" font-size=\"11.00\">data</text>\n<polygon fill=\"none\" stroke=\"black\" points=\"63,-312 63,-330 650,-330 650,-312 63,-312\"/>\n<text text-anchor=\"start\" x=\"66\" y=\"-318.2\" font-family=\"monospace\" font-size=\"11.00\">{&#39;from_node&#39;: &#39;loadcollection1&#39;}</text>\n<polygon fill=\"none\" stroke=\"black\" points=\"8,-294 8,-312 63,-312 63,-294 8,-294\"/>\n<text text-anchor=\"start\" x=\"11\" y=\"-300.2\" font-family=\"sans\" font-size=\"11.00\">dimension</text>\n<polygon fill=\"none\" stroke=\"black\" points=\"63,-294 63,-312 650,-312 650,-294 63,-294\"/>\n<text text-anchor=\"start\" x=\"66\" y=\"-300.2\" font-family=\"monospace\" font-size=\"11.00\">&#39;bands&#39;</text>\n<polygon fill=\"none\" stroke=\"black\" points=\"8,-120 8,-294 63,-294 63,-120 8,-120\"/>\n<text text-anchor=\"start\" x=\"23\" y=\"-204.2\" font-family=\"sans\" font-size=\"11.00\">reducer</text>\n<polygon fill=\"none\" stroke=\"black\" points=\"63,-120 63,-294 650,-294 650,-120 63,-120\"/>\n<text text-anchor=\"start\" x=\"93\" y=\"-282.2\" font-family=\"monospace\" font-size=\"11.00\">{&#39;process_graph&#39;: {&#39;add1&#39;: {&#39;arguments&#39;: {&#39;x&#39;: {&#39;from_node&#39;: &#39;arrayelement3&#39;},</text>\n<text text-anchor=\"start\" x=\"89.5\" y=\"-270.2\" font-family=\"monospace\" font-size=\"11.00\"> &#160;&#160;&#160;&#160;&#160;&#160;&#160;&#160;&#160;&#160;&#160;&#160;&#160;&#160;&#160;&#160;&#160;&#160;&#160;&#160;&#160;&#160;&#160;&#160;&#160;&#160;&#160;&#160;&#160;&#160;&#160;&#160;&#160;&#160;&#160;&#160;&#160;&#160;&#160;&#160;&#160;&#39;y&#39;: {&#39;from_node&#39;: &#39;arrayelement4&#39;}},</text>\n<text text-anchor=\"start\" x=\"191\" y=\"-258.2\" font-family=\"monospace\" font-size=\"11.00\"> &#160;&#160;&#160;&#160;&#160;&#160;&#160;&#160;&#160;&#160;&#160;&#160;&#160;&#160;&#160;&#160;&#160;&#160;&#160;&#160;&#160;&#160;&#160;&#160;&#160;&#160;&#160;&#39;process_id&#39;: &#39;add&#39;},</text>\n<text text-anchor=\"start\" x=\"66\" y=\"-246.2\" font-family=\"monospace\" font-size=\"11.00\"> &#160;&#160;&#160;&#160;&#160;&#160;&#160;&#160;&#160;&#160;&#160;&#160;&#160;&#160;&#160;&#160;&#160;&#160;&#39;arrayelement1&#39;: {&#39;arguments&#39;: {&#39;data&#39;: {&#39;from_parameter&#39;: &#39;data&#39;},</text>\n<text text-anchor=\"start\" x=\"143.5\" y=\"-234.2\" font-family=\"monospace\" font-size=\"11.00\"> &#160;&#160;&#160;&#160;&#160;&#160;&#160;&#160;&#160;&#160;&#160;&#160;&#160;&#160;&#160;&#160;&#160;&#160;&#160;&#160;&#160;&#160;&#160;&#160;&#160;&#160;&#160;&#160;&#160;&#160;&#160;&#160;&#160;&#160;&#160;&#160;&#160;&#160;&#160;&#160;&#160;&#160;&#160;&#160;&#160;&#160;&#160;&#160;&#160;&#160;&#39;index&#39;: 1},</text>\n<text text-anchor=\"start\" x=\"126.5\" y=\"-222.2\" font-family=\"monospace\" font-size=\"11.00\"> &#160;&#160;&#160;&#160;&#160;&#160;&#160;&#160;&#160;&#160;&#160;&#160;&#160;&#160;&#160;&#160;&#160;&#160;&#160;&#160;&#160;&#160;&#160;&#160;&#160;&#160;&#160;&#160;&#160;&#160;&#160;&#160;&#160;&#160;&#160;&#160;&#39;process_id&#39;: &#39;array_element&#39;},</text>\n<text text-anchor=\"start\" x=\"66\" y=\"-210.2\" font-family=\"monospace\" font-size=\"11.00\"> &#160;&#160;&#160;&#160;&#160;&#160;&#160;&#160;&#160;&#160;&#160;&#160;&#160;&#160;&#160;&#160;&#160;&#160;&#39;arrayelement2&#39;: {&#39;arguments&#39;: {&#39;data&#39;: {&#39;from_parameter&#39;: &#39;data&#39;},</text>\n<text text-anchor=\"start\" x=\"143.5\" y=\"-198.2\" font-family=\"monospace\" font-size=\"11.00\"> &#160;&#160;&#160;&#160;&#160;&#160;&#160;&#160;&#160;&#160;&#160;&#160;&#160;&#160;&#160;&#160;&#160;&#160;&#160;&#160;&#160;&#160;&#160;&#160;&#160;&#160;&#160;&#160;&#160;&#160;&#160;&#160;&#160;&#160;&#160;&#160;&#160;&#160;&#160;&#160;&#160;&#160;&#160;&#160;&#160;&#160;&#160;&#160;&#160;&#160;&#39;index&#39;: 0},</text>\n<text text-anchor=\"start\" x=\"126.5\" y=\"-186.2\" font-family=\"monospace\" font-size=\"11.00\"> &#160;&#160;&#160;&#160;&#160;&#160;&#160;&#160;&#160;&#160;&#160;&#160;&#160;&#160;&#160;&#160;&#160;&#160;&#160;&#160;&#160;&#160;&#160;&#160;&#160;&#160;&#160;&#160;&#160;&#160;&#160;&#160;&#160;&#160;&#160;&#160;&#39;process_id&#39;: &#39;array_element&#39;},</text>\n<text text-anchor=\"start\" x=\"66\" y=\"-174.2\" font-family=\"monospace\" font-size=\"11.00\"> &#160;&#160;&#160;&#160;&#160;&#160;&#160;&#160;&#160;&#160;&#160;&#160;&#160;&#160;&#160;&#160;&#160;&#160;&#39;arrayelement3&#39;: {&#39;arguments&#39;: {&#39;data&#39;: {&#39;from_parameter&#39;: &#39;data&#39;},</text>\n<text text-anchor=\"start\" x=\"143.5\" y=\"-162.2\" font-family=\"monospace\" font-size=\"11.00\"> &#160;&#160;&#160;&#160;&#160;&#160;&#160;&#160;&#160;&#160;&#160;&#160;&#160;&#160;&#160;&#160;&#160;&#160;&#160;&#160;&#160;&#160;&#160;&#160;&#160;&#160;&#160;&#160;&#160;&#160;&#160;&#160;&#160;&#160;&#160;&#160;&#160;&#160;&#160;&#160;&#160;&#160;&#160;&#160;&#160;&#160;&#160;&#160;&#160;&#160;&#39;index&#39;: 1},</text>\n<text text-anchor=\"start\" x=\"126.5\" y=\"-150.2\" font-family=\"monospace\" font-size=\"11.00\"> &#160;&#160;&#160;&#160;&#160;&#160;&#160;&#160;&#160;&#160;&#160;&#160;&#160;&#160;&#160;&#160;&#160;&#160;&#160;&#160;&#160;&#160;&#160;&#160;&#160;&#160;&#160;&#160;&#160;&#160;&#160;&#160;&#160;&#160;&#160;&#160;&#39;process_id&#39;: &#39;array_element&#39;},</text>\n<text text-anchor=\"start\" x=\"66\" y=\"-138.2\" font-family=\"monospace\" font-size=\"11.00\"> &#160;&#160;&#160;&#160;&#160;&#160;&#160;&#160;&#160;&#160;&#160;&#160;&#160;&#160;&#160;&#160;&#160;&#160;&#39;arrayelement4&#39;: {&#39;arguments&#39;: {&#39;data&#39;: {&#39;from_parameter&#39;: &#39;data&#39;},</text>\n<text text-anchor=\"start\" x=\"207.5\" y=\"-126.2\" font-family=\"monospace\" font-size=\"11.00\"> &#160;&#160;&#160;&#160;&#160;&#160;&#160;&#160;&#160;&#160;&#160;&#160;&#160;&#160;&#160;&#160;&#160;&#160;&#160;&#160;&#160;&#160;&#160;&#160;&#160;&#160;&#160;&#160;&#160;&#160;&#160;&#160;&#160;&#160;&#160;&#160;&#160;&#160;&#160;&#160;&#160;&#160;&#160;</text>\n</g>\n<!-- loadcollection1&#45;&gt;reducedimension1 -->\n<g id=\"edge1\" class=\"edge\">\n<title>loadcollection1&#45;&gt;reducedimension1</title>\n<path fill=\"none\" stroke=\"black\" d=\"M329,-387.86C329,-379.84 329,-371.21 329,-362.27\"/>\n<polygon fill=\"black\" stroke=\"black\" points=\"332.5,-362.06 329,-352.06 325.5,-362.06 332.5,-362.06\"/>\n</g>\n<!-- saveresult1 -->\n<g id=\"node3\" class=\"node\">\n<title>saveresult1</title>\n<polygon fill=\"#eeeeee\" stroke=\"transparent\" points=\"194,-58 194,-76 464,-76 464,-58 194,-58\"/>\n<polygon fill=\"none\" stroke=\"black\" points=\"194,-58 194,-76 464,-76 464,-58 194,-58\"/>\n<text text-anchor=\"start\" x=\"301.5\" y=\"-64.2\" font-family=\"sans\" font-size=\"11.00\">save_result</text>\n<polygon fill=\"none\" stroke=\"black\" points=\"194,-40 194,-58 235,-58 235,-40 194,-40\"/>\n<text text-anchor=\"start\" x=\"210\" y=\"-46.2\" font-family=\"sans\" font-size=\"11.00\">data</text>\n<polygon fill=\"none\" stroke=\"black\" points=\"235,-40 235,-58 464,-58 464,-40 235,-40\"/>\n<text text-anchor=\"start\" x=\"238\" y=\"-46.2\" font-family=\"monospace\" font-size=\"11.00\">{&#39;from_node&#39;: &#39;reducedimension1&#39;}</text>\n<polygon fill=\"none\" stroke=\"black\" points=\"194,-22 194,-40 235,-40 235,-22 194,-22\"/>\n<text text-anchor=\"start\" x=\"201\" y=\"-28.2\" font-family=\"sans\" font-size=\"11.00\">format</text>\n<polygon fill=\"none\" stroke=\"black\" points=\"235,-22 235,-40 464,-40 464,-22 235,-22\"/>\n<text text-anchor=\"start\" x=\"238\" y=\"-28.2\" font-family=\"monospace\" font-size=\"11.00\">&#39;netCDF&#39;</text>\n<polygon fill=\"none\" stroke=\"black\" points=\"194,-4 194,-22 235,-22 235,-4 194,-4\"/>\n<text text-anchor=\"start\" x=\"197\" y=\"-10.2\" font-family=\"sans\" font-size=\"11.00\">options</text>\n<polygon fill=\"none\" stroke=\"black\" points=\"235,-4 235,-22 464,-22 464,-4 235,-4\"/>\n<text text-anchor=\"start\" x=\"238\" y=\"-10.2\" font-family=\"monospace\" font-size=\"11.00\">{}</text>\n</g>\n<!-- reducedimension1&#45;&gt;saveresult1 -->\n<g id=\"edge2\" class=\"edge\">\n<title>reducedimension1&#45;&gt;saveresult1</title>\n<path fill=\"none\" stroke=\"black\" d=\"M329,-115.78C329,-106.99 329,-98.44 329,-90.46\"/>\n<polygon fill=\"black\" stroke=\"black\" points=\"332.5,-90.33 329,-80.33 325.5,-90.33 332.5,-90.33\"/>\n</g>\n</g>\n</svg>\n",
      "text/plain": [
       "<graphviz.dot.Digraph at 0x7f2d3e74eca0>"
      ]
     },
     "metadata": {},
     "execution_count": 28
    }
   ],
   "metadata": {}
  },
  {
   "cell_type": "markdown",
   "source": [
    "We create the batch job at the EODC back-end:"
   ],
   "metadata": {}
  },
  {
   "cell_type": "code",
   "execution_count": 46,
   "source": [
    "job_eodc_s2 = eodc_conn.create_job(l2a_force.graph)\n",
    "job_id_eodc_s2 = job_eodc_s2.job_id\n",
    "if job_id_eodc_s2:\n",
    "    print(\"Batch job created with id: \",job_eodc_s2)\n",
    "    job_eodc_s2.start_job()\n",
    "else:\n",
    "    print(\"Error! Job ID is None\")"
   ],
   "outputs": [
    {
     "output_type": "stream",
     "name": "stdout",
     "text": [
      "Batch job created with id:  jb-3dd37ae5-c346-4f7a-9071-7e4e38789efd\n"
     ]
    }
   ],
   "metadata": {}
  },
  {
   "cell_type": "markdown",
   "source": [
    "We check if the job has been finished.\n",
    "\n",
    "Please run the following cell again after some time to get an updated status. You can't proceed and download the data if the job is still running."
   ],
   "metadata": {}
  },
  {
   "cell_type": "code",
   "execution_count": 47,
   "source": [
    "eodc_conn = openeo.connect(\"https://openeo.eodc.eu/v1.0\").authenticate_basic()\n",
    "job_eodc_s2 = eodc_conn.job(job_id_eodc_s2)\n",
    "job_description = job_eodc_s2.describe_job()\n",
    "print(\"Batch job with id: \",job_id_eodc_s2, ' is ',job_description['status'])"
   ],
   "outputs": [
    {
     "output_type": "stream",
     "name": "stdout",
     "text": [
      "Batch job with id:  jb-3dd37ae5-c346-4f7a-9071-7e4e38789efd  is  finished\n"
     ]
    }
   ],
   "metadata": {}
  },
  {
   "cell_type": "code",
   "execution_count": null,
   "source": [
    "results_eodc = job_eodc_s2.get_results()\n",
    "results_eodc.download_file(\"./data/US2/s2_eodc_force_timeseries.nc\")"
   ],
   "outputs": [],
   "metadata": {}
  },
  {
   "cell_type": "markdown",
   "source": [
    "Now we do the same using the Landsat-8 ARD collection."
   ],
   "metadata": {}
  },
  {
   "cell_type": "code",
   "execution_count": 48,
   "source": [
    "collection      = 'boa_landsat_8'\n",
    "spatial_extent  = {'west':bbox[0],'east':bbox[2],'south':bbox[1],'north':bbox[3]}\n",
    "temporal_extent = [\"2016-06-01\", \"2017-06-01\"]\n",
    "bands           = [\"B03\",\"B04\"]\n",
    "\n",
    "l8_eodc = eodc_conn.load_collection(collection,spatial_extent=spatial_extent,bands=bands,temporal_extent=temporal_extent)\n",
    "\n",
    "ndvi = l8_eodc.reduce_dimension(dimension=\"bands\",reducer = lambda value: (array_element(value,1)-array_element(value,0))/(array_element(value,1)+array_element(value,0)))\n",
    "\n",
    "l8_ndvi = ndvi.save_result(format=\"netCDF\")"
   ],
   "outputs": [],
   "metadata": {}
  },
  {
   "cell_type": "code",
   "execution_count": 49,
   "source": [
    "job_eodc_l8 = eodc_conn.create_job(l8_ndvi.graph)\n",
    "job_id_eodc_l8 = job_eodc_l8.job_id\n",
    "if job_id_eodc_l8:\n",
    "    print(\"Batch job created with id: \",job_id_eodc_l8)\n",
    "    job_eodc_l8.start_job()\n",
    "else:\n",
    "    print(\"Error! Job ID is None\")"
   ],
   "outputs": [
    {
     "output_type": "stream",
     "name": "stdout",
     "text": [
      "Batch job created with id:  jb-372e1c75-9b6b-485f-994e-bf4648f96d7f\n"
     ]
    }
   ],
   "metadata": {}
  },
  {
   "cell_type": "code",
   "execution_count": 51,
   "source": [
    "eodc_conn = openeo.connect(\"https://openeo.eodc.eu/v1.0\").authenticate_basic()\n",
    "job_eodc_l8 = eodc_conn.job(job_id_eodc_l8)\n",
    "job_description = job_eodc_l8.describe_job()\n",
    "print(\"Batch job with id: \",job_id_eodc_l8, ' is ',job_description['status'])"
   ],
   "outputs": [
    {
     "output_type": "stream",
     "name": "stdout",
     "text": [
      "Batch job with id:  jb-372e1c75-9b6b-485f-994e-bf4648f96d7f  is  finished\n"
     ]
    }
   ],
   "metadata": {}
  },
  {
   "cell_type": "code",
   "execution_count": 50,
   "source": [
    "results_eodc = job_eodc_l8.get_results()\n",
    "results_eodc.download_file(\"./data/US2/l8_eodc_timeseries.nc\")"
   ],
   "outputs": [
    {
     "output_type": "execute_result",
     "data": {
      "text/plain": [
       "PosixPath('data/US2/l8_eodc_timeseries.nc')"
      ]
     },
     "metadata": {},
     "execution_count": 50
    }
   ],
   "metadata": {}
  },
  {
   "cell_type": "markdown",
   "source": [
    "We can now open the downloaded timeseries and check taht they are perfectly aligned.\n",
    "\n",
    "You will see that x and y coordinates of the Landsat pixel are exactly the same as the center of the 3x3 grid of Sentinel-2 data."
   ],
   "metadata": {}
  },
  {
   "cell_type": "markdown",
   "source": [
    "Sentinel-2 data:"
   ],
   "metadata": {}
  },
  {
   "cell_type": "code",
   "execution_count": 22,
   "source": [
    "xr.open_dataset(\"./data/US2/s2_eodc_force_timeseries.nc\")"
   ],
   "outputs": [
    {
     "output_type": "execute_result",
     "data": {
      "text/html": [
       "<div><svg style=\"position: absolute; width: 0; height: 0; overflow: hidden\">\n",
       "<defs>\n",
       "<symbol id=\"icon-database\" viewBox=\"0 0 32 32\">\n",
       "<path d=\"M16 0c-8.837 0-16 2.239-16 5v4c0 2.761 7.163 5 16 5s16-2.239 16-5v-4c0-2.761-7.163-5-16-5z\"></path>\n",
       "<path d=\"M16 17c-8.837 0-16-2.239-16-5v6c0 2.761 7.163 5 16 5s16-2.239 16-5v-6c0 2.761-7.163 5-16 5z\"></path>\n",
       "<path d=\"M16 26c-8.837 0-16-2.239-16-5v6c0 2.761 7.163 5 16 5s16-2.239 16-5v-6c0 2.761-7.163 5-16 5z\"></path>\n",
       "</symbol>\n",
       "<symbol id=\"icon-file-text2\" viewBox=\"0 0 32 32\">\n",
       "<path d=\"M28.681 7.159c-0.694-0.947-1.662-2.053-2.724-3.116s-2.169-2.030-3.116-2.724c-1.612-1.182-2.393-1.319-2.841-1.319h-15.5c-1.378 0-2.5 1.121-2.5 2.5v27c0 1.378 1.122 2.5 2.5 2.5h23c1.378 0 2.5-1.122 2.5-2.5v-19.5c0-0.448-0.137-1.23-1.319-2.841zM24.543 5.457c0.959 0.959 1.712 1.825 2.268 2.543h-4.811v-4.811c0.718 0.556 1.584 1.309 2.543 2.268zM28 29.5c0 0.271-0.229 0.5-0.5 0.5h-23c-0.271 0-0.5-0.229-0.5-0.5v-27c0-0.271 0.229-0.5 0.5-0.5 0 0 15.499-0 15.5 0v7c0 0.552 0.448 1 1 1h7v19.5z\"></path>\n",
       "<path d=\"M23 26h-14c-0.552 0-1-0.448-1-1s0.448-1 1-1h14c0.552 0 1 0.448 1 1s-0.448 1-1 1z\"></path>\n",
       "<path d=\"M23 22h-14c-0.552 0-1-0.448-1-1s0.448-1 1-1h14c0.552 0 1 0.448 1 1s-0.448 1-1 1z\"></path>\n",
       "<path d=\"M23 18h-14c-0.552 0-1-0.448-1-1s0.448-1 1-1h14c0.552 0 1 0.448 1 1s-0.448 1-1 1z\"></path>\n",
       "</symbol>\n",
       "</defs>\n",
       "</svg>\n",
       "<style>/* CSS stylesheet for displaying xarray objects in jupyterlab.\n",
       " *\n",
       " */\n",
       "\n",
       ":root {\n",
       "  --xr-font-color0: var(--jp-content-font-color0, rgba(0, 0, 0, 1));\n",
       "  --xr-font-color2: var(--jp-content-font-color2, rgba(0, 0, 0, 0.54));\n",
       "  --xr-font-color3: var(--jp-content-font-color3, rgba(0, 0, 0, 0.38));\n",
       "  --xr-border-color: var(--jp-border-color2, #e0e0e0);\n",
       "  --xr-disabled-color: var(--jp-layout-color3, #bdbdbd);\n",
       "  --xr-background-color: var(--jp-layout-color0, white);\n",
       "  --xr-background-color-row-even: var(--jp-layout-color1, white);\n",
       "  --xr-background-color-row-odd: var(--jp-layout-color2, #eeeeee);\n",
       "}\n",
       "\n",
       "html[theme=dark],\n",
       "body.vscode-dark {\n",
       "  --xr-font-color0: rgba(255, 255, 255, 1);\n",
       "  --xr-font-color2: rgba(255, 255, 255, 0.54);\n",
       "  --xr-font-color3: rgba(255, 255, 255, 0.38);\n",
       "  --xr-border-color: #1F1F1F;\n",
       "  --xr-disabled-color: #515151;\n",
       "  --xr-background-color: #111111;\n",
       "  --xr-background-color-row-even: #111111;\n",
       "  --xr-background-color-row-odd: #313131;\n",
       "}\n",
       "\n",
       ".xr-wrap {\n",
       "  display: block;\n",
       "  min-width: 300px;\n",
       "  max-width: 700px;\n",
       "}\n",
       "\n",
       ".xr-text-repr-fallback {\n",
       "  /* fallback to plain text repr when CSS is not injected (untrusted notebook) */\n",
       "  display: none;\n",
       "}\n",
       "\n",
       ".xr-header {\n",
       "  padding-top: 6px;\n",
       "  padding-bottom: 6px;\n",
       "  margin-bottom: 4px;\n",
       "  border-bottom: solid 1px var(--xr-border-color);\n",
       "}\n",
       "\n",
       ".xr-header > div,\n",
       ".xr-header > ul {\n",
       "  display: inline;\n",
       "  margin-top: 0;\n",
       "  margin-bottom: 0;\n",
       "}\n",
       "\n",
       ".xr-obj-type,\n",
       ".xr-array-name {\n",
       "  margin-left: 2px;\n",
       "  margin-right: 10px;\n",
       "}\n",
       "\n",
       ".xr-obj-type {\n",
       "  color: var(--xr-font-color2);\n",
       "}\n",
       "\n",
       ".xr-sections {\n",
       "  padding-left: 0 !important;\n",
       "  display: grid;\n",
       "  grid-template-columns: 150px auto auto 1fr 20px 20px;\n",
       "}\n",
       "\n",
       ".xr-section-item {\n",
       "  display: contents;\n",
       "}\n",
       "\n",
       ".xr-section-item input {\n",
       "  display: none;\n",
       "}\n",
       "\n",
       ".xr-section-item input + label {\n",
       "  color: var(--xr-disabled-color);\n",
       "}\n",
       "\n",
       ".xr-section-item input:enabled + label {\n",
       "  cursor: pointer;\n",
       "  color: var(--xr-font-color2);\n",
       "}\n",
       "\n",
       ".xr-section-item input:enabled + label:hover {\n",
       "  color: var(--xr-font-color0);\n",
       "}\n",
       "\n",
       ".xr-section-summary {\n",
       "  grid-column: 1;\n",
       "  color: var(--xr-font-color2);\n",
       "  font-weight: 500;\n",
       "}\n",
       "\n",
       ".xr-section-summary > span {\n",
       "  display: inline-block;\n",
       "  padding-left: 0.5em;\n",
       "}\n",
       "\n",
       ".xr-section-summary-in:disabled + label {\n",
       "  color: var(--xr-font-color2);\n",
       "}\n",
       "\n",
       ".xr-section-summary-in + label:before {\n",
       "  display: inline-block;\n",
       "  content: '►';\n",
       "  font-size: 11px;\n",
       "  width: 15px;\n",
       "  text-align: center;\n",
       "}\n",
       "\n",
       ".xr-section-summary-in:disabled + label:before {\n",
       "  color: var(--xr-disabled-color);\n",
       "}\n",
       "\n",
       ".xr-section-summary-in:checked + label:before {\n",
       "  content: '▼';\n",
       "}\n",
       "\n",
       ".xr-section-summary-in:checked + label > span {\n",
       "  display: none;\n",
       "}\n",
       "\n",
       ".xr-section-summary,\n",
       ".xr-section-inline-details {\n",
       "  padding-top: 4px;\n",
       "  padding-bottom: 4px;\n",
       "}\n",
       "\n",
       ".xr-section-inline-details {\n",
       "  grid-column: 2 / -1;\n",
       "}\n",
       "\n",
       ".xr-section-details {\n",
       "  display: none;\n",
       "  grid-column: 1 / -1;\n",
       "  margin-bottom: 5px;\n",
       "}\n",
       "\n",
       ".xr-section-summary-in:checked ~ .xr-section-details {\n",
       "  display: contents;\n",
       "}\n",
       "\n",
       ".xr-array-wrap {\n",
       "  grid-column: 1 / -1;\n",
       "  display: grid;\n",
       "  grid-template-columns: 20px auto;\n",
       "}\n",
       "\n",
       ".xr-array-wrap > label {\n",
       "  grid-column: 1;\n",
       "  vertical-align: top;\n",
       "}\n",
       "\n",
       ".xr-preview {\n",
       "  color: var(--xr-font-color3);\n",
       "}\n",
       "\n",
       ".xr-array-preview,\n",
       ".xr-array-data {\n",
       "  padding: 0 5px !important;\n",
       "  grid-column: 2;\n",
       "}\n",
       "\n",
       ".xr-array-data,\n",
       ".xr-array-in:checked ~ .xr-array-preview {\n",
       "  display: none;\n",
       "}\n",
       "\n",
       ".xr-array-in:checked ~ .xr-array-data,\n",
       ".xr-array-preview {\n",
       "  display: inline-block;\n",
       "}\n",
       "\n",
       ".xr-dim-list {\n",
       "  display: inline-block !important;\n",
       "  list-style: none;\n",
       "  padding: 0 !important;\n",
       "  margin: 0;\n",
       "}\n",
       "\n",
       ".xr-dim-list li {\n",
       "  display: inline-block;\n",
       "  padding: 0;\n",
       "  margin: 0;\n",
       "}\n",
       "\n",
       ".xr-dim-list:before {\n",
       "  content: '(';\n",
       "}\n",
       "\n",
       ".xr-dim-list:after {\n",
       "  content: ')';\n",
       "}\n",
       "\n",
       ".xr-dim-list li:not(:last-child):after {\n",
       "  content: ',';\n",
       "  padding-right: 5px;\n",
       "}\n",
       "\n",
       ".xr-has-index {\n",
       "  font-weight: bold;\n",
       "}\n",
       "\n",
       ".xr-var-list,\n",
       ".xr-var-item {\n",
       "  display: contents;\n",
       "}\n",
       "\n",
       ".xr-var-item > div,\n",
       ".xr-var-item label,\n",
       ".xr-var-item > .xr-var-name span {\n",
       "  background-color: var(--xr-background-color-row-even);\n",
       "  margin-bottom: 0;\n",
       "}\n",
       "\n",
       ".xr-var-item > .xr-var-name:hover span {\n",
       "  padding-right: 5px;\n",
       "}\n",
       "\n",
       ".xr-var-list > li:nth-child(odd) > div,\n",
       ".xr-var-list > li:nth-child(odd) > label,\n",
       ".xr-var-list > li:nth-child(odd) > .xr-var-name span {\n",
       "  background-color: var(--xr-background-color-row-odd);\n",
       "}\n",
       "\n",
       ".xr-var-name {\n",
       "  grid-column: 1;\n",
       "}\n",
       "\n",
       ".xr-var-dims {\n",
       "  grid-column: 2;\n",
       "}\n",
       "\n",
       ".xr-var-dtype {\n",
       "  grid-column: 3;\n",
       "  text-align: right;\n",
       "  color: var(--xr-font-color2);\n",
       "}\n",
       "\n",
       ".xr-var-preview {\n",
       "  grid-column: 4;\n",
       "}\n",
       "\n",
       ".xr-var-name,\n",
       ".xr-var-dims,\n",
       ".xr-var-dtype,\n",
       ".xr-preview,\n",
       ".xr-attrs dt {\n",
       "  white-space: nowrap;\n",
       "  overflow: hidden;\n",
       "  text-overflow: ellipsis;\n",
       "  padding-right: 10px;\n",
       "}\n",
       "\n",
       ".xr-var-name:hover,\n",
       ".xr-var-dims:hover,\n",
       ".xr-var-dtype:hover,\n",
       ".xr-attrs dt:hover {\n",
       "  overflow: visible;\n",
       "  width: auto;\n",
       "  z-index: 1;\n",
       "}\n",
       "\n",
       ".xr-var-attrs,\n",
       ".xr-var-data {\n",
       "  display: none;\n",
       "  background-color: var(--xr-background-color) !important;\n",
       "  padding-bottom: 5px !important;\n",
       "}\n",
       "\n",
       ".xr-var-attrs-in:checked ~ .xr-var-attrs,\n",
       ".xr-var-data-in:checked ~ .xr-var-data {\n",
       "  display: block;\n",
       "}\n",
       "\n",
       ".xr-var-data > table {\n",
       "  float: right;\n",
       "}\n",
       "\n",
       ".xr-var-name span,\n",
       ".xr-var-data,\n",
       ".xr-attrs {\n",
       "  padding-left: 25px !important;\n",
       "}\n",
       "\n",
       ".xr-attrs,\n",
       ".xr-var-attrs,\n",
       ".xr-var-data {\n",
       "  grid-column: 1 / -1;\n",
       "}\n",
       "\n",
       "dl.xr-attrs {\n",
       "  padding: 0;\n",
       "  margin: 0;\n",
       "  display: grid;\n",
       "  grid-template-columns: 125px auto;\n",
       "}\n",
       "\n",
       ".xr-attrs dt,\n",
       ".xr-attrs dd {\n",
       "  padding: 0;\n",
       "  margin: 0;\n",
       "  float: left;\n",
       "  padding-right: 10px;\n",
       "  width: auto;\n",
       "}\n",
       "\n",
       ".xr-attrs dt {\n",
       "  font-weight: normal;\n",
       "  grid-column: 1;\n",
       "}\n",
       "\n",
       ".xr-attrs dt:hover span {\n",
       "  display: inline-block;\n",
       "  background: var(--xr-background-color);\n",
       "  padding-right: 10px;\n",
       "}\n",
       "\n",
       ".xr-attrs dd {\n",
       "  grid-column: 2;\n",
       "  white-space: pre-wrap;\n",
       "  word-break: break-all;\n",
       "}\n",
       "\n",
       ".xr-icon-database,\n",
       ".xr-icon-file-text2 {\n",
       "  display: inline-block;\n",
       "  vertical-align: middle;\n",
       "  width: 1em;\n",
       "  height: 1.5em !important;\n",
       "  stroke-width: 0;\n",
       "  stroke: currentColor;\n",
       "  fill: currentColor;\n",
       "}\n",
       "</style><pre class='xr-text-repr-fallback'>&lt;xarray.Dataset&gt;\n",
       "Dimensions:                                 (time: 42, x: 3, y: 3)\n",
       "Coordinates:\n",
       "  * time                                    (time) datetime64[ns] 2016-06-18T...\n",
       "  * y                                       (y) float64 1.416e+06 ... 1.416e+06\n",
       "  * x                                       (x) float64 4.824e+06 ... 4.824e+06\n",
       "    spatial_ref                             int32 0\n",
       "Data variables:\n",
       "    stack-e6f83332f3e8721f9ee35ba44643f769  (time, y, x) float64 nan ... 0.7164</pre><div class='xr-wrap' hidden><div class='xr-header'><div class='xr-obj-type'>xarray.Dataset</div></div><ul class='xr-sections'><li class='xr-section-item'><input id='section-94e50757-9b67-4e68-b1ab-8d3c3fe489c6' class='xr-section-summary-in' type='checkbox' disabled ><label for='section-94e50757-9b67-4e68-b1ab-8d3c3fe489c6' class='xr-section-summary'  title='Expand/collapse section'>Dimensions:</label><div class='xr-section-inline-details'><ul class='xr-dim-list'><li><span class='xr-has-index'>time</span>: 42</li><li><span class='xr-has-index'>x</span>: 3</li><li><span class='xr-has-index'>y</span>: 3</li></ul></div><div class='xr-section-details'></div></li><li class='xr-section-item'><input id='section-085a1a6d-c9a5-42d1-8482-90635ae5a31b' class='xr-section-summary-in' type='checkbox'  checked><label for='section-085a1a6d-c9a5-42d1-8482-90635ae5a31b' class='xr-section-summary' >Coordinates: <span>(4)</span></label><div class='xr-section-inline-details'></div><div class='xr-section-details'><ul class='xr-var-list'><li class='xr-var-item'><div class='xr-var-name'><span class='xr-has-index'>time</span></div><div class='xr-var-dims'>(time)</div><div class='xr-var-dtype'>datetime64[ns]</div><div class='xr-var-preview xr-preview'>2016-06-18T12:00:00 ... 2017-05-...</div><input id='attrs-28c7dd7c-6414-45ae-a14e-c077a1b652e6' class='xr-var-attrs-in' type='checkbox' disabled><label for='attrs-28c7dd7c-6414-45ae-a14e-c077a1b652e6' title='Show/Hide attributes'><svg class='icon xr-icon-file-text2'><use xlink:href='#icon-file-text2'></use></svg></label><input id='data-a9f3110e-e93a-48e4-92e0-ab32ee5ccbf3' class='xr-var-data-in' type='checkbox'><label for='data-a9f3110e-e93a-48e4-92e0-ab32ee5ccbf3' title='Show/Hide data repr'><svg class='icon xr-icon-database'><use xlink:href='#icon-database'></use></svg></label><div class='xr-var-attrs'><dl class='xr-attrs'></dl></div><div class='xr-var-data'><pre>array([&#x27;2016-06-18T12:00:00.000000000&#x27;, &#x27;2016-06-28T12:00:00.000000000&#x27;,\n",
       "       &#x27;2016-07-01T12:00:00.000000000&#x27;, &#x27;2016-07-08T12:00:00.000000000&#x27;,\n",
       "       &#x27;2016-07-11T12:00:00.000000000&#x27;, &#x27;2016-07-18T12:00:00.000000000&#x27;,\n",
       "       &#x27;2016-07-28T12:00:00.000000000&#x27;, &#x27;2016-08-07T12:00:00.000000000&#x27;,\n",
       "       &#x27;2016-08-10T12:00:00.000000000&#x27;, &#x27;2016-08-17T12:00:00.000000000&#x27;,\n",
       "       &#x27;2016-08-27T12:00:00.000000000&#x27;, &#x27;2016-09-06T12:00:00.000000000&#x27;,\n",
       "       &#x27;2016-09-09T12:00:00.000000000&#x27;, &#x27;2016-09-19T12:00:00.000000000&#x27;,\n",
       "       &#x27;2016-09-26T12:00:00.000000000&#x27;, &#x27;2016-09-29T12:00:00.000000000&#x27;,\n",
       "       &#x27;2016-10-06T12:00:00.000000000&#x27;, &#x27;2016-10-16T12:00:00.000000000&#x27;,\n",
       "       &#x27;2016-10-29T12:00:00.000000000&#x27;, &#x27;2016-11-15T12:00:00.000000000&#x27;,\n",
       "       &#x27;2016-12-05T12:00:00.000000000&#x27;, &#x27;2016-12-08T12:00:00.000000000&#x27;,\n",
       "       &#x27;2016-12-15T12:00:00.000000000&#x27;, &#x27;2016-12-18T12:00:00.000000000&#x27;,\n",
       "       &#x27;2016-12-25T12:00:00.000000000&#x27;, &#x27;2016-12-28T12:00:00.000000000&#x27;,\n",
       "       &#x27;2017-01-04T12:00:00.000000000&#x27;, &#x27;2017-01-07T12:00:00.000000000&#x27;,\n",
       "       &#x27;2017-01-14T12:00:00.000000000&#x27;, &#x27;2017-01-24T12:00:00.000000000&#x27;,\n",
       "       &#x27;2017-01-27T12:00:00.000000000&#x27;, &#x27;2017-02-16T12:00:00.000000000&#x27;,\n",
       "       &#x27;2017-02-26T12:00:00.000000000&#x27;, &#x27;2017-03-08T12:00:00.000000000&#x27;,\n",
       "       &#x27;2017-03-25T12:00:00.000000000&#x27;, &#x27;2017-03-28T12:00:00.000000000&#x27;,\n",
       "       &#x27;2017-04-07T12:00:00.000000000&#x27;, &#x27;2017-04-14T12:00:00.000000000&#x27;,\n",
       "       &#x27;2017-05-14T12:00:00.000000000&#x27;, &#x27;2017-05-17T12:00:00.000000000&#x27;,\n",
       "       &#x27;2017-05-24T12:00:00.000000000&#x27;, &#x27;2017-05-27T12:00:00.000000000&#x27;],\n",
       "      dtype=&#x27;datetime64[ns]&#x27;)</pre></div></li><li class='xr-var-item'><div class='xr-var-name'><span class='xr-has-index'>y</span></div><div class='xr-var-dims'>(y)</div><div class='xr-var-dtype'>float64</div><div class='xr-var-preview xr-preview'>1.416e+06 1.416e+06 1.416e+06</div><input id='attrs-931c0162-6c87-4511-917e-f6fb33df9aaf' class='xr-var-attrs-in' type='checkbox' ><label for='attrs-931c0162-6c87-4511-917e-f6fb33df9aaf' title='Show/Hide attributes'><svg class='icon xr-icon-file-text2'><use xlink:href='#icon-file-text2'></use></svg></label><input id='data-97d53225-57dc-4efc-922e-758c4692cb02' class='xr-var-data-in' type='checkbox'><label for='data-97d53225-57dc-4efc-922e-758c4692cb02' title='Show/Hide data repr'><svg class='icon xr-icon-database'><use xlink:href='#icon-database'></use></svg></label><div class='xr-var-attrs'><dl class='xr-attrs'><dt><span>units :</span></dt><dd>metre</dd><dt><span>resolution :</span></dt><dd>-10.0</dd><dt><span>crs :</span></dt><dd>PROJCS[&quot;Azimuthal_Equidistant&quot;,GEOGCS[&quot;GCS_WGS_1984&quot;,DATUM[&quot;D_WGS_1984&quot;,SPHEROID[&quot;WGS_1984&quot;,6378137,298.257223563]],PRIMEM[&quot;Greenwich&quot;,0],UNIT[&quot;degree&quot;,0.0174532925199433]],PROJECTION[&quot;Azimuthal_Equidistant&quot;],PARAMETER[&quot;latitude_of_center&quot;,53],PARAMETER[&quot;longitude_of_center&quot;,24],PARAMETER[&quot;false_easting&quot;,5837287.81977],PARAMETER[&quot;false_northing&quot;,2121415.69617],UNIT[&quot;metre&quot;,1,AUTHORITY[&quot;EPSG&quot;,&quot;9001&quot;]]]</dd></dl></div><div class='xr-var-data'><pre>array([1415665., 1415655., 1415645.])</pre></div></li><li class='xr-var-item'><div class='xr-var-name'><span class='xr-has-index'>x</span></div><div class='xr-var-dims'>(x)</div><div class='xr-var-dtype'>float64</div><div class='xr-var-preview xr-preview'>4.824e+06 4.824e+06 4.824e+06</div><input id='attrs-b1550a21-1b59-4a60-886c-086ccd3eb946' class='xr-var-attrs-in' type='checkbox' ><label for='attrs-b1550a21-1b59-4a60-886c-086ccd3eb946' title='Show/Hide attributes'><svg class='icon xr-icon-file-text2'><use xlink:href='#icon-file-text2'></use></svg></label><input id='data-17b00306-fb37-4e07-9ce5-d35a3bb644ea' class='xr-var-data-in' type='checkbox'><label for='data-17b00306-fb37-4e07-9ce5-d35a3bb644ea' title='Show/Hide data repr'><svg class='icon xr-icon-database'><use xlink:href='#icon-database'></use></svg></label><div class='xr-var-attrs'><dl class='xr-attrs'><dt><span>units :</span></dt><dd>metre</dd><dt><span>resolution :</span></dt><dd>10.0</dd><dt><span>crs :</span></dt><dd>PROJCS[&quot;Azimuthal_Equidistant&quot;,GEOGCS[&quot;GCS_WGS_1984&quot;,DATUM[&quot;D_WGS_1984&quot;,SPHEROID[&quot;WGS_1984&quot;,6378137,298.257223563]],PRIMEM[&quot;Greenwich&quot;,0],UNIT[&quot;degree&quot;,0.0174532925199433]],PROJECTION[&quot;Azimuthal_Equidistant&quot;],PARAMETER[&quot;latitude_of_center&quot;,53],PARAMETER[&quot;longitude_of_center&quot;,24],PARAMETER[&quot;false_easting&quot;,5837287.81977],PARAMETER[&quot;false_northing&quot;,2121415.69617],UNIT[&quot;metre&quot;,1,AUTHORITY[&quot;EPSG&quot;,&quot;9001&quot;]]]</dd></dl></div><div class='xr-var-data'><pre>array([4824305., 4824315., 4824325.])</pre></div></li><li class='xr-var-item'><div class='xr-var-name'><span>spatial_ref</span></div><div class='xr-var-dims'>()</div><div class='xr-var-dtype'>int32</div><div class='xr-var-preview xr-preview'>...</div><input id='attrs-c65f872c-dc3e-4f19-9ee4-7a51bcccf236' class='xr-var-attrs-in' type='checkbox' ><label for='attrs-c65f872c-dc3e-4f19-9ee4-7a51bcccf236' title='Show/Hide attributes'><svg class='icon xr-icon-file-text2'><use xlink:href='#icon-file-text2'></use></svg></label><input id='data-84ed7afe-6520-4faa-80d9-358158a1d508' class='xr-var-data-in' type='checkbox'><label for='data-84ed7afe-6520-4faa-80d9-358158a1d508' title='Show/Hide data repr'><svg class='icon xr-icon-database'><use xlink:href='#icon-database'></use></svg></label><div class='xr-var-attrs'><dl class='xr-attrs'><dt><span>spatial_ref :</span></dt><dd>PROJCS[&quot;Azimuthal_Equidistant&quot;,GEOGCS[&quot;WGS 84&quot;,DATUM[&quot;WGS_1984&quot;,SPHEROID[&quot;WGS 84&quot;,6378137,298.257223563,AUTHORITY[&quot;EPSG&quot;,&quot;7030&quot;]],AUTHORITY[&quot;EPSG&quot;,&quot;6326&quot;]],PRIMEM[&quot;Greenwich&quot;,0],UNIT[&quot;degree&quot;,0.0174532925199433]],PROJECTION[&quot;Azimuthal_Equidistant&quot;],PARAMETER[&quot;latitude_of_center&quot;,53],PARAMETER[&quot;longitude_of_center&quot;,24],PARAMETER[&quot;false_easting&quot;,5837287.81977],PARAMETER[&quot;false_northing&quot;,2121415.69617],UNIT[&quot;metre&quot;,1,AUTHORITY[&quot;EPSG&quot;,&quot;9001&quot;]],AXIS[&quot;Easting&quot;,EAST],AXIS[&quot;Northing&quot;,NORTH]]</dd><dt><span>grid_mapping_name :</span></dt><dd>azimuthal_equidistant</dd></dl></div><div class='xr-var-data'><pre>array(0, dtype=int32)</pre></div></li></ul></div></li><li class='xr-section-item'><input id='section-0f96ab98-3948-42b3-bc0a-a7428c75e656' class='xr-section-summary-in' type='checkbox'  checked><label for='section-0f96ab98-3948-42b3-bc0a-a7428c75e656' class='xr-section-summary' >Data variables: <span>(1)</span></label><div class='xr-section-inline-details'></div><div class='xr-section-details'><ul class='xr-var-list'><li class='xr-var-item'><div class='xr-var-name'><span>stack-e6f83332f3e8721f9ee35ba44643f769</span></div><div class='xr-var-dims'>(time, y, x)</div><div class='xr-var-dtype'>float64</div><div class='xr-var-preview xr-preview'>...</div><input id='attrs-5f4464d0-2672-4887-a0ca-7d443c426f3f' class='xr-var-attrs-in' type='checkbox' disabled><label for='attrs-5f4464d0-2672-4887-a0ca-7d443c426f3f' title='Show/Hide attributes'><svg class='icon xr-icon-file-text2'><use xlink:href='#icon-file-text2'></use></svg></label><input id='data-75debe13-1891-4626-9f58-421bae0d9242' class='xr-var-data-in' type='checkbox'><label for='data-75debe13-1891-4626-9f58-421bae0d9242' title='Show/Hide data repr'><svg class='icon xr-icon-database'><use xlink:href='#icon-database'></use></svg></label><div class='xr-var-attrs'><dl class='xr-attrs'></dl></div><div class='xr-var-data'><pre>array([[[     nan,      nan,      nan],\n",
       "        [     nan,      nan,      nan],\n",
       "        [     nan,      nan,      nan]],\n",
       "\n",
       "       [[0.584208, 0.681854, 0.705707],\n",
       "        [0.622369, 0.689579, 0.714231],\n",
       "        [0.687628, 0.701673, 0.728664]],\n",
       "\n",
       "       ...,\n",
       "\n",
       "       [[0.558824, 0.561687, 0.560363],\n",
       "        [0.555717, 0.561548, 0.562684],\n",
       "        [0.558186, 0.57253 , 0.57035 ]],\n",
       "\n",
       "       [[0.694822, 0.690395, 0.686869],\n",
       "        [0.689351, 0.693901, 0.696688],\n",
       "        [0.696653, 0.709629, 0.71638 ]]])</pre></div></li></ul></div></li><li class='xr-section-item'><input id='section-4827be29-d858-4ba1-91d3-d71b7ac6cbe7' class='xr-section-summary-in' type='checkbox' disabled ><label for='section-4827be29-d858-4ba1-91d3-d71b7ac6cbe7' class='xr-section-summary'  title='Expand/collapse section'>Attributes: <span>(0)</span></label><div class='xr-section-inline-details'></div><div class='xr-section-details'><dl class='xr-attrs'></dl></div></li></ul></div></div>"
      ],
      "text/plain": [
       "<xarray.Dataset>\n",
       "Dimensions:                                 (time: 42, x: 3, y: 3)\n",
       "Coordinates:\n",
       "  * time                                    (time) datetime64[ns] 2016-06-18T...\n",
       "  * y                                       (y) float64 1.416e+06 ... 1.416e+06\n",
       "  * x                                       (x) float64 4.824e+06 ... 4.824e+06\n",
       "    spatial_ref                             int32 ...\n",
       "Data variables:\n",
       "    stack-e6f83332f3e8721f9ee35ba44643f769  (time, y, x) float64 ..."
      ]
     },
     "metadata": {},
     "execution_count": 22
    }
   ],
   "metadata": {}
  },
  {
   "cell_type": "markdown",
   "source": [
    "Landsat-8 data:"
   ],
   "metadata": {}
  },
  {
   "cell_type": "code",
   "execution_count": 23,
   "source": [
    "xr.open_dataset(\"./data/US2/l8_eodc_timeseries.nc\")"
   ],
   "outputs": [
    {
     "output_type": "execute_result",
     "data": {
      "text/html": [
       "<div><svg style=\"position: absolute; width: 0; height: 0; overflow: hidden\">\n",
       "<defs>\n",
       "<symbol id=\"icon-database\" viewBox=\"0 0 32 32\">\n",
       "<path d=\"M16 0c-8.837 0-16 2.239-16 5v4c0 2.761 7.163 5 16 5s16-2.239 16-5v-4c0-2.761-7.163-5-16-5z\"></path>\n",
       "<path d=\"M16 17c-8.837 0-16-2.239-16-5v6c0 2.761 7.163 5 16 5s16-2.239 16-5v-6c0 2.761-7.163 5-16 5z\"></path>\n",
       "<path d=\"M16 26c-8.837 0-16-2.239-16-5v6c0 2.761 7.163 5 16 5s16-2.239 16-5v-6c0 2.761-7.163 5-16 5z\"></path>\n",
       "</symbol>\n",
       "<symbol id=\"icon-file-text2\" viewBox=\"0 0 32 32\">\n",
       "<path d=\"M28.681 7.159c-0.694-0.947-1.662-2.053-2.724-3.116s-2.169-2.030-3.116-2.724c-1.612-1.182-2.393-1.319-2.841-1.319h-15.5c-1.378 0-2.5 1.121-2.5 2.5v27c0 1.378 1.122 2.5 2.5 2.5h23c1.378 0 2.5-1.122 2.5-2.5v-19.5c0-0.448-0.137-1.23-1.319-2.841zM24.543 5.457c0.959 0.959 1.712 1.825 2.268 2.543h-4.811v-4.811c0.718 0.556 1.584 1.309 2.543 2.268zM28 29.5c0 0.271-0.229 0.5-0.5 0.5h-23c-0.271 0-0.5-0.229-0.5-0.5v-27c0-0.271 0.229-0.5 0.5-0.5 0 0 15.499-0 15.5 0v7c0 0.552 0.448 1 1 1h7v19.5z\"></path>\n",
       "<path d=\"M23 26h-14c-0.552 0-1-0.448-1-1s0.448-1 1-1h14c0.552 0 1 0.448 1 1s-0.448 1-1 1z\"></path>\n",
       "<path d=\"M23 22h-14c-0.552 0-1-0.448-1-1s0.448-1 1-1h14c0.552 0 1 0.448 1 1s-0.448 1-1 1z\"></path>\n",
       "<path d=\"M23 18h-14c-0.552 0-1-0.448-1-1s0.448-1 1-1h14c0.552 0 1 0.448 1 1s-0.448 1-1 1z\"></path>\n",
       "</symbol>\n",
       "</defs>\n",
       "</svg>\n",
       "<style>/* CSS stylesheet for displaying xarray objects in jupyterlab.\n",
       " *\n",
       " */\n",
       "\n",
       ":root {\n",
       "  --xr-font-color0: var(--jp-content-font-color0, rgba(0, 0, 0, 1));\n",
       "  --xr-font-color2: var(--jp-content-font-color2, rgba(0, 0, 0, 0.54));\n",
       "  --xr-font-color3: var(--jp-content-font-color3, rgba(0, 0, 0, 0.38));\n",
       "  --xr-border-color: var(--jp-border-color2, #e0e0e0);\n",
       "  --xr-disabled-color: var(--jp-layout-color3, #bdbdbd);\n",
       "  --xr-background-color: var(--jp-layout-color0, white);\n",
       "  --xr-background-color-row-even: var(--jp-layout-color1, white);\n",
       "  --xr-background-color-row-odd: var(--jp-layout-color2, #eeeeee);\n",
       "}\n",
       "\n",
       "html[theme=dark],\n",
       "body.vscode-dark {\n",
       "  --xr-font-color0: rgba(255, 255, 255, 1);\n",
       "  --xr-font-color2: rgba(255, 255, 255, 0.54);\n",
       "  --xr-font-color3: rgba(255, 255, 255, 0.38);\n",
       "  --xr-border-color: #1F1F1F;\n",
       "  --xr-disabled-color: #515151;\n",
       "  --xr-background-color: #111111;\n",
       "  --xr-background-color-row-even: #111111;\n",
       "  --xr-background-color-row-odd: #313131;\n",
       "}\n",
       "\n",
       ".xr-wrap {\n",
       "  display: block;\n",
       "  min-width: 300px;\n",
       "  max-width: 700px;\n",
       "}\n",
       "\n",
       ".xr-text-repr-fallback {\n",
       "  /* fallback to plain text repr when CSS is not injected (untrusted notebook) */\n",
       "  display: none;\n",
       "}\n",
       "\n",
       ".xr-header {\n",
       "  padding-top: 6px;\n",
       "  padding-bottom: 6px;\n",
       "  margin-bottom: 4px;\n",
       "  border-bottom: solid 1px var(--xr-border-color);\n",
       "}\n",
       "\n",
       ".xr-header > div,\n",
       ".xr-header > ul {\n",
       "  display: inline;\n",
       "  margin-top: 0;\n",
       "  margin-bottom: 0;\n",
       "}\n",
       "\n",
       ".xr-obj-type,\n",
       ".xr-array-name {\n",
       "  margin-left: 2px;\n",
       "  margin-right: 10px;\n",
       "}\n",
       "\n",
       ".xr-obj-type {\n",
       "  color: var(--xr-font-color2);\n",
       "}\n",
       "\n",
       ".xr-sections {\n",
       "  padding-left: 0 !important;\n",
       "  display: grid;\n",
       "  grid-template-columns: 150px auto auto 1fr 20px 20px;\n",
       "}\n",
       "\n",
       ".xr-section-item {\n",
       "  display: contents;\n",
       "}\n",
       "\n",
       ".xr-section-item input {\n",
       "  display: none;\n",
       "}\n",
       "\n",
       ".xr-section-item input + label {\n",
       "  color: var(--xr-disabled-color);\n",
       "}\n",
       "\n",
       ".xr-section-item input:enabled + label {\n",
       "  cursor: pointer;\n",
       "  color: var(--xr-font-color2);\n",
       "}\n",
       "\n",
       ".xr-section-item input:enabled + label:hover {\n",
       "  color: var(--xr-font-color0);\n",
       "}\n",
       "\n",
       ".xr-section-summary {\n",
       "  grid-column: 1;\n",
       "  color: var(--xr-font-color2);\n",
       "  font-weight: 500;\n",
       "}\n",
       "\n",
       ".xr-section-summary > span {\n",
       "  display: inline-block;\n",
       "  padding-left: 0.5em;\n",
       "}\n",
       "\n",
       ".xr-section-summary-in:disabled + label {\n",
       "  color: var(--xr-font-color2);\n",
       "}\n",
       "\n",
       ".xr-section-summary-in + label:before {\n",
       "  display: inline-block;\n",
       "  content: '►';\n",
       "  font-size: 11px;\n",
       "  width: 15px;\n",
       "  text-align: center;\n",
       "}\n",
       "\n",
       ".xr-section-summary-in:disabled + label:before {\n",
       "  color: var(--xr-disabled-color);\n",
       "}\n",
       "\n",
       ".xr-section-summary-in:checked + label:before {\n",
       "  content: '▼';\n",
       "}\n",
       "\n",
       ".xr-section-summary-in:checked + label > span {\n",
       "  display: none;\n",
       "}\n",
       "\n",
       ".xr-section-summary,\n",
       ".xr-section-inline-details {\n",
       "  padding-top: 4px;\n",
       "  padding-bottom: 4px;\n",
       "}\n",
       "\n",
       ".xr-section-inline-details {\n",
       "  grid-column: 2 / -1;\n",
       "}\n",
       "\n",
       ".xr-section-details {\n",
       "  display: none;\n",
       "  grid-column: 1 / -1;\n",
       "  margin-bottom: 5px;\n",
       "}\n",
       "\n",
       ".xr-section-summary-in:checked ~ .xr-section-details {\n",
       "  display: contents;\n",
       "}\n",
       "\n",
       ".xr-array-wrap {\n",
       "  grid-column: 1 / -1;\n",
       "  display: grid;\n",
       "  grid-template-columns: 20px auto;\n",
       "}\n",
       "\n",
       ".xr-array-wrap > label {\n",
       "  grid-column: 1;\n",
       "  vertical-align: top;\n",
       "}\n",
       "\n",
       ".xr-preview {\n",
       "  color: var(--xr-font-color3);\n",
       "}\n",
       "\n",
       ".xr-array-preview,\n",
       ".xr-array-data {\n",
       "  padding: 0 5px !important;\n",
       "  grid-column: 2;\n",
       "}\n",
       "\n",
       ".xr-array-data,\n",
       ".xr-array-in:checked ~ .xr-array-preview {\n",
       "  display: none;\n",
       "}\n",
       "\n",
       ".xr-array-in:checked ~ .xr-array-data,\n",
       ".xr-array-preview {\n",
       "  display: inline-block;\n",
       "}\n",
       "\n",
       ".xr-dim-list {\n",
       "  display: inline-block !important;\n",
       "  list-style: none;\n",
       "  padding: 0 !important;\n",
       "  margin: 0;\n",
       "}\n",
       "\n",
       ".xr-dim-list li {\n",
       "  display: inline-block;\n",
       "  padding: 0;\n",
       "  margin: 0;\n",
       "}\n",
       "\n",
       ".xr-dim-list:before {\n",
       "  content: '(';\n",
       "}\n",
       "\n",
       ".xr-dim-list:after {\n",
       "  content: ')';\n",
       "}\n",
       "\n",
       ".xr-dim-list li:not(:last-child):after {\n",
       "  content: ',';\n",
       "  padding-right: 5px;\n",
       "}\n",
       "\n",
       ".xr-has-index {\n",
       "  font-weight: bold;\n",
       "}\n",
       "\n",
       ".xr-var-list,\n",
       ".xr-var-item {\n",
       "  display: contents;\n",
       "}\n",
       "\n",
       ".xr-var-item > div,\n",
       ".xr-var-item label,\n",
       ".xr-var-item > .xr-var-name span {\n",
       "  background-color: var(--xr-background-color-row-even);\n",
       "  margin-bottom: 0;\n",
       "}\n",
       "\n",
       ".xr-var-item > .xr-var-name:hover span {\n",
       "  padding-right: 5px;\n",
       "}\n",
       "\n",
       ".xr-var-list > li:nth-child(odd) > div,\n",
       ".xr-var-list > li:nth-child(odd) > label,\n",
       ".xr-var-list > li:nth-child(odd) > .xr-var-name span {\n",
       "  background-color: var(--xr-background-color-row-odd);\n",
       "}\n",
       "\n",
       ".xr-var-name {\n",
       "  grid-column: 1;\n",
       "}\n",
       "\n",
       ".xr-var-dims {\n",
       "  grid-column: 2;\n",
       "}\n",
       "\n",
       ".xr-var-dtype {\n",
       "  grid-column: 3;\n",
       "  text-align: right;\n",
       "  color: var(--xr-font-color2);\n",
       "}\n",
       "\n",
       ".xr-var-preview {\n",
       "  grid-column: 4;\n",
       "}\n",
       "\n",
       ".xr-var-name,\n",
       ".xr-var-dims,\n",
       ".xr-var-dtype,\n",
       ".xr-preview,\n",
       ".xr-attrs dt {\n",
       "  white-space: nowrap;\n",
       "  overflow: hidden;\n",
       "  text-overflow: ellipsis;\n",
       "  padding-right: 10px;\n",
       "}\n",
       "\n",
       ".xr-var-name:hover,\n",
       ".xr-var-dims:hover,\n",
       ".xr-var-dtype:hover,\n",
       ".xr-attrs dt:hover {\n",
       "  overflow: visible;\n",
       "  width: auto;\n",
       "  z-index: 1;\n",
       "}\n",
       "\n",
       ".xr-var-attrs,\n",
       ".xr-var-data {\n",
       "  display: none;\n",
       "  background-color: var(--xr-background-color) !important;\n",
       "  padding-bottom: 5px !important;\n",
       "}\n",
       "\n",
       ".xr-var-attrs-in:checked ~ .xr-var-attrs,\n",
       ".xr-var-data-in:checked ~ .xr-var-data {\n",
       "  display: block;\n",
       "}\n",
       "\n",
       ".xr-var-data > table {\n",
       "  float: right;\n",
       "}\n",
       "\n",
       ".xr-var-name span,\n",
       ".xr-var-data,\n",
       ".xr-attrs {\n",
       "  padding-left: 25px !important;\n",
       "}\n",
       "\n",
       ".xr-attrs,\n",
       ".xr-var-attrs,\n",
       ".xr-var-data {\n",
       "  grid-column: 1 / -1;\n",
       "}\n",
       "\n",
       "dl.xr-attrs {\n",
       "  padding: 0;\n",
       "  margin: 0;\n",
       "  display: grid;\n",
       "  grid-template-columns: 125px auto;\n",
       "}\n",
       "\n",
       ".xr-attrs dt,\n",
       ".xr-attrs dd {\n",
       "  padding: 0;\n",
       "  margin: 0;\n",
       "  float: left;\n",
       "  padding-right: 10px;\n",
       "  width: auto;\n",
       "}\n",
       "\n",
       ".xr-attrs dt {\n",
       "  font-weight: normal;\n",
       "  grid-column: 1;\n",
       "}\n",
       "\n",
       ".xr-attrs dt:hover span {\n",
       "  display: inline-block;\n",
       "  background: var(--xr-background-color);\n",
       "  padding-right: 10px;\n",
       "}\n",
       "\n",
       ".xr-attrs dd {\n",
       "  grid-column: 2;\n",
       "  white-space: pre-wrap;\n",
       "  word-break: break-all;\n",
       "}\n",
       "\n",
       ".xr-icon-database,\n",
       ".xr-icon-file-text2 {\n",
       "  display: inline-block;\n",
       "  vertical-align: middle;\n",
       "  width: 1em;\n",
       "  height: 1.5em !important;\n",
       "  stroke-width: 0;\n",
       "  stroke: currentColor;\n",
       "  fill: currentColor;\n",
       "}\n",
       "</style><pre class='xr-text-repr-fallback'>&lt;xarray.Dataset&gt;\n",
       "Dimensions:                                 (time: 34, x: 1, y: 1)\n",
       "Coordinates:\n",
       "  * time                                    (time) datetime64[ns] 2016-06-15T...\n",
       "  * y                                       (y) float64 1.416e+06\n",
       "  * x                                       (x) float64 4.824e+06\n",
       "    spatial_ref                             int32 0\n",
       "Data variables:\n",
       "    stack-02df068a277b2123b22a68e40f3c8502  (time, y, x) float64 0.9284 ... 0...</pre><div class='xr-wrap' hidden><div class='xr-header'><div class='xr-obj-type'>xarray.Dataset</div></div><ul class='xr-sections'><li class='xr-section-item'><input id='section-a9d82235-a19d-45b2-be06-996dc778d32a' class='xr-section-summary-in' type='checkbox' disabled ><label for='section-a9d82235-a19d-45b2-be06-996dc778d32a' class='xr-section-summary'  title='Expand/collapse section'>Dimensions:</label><div class='xr-section-inline-details'><ul class='xr-dim-list'><li><span class='xr-has-index'>time</span>: 34</li><li><span class='xr-has-index'>x</span>: 1</li><li><span class='xr-has-index'>y</span>: 1</li></ul></div><div class='xr-section-details'></div></li><li class='xr-section-item'><input id='section-3baffc43-000d-4591-9f86-c3d3a7d2174a' class='xr-section-summary-in' type='checkbox'  checked><label for='section-3baffc43-000d-4591-9f86-c3d3a7d2174a' class='xr-section-summary' >Coordinates: <span>(4)</span></label><div class='xr-section-inline-details'></div><div class='xr-section-details'><ul class='xr-var-list'><li class='xr-var-item'><div class='xr-var-name'><span class='xr-has-index'>time</span></div><div class='xr-var-dims'>(time)</div><div class='xr-var-dtype'>datetime64[ns]</div><div class='xr-var-preview xr-preview'>2016-06-15T12:00:00 ... 2017-05-...</div><input id='attrs-a20eb24b-6a6e-41cd-a7fe-7ef1e557c3f3' class='xr-var-attrs-in' type='checkbox' disabled><label for='attrs-a20eb24b-6a6e-41cd-a7fe-7ef1e557c3f3' title='Show/Hide attributes'><svg class='icon xr-icon-file-text2'><use xlink:href='#icon-file-text2'></use></svg></label><input id='data-d869cad0-a570-411d-8542-b6ab795ada2d' class='xr-var-data-in' type='checkbox'><label for='data-d869cad0-a570-411d-8542-b6ab795ada2d' title='Show/Hide data repr'><svg class='icon xr-icon-database'><use xlink:href='#icon-database'></use></svg></label><div class='xr-var-attrs'><dl class='xr-attrs'></dl></div><div class='xr-var-data'><pre>array([&#x27;2016-06-15T12:00:00.000000000&#x27;, &#x27;2016-06-24T12:00:00.000000000&#x27;,\n",
       "       &#x27;2016-07-01T12:00:00.000000000&#x27;, &#x27;2016-07-10T12:00:00.000000000&#x27;,\n",
       "       &#x27;2016-07-17T12:00:00.000000000&#x27;, &#x27;2016-07-26T12:00:00.000000000&#x27;,\n",
       "       &#x27;2016-08-02T12:00:00.000000000&#x27;, &#x27;2016-08-11T12:00:00.000000000&#x27;,\n",
       "       &#x27;2016-08-18T12:00:00.000000000&#x27;, &#x27;2016-08-27T12:00:00.000000000&#x27;,\n",
       "       &#x27;2016-09-03T12:00:00.000000000&#x27;, &#x27;2016-09-12T12:00:00.000000000&#x27;,\n",
       "       &#x27;2016-09-19T12:00:00.000000000&#x27;, &#x27;2016-09-28T12:00:00.000000000&#x27;,\n",
       "       &#x27;2016-10-05T12:00:00.000000000&#x27;, &#x27;2016-10-21T12:00:00.000000000&#x27;,\n",
       "       &#x27;2016-10-30T12:00:00.000000000&#x27;, &#x27;2016-11-15T12:00:00.000000000&#x27;,\n",
       "       &#x27;2016-12-01T12:00:00.000000000&#x27;, &#x27;2016-12-08T12:00:00.000000000&#x27;,\n",
       "       &#x27;2016-12-17T12:00:00.000000000&#x27;, &#x27;2017-01-02T12:00:00.000000000&#x27;,\n",
       "       &#x27;2017-01-09T12:00:00.000000000&#x27;, &#x27;2017-01-18T12:00:00.000000000&#x27;,\n",
       "       &#x27;2017-01-25T12:00:00.000000000&#x27;, &#x27;2017-02-19T12:00:00.000000000&#x27;,\n",
       "       &#x27;2017-03-07T12:00:00.000000000&#x27;, &#x27;2017-03-14T12:00:00.000000000&#x27;,\n",
       "       &#x27;2017-03-30T12:00:00.000000000&#x27;, &#x27;2017-04-08T12:00:00.000000000&#x27;,\n",
       "       &#x27;2017-04-24T12:00:00.000000000&#x27;, &#x27;2017-05-10T12:00:00.000000000&#x27;,\n",
       "       &#x27;2017-05-17T12:00:00.000000000&#x27;, &#x27;2017-05-26T12:00:00.000000000&#x27;],\n",
       "      dtype=&#x27;datetime64[ns]&#x27;)</pre></div></li><li class='xr-var-item'><div class='xr-var-name'><span class='xr-has-index'>y</span></div><div class='xr-var-dims'>(y)</div><div class='xr-var-dtype'>float64</div><div class='xr-var-preview xr-preview'>1.416e+06</div><input id='attrs-211ebf3f-2268-4bd4-a52c-746110e4b16d' class='xr-var-attrs-in' type='checkbox' ><label for='attrs-211ebf3f-2268-4bd4-a52c-746110e4b16d' title='Show/Hide attributes'><svg class='icon xr-icon-file-text2'><use xlink:href='#icon-file-text2'></use></svg></label><input id='data-0431c5a1-a56e-43c2-9c9d-8b7abf203fc1' class='xr-var-data-in' type='checkbox'><label for='data-0431c5a1-a56e-43c2-9c9d-8b7abf203fc1' title='Show/Hide data repr'><svg class='icon xr-icon-database'><use xlink:href='#icon-database'></use></svg></label><div class='xr-var-attrs'><dl class='xr-attrs'><dt><span>units :</span></dt><dd>metre</dd><dt><span>resolution :</span></dt><dd>-30.0</dd><dt><span>crs :</span></dt><dd>PROJCS[&quot;Azimuthal_Equidistant&quot;,GEOGCS[&quot;GCS_WGS_1984&quot;,DATUM[&quot;D_WGS_1984&quot;,SPHEROID[&quot;WGS_1984&quot;,6378137,298.257223563]],PRIMEM[&quot;Greenwich&quot;,0],UNIT[&quot;degree&quot;,0.0174532925199433]],PROJECTION[&quot;Azimuthal_Equidistant&quot;],PARAMETER[&quot;latitude_of_center&quot;,53],PARAMETER[&quot;longitude_of_center&quot;,24],PARAMETER[&quot;false_easting&quot;,5837287.81977],PARAMETER[&quot;false_northing&quot;,2121415.69617],UNIT[&quot;metre&quot;,1,AUTHORITY[&quot;EPSG&quot;,&quot;9001&quot;]]]</dd></dl></div><div class='xr-var-data'><pre>array([1415655.])</pre></div></li><li class='xr-var-item'><div class='xr-var-name'><span class='xr-has-index'>x</span></div><div class='xr-var-dims'>(x)</div><div class='xr-var-dtype'>float64</div><div class='xr-var-preview xr-preview'>4.824e+06</div><input id='attrs-6b7a77c2-1a44-445b-b32e-77c39fd84bf2' class='xr-var-attrs-in' type='checkbox' ><label for='attrs-6b7a77c2-1a44-445b-b32e-77c39fd84bf2' title='Show/Hide attributes'><svg class='icon xr-icon-file-text2'><use xlink:href='#icon-file-text2'></use></svg></label><input id='data-a8646f37-3aaf-4690-a760-c1c59f6fac17' class='xr-var-data-in' type='checkbox'><label for='data-a8646f37-3aaf-4690-a760-c1c59f6fac17' title='Show/Hide data repr'><svg class='icon xr-icon-database'><use xlink:href='#icon-database'></use></svg></label><div class='xr-var-attrs'><dl class='xr-attrs'><dt><span>units :</span></dt><dd>metre</dd><dt><span>resolution :</span></dt><dd>30.0</dd><dt><span>crs :</span></dt><dd>PROJCS[&quot;Azimuthal_Equidistant&quot;,GEOGCS[&quot;GCS_WGS_1984&quot;,DATUM[&quot;D_WGS_1984&quot;,SPHEROID[&quot;WGS_1984&quot;,6378137,298.257223563]],PRIMEM[&quot;Greenwich&quot;,0],UNIT[&quot;degree&quot;,0.0174532925199433]],PROJECTION[&quot;Azimuthal_Equidistant&quot;],PARAMETER[&quot;latitude_of_center&quot;,53],PARAMETER[&quot;longitude_of_center&quot;,24],PARAMETER[&quot;false_easting&quot;,5837287.81977],PARAMETER[&quot;false_northing&quot;,2121415.69617],UNIT[&quot;metre&quot;,1,AUTHORITY[&quot;EPSG&quot;,&quot;9001&quot;]]]</dd></dl></div><div class='xr-var-data'><pre>array([4824315.])</pre></div></li><li class='xr-var-item'><div class='xr-var-name'><span>spatial_ref</span></div><div class='xr-var-dims'>()</div><div class='xr-var-dtype'>int32</div><div class='xr-var-preview xr-preview'>...</div><input id='attrs-0271b983-dae2-4551-8cbd-ae957004f9f3' class='xr-var-attrs-in' type='checkbox' ><label for='attrs-0271b983-dae2-4551-8cbd-ae957004f9f3' title='Show/Hide attributes'><svg class='icon xr-icon-file-text2'><use xlink:href='#icon-file-text2'></use></svg></label><input id='data-230e753d-f27a-4a6a-97a4-fb450a7a7111' class='xr-var-data-in' type='checkbox'><label for='data-230e753d-f27a-4a6a-97a4-fb450a7a7111' title='Show/Hide data repr'><svg class='icon xr-icon-database'><use xlink:href='#icon-database'></use></svg></label><div class='xr-var-attrs'><dl class='xr-attrs'><dt><span>spatial_ref :</span></dt><dd>PROJCS[&quot;Azimuthal_Equidistant&quot;,GEOGCS[&quot;WGS 84&quot;,DATUM[&quot;WGS_1984&quot;,SPHEROID[&quot;WGS 84&quot;,6378137,298.257223563,AUTHORITY[&quot;EPSG&quot;,&quot;7030&quot;]],AUTHORITY[&quot;EPSG&quot;,&quot;6326&quot;]],PRIMEM[&quot;Greenwich&quot;,0],UNIT[&quot;degree&quot;,0.0174532925199433]],PROJECTION[&quot;Azimuthal_Equidistant&quot;],PARAMETER[&quot;latitude_of_center&quot;,53],PARAMETER[&quot;longitude_of_center&quot;,24],PARAMETER[&quot;false_easting&quot;,5837287.81977],PARAMETER[&quot;false_northing&quot;,2121415.69617],UNIT[&quot;metre&quot;,1,AUTHORITY[&quot;EPSG&quot;,&quot;9001&quot;]],AXIS[&quot;Easting&quot;,EAST],AXIS[&quot;Northing&quot;,NORTH]]</dd><dt><span>grid_mapping_name :</span></dt><dd>azimuthal_equidistant</dd></dl></div><div class='xr-var-data'><pre>array(0, dtype=int32)</pre></div></li></ul></div></li><li class='xr-section-item'><input id='section-b84e3735-fda9-4b05-aeb6-423fb39293e7' class='xr-section-summary-in' type='checkbox'  checked><label for='section-b84e3735-fda9-4b05-aeb6-423fb39293e7' class='xr-section-summary' >Data variables: <span>(1)</span></label><div class='xr-section-inline-details'></div><div class='xr-section-details'><ul class='xr-var-list'><li class='xr-var-item'><div class='xr-var-name'><span>stack-02df068a277b2123b22a68e40f3c8502</span></div><div class='xr-var-dims'>(time, y, x)</div><div class='xr-var-dtype'>float64</div><div class='xr-var-preview xr-preview'>...</div><input id='attrs-0f570001-c656-4ea7-8a89-a4668546562d' class='xr-var-attrs-in' type='checkbox' disabled><label for='attrs-0f570001-c656-4ea7-8a89-a4668546562d' title='Show/Hide attributes'><svg class='icon xr-icon-file-text2'><use xlink:href='#icon-file-text2'></use></svg></label><input id='data-fb3255f4-d1b4-4b0e-888a-c6268675d609' class='xr-var-data-in' type='checkbox'><label for='data-fb3255f4-d1b4-4b0e-888a-c6268675d609' title='Show/Hide data repr'><svg class='icon xr-icon-database'><use xlink:href='#icon-database'></use></svg></label><div class='xr-var-attrs'><dl class='xr-attrs'></dl></div><div class='xr-var-data'><pre>array([[[ 0.928357]],\n",
       "\n",
       "       [[ 0.90124 ]],\n",
       "\n",
       "       [[ 0.909373]],\n",
       "\n",
       "       [[ 0.855882]],\n",
       "\n",
       "       [[ 0.926623]],\n",
       "\n",
       "       [[-0.      ]],\n",
       "\n",
       "       [[-0.      ]],\n",
       "\n",
       "       [[ 0.91546 ]],\n",
       "\n",
       "       [[ 0.226829]],\n",
       "\n",
       "       [[ 0.884469]],\n",
       "\n",
       "       [[ 0.479152]],\n",
       "\n",
       "       [[ 0.830411]],\n",
       "\n",
       "       [[ 0.604278]],\n",
       "\n",
       "       [[ 0.843929]],\n",
       "\n",
       "       [[ 0.847586]],\n",
       "\n",
       "       [[ 0.769284]],\n",
       "\n",
       "       [[ 0.670347]],\n",
       "\n",
       "       [[ 0.451119]],\n",
       "\n",
       "       [[ 0.236311]],\n",
       "\n",
       "       [[ 0.263789]],\n",
       "\n",
       "       [[ 0.110236]],\n",
       "\n",
       "       [[ 0.316239]],\n",
       "\n",
       "       [[-0.      ]],\n",
       "\n",
       "       [[ 0.593031]],\n",
       "\n",
       "       [[ 0.324786]],\n",
       "\n",
       "       [[ 0.387574]],\n",
       "\n",
       "       [[ 0.585047]],\n",
       "\n",
       "       [[-0.      ]],\n",
       "\n",
       "       [[ 0.564403]],\n",
       "\n",
       "       [[ 0.786761]],\n",
       "\n",
       "       [[-0.      ]],\n",
       "\n",
       "       [[-0.      ]],\n",
       "\n",
       "       [[ 0.904208]],\n",
       "\n",
       "       [[ 0.922928]]])</pre></div></li></ul></div></li><li class='xr-section-item'><input id='section-2f70613f-a31a-4575-b035-7706143d99db' class='xr-section-summary-in' type='checkbox' disabled ><label for='section-2f70613f-a31a-4575-b035-7706143d99db' class='xr-section-summary'  title='Expand/collapse section'>Attributes: <span>(0)</span></label><div class='xr-section-inline-details'></div><div class='xr-section-details'><dl class='xr-attrs'></dl></div></li></ul></div></div>"
      ],
      "text/plain": [
       "<xarray.Dataset>\n",
       "Dimensions:                                 (time: 34, x: 1, y: 1)\n",
       "Coordinates:\n",
       "  * time                                    (time) datetime64[ns] 2016-06-15T...\n",
       "  * y                                       (y) float64 1.416e+06\n",
       "  * x                                       (x) float64 4.824e+06\n",
       "    spatial_ref                             int32 ...\n",
       "Data variables:\n",
       "    stack-02df068a277b2123b22a68e40f3c8502  (time, y, x) float64 ..."
      ]
     },
     "metadata": {},
     "execution_count": 23
    }
   ],
   "metadata": {}
  },
  {
   "cell_type": "markdown",
   "source": [
    "We can get a visualization of them with the following code."
   ],
   "metadata": {}
  },
  {
   "cell_type": "code",
   "execution_count": 24,
   "source": [
    "s2_timeseries = xr.open_dataset(\"./data/US2/s2_eodc_force_timeseries.nc\")\n",
    "s2_timeseries = s2_timeseries.rename({next(iter(s2_timeseries.data_vars)): 'S2_NDVI'}).dropna(dim='time')\n",
    "l8_timeseries = xr.open_dataset(\"./data/US2/l8_eodc_timeseries.nc\")\n",
    "l8_timeseries = l8_timeseries.rename({next(iter(l8_timeseries.data_vars)): 'L8_NDVI'}).dropna(dim='time')"
   ],
   "outputs": [],
   "metadata": {}
  },
  {
   "cell_type": "code",
   "execution_count": 25,
   "source": [
    "ndvi_timeseries = s2_timeseries.mean(['x','y'], skipna=True).clip(-1,1)\n",
    "\n",
    "ndvi_l8 = l8_timeseries.mean(['x','y'], skipna=True).clip(-1,1)\n",
    "ndvi_l8 = ndvi_l8.interp_like(ndvi_timeseries)\n",
    "ndvi_timeseries['L8_NDVI'] = ndvi_l8.L8_NDVI\n",
    "\n",
    "timeseries_plot = ndvi_timeseries.hvplot.scatter(title='Timeseries of NDVI from Sentinel-2 and Landsat-8 ARD',dynamic=False,grid=True,width=800,height=300)\n",
    "bounds = {'ndvi_timeseries':(-1, 1)}\n",
    "timeseries_plot = timeseries_plot.redim.range(**bounds)\n",
    "timeseries_plot"
   ],
   "outputs": [
    {
     "output_type": "display_data",
     "data": {},
     "metadata": {}
    },
    {
     "output_type": "execute_result",
     "data": {
      "text/html": [
       "<div id='3530'>\n",
       "\n",
       "\n",
       "\n",
       "\n",
       "\n",
       "  <div class=\"bk-root\" id=\"89484dfa-c503-4e44-9054-90ff5dbbacfc\" data-root-id=\"3530\"></div>\n",
       "</div>\n",
       "<script type=\"application/javascript\">(function(root) {\n",
       "  function embed_document(root) {\n",
       "    var docs_json = {\"6242e9cb-2669-4fa9-bf6b-08b3030aed7e\":{\"roots\":{\"references\":[{\"attributes\":{\"axis\":{\"id\":\"3549\"},\"ticker\":{\"id\":\"3550\"}},\"id\":\"3552\",\"type\":\"Grid\"},{\"attributes\":{},\"id\":\"3561\",\"type\":\"ResetTool\"},{\"attributes\":{\"num_minor_ticks\":5,\"tickers\":[{\"id\":\"3591\"},{\"id\":\"3592\"},{\"id\":\"3593\"},{\"id\":\"3594\"},{\"id\":\"3595\"},{\"id\":\"3596\"},{\"id\":\"3597\"},{\"id\":\"3598\"},{\"id\":\"3599\"},{\"id\":\"3600\"},{\"id\":\"3601\"},{\"id\":\"3602\"}]},\"id\":\"3550\",\"type\":\"DatetimeTicker\"},{\"attributes\":{\"base\":24,\"mantissas\":[1,2,4,6,8,12],\"max_interval\":43200000.0,\"min_interval\":3600000.0,\"num_minor_ticks\":0},\"id\":\"3593\",\"type\":\"AdaptiveTicker\"},{\"attributes\":{},\"id\":\"3579\",\"type\":\"Selection\"},{\"attributes\":{\"axis\":{\"id\":\"3553\"},\"dimension\":1,\"ticker\":{\"id\":\"3554\"}},\"id\":\"3556\",\"type\":\"Grid\"},{\"attributes\":{\"months\":[0,1,2,3,4,5,6,7,8,9,10,11]},\"id\":\"3598\",\"type\":\"MonthsTicker\"},{\"attributes\":{\"days\":[1,4,7,10,13,16,19,22,25,28]},\"id\":\"3595\",\"type\":\"DaysTicker\"},{\"attributes\":{\"data_source\":{\"id\":\"3578\"},\"glyph\":{\"id\":\"3581\"},\"hover_glyph\":null,\"muted_glyph\":{\"id\":\"3583\"},\"nonselection_glyph\":{\"id\":\"3582\"},\"selection_glyph\":null,\"view\":{\"id\":\"3585\"}},\"id\":\"3584\",\"type\":\"GlyphRenderer\"},{\"attributes\":{\"days\":[1,15]},\"id\":\"3597\",\"type\":\"DaysTicker\"},{\"attributes\":{\"end\":1496965320000.0,\"reset_end\":1496965320000.0,\"reset_start\":1466036280000.0,\"start\":1466036280000.0,\"tags\":[[[\"time\",\"time\",null]]]},\"id\":\"3534\",\"type\":\"Range1d\"},{\"attributes\":{\"margin\":[5,5,5,5],\"name\":\"HSpacer17565\",\"sizing_mode\":\"stretch_width\"},\"id\":\"3531\",\"type\":\"Spacer\"},{\"attributes\":{\"months\":[0,2,4,6,8,10]},\"id\":\"3599\",\"type\":\"MonthsTicker\"},{\"attributes\":{\"months\":[0,6]},\"id\":\"3601\",\"type\":\"MonthsTicker\"},{\"attributes\":{\"days\":[1,8,15,22]},\"id\":\"3596\",\"type\":\"DaysTicker\"},{\"attributes\":{\"text\":\"Timeseries of NDVI from Sentinel-2 and Landsat-8 ARD\",\"text_color\":{\"value\":\"black\"},\"text_font_size\":{\"value\":\"12pt\"}},\"id\":\"3541\",\"type\":\"Title\"},{\"attributes\":{\"source\":{\"id\":\"3608\"}},\"id\":\"3615\",\"type\":\"CDSView\"},{\"attributes\":{\"click_policy\":\"mute\",\"items\":[{\"id\":\"3607\"},{\"id\":\"3638\"}],\"location\":[0,0],\"title\":\"Variable\"},\"id\":\"3606\",\"type\":\"Legend\"},{\"attributes\":{\"months\":[0,4,8]},\"id\":\"3600\",\"type\":\"MonthsTicker\"},{\"attributes\":{\"source\":{\"id\":\"3578\"}},\"id\":\"3585\",\"type\":\"CDSView\"},{\"attributes\":{\"data\":{\"Variable\":[\"S2_NDVI\",\"S2_NDVI\",\"S2_NDVI\",\"S2_NDVI\",\"S2_NDVI\",\"S2_NDVI\",\"S2_NDVI\",\"S2_NDVI\",\"S2_NDVI\",\"S2_NDVI\",\"S2_NDVI\",\"S2_NDVI\",\"S2_NDVI\",\"S2_NDVI\",\"S2_NDVI\",\"S2_NDVI\",\"S2_NDVI\",\"S2_NDVI\",\"S2_NDVI\",\"S2_NDVI\",\"S2_NDVI\",\"S2_NDVI\",\"S2_NDVI\",\"S2_NDVI\",\"S2_NDVI\",\"S2_NDVI\",\"S2_NDVI\",\"S2_NDVI\",\"S2_NDVI\",\"S2_NDVI\",\"S2_NDVI\",\"S2_NDVI\",\"S2_NDVI\",\"S2_NDVI\",\"S2_NDVI\",\"S2_NDVI\",\"S2_NDVI\",\"S2_NDVI\",\"S2_NDVI\",\"S2_NDVI\",\"S2_NDVI\"],\"time\":{\"__ndarray__\":\"AADgFW5ZdUIAACBHZVp1QgAAYA+mXHVCAACgQJ1ddUIAAOAI3l91QgAAYAIWY3VCAADg+01mdUIAACAtRWd1QgAAYPWFaXVCAADg7r1sdUIAAGDo9W91QgAAoBntcHVCAAAgEyV0dUIAAGDbZXZ1QgAAoAxdd3VCAADg1J15dUIAAGDO1Xx1QgAAIPkEgXVCAADgun2GdUIAAOCt7Yx1QgAAIN/kjXVCAABgpyWQdUIAAKDYHJF1QgAA4KBdk3VCAAAg0lSUdUIAAGCalZZ1QgAAoMuMl3VCAADgk82ZdUIAAGCNBZ11QgAAoL78nXVCAACgsWykdUIAACCrpKd1QgAAoKTcqnVCAABgZlWwdUIAAKCXTLF1QgAAIJGEtHVCAABgWcW2dUIAAOBFbcB1QgAAIHdkwXVCAABgP6XDdUIAAKBwnMR1Qg==\",\"dtype\":\"float64\",\"order\":\"little\",\"shape\":[41]},\"value\":{\"__ndarray__\":\"Ye0QCNe+5T97GX92817mP8glyfXpueU/f2vI09rL5D+JCOSjVsnmP9vcu1fwTuI/BnqSfCrv5j+OE76cAfnmP0bozXfdcuY/RFvvtss55j9TTstYjhfmP/oEgdxczuU/VfFK8yPg5T8mnLLE/QzlP97CCdOHLOA/Y4Ti1wje4z8rJYbN8H7hP7yMgmqpHtw/Wv4KOCQQ0T+Tir0yitPVv3VBYK0rr8s/1Lknm3C867/f+igdilnRv2mcMWV1JMM/AAAAAAAA8L+0/49+dQ+1P/6AqzC537I/O+hb2blCxD9OKYzCAlPOP1K42S9KfdE/9Xf7nxw51j+d0JBDFc3JPwQru6av/NY/2x+9lRaQ1D8YrWlelR7WP+TJnHkUMdk/5cvr0iS84T/T20xA37LkPyL+2MnGVeU/bepnV3H/4T+B45NLXE/mPw==\",\"dtype\":\"float64\",\"order\":\"little\",\"shape\":[41]}},\"selected\":{\"id\":\"3579\"},\"selection_policy\":{\"id\":\"3603\"}},\"id\":\"3578\",\"type\":\"ColumnDataSource\"},{\"attributes\":{},\"id\":\"3602\",\"type\":\"YearsTicker\"},{\"attributes\":{\"below\":[{\"id\":\"3549\"}],\"center\":[{\"id\":\"3552\"},{\"id\":\"3556\"}],\"left\":[{\"id\":\"3553\"}],\"margin\":[5,5,5,5],\"min_border_bottom\":10,\"min_border_left\":10,\"min_border_right\":10,\"min_border_top\":10,\"plot_height\":300,\"plot_width\":800,\"renderers\":[{\"id\":\"3584\"},{\"id\":\"3614\"}],\"right\":[{\"id\":\"3606\"}],\"sizing_mode\":\"fixed\",\"title\":{\"id\":\"3541\"},\"toolbar\":{\"id\":\"3563\"},\"x_range\":{\"id\":\"3534\"},\"x_scale\":{\"id\":\"3545\"},\"y_range\":{\"id\":\"3535\"},\"y_scale\":{\"id\":\"3547\"}},\"id\":\"3540\",\"subtype\":\"Figure\",\"type\":\"Plot\"},{\"attributes\":{\"bottom_units\":\"screen\",\"fill_alpha\":0.5,\"fill_color\":\"lightgrey\",\"left_units\":\"screen\",\"level\":\"overlay\",\"line_alpha\":1.0,\"line_color\":\"black\",\"line_dash\":[4,4],\"line_width\":2,\"right_units\":\"screen\",\"top_units\":\"screen\"},\"id\":\"3562\",\"type\":\"BoxAnnotation\"},{\"attributes\":{\"label\":{\"value\":\"S2_NDVI\"},\"renderers\":[{\"id\":\"3584\"}]},\"id\":\"3607\",\"type\":\"LegendItem\"},{\"attributes\":{\"fill_color\":{\"value\":\"#fc4f30\"},\"line_color\":{\"value\":\"#fc4f30\"},\"size\":{\"units\":\"screen\",\"value\":5.477225575051661},\"x\":{\"field\":\"time\"},\"y\":{\"field\":\"value\"}},\"id\":\"3611\",\"type\":\"Scatter\"},{\"attributes\":{\"fill_alpha\":{\"value\":0.2},\"fill_color\":{\"value\":\"#fc4f30\"},\"line_alpha\":{\"value\":0.2},\"line_color\":{\"value\":\"#fc4f30\"},\"size\":{\"units\":\"screen\",\"value\":5.477225575051661},\"x\":{\"field\":\"time\"},\"y\":{\"field\":\"value\"}},\"id\":\"3613\",\"type\":\"Scatter\"},{\"attributes\":{\"fill_alpha\":{\"value\":0.2},\"fill_color\":{\"value\":\"#30a2da\"},\"line_alpha\":{\"value\":0.2},\"line_color\":{\"value\":\"#30a2da\"},\"size\":{\"units\":\"screen\",\"value\":5.477225575051661},\"x\":{\"field\":\"time\"},\"y\":{\"field\":\"value\"}},\"id\":\"3583\",\"type\":\"Scatter\"},{\"attributes\":{},\"id\":\"3559\",\"type\":\"WheelZoomTool\"},{\"attributes\":{},\"id\":\"3547\",\"type\":\"LinearScale\"},{\"attributes\":{},\"id\":\"3609\",\"type\":\"Selection\"},{\"attributes\":{\"children\":[{\"id\":\"3531\"},{\"id\":\"3540\"},{\"id\":\"3837\"}],\"margin\":[0,0,0,0],\"name\":\"Row17561\",\"tags\":[\"embedded\"]},\"id\":\"3530\",\"type\":\"Row\"},{\"attributes\":{\"fill_color\":{\"value\":\"#30a2da\"},\"line_color\":{\"value\":\"#30a2da\"},\"size\":{\"units\":\"screen\",\"value\":5.477225575051661},\"x\":{\"field\":\"time\"},\"y\":{\"field\":\"value\"}},\"id\":\"3581\",\"type\":\"Scatter\"},{\"attributes\":{},\"id\":\"3635\",\"type\":\"UnionRenderers\"},{\"attributes\":{\"data_source\":{\"id\":\"3608\"},\"glyph\":{\"id\":\"3611\"},\"hover_glyph\":null,\"muted_glyph\":{\"id\":\"3613\"},\"nonselection_glyph\":{\"id\":\"3612\"},\"selection_glyph\":null,\"view\":{\"id\":\"3615\"}},\"id\":\"3614\",\"type\":\"GlyphRenderer\"},{\"attributes\":{\"fill_alpha\":{\"value\":0.1},\"fill_color\":{\"value\":\"#30a2da\"},\"line_alpha\":{\"value\":0.1},\"line_color\":{\"value\":\"#30a2da\"},\"size\":{\"units\":\"screen\",\"value\":5.477225575051661},\"x\":{\"field\":\"time\"},\"y\":{\"field\":\"value\"}},\"id\":\"3582\",\"type\":\"Scatter\"},{\"attributes\":{\"fill_alpha\":{\"value\":0.1},\"fill_color\":{\"value\":\"#fc4f30\"},\"line_alpha\":{\"value\":0.1},\"line_color\":{\"value\":\"#fc4f30\"},\"size\":{\"units\":\"screen\",\"value\":5.477225575051661},\"x\":{\"field\":\"time\"},\"y\":{\"field\":\"value\"}},\"id\":\"3612\",\"type\":\"Scatter\"},{\"attributes\":{\"label\":{\"value\":\"L8_NDVI\"},\"renderers\":[{\"id\":\"3614\"}]},\"id\":\"3638\",\"type\":\"LegendItem\"},{\"attributes\":{},\"id\":\"3557\",\"type\":\"SaveTool\"},{\"attributes\":{},\"id\":\"3603\",\"type\":\"UnionRenderers\"},{\"attributes\":{\"days\":[1,2,3,4,5,6,7,8,9,10,11,12,13,14,15,16,17,18,19,20,21,22,23,24,25,26,27,28,29,30,31]},\"id\":\"3594\",\"type\":\"DaysTicker\"},{\"attributes\":{},\"id\":\"3558\",\"type\":\"PanTool\"},{\"attributes\":{\"data\":{\"Variable\":[\"L8_NDVI\",\"L8_NDVI\",\"L8_NDVI\",\"L8_NDVI\",\"L8_NDVI\",\"L8_NDVI\",\"L8_NDVI\",\"L8_NDVI\",\"L8_NDVI\",\"L8_NDVI\",\"L8_NDVI\",\"L8_NDVI\",\"L8_NDVI\",\"L8_NDVI\",\"L8_NDVI\",\"L8_NDVI\",\"L8_NDVI\",\"L8_NDVI\",\"L8_NDVI\",\"L8_NDVI\",\"L8_NDVI\",\"L8_NDVI\",\"L8_NDVI\",\"L8_NDVI\",\"L8_NDVI\",\"L8_NDVI\",\"L8_NDVI\",\"L8_NDVI\",\"L8_NDVI\",\"L8_NDVI\",\"L8_NDVI\",\"L8_NDVI\",\"L8_NDVI\",\"L8_NDVI\",\"L8_NDVI\",\"L8_NDVI\",\"L8_NDVI\",\"L8_NDVI\",\"L8_NDVI\",\"L8_NDVI\",\"L8_NDVI\"],\"time\":{\"__ndarray__\":\"AADgFW5ZdUIAACBHZVp1QgAAYA+mXHVCAACgQJ1ddUIAAOAI3l91QgAAYAIWY3VCAADg+01mdUIAACAtRWd1QgAAYPWFaXVCAADg7r1sdUIAAGDo9W91QgAAoBntcHVCAAAgEyV0dUIAAGDbZXZ1QgAAoAxdd3VCAADg1J15dUIAAGDO1Xx1QgAAIPkEgXVCAADgun2GdUIAAOCt7Yx1QgAAIN/kjXVCAABgpyWQdUIAAKDYHJF1QgAA4KBdk3VCAAAg0lSUdUIAAGCalZZ1QgAAoMuMl3VCAADgk82ZdUIAAGCNBZ11QgAAoL78nXVCAACgsWykdUIAACCrpKd1QgAAoKTcqnVCAABgZlWwdUIAAKCXTLF1QgAAIJGEtHVCAABgWcW2dUIAAOBFbcB1QgAAIHdkwXVCAABgP6XDdUIAAKBwnMR1Qg==\",\"dtype\":\"float64\",\"order\":\"little\",\"shape\":[41]},\"value\":{\"__ndarray__\":\"XrK2eAf97D//DzrplBntPxTfBLrDxOs/xqzs3Sy26z8U6APhdlvqPwAAAAAAAAAAcjodSFxG4D/pwy5ALQrqP5wqGqIn0NQ/6R88Y5JN7D93AkLuYhTjP7NsTWSO0+Y/VrMn+T5W4z/eQq7KMU3pPxZ7B8G+Bes/qctiD1X36j+xFzL8bGbpP2SqkX2JzeU/RuexEiLf3D/Md3NK+iDQP/6DiSDr4dA/vtKzglt6wj+Sn7bIOoS/P5glrgxgS8s/L2WNc4ce0D+czumczunMPxZyIRdyIbc/eO38OOcV1T+IwKtTJT3XP2cm+J2YG9U/m6jM+ZBS2D9DgtYhf1XePxIb9O0HDOA/jTzR6W7V2D/ikiFYR5vfP/AIlwLBYug/mUBY6G943z94uzN0uojgPxGIWktG7+w/699YGoxm7T8AAAAAAAD4fw==\",\"dtype\":\"float64\",\"order\":\"little\",\"shape\":[41]}},\"selected\":{\"id\":\"3609\"},\"selection_policy\":{\"id\":\"3635\"}},\"id\":\"3608\",\"type\":\"ColumnDataSource\"},{\"attributes\":{},\"id\":\"3575\",\"type\":\"BasicTickFormatter\"},{\"attributes\":{\"mantissas\":[1,2,5],\"max_interval\":500.0,\"num_minor_ticks\":0},\"id\":\"3591\",\"type\":\"AdaptiveTicker\"},{\"attributes\":{\"margin\":[5,5,5,5],\"name\":\"HSpacer17566\",\"sizing_mode\":\"stretch_width\"},\"id\":\"3837\",\"type\":\"Spacer\"},{\"attributes\":{\"axis_label\":\"time\",\"bounds\":\"auto\",\"formatter\":{\"id\":\"3573\"},\"major_label_orientation\":\"horizontal\",\"ticker\":{\"id\":\"3550\"}},\"id\":\"3549\",\"type\":\"DatetimeAxis\"},{\"attributes\":{},\"id\":\"3573\",\"type\":\"DatetimeTickFormatter\"},{\"attributes\":{\"base\":60,\"mantissas\":[1,2,5,10,15,20,30],\"max_interval\":1800000.0,\"min_interval\":1000.0,\"num_minor_ticks\":0},\"id\":\"3592\",\"type\":\"AdaptiveTicker\"},{\"attributes\":{\"active_drag\":\"auto\",\"active_inspect\":\"auto\",\"active_multi\":null,\"active_scroll\":\"auto\",\"active_tap\":\"auto\",\"tools\":[{\"id\":\"3536\"},{\"id\":\"3557\"},{\"id\":\"3558\"},{\"id\":\"3559\"},{\"id\":\"3560\"},{\"id\":\"3561\"}]},\"id\":\"3563\",\"type\":\"Toolbar\"},{\"attributes\":{},\"id\":\"3545\",\"type\":\"LinearScale\"},{\"attributes\":{\"callback\":null,\"formatters\":{\"@{time}\":\"datetime\"},\"renderers\":[{\"id\":\"3584\"},{\"id\":\"3614\"}],\"tags\":[\"hv_created\"],\"tooltips\":[[\"Variable\",\"@{Variable}\"],[\"time\",\"@{time}{%F %T}\"],[\"value\",\"@{value}\"]]},\"id\":\"3536\",\"type\":\"HoverTool\"},{\"attributes\":{\"axis_label\":\"\",\"bounds\":\"auto\",\"formatter\":{\"id\":\"3575\"},\"major_label_orientation\":\"horizontal\",\"ticker\":{\"id\":\"3554\"}},\"id\":\"3553\",\"type\":\"LinearAxis\"},{\"attributes\":{\"end\":1.1106447759678277,\"reset_end\":1.1106447759678277,\"reset_start\":-1.1918767978152571,\"start\":-1.1918767978152571,\"tags\":[[[\"value\",\"value\",null]]]},\"id\":\"3535\",\"type\":\"Range1d\"},{\"attributes\":{},\"id\":\"3554\",\"type\":\"BasicTicker\"},{\"attributes\":{\"overlay\":{\"id\":\"3562\"}},\"id\":\"3560\",\"type\":\"BoxZoomTool\"}],\"root_ids\":[\"3530\"]},\"title\":\"Bokeh Application\",\"version\":\"2.2.3\"}};\n",
       "    var render_items = [{\"docid\":\"6242e9cb-2669-4fa9-bf6b-08b3030aed7e\",\"root_ids\":[\"3530\"],\"roots\":{\"3530\":\"89484dfa-c503-4e44-9054-90ff5dbbacfc\"}}];\n",
       "    root.Bokeh.embed.embed_items_notebook(docs_json, render_items);\n",
       "  }\n",
       "  if (root.Bokeh !== undefined && root.Bokeh.Panel !== undefined) {\n",
       "    embed_document(root);\n",
       "  } else {\n",
       "    var attempts = 0;\n",
       "    var timer = setInterval(function(root) {\n",
       "      if (root.Bokeh !== undefined && root.Bokeh.Panel !== undefined) {\n",
       "        clearInterval(timer);\n",
       "        embed_document(root);\n",
       "      } else if (document.readyState == \"complete\") {\n",
       "        attempts++;\n",
       "        if (attempts > 100) {\n",
       "          clearInterval(timer);\n",
       "          console.log(\"Bokeh: ERROR: Unable to run BokehJS code because BokehJS library is missing\");\n",
       "        }\n",
       "      }\n",
       "    }, 10, root)\n",
       "  }\n",
       "})(window);</script>"
      ],
      "text/plain": [
       ":NdOverlay   [Variable]\n",
       "   :Scatter   [time]   (value)"
      ],
      "application/vnd.holoviews_exec.v0+json": ""
     },
     "metadata": {
      "application/vnd.holoviews_exec.v0+json": {
       "id": "3530"
      }
     },
     "execution_count": 25
    }
   ],
   "metadata": {}
  },
  {
   "cell_type": "code",
   "execution_count": null,
   "source": [],
   "outputs": [],
   "metadata": {}
  }
 ],
 "metadata": {
  "kernelspec": {
   "display_name": "Python 3",
   "language": "python",
   "name": "python3"
  },
  "language_info": {
   "codemirror_mode": {
    "name": "ipython",
    "version": 3
   },
   "file_extension": ".py",
   "mimetype": "text/x-python",
   "name": "python",
   "nbconvert_exporter": "python",
   "pygments_lexer": "ipython3",
   "version": "3.8.8"
  }
 },
 "nbformat": 4,
 "nbformat_minor": 4
}