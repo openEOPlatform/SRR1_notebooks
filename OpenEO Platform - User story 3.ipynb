{
 "cells": [
  {
   "cell_type": "markdown",
   "metadata": {},
   "source": [
    "<img src=\"https://avatars.githubusercontent.com/u/74911464?s=200&v=4\"\n",
    "     alt=\"OpenEO Platform logo\"\n",
    "     style=\"float: left; margin-right: 10px;\" />\n",
    "# OpenEO Platform - User Story 3\n",
    "### On-demand processing of Sentinel-1 data:\n",
    " - ARD compliant\n",
    " - With custom parametrization\n"
   ]
  },
  {
   "cell_type": "markdown",
   "metadata": {},
   "source": [
    "## Produce on demand Sentinel-1 data (sigma/gamma)\n",
    "Compare the data given the different options: ARD metadata, terrain correction?, sigma, gamma\n",
    "- Visualize the metadata\n",
    "- Sigma to Gamma Ratio\n",
    "- Scaling from linear to decibel?\n",
    "\n",
    "QUESTION TO THE DEV:\n",
    "- Sentinel-1 data returned as linear or dB?"
   ]
  },
  {
   "cell_type": "code",
   "execution_count": null,
   "metadata": {},
   "outputs": [],
   "source": []
  },
  {
   "cell_type": "code",
   "execution_count": null,
   "metadata": {},
   "outputs": [],
   "source": []
  }
 ],
 "metadata": {
  "kernelspec": {
   "display_name": "Python 3",
   "language": "python",
   "name": "python3"
  },
  "language_info": {
   "codemirror_mode": {
    "name": "ipython",
    "version": 3
   },
   "file_extension": ".py",
   "mimetype": "text/x-python",
   "name": "python",
   "nbconvert_exporter": "python",
   "pygments_lexer": "ipython3",
   "version": "3.9.1"
  }
 },
 "nbformat": 4,
 "nbformat_minor": 4
}
