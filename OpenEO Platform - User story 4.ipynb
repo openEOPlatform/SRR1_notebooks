{
 "cells": [
  {
   "cell_type": "markdown",
   "metadata": {},
   "source": [
    "<img src=\"https://avatars.githubusercontent.com/u/74911464?s=200&v=4\"\n",
    "     alt=\"OpenEO Platform logo\"\n",
    "     style=\"float: left; margin-right: 10px;\" />\n",
    "# OpenEO Platform - User Story 4\n",
    "### On-demand processing of Sentinel-2 data:\n",
    " - ARD compliant\n",
    " - With custom parametrization"
   ]
  },
  {
   "cell_type": "markdown",
   "metadata": {},
   "source": [
    "1. Visualize on-demand Sentinel-2 data, EODC (Force) Vito (iCor).\n",
    "2. EODC has terrain correction with Force. Show differences between Force and iCor in mountain areas.\n",
    "3. Visualize performance/measure time when bbox over two tiles and compare when only above one tile.\n",
    "4. METADATA!\n",
    "\n",
    "- QUESTION TO THE DEV MEETING:\n",
    "- Metadata: return the URL? Python can download the json and visualize it.\n",
    "- For Luca: Force and terrain correction: always on?"
   ]
  },
  {
   "cell_type": "code",
   "execution_count": null,
   "metadata": {},
   "outputs": [],
   "source": []
  },
  {
   "cell_type": "code",
   "execution_count": null,
   "metadata": {},
   "outputs": [],
   "source": []
  }
 ],
 "metadata": {
  "kernelspec": {
   "display_name": "Python 3",
   "language": "python",
   "name": "python3"
  },
  "language_info": {
   "codemirror_mode": {
    "name": "ipython",
    "version": 3
   },
   "file_extension": ".py",
   "mimetype": "text/x-python",
   "name": "python",
   "nbconvert_exporter": "python",
   "pygments_lexer": "ipython3",
   "version": "3.9.1"
  }
 },
 "nbformat": 4,
 "nbformat_minor": 4
}
