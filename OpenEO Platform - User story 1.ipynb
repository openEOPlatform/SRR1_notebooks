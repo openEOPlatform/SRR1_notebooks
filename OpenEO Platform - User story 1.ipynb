{
 "cells": [
  {
   "cell_type": "markdown",
   "metadata": {},
   "source": [
    "<img src=\"https://avatars.githubusercontent.com/u/74911464?s=200&v=4\"\n",
    "     alt=\"OpenEO Platform logo\"\n",
    "     style=\"float: left; margin-right: 10px;\" />\n",
    "# OpenEO Platform - User Story 1\n",
    "\n",
    "### Access of pre-computed ARD data for Sentinel 1 and 2 over a large area."
   ]
  },
  {
   "cell_type": "markdown",
   "metadata": {},
   "source": [
    "1. Large Area from VITO. Pre computed 10-20 tiles. \n",
    "Overlay Sentinel-2 tiles\n",
    "2. Show that the grids are aligned. Overlay the data as geotiff to show the alignment.\n",
    "3. Show/visualize metadata -> ask Jeroen how to get it\n",
    "\n",
    "DEV MEETING QUESTION:\n",
    "1. What happens if the bbox covers more than one tile? Different timesteps?\n",
    "2. How to use a batch job for a large area?"
   ]
  },
  {
   "cell_type": "code",
   "execution_count": 3,
   "metadata": {},
   "outputs": [],
   "source": [
    "# Import necessary libraries\n",
    "import time\n",
    "import rasterio\n",
    "import numpy as np\n",
    "import xarray as xr\n",
    "import openeo\n",
    "from ipyleaflet import *\n",
    "from ipywidgets import *\n",
    "from traitlets import link\n",
    "import shapely.geometry\n",
    "from bqplot import Lines, Figure, LinearScale, DateScale, Axis\n",
    "from datetime import datetime"
   ]
  },
  {
   "cell_type": "markdown",
   "metadata": {},
   "source": [
    "## Run the next cell and select the Area Of Interest using the rectangle button."
   ]
  },
  {
   "cell_type": "code",
   "execution_count": 4,
   "metadata": {
    "scrolled": false
   },
   "outputs": [
    {
     "data": {
      "application/vnd.jupyter.widget-view+json": {
       "model_id": "c8114108757e465888c120c328eb589c",
       "version_major": 2,
       "version_minor": 0
      },
      "text/plain": [
       "Map(center=[46.88, 10.45], controls=(ZoomControl(options=['position', 'zoom_in_text', 'zoom_in_title', 'zoom_o…"
      ]
     },
     "metadata": {},
     "output_type": "display_data"
    },
    {
     "data": {
      "application/vnd.jupyter.widget-view+json": {
       "model_id": "956984d43ccf4388822c8d6699db2b31",
       "version_major": 2,
       "version_minor": 0
      },
      "text/plain": [
       "Label(value='[*] Loading data from OpenEO...')"
      ]
     },
     "metadata": {},
     "output_type": "display_data"
    }
   ],
   "source": [
    "label = Label(value='[*] Loading data from OpenEO...')\n",
    "def openeo_timeseries(feature_collection,band_name='B04',init=False):\n",
    "    global label\n",
    "    if not init:\n",
    "        display(label)\n",
    "    else:\n",
    "        label.value = '[*] Loading data from OpenEO...'\n",
    "    connection = openeo.connect(\"https://openeo-dev.vito.be\").authenticate_basic('guest','guest123')\n",
    "\n",
    "    coords = feature_collection['features'][0]['geometry']['coordinates'][0]\n",
    "    polygon = shapely.geometry.Polygon(coords)\n",
    "    bbox = polygon.bounds\n",
    "\n",
    "    cloudmask = connection.load_collection(\"SENTINEL2_L2A_SENTINELHUB\",\n",
    "                                     spatial_extent={'west':bbox[0],'east':bbox[2],'south':bbox[1],'north':bbox[3],'crs':'EPSG:4326'},\n",
    "                                     temporal_extent=[\"2018-02-01\", \"2020-02-01\"],\n",
    "                                     bands=['CLM'])\n",
    "\n",
    "    l1c = connection.load_collection(\"SENTINEL2_L1C_SENTINELHUB\",\n",
    "            spatial_extent={'west':bbox[0],'east':bbox[2],'south':bbox[1],'north':bbox[3],'crs':'EPSG:4326'},\n",
    "                                     temporal_extent=[\"2018-02-01\", \"2020-02-01\"],\n",
    "                                     bands=[band_name])\n",
    "\n",
    "    l2a = l1c.mask(cloudmask).filter_bands(band_name)\n",
    "    l2a.download(\"./openeo-rgb-l2a_area.nc\", format=\"NETCDF\")\n",
    "    return\n",
    "\n",
    "center = [46.88, 10.45]\n",
    "zoom = 7\n",
    "m = Map(center=center, zoom=zoom)\n",
    "feature_collection = {\n",
    "    'type': 'FeatureCollection',\n",
    "    'features': []\n",
    "}\n",
    "\n",
    "draw = DrawControl(\n",
    "    circlemarker={}, polyline={}, polygon={}, marker = {},\n",
    "    \n",
    "    rectangle = {\"shapeOptions\": {\n",
    "               \"original\": {},  # work around for bug in Leaflet.Draw\n",
    "               \"editing\": {},   # work around for bug in Leaflet.Draw\n",
    "    }})\n",
    "\n",
    "# geojson layer with hover handler\n",
    "with open('./Shapefiles/Europe.geojson') as f:\n",
    "    data = json.load(f)\n",
    "for feature in data['features']:\n",
    "    feature['properties']['style'] = {\n",
    "        'color': 'grey',\n",
    "        'weight': 1,\n",
    "        'fillColor': None,\n",
    "        'fillOpacity': 0.1    }\n",
    "s2_tiles_layer = GeoJSON(data=data)\n",
    "m.add_layer(s2_tiles_layer)\n",
    "\n",
    "m.add_control(draw)\n",
    "init = False\n",
    "widget_control = None\n",
    "def handle_draw(target, action, geo_json):\n",
    "    global init, widget_control\n",
    "    if init:\n",
    "        m.remove_control(widget_control)\n",
    "    feature_collection['features'] = []\n",
    "    feature_collection['features'].append(geo_json)\n",
    "    figure = openeo_timeseries(feature_collection,band_name,init)\n",
    "    widget_control = WidgetControl(widget=figure, position='bottomright')\n",
    "    m.add_control(widget_control)\n",
    "    if not init:\n",
    "        m.add_control(basemap_control)\n",
    "    init = True\n",
    "\n",
    "# Adds a Dropdown widget\n",
    "bands = ['B08','B04','B02']\n",
    "band_name = 'B04'\n",
    "dropdown = Dropdown(\n",
    "    options=bands,\n",
    "    value='B04',\n",
    "    description='Bands'\n",
    ")\n",
    "\n",
    "# Handles Dropdown control event\n",
    "def on_click(change):\n",
    "    global band_name\n",
    "    band_name = change['new']\n",
    "    global init, widget_control\n",
    "    if init:\n",
    "        m.remove_control(widget_control)\n",
    "    figure = openeo_timeseries(feature_collection,band_name,init)\n",
    "    widget_control = WidgetControl(widget=figure, position='bottomright')\n",
    "    m.add_control(widget_control)\n",
    "    init = True    \n",
    "dropdown.observe(on_click, 'value')\n",
    "\n",
    "# Adds control to the map\n",
    "basemap_control = WidgetControl(widget=dropdown, position='topright')\n",
    "draw.on_draw(handle_draw)\n",
    "\n",
    "display(m)"
   ]
  },
  {
   "cell_type": "code",
   "execution_count": null,
   "metadata": {},
   "outputs": [],
   "source": []
  },
  {
   "cell_type": "code",
   "execution_count": null,
   "metadata": {},
   "outputs": [],
   "source": []
  }
 ],
 "metadata": {
  "kernelspec": {
   "display_name": "Python 3",
   "language": "python",
   "name": "python3"
  },
  "language_info": {
   "codemirror_mode": {
    "name": "ipython",
    "version": 3
   },
   "file_extension": ".py",
   "mimetype": "text/x-python",
   "name": "python",
   "nbconvert_exporter": "python",
   "pygments_lexer": "ipython3",
   "version": "3.9.1"
  }
 },
 "nbformat": 4,
 "nbformat_minor": 4
}
